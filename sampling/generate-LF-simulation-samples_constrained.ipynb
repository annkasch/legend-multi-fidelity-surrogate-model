{
 "cells": [
  {
   "cell_type": "code",
   "execution_count": 1,
   "metadata": {
    "tags": []
   },
   "outputs": [],
   "source": [
    "import numpy as np\n",
    "import pandas as pd\n",
    "import os\n",
    "import matplotlib.pyplot as plt\n",
    "import sys\n",
    "from numpy.random import default_rng\n",
    "sys.path.append('../utilities')\n",
    "import plotting_utils as utils\n",
    "import simulation_utils as sim\n",
    "from scipy.optimize import minimize\n"
   ]
  },
  {
   "cell_type": "code",
   "execution_count": null,
   "metadata": {},
   "outputs": [],
   "source": [
    "bounds = {\"radius\": [90, 265,5], \"thickness\": [5,20,1], \"npanels\": [4,360,4], \"theta\": [0,90,2], \"length\": [2,150,2] }\n",
    "number_of_samples = 300\n",
    "num_digits = 2\n",
    "version='v1.4'\n",
    "\n",
    "height=300\n",
    "zpos=42\n",
    "design=4\n"
   ]
  },
  {
   "cell_type": "code",
   "execution_count": null,
   "metadata": {},
   "outputs": [],
   "source": []
  },
  {
   "cell_type": "code",
   "execution_count": null,
   "metadata": {},
   "outputs": [],
   "source": [
    "def get_random_samples(bounds, num_samples=9, seed=None):\n",
    "    rng = default_rng(seed)\n",
    "    samples = {}\n",
    "    for parameter, bound in bounds.items():\n",
    "        samples[parameter] = rng.uniform(bound[0], bound[1], num_samples)\n",
    "    return pd.DataFrame(samples)"
   ]
  },
  {
   "cell_type": "code",
   "execution_count": null,
   "metadata": {},
   "outputs": [],
   "source": [
    "def get_latin_hypercube_samples(bounds, num_samples=10):\n",
    "    l_bounds = [bound[0] for bound in bounds.values()]\n",
    "    u_bounds = [bound[1] for bound in bounds.values()]\n",
    "    design_space = DesignSpace(\n",
    "            [\n",
    "                FloatVariable(l_bounds[0], u_bounds[0]),\n",
    "                FloatVariable(l_bounds[2],u_bounds[2]),\n",
    "                IntegerVariable(l_bounds[1],u_bounds[1]),\n",
    "                FloatVariable(l_bounds[3],u_bounds[3]),\n",
    "                FloatVariable(l_bounds[4], u_bounds[4]),\n",
    "            ]\n",
    "        )\n",
    "    sampler = MixedIntegerSamplingMethod(LHS, design_space, criterion=\"ese\", random_state=42)\n",
    "    samples = sampler(num_samples)\n",
    "    return pd.DataFrame(samples, columns=list(bounds.keys()))\n",
    "\n",
    "def get_latin_hypercube_samples_extended(samples, bounds, num_samples_to_add=10):\n",
    "    l_bounds = [bound[0] for bound in bounds.values()]\n",
    "    u_bounds = [bound[1] for bound in bounds.values()]\n",
    "    design_space = DesignSpace(\n",
    "            [\n",
    "                FloatVariable(l_bounds[0], u_bounds[0]),\n",
    "                FloatVariable(l_bounds[2],u_bounds[1]),\n",
    "                IntegerVariable(l_bounds[1],u_bounds[2]),\n",
    "                FloatVariable(l_bounds[3],u_bounds[3]),\n",
    "                FloatVariable(l_bounds[4], u_bounds[4]),\n",
    "            ]\n",
    "        )\n",
    "    sampler = MixedIntegerSamplingMethod(LHS, design_space, criterion=\"ese\", random_state=42)\n",
    "    samples_continued = sampler.expand_lhs(samples, num_samples_to_add, method=\"ese\")\n",
    "    return pd.DataFrame(samples_continued, columns=list(bounds.keys()))"
   ]
  },
  {
   "cell_type": "code",
   "execution_count": null,
   "metadata": {},
   "outputs": [],
   "source": [
    "samples = []\n",
    "n=0\n",
    "while n < 300:\n",
    "    s = get_random_samples(bounds, 1,seed=None).to_numpy()[0]\n",
    "    if get_inner_radius(s) < 90.:\n",
    "        continue\n",
    "    elif get_outer_radius(s) > 265.:\n",
    "        continue\n",
    "    elif get_outer_radius(s)-get_inner_radius(s)  > 20.:\n",
    "        continue\n",
    "    elif s[2]*s[1]*s[4] > np.pi*(get_outer_radius(s)**2-get_inner_radius(s)**2):\n",
    "            continue\n",
    "    else:\n",
    "        samples.append(s)\n",
    "        n = len(samples)\n",
    "    \n",
    "df=pd.DataFrame(samples,columns=bounds.keys())\n",
    "print(df)"
   ]
  },
  {
   "cell_type": "code",
   "execution_count": null,
   "metadata": {},
   "outputs": [],
   "source": [
    "labels = [\"radius\",  \"thickness\",  \"npanels\",  \"theta\",  \"length\"]\n",
    "fig, axs = plt.subplots(len(labels), len(labels),figsize=(9,9), layout=\"constrained\")\n",
    "for i in range(len(labels)):\n",
    "    for j in range(len(labels)):\n",
    "        axs[j,i].scatter(df[labels[i]].to_numpy(),df[labels[j]].to_numpy(),s=5)\n",
    "        if i==0:\n",
    "            axs[j,i].set_ylabel(labels[j])\n",
    "        if j==len(labels)-1:\n",
    "            axs[j,i].set_xlabel(labels[i])"
   ]
  },
  {
   "cell_type": "code",
   "execution_count": null,
   "metadata": {},
   "outputs": [],
   "source": [
    "for s in samples:\n",
    "    utils.draw_moderator_configuration(s)\n",
    "    plt.show()"
   ]
  },
  {
   "cell_type": "code",
   "execution_count": 2,
   "metadata": {},
   "outputs": [
    {
     "ename": "NameError",
     "evalue": "name 'version' is not defined",
     "output_type": "error",
     "traceback": [
      "\u001b[0;31m---------------------------------------------------------------------------\u001b[0m",
      "\u001b[0;31mNameError\u001b[0m                                 Traceback (most recent call last)",
      "Cell \u001b[0;32mIn[2], line 1\u001b[0m\n\u001b[0;32m----> 1\u001b[0m \u001b[38;5;28;01mif\u001b[39;00m os\u001b[38;5;241m.\u001b[39mpath\u001b[38;5;241m.\u001b[39mexists(\u001b[38;5;124mf\u001b[39m\u001b[38;5;124m'\u001b[39m\u001b[38;5;124m../simulation/LF/\u001b[39m\u001b[38;5;132;01m{\u001b[39;00m\u001b[43mversion\u001b[49m\u001b[38;5;132;01m}\u001b[39;00m\u001b[38;5;124m/macros\u001b[39m\u001b[38;5;124m'\u001b[39m)\u001b[38;5;241m==\u001b[39m\u001b[38;5;28;01mFalse\u001b[39;00m:\n\u001b[1;32m      2\u001b[0m    os\u001b[38;5;241m.\u001b[39mmakedirs(\u001b[38;5;124mf\u001b[39m\u001b[38;5;124m'\u001b[39m\u001b[38;5;124m../simulation/LF/\u001b[39m\u001b[38;5;132;01m{\u001b[39;00mversion\u001b[38;5;132;01m}\u001b[39;00m\u001b[38;5;124m/macros\u001b[39m\u001b[38;5;124m'\u001b[39m)\n\u001b[1;32m      3\u001b[0m \u001b[38;5;28;01mfor\u001b[39;00m sample \u001b[38;5;129;01min\u001b[39;00m samples:  \n",
      "\u001b[0;31mNameError\u001b[0m: name 'version' is not defined"
     ]
    }
   ],
   "source": [
    "if os.path.exists(f'../simulation/LF/{version}/macros')==False:\n",
    "   os.makedirs(f'../simulation/LF/{version}/macros')\n",
    "for sample in samples:  \n",
    "   sim.print_geant4_macro(sample, version, mode='LF')"
   ]
  },
  {
   "cell_type": "code",
   "execution_count": null,
   "metadata": {},
   "outputs": [],
   "source": [
    "if os.path.exists(f'./out/{version}')==False:\n",
    "   os.makedirs(f'out/{version}')\n",
    "df.to_csv(f'out/{version}/LF-sim-samples_{version}.csv')"
   ]
  }
 ],
 "metadata": {
  "kernelspec": {
   "display_name": "legend",
   "language": "python",
   "name": "python3"
  },
  "language_info": {
   "codemirror_mode": {
    "name": "ipython",
    "version": 3
   },
   "file_extension": ".py",
   "mimetype": "text/x-python",
   "name": "python",
   "nbconvert_exporter": "python",
   "pygments_lexer": "ipython3",
   "version": "3.10.11"
  }
 },
 "nbformat": 4,
 "nbformat_minor": 4
}
