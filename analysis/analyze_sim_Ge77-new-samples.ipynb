{
 "cells": [
  {
   "cell_type": "code",
   "execution_count": 36,
   "metadata": {},
   "outputs": [],
   "source": [
    "import numpy as np\n",
    "import pandas as pd\n",
    "import os\n",
    "from tqdm import tqdm\n",
    "import matplotlib.pyplot as plt\n",
    "from random import randint\n",
    "from scipy.optimize import curve_fit\n",
    "from scipy.stats import poisson\n",
    "import random"
   ]
  },
  {
   "cell_type": "code",
   "execution_count": 37,
   "metadata": {},
   "outputs": [],
   "source": [
    "def get_all_files(filename,ending='.root'):\n",
    "    dir_path = './'\n",
    "\n",
    "    index=[i+1 for i in range(len(filename)) if  filename[i]=='/']\n",
    "    if len(index)>0:\n",
    "        dir_path=filename[:index[-1]]\n",
    "        filename=filename[index[-1]:]\n",
    "\n",
    "    res = []\n",
    "    filelist=os.listdir(dir_path)\n",
    "    filelist.sort()\n",
    "    for file in filelist:\n",
    "        if file.startswith(filename) and file.endswith(ending):\n",
    "            res.append(f'{dir_path}{file}')\n",
    "    return res"
   ]
  },
  {
   "cell_type": "code",
   "execution_count": 38,
   "metadata": {},
   "outputs": [],
   "source": [
    "def df_to_list(xtmp):\n",
    "    x = []\n",
    "    for i in range(len(xtmp)):\n",
    "        str=xtmp[i][1:-1]\n",
    "        try:\n",
    "            str.index(',')\n",
    "            sep=','\n",
    "        except ValueError:\n",
    "            sep=' '\n",
    "        \n",
    "        tmp=np.fromstring(str, dtype=float, sep=sep)\n",
    "        x.append(tmp)\n",
    "    return x\n"
   ]
  },
  {
   "cell_type": "code",
   "execution_count": 39,
   "metadata": {},
   "outputs": [],
   "source": [
    "def draw_subplots(xlabel,ylim,yscale='linear',draw_lines='none',ylabel='', radius=[0,100,125,150,175,200,225,250,265]):\n",
    "    # capture radius for all events\n",
    "    nrows=int(np.ceil(len(radius)/3))\n",
    "    ncol=3\n",
    "    if len(radius)<4:\n",
    "        ncol=len(radius)\n",
    "    fig, axss = plt.subplots(nrows, ncol, figsize=(ncol*4,nrows*4),sharex=True)\n",
    "    axs=axss.reshape(nrows,ncol)\n",
    "    for i in range(len(radius)):\n",
    "        idx1=int(i/3)\n",
    "        idx2=i%3\n",
    "        if draw_lines=='lines':\n",
    "            axs[idx1][idx2].axvline(x=0.95,color='lightgray',linestyle='dotted')\n",
    "            axs[idx1][idx2].axvline(x=2.75,color='lightgray',linestyle='dotted')\n",
    "            axs[idx1][idx2].axvline(x=3.25,color='lightgray',linestyle='dotted')\n",
    "            if radius[i] > 0:\n",
    "                axs[idx1][idx2].axvline(x=radius[i]/100.,color='lightgray',linestyle='dotted')\n",
    "        if draw_lines=='radius':\n",
    "            theta = np.arange(0, np.pi * 2, 0.01)\n",
    "            axs[idx1][idx2].plot(0.95 * np.cos(theta), 0.95 * np.sin(theta),color='black')\n",
    "            axs[idx1][idx2].plot(2.75 * np.cos(theta), 2.75 * np.sin(theta),color='black')\n",
    "            axs[idx1][idx2].plot(3.25 * np.cos(theta), 3.25* np.sin(theta),color='black')\n",
    "            axs[idx1][idx2].plot(5.5 * np.cos(theta), 5.5* np.sin(theta),color='black')\n",
    "            if radius[i] > 0:\n",
    "                axs[idx1][idx2].plot(radius[i]/100. * np.cos(theta), radius[i]/100. * np.sin(theta),color='black')\n",
    "                axs[idx1][idx2].plot((radius[i]/100.+0.1) * np.cos(theta), (radius[i]/100.+0.1) * np.sin(theta),color='black')\n",
    "        if draw_lines=='rectangle':\n",
    "            axs[idx1][idx2].set_xlim(-7,7)\n",
    "            axs[idx1][idx2].set_ylim(-8,5)\n",
    "            rcryo_inner = plt.Rectangle((-2.75,-3.75), 5.5, 5.5,ec=\"black\",facecolor='none')\n",
    "            rcryo = plt.Rectangle((-3.25,-4.25), 6.5, 6.5,ec=\"black\",facecolor='none')\n",
    "            rwater_tank = plt.Rectangle((-5.5,-7.5), 11, 13,ec=\"black\",facecolor='none')\n",
    "            axs[idx1][idx2].add_patch(rwater_tank)\n",
    "            axs[idx1][idx2].add_patch(rcryo)\n",
    "            axs[idx1][idx2].add_patch(rcryo_inner)\n",
    "            axs[idx1][idx2].set_ylim(-8,6)\n",
    "            axs[idx1][idx2].set_xlim(-6,6)\n",
    "        axs[idx1][idx2].set_title(f'r={radius[i]}cm')\n",
    "        axs[idx1][idx2].set_ylim(ylim[0],ylim[1])\n",
    "        axs[idx1][idx2].set_yscale(yscale)\n",
    "        axs[idx1][idx2].set_ylabel(ylabel)\n",
    "        if idx1==nrows-1:\n",
    "            axs[idx1][idx2].set_xlabel(xlabel)\n",
    "        if idx2==0:\n",
    "            axs[idx1][idx2].set_ylabel(ylabel)\n",
    "    return [fig,axs]"
   ]
  },
  {
   "cell_type": "code",
   "execution_count": 40,
   "metadata": {},
   "outputs": [],
   "source": [
    "def read_csv(filenames,ending='.csv'):\n",
    "    files=get_all_files(filenames,ending)\n",
    "    nCA = []\n",
    "    nCZ = []\n",
    "    cross_cryo = []\n",
    "    print(f\"Reading in data... ({files})\")\n",
    "    #df_in = []\n",
    "    for file in tqdm(files):\n",
    "        df_in = pd.read_csv(file,skiprows=1)\n",
    "    #    print(df_in)\n",
    "        df_in.to_numpy()\n",
    "\n",
    "        nCA.extend(df_in['nC_A'].to_numpy())\n",
    "        nCZ.extend(df_in['nC_Z'].to_numpy())\n",
    "        cross_cryo.extend(df_in['cross_cryo'].to_numpy())\n",
    "    return [nCA,nCZ,cross_cryo]"
   ]
  },
  {
   "cell_type": "code",
   "execution_count": 41,
   "metadata": {},
   "outputs": [],
   "source": [
    "def read_design_parameters(filenames,ending='.csv'):\n",
    "    files=get_all_files(filenames,ending)\n",
    "    params = []\n",
    "    for idx,file in enumerate(files):\n",
    "        with open(file) as f:\n",
    "            first_line = f.readline()\n",
    "            first_line=first_line[first_line.find('[')+1:first_line.find(']')]\n",
    "            x = [k for k in first_line.split(\",\")]\n",
    "            if idx==0:\n",
    "                params=x\n",
    "            elif idx > 0 and params!=x:\n",
    "                print(f\"Error {files[idx-1]} and {files[idx]} don't have the same parameters\")\n",
    "    return params"
   ]
  },
  {
   "cell_type": "code",
   "execution_count": 42,
   "metadata": {},
   "outputs": [
    {
     "name": "stdout",
     "output_type": "stream",
     "text": [
      "Error ../simulation/out/HF/v2/Neutron-Simulation-D4-New-Samples/neutron-sim-D4-LF-n0_0000.csv and ../simulation/out/HF/v2/Neutron-Simulation-D4-New-Samples/neutron-sim-D4-LF-n0_0001.csv don't have the same parameters\n",
      "Reading in data... (['../simulation/out/HF/v2/Neutron-Simulation-D4-New-Samples/neutron-sim-D4-LF-n0_0000.csv', '../simulation/out/HF/v2/Neutron-Simulation-D4-New-Samples/neutron-sim-D4-LF-n0_0001.csv'])\n"
     ]
    },
    {
     "name": "stderr",
     "output_type": "stream",
     "text": [
      "  0%|          | 0/2 [00:00<?, ?it/s]"
     ]
    },
    {
     "name": "stderr",
     "output_type": "stream",
     "text": [
      "100%|██████████| 2/2 [00:00<00:00,  2.97it/s]\n"
     ]
    },
    {
     "name": "stdout",
     "output_type": "stream",
     "text": [
      "Reading in data... (['../simulation/out/HF/v2/Neutron-Simulation-D4-New-Samples/neutron-sim-D4-LF-n1_0000.csv', '../simulation/out/HF/v2/Neutron-Simulation-D4-New-Samples/neutron-sim-D4-LF-n1_0001.csv'])\n"
     ]
    },
    {
     "name": "stderr",
     "output_type": "stream",
     "text": [
      "100%|██████████| 2/2 [00:00<00:00,  6.72it/s]\n"
     ]
    }
   ],
   "source": [
    "\n",
    "nSamples=2\n",
    "version = 'v2'\n",
    "if not os.path.exists(f'out/{version}'):\n",
    "   os.makedirs(f'out/{version}')\n",
    "nCA = []\n",
    "nCZ = []\n",
    "iidx = []\n",
    "nprimaries = []\n",
    "cross_cryo = []\n",
    "nLF=0\n",
    "sim_mode = []\n",
    "radius = []\n",
    "design = []\n",
    "thickness = []\n",
    "theta = []\n",
    "phi = []\n",
    "npanels = []\n",
    "Length = []\n",
    "zpos = []\n",
    "volume = []\n",
    "height = []\n",
    "nHF=0\n",
    "\n",
    "for m in range(0,nSamples):\n",
    "    #filename=f'../simulation/out/LF/{version}/scans_5dim/neutron-sim-D4-LF-{m}_'\n",
    "    filename=f'../simulation/out/HF/{version}/Neutron-Simulation-D4-New-Samples/neutron-sim-D4-LF-n{m}_'\n",
    "    tmp=np.array(read_design_parameters(filename))\n",
    "    sim_mode.append(tmp[0])\n",
    "    design.append(float(tmp[1]))\n",
    "    radius.append(float(tmp[2]))\n",
    "    height.append(float(tmp[8]))\n",
    "    thickness.append(float(tmp[3]))\n",
    "    volume.append(float(tmp[10]))\n",
    "    Length.append(float(tmp[7]))\n",
    "    theta.append(float(tmp[6]))\n",
    "    zpos.append(float(tmp[9]))\n",
    "    npanels.append(float(tmp[4]))\n",
    "    phi.append(float(tmp[5])/np.pi*180.)\n",
    "    [nCA000,nCZ000,cross_cryo000] = read_csv(filename)\n",
    "    nprimaries.append(25000*len(get_all_files(filename,ending='.csv')))\n",
    "    iidx.append(len(nCA))\n",
    "    nCA.extend(nCA000)\n",
    "    nCZ.extend(nCZ000)\n",
    "    cross_cryo.extend(cross_cryo000)\n",
    "    nLF+=1\n"
   ]
  },
  {
   "cell_type": "code",
   "execution_count": 43,
   "metadata": {},
   "outputs": [],
   "source": [
    "iidx.append(len(nCA))"
   ]
  },
  {
   "cell_type": "markdown",
   "metadata": {},
   "source": [
    "GERDA muon rate: $(3.47 \\pm 0.07) \\cdot 10^{-4}/(m^2 \\cdot \\rm s)$ <br>\n",
    "LEGEND with 13 m diameter of water tank: <br>\n",
    "muon rae 46.058 mHz <br>\n",
    "= 3979.411 per day <br>\n",
    "= 1452485.088 per year <br>\n",
    "LEGEND with 5.5 m diameter of LAr cryo: <br>\n",
    "muon rae 46.058 mHz <br>\n",
    "= 259985.121 per year <br>\n",
    "number of neutrons per muon: ~13 % <br>\n",
    "1000 kg Ge"
   ]
  },
  {
   "cell_type": "code",
   "execution_count": 44,
   "metadata": {
    "tags": []
   },
   "outputs": [],
   "source": [
    "Ge77factor=0.13/1000*(np.pi*6.5**2)/3.171e-8*3.47*1e-4\n",
    "Ge77factor_err=0.13/1000*(np.pi*6.5**2)/3.171e-8*0.07*1e-4\n",
    "cryo_area=(np.pi*2.75**2)\n",
    "water_area=(np.pi*6.5**2)\n",
    "muon_rate_per_yr_per_m2=3.47*1e-4/3.171e-8\n",
    "muon_rate_per_yr=muon_rate_per_yr_per_m2*cryo_area\n",
    "muon_rate_per_yr_err=0.07*1e-4/3.171e-8*cryo_area"
   ]
  },
  {
   "cell_type": "code",
   "execution_count": 45,
   "metadata": {},
   "outputs": [],
   "source": [
    "Ge_mass=1000\n",
    "Ge77factor=muon_rate_per_yr/Ge_mass\n",
    "Ge77factor_err=muon_rate_per_yr_err/Ge_mass\n",
    "Ge77LFscaling=1494984/10100000\n",
    "Ge77LFscaling_err=np.sqrt(1494984)/10100000\n",
    "Ge77HFscaling=1\n",
    "\n",
    "def fNPrimariesLF(scaling, n_neutrons):\n",
    "    return n_neutrons/scaling\n",
    "def fGe77Rate(nCZ,Ge77factor,nprimaries):\n",
    "    return nCZ*(Ge77factor/nprimaries)"
   ]
  },
  {
   "cell_type": "code",
   "execution_count": 46,
   "metadata": {},
   "outputs": [],
   "source": [
    "def monte_carlo_simulations(rate_mean, rate_std, n_iter=10000):\n",
    "    outputs = []\n",
    "    for i in range(n_iter):\n",
    "        result = random.normalvariate(rate_mean, rate_std)\n",
    "        outputs.append(result)\n",
    "    return outputs\n",
    "\n",
    "def gauss(x, A, mean, sigma):\n",
    "    return A * np.exp(-(x - mean) ** 2 / (2 * sigma ** 2))\n",
    "\n",
    "def Ge77MonteCarlosSim(nevt,Ge77factor,nprimaries):\n",
    "    nevt_std=np.sqrt(nevt)\n",
    "    events = monte_carlo_simulations(nevt,nevt_std)\n",
    "    results = [fGe77Rate(k,Ge77factor,nprimaries) for k in events]\n",
    "    values, bins = np.histogram(results, bins=100)    \n",
    "    x = (bins[:-1] + bins[1:]) / 2\n",
    "    #plt.scatter(x,values)\n",
    "    parameters, covariance = curve_fit(gauss, x, values, p0 = [250, fGe77Rate(nevt,Ge77factor,nprimaries), fGe77Rate(nevt_std,Ge77factor,nprimaries)])\n",
    "    #plt.plot(x,gauss(x,parameters[0],parameters[1],parameters[2]))\n",
    "    return parameters[2]"
   ]
  },
  {
   "cell_type": "code",
   "execution_count": 47,
   "metadata": {},
   "outputs": [],
   "source": [
    "Ge77 = []\n",
    "Ge77err = []\n",
    "Ge77Rate_err = []\n",
    "Ge77Rate = []\n",
    "Ge77Rate1 = []\n",
    "n_neutrons = []\n",
    "Ge77Eff_err = []\n",
    "Ge77Eff = []\n",
    "Ge77Rate_err_stat = []\n",
    "\n",
    "for j in range(len(iidx)-1):\n",
    "    itmp=int(j/3)\n",
    "    iitmp=int(j%3)\n",
    "    length=iidx[j+1]-iidx[j]\n",
    "\n",
    "    #nCZtmp2=[nCZ[i] for i in range(iidx[j],iidx[j+1],1) if nCZ[i]==32 and nCA[i]==77]\n",
    "    nCGe77=len([nCZ[i] for i in range(iidx[j],iidx[j+1],1) if nCZ[i]==32 and nCA[i]==77 and cross_cryo[i]!=-1])\n",
    "    nneutrons=len([cross_cryo[i] for i in range(iidx[j],iidx[j+1],1) if cross_cryo[i]!=-1])\n",
    "    GeEvents = []\n",
    "\n",
    "    if j < nLF:\n",
    "        n_neutrons.append(length)\n",
    "        nprims=length/Ge77LFscaling\n",
    "\n",
    "        err_x3=nCGe77*(Ge77factor*Ge77LFscaling/(n_neutrons[j]**2))*np.sqrt(n_neutrons[j])\n",
    "        err_x4=nCGe77*(Ge77factor*Ge77LFscaling_err/n_neutrons[j])\n",
    "        \n",
    "\n",
    "    else:\n",
    "        n_neutrons.append(nneutrons)\n",
    "        nprims=nprimaries[j]\n",
    "        err_x3=nCGe77*(Ge77factor/(nprims**2))*np.sqrt(nprims)\n",
    "        err_x4=0\n",
    "\n",
    "    err_x1=np.sqrt(nCGe77)*(Ge77factor/nprims)\n",
    "    err_x2=nCGe77*(Ge77factor_err/nprims)\n",
    "    \n",
    "    err_xx1=np.sqrt(nCGe77)/nneutrons\n",
    "    err_xx2=nCGe77/nneutrons**2*np.sqrt(nneutrons)\n",
    "\n",
    "    Ge77Rate_err_stat.append(Ge77MonteCarlosSim(nCGe77,Ge77factor,nprims))\n",
    "\n",
    "    Ge77.append(nCGe77)\n",
    "    Ge77err.append(np.sqrt(nCGe77))\n",
    "    Ge77Rate.append(fGe77Rate(nCGe77,Ge77factor,nprims))\n",
    "    Ge77Rate_err.append(np.sqrt(err_x1**2+err_x2**2+err_x3**2+err_x4**2))\n",
    "    Ge77Eff.append(Ge77[j]/nneutrons)\n",
    "    Ge77Eff_err.append(np.sqrt(err_xx1**2+err_xx2**2))\n",
    "\n"
   ]
  },
  {
   "cell_type": "code",
   "execution_count": 48,
   "metadata": {},
   "outputs": [
    {
     "data": {
      "image/png": "[encoded data removed]",
      "text/plain": [
       "<Figure size 640x480 with 3 Axes>"
      ]
     },
     "metadata": {},
     "output_type": "display_data"
    }
   ],
   "source": [
    "fig, (ax1,ax2,ax3)= plt.subplots(3,1)\n",
    "ax1.grid(color='gray', linestyle='-', linewidth=0.5)\n",
    "\n",
    "ax1.errorbar(radius[0:nLF],np.array(np.array(Ge77))[0:nLF],np.array(np.sqrt(np.array(Ge77)))[0:nLF],ls='none')\n",
    "ax1.scatter(radius[0:nLF],np.array(np.array(Ge77))[0:nLF],label='LF')\n",
    "ax1.errorbar(radius[nLF:],np.array(np.array(Ge77))[nLF:],np.array(np.sqrt(np.array(Ge77)))[nLF:],ls='none',color='red')\n",
    "ax1.scatter(radius[nLF:],np.array(np.array(Ge77))[nLF:],color='red',label='HF')\n",
    "ax1.set_ylabel('$n_{Ge77}$')\n",
    "ax1.set_yscale('log')\n",
    "ax1.legend(loc='upper right')\n",
    "\n",
    "ax2.grid(color='gray', linestyle='-', linewidth=0.5)\n",
    "ax2.errorbar(radius[0:-nHF],Ge77Eff[0:-nHF],Ge77Eff_err[0:-nHF],ls='none')\n",
    "ax2.scatter(radius[0:-nHF],np.array(np.array(Ge77)/np.array(n_neutrons))[0:-nHF],label='LF')\n",
    "ax2.errorbar(radius[-nHF:],Ge77Eff[-nHF:],Ge77Eff_err[-nHF:],ls='none',color='red')\n",
    "ax2.scatter(radius[-nHF:],np.array(np.array(Ge77)/np.array(n_neutrons))[-nHF:],color='red',label='HF')\n",
    "ax2.set_ylabel('$n_{Ge77}/n_\\mu$')\n",
    "\n",
    "\n",
    "ax3.grid(color='gray', linestyle='-', linewidth=0.5)\n",
    "ax3.scatter(radius[0:-nHF],Ge77Rate[0:-nHF],label='LF')\n",
    "ax3.errorbar(radius[0:-nHF],Ge77Rate[0:-nHF],Ge77Rate_err[0:-nHF],ls='none')\n",
    "\n",
    "ax3.errorbar(radius[-nHF:],Ge77Rate[-nHF:],Ge77Rate_err[-nHF:],ls='none',color='red')\n",
    "ax3.scatter(radius[-nHF:],Ge77Rate[-nHF:],color='red',label='HF')\n",
    "ax3.set_ylabel('[nucleus/(kg yr)]')\n",
    "fig.savefig(f'out/{version}/neutron-Ge77-capture-new-samples_{version}.png')"
   ]
  },
  {
   "cell_type": "code",
   "execution_count": 49,
   "metadata": {},
   "outputs": [
    {
     "data": {
      "text/html": [
       "<div>\n",
       "<style scoped>\n",
       "    .dataframe tbody tr th:only-of-type {\n",
       "        vertical-align: middle;\n",
       "    }\n",
       "\n",
       "    .dataframe tbody tr th {\n",
       "        vertical-align: top;\n",
       "    }\n",
       "\n",
       "    .dataframe thead th {\n",
       "        text-align: right;\n",
       "    }\n",
       "</style>\n",
       "<table border=\"1\" class=\"dataframe\">\n",
       "  <thead>\n",
       "    <tr style=\"text-align: right;\">\n",
       "      <th></th>\n",
       "      <th>Mode</th>\n",
       "      <th>Design</th>\n",
       "      <th>Radius[cm]</th>\n",
       "      <th>Thickness[cm]</th>\n",
       "      <th>NPanels</th>\n",
       "      <th>Phi[deg]</th>\n",
       "      <th>Theta[deg]</th>\n",
       "      <th>Length[cm]</th>\n",
       "      <th>Height[cm]</th>\n",
       "      <th>ZPosition[cm]</th>\n",
       "      <th>Volume[cm3]</th>\n",
       "      <th>Ge-77[nevents]</th>\n",
       "      <th>Ge-77_err[nevents]</th>\n",
       "      <th>Ge77-Eff</th>\n",
       "      <th>Ge77-Eff_err</th>\n",
       "      <th>Ge77-Rate[nucleus/(kg yr)]</th>\n",
       "      <th>Ge77-Rate_err[nucleus/(kg yr)]</th>\n",
       "      <th>Ge77-Rate_err_stat[nucleus/(kg yr)]</th>\n",
       "      <th>nprimaries</th>\n",
       "      <th>total_neutrons</th>\n",
       "    </tr>\n",
       "  </thead>\n",
       "  <tbody>\n",
       "    <tr>\n",
       "      <th>0</th>\n",
       "      <td>LF</td>\n",
       "      <td>4.0</td>\n",
       "      <td>224.7</td>\n",
       "      <td>19.0</td>\n",
       "      <td>145.0</td>\n",
       "      <td>142.251591</td>\n",
       "      <td>17.0</td>\n",
       "      <td>14.7</td>\n",
       "      <td>300.0</td>\n",
       "      <td>42.0</td>\n",
       "      <td>19239522.12</td>\n",
       "      <td>40</td>\n",
       "      <td>6.324555</td>\n",
       "      <td>0.000363</td>\n",
       "      <td>0.000057</td>\n",
       "      <td>0.013195</td>\n",
       "      <td>0.002104</td>\n",
       "      <td>0.002117</td>\n",
       "      <td>50000</td>\n",
       "      <td>116660</td>\n",
       "    </tr>\n",
       "    <tr>\n",
       "      <th>1</th>\n",
       "      <td>LF</td>\n",
       "      <td>4.0</td>\n",
       "      <td>141.8</td>\n",
       "      <td>4.4</td>\n",
       "      <td>289.0</td>\n",
       "      <td>71.371905</td>\n",
       "      <td>33.2</td>\n",
       "      <td>62.2</td>\n",
       "      <td>300.0</td>\n",
       "      <td>42.0</td>\n",
       "      <td>24318974.10</td>\n",
       "      <td>48</td>\n",
       "      <td>6.928203</td>\n",
       "      <td>0.000422</td>\n",
       "      <td>0.000061</td>\n",
       "      <td>0.015293</td>\n",
       "      <td>0.002229</td>\n",
       "      <td>0.002227</td>\n",
       "      <td>50000</td>\n",
       "      <td>120785</td>\n",
       "    </tr>\n",
       "  </tbody>\n",
       "</table>\n",
       "</div>"
      ],
      "text/plain": [
       "  Mode  Design  Radius[cm]  Thickness[cm]  NPanels    Phi[deg]  Theta[deg]   \n",
       "0   LF     4.0       224.7           19.0    145.0  142.251591        17.0  \\\n",
       "1   LF     4.0       141.8            4.4    289.0   71.371905        33.2   \n",
       "\n",
       "   Length[cm]  Height[cm]  ZPosition[cm]  Volume[cm3]  Ge-77[nevents]   \n",
       "0        14.7       300.0           42.0  19239522.12              40  \\\n",
       "1        62.2       300.0           42.0  24318974.10              48   \n",
       "\n",
       "   Ge-77_err[nevents]  Ge77-Eff  Ge77-Eff_err  Ge77-Rate[nucleus/(kg yr)]   \n",
       "0            6.324555  0.000363      0.000057                    0.013195  \\\n",
       "1            6.928203  0.000422      0.000061                    0.015293   \n",
       "\n",
       "   Ge77-Rate_err[nucleus/(kg yr)]  Ge77-Rate_err_stat[nucleus/(kg yr)]   \n",
       "0                        0.002104                             0.002117  \\\n",
       "1                        0.002229                             0.002227   \n",
       "\n",
       "   nprimaries  total_neutrons  \n",
       "0       50000          116660  \n",
       "1       50000          120785  "
      ]
     },
     "execution_count": 49,
     "metadata": {},
     "output_type": "execute_result"
    }
   ],
   "source": [
    "#np.set_printoptions(threshold=sys.maxsize)\n",
    "df = pd.DataFrame({'Mode': sim_mode, 'Design': design, 'Radius[cm]': radius, 'Thickness[cm]': thickness, 'NPanels': npanels, 'Phi[deg]': phi, 'Theta[deg]': theta, 'Length[cm]':Length, 'Height[cm]': height, 'ZPosition[cm]':zpos, 'Volume[cm3]':volume, 'Ge-77[nevents]':Ge77, 'Ge-77_err[nevents]':np.sqrt(np.array(Ge77)), 'Ge77-Eff': Ge77Eff, 'Ge77-Eff_err': Ge77Eff_err, 'Ge77-Rate[nucleus/(kg yr)]': Ge77Rate, 'Ge77-Rate_err[nucleus/(kg yr)]': Ge77Rate_err, 'Ge77-Rate_err_stat[nucleus/(kg yr)]': Ge77Rate_err_stat, 'nprimaries':nprimaries, 'total_neutrons': n_neutrons})\n",
    "df"
   ]
  },
  {
   "cell_type": "code",
   "execution_count": 50,
   "metadata": {},
   "outputs": [
    {
     "data": {
      "image/png": "[encoded data removed]",
      "text/plain": [
       "<Figure size 640x480 with 1 Axes>"
      ]
     },
     "metadata": {},
     "output_type": "display_data"
    }
   ],
   "source": [
    "\n",
    "values, bins = np.histogram(Ge77Rate_err_stat[0:nLF], bins=10)    \n",
    "x = (bins[:-1] + bins[1:]) / 2\n",
    "#plt.scatter(x,values)\n",
    "plt.plot(Ge77Rate_err_stat[0:nLF],\"x\")\n",
    "# only one line may be specified; full height\n",
    "plt.axhline(y = np.mean(Ge77Rate_err_stat[0:nLF]), color = 'black')\n",
    "plt.axhline(y = np.mean(Ge77Rate_err_stat[0:nLF])-np.std(Ge77Rate_err_stat[0:nLF]), color = 'green')\n",
    "plt.axhline(y = np.mean(Ge77Rate_err_stat[0:nLF])+np.std(Ge77Rate_err_stat[0:nLF]), color = 'green')\n",
    "plt.text(0,0.0016,f\"mean = {np.round(np.mean(Ge77Rate_err_stat[0:nLF]),5)} +- {np.round(np.std(Ge77Rate_err_stat[0:nLF]),5)}\",fontsize=8)\n",
    "plt.savefig(f\"out/{version}/noise_LF_new_samples_{version}.png\")"
   ]
  },
  {
   "cell_type": "code",
   "execution_count": 51,
   "metadata": {},
   "outputs": [],
   "source": [
    "f=open(f'out/{version}/Ge77_rates_new_samples_{version}.csv',\"w\")\n",
    "f.write(f\"# LF noise: mean = {np.mean(Ge77Rate_err_stat[0:nLF])} +- {np.std(Ge77Rate_err_stat[0:nLF])}\"+\"\\n\")\n",
    "f.close()\n",
    "df.to_csv(f'out/{version}/Ge77_rates_new_samples_{version}.csv',mode='a')"
   ]
  },
  {
   "cell_type": "code",
   "execution_count": 53,
   "metadata": {},
   "outputs": [
    {
     "data": {
      "text/plain": [
       "0.0139579211"
      ]
     },
     "execution_count": 53,
     "metadata": {},
     "output_type": "execute_result"
    }
   ],
   "source": [
    "(0.015293*0.8285+0.015293*0.9969)/2"
   ]
  },
  {
   "cell_type": "code",
   "execution_count": null,
   "metadata": {},
   "outputs": [],
   "source": []
  }
 ],
 "metadata": {
  "kernelspec": {
   "display_name": "legend",
   "language": "python",
   "name": "python3"
  },
  "language_info": {
   "codemirror_mode": {
    "name": "ipython",
    "version": 3
   },
   "file_extension": ".py",
   "mimetype": "text/x-python",
   "name": "python",
   "nbconvert_exporter": "python",
   "pygments_lexer": "ipython3",
   "version": "3.10.9"
  }
 },
 "nbformat": 4,
 "nbformat_minor": 4
}
