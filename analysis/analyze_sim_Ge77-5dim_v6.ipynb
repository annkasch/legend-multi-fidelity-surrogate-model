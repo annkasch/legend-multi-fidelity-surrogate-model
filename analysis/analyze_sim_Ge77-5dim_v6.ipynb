{
 "cells": [
  {
   "cell_type": "code",
   "execution_count": 1,
   "metadata": {},
   "outputs": [],
   "source": [
    "import numpy as np\n",
    "import pandas as pd\n",
    "import os\n",
    "from tqdm import tqdm\n",
    "import matplotlib.pyplot as plt\n",
    "from random import randint\n",
    "from scipy.optimize import curve_fit\n",
    "from scipy.stats import poisson\n",
    "import random"
   ]
  },
  {
   "cell_type": "code",
   "execution_count": 2,
   "metadata": {},
   "outputs": [],
   "source": [
    "def get_all_files(filename,ending='.root'):\n",
    "    dir_path = './'\n",
    "\n",
    "    index=[i+1 for i in range(len(filename)) if  filename[i]=='/']\n",
    "    if len(index)>0:\n",
    "        dir_path=filename[:index[-1]]\n",
    "        filename=filename[index[-1]:]\n",
    "\n",
    "    res = []\n",
    "    filelist=os.listdir(dir_path)\n",
    "    filelist.sort()\n",
    "    for file in filelist:\n",
    "        if file.startswith(filename) and file.endswith(ending):\n",
    "            res.append(f'{dir_path}{file}')\n",
    "    return res"
   ]
  },
  {
   "cell_type": "code",
   "execution_count": 3,
   "metadata": {},
   "outputs": [],
   "source": [
    "def df_to_list(xtmp):\n",
    "    x = []\n",
    "    for i in range(len(xtmp)):\n",
    "        str=xtmp[i][1:-1]\n",
    "        try:\n",
    "            str.index(',')\n",
    "            sep=','\n",
    "        except ValueError:\n",
    "            sep=' '\n",
    "        \n",
    "        tmp=np.fromstring(str, dtype=float, sep=sep)\n",
    "        x.append(tmp)\n",
    "    return x\n"
   ]
  },
  {
   "cell_type": "code",
   "execution_count": 4,
   "metadata": {},
   "outputs": [],
   "source": [
    "def draw_subplots(xlabel,ylim,yscale='linear',draw_lines='none',ylabel='', radius=[0,100,125,150,175,200,225,250,265]):\n",
    "    # capture radius for all events\n",
    "    nrows=int(np.ceil(len(radius)/3))\n",
    "    ncol=3\n",
    "    if len(radius)<4:\n",
    "        ncol=len(radius)\n",
    "    fig, axss = plt.subplots(nrows, ncol, figsize=(ncol*4,nrows*4),sharex=True)\n",
    "    axs=axss.reshape(nrows,ncol)\n",
    "    for i in range(len(radius)):\n",
    "        idx1=int(i/3)\n",
    "        idx2=i%3\n",
    "        if draw_lines=='lines':\n",
    "            axs[idx1][idx2].axvline(x=0.95,color='lightgray',linestyle='dotted')\n",
    "            axs[idx1][idx2].axvline(x=2.75,color='lightgray',linestyle='dotted')\n",
    "            axs[idx1][idx2].axvline(x=3.25,color='lightgray',linestyle='dotted')\n",
    "            if radius[i] > 0:\n",
    "                axs[idx1][idx2].axvline(x=radius[i]/100.,color='lightgray',linestyle='dotted')\n",
    "        if draw_lines=='radius':\n",
    "            theta = np.arange(0, np.pi * 2, 0.01)\n",
    "            axs[idx1][idx2].plot(0.95 * np.cos(theta), 0.95 * np.sin(theta),color='black')\n",
    "            axs[idx1][idx2].plot(2.75 * np.cos(theta), 2.75 * np.sin(theta),color='black')\n",
    "            axs[idx1][idx2].plot(3.25 * np.cos(theta), 3.25* np.sin(theta),color='black')\n",
    "            axs[idx1][idx2].plot(5.5 * np.cos(theta), 5.5* np.sin(theta),color='black')\n",
    "            if radius[i] > 0:\n",
    "                axs[idx1][idx2].plot(radius[i]/100. * np.cos(theta), radius[i]/100. * np.sin(theta),color='black')\n",
    "                axs[idx1][idx2].plot((radius[i]/100.+0.1) * np.cos(theta), (radius[i]/100.+0.1) * np.sin(theta),color='black')\n",
    "        if draw_lines=='rectangle':\n",
    "            axs[idx1][idx2].set_xlim(-7,7)\n",
    "            axs[idx1][idx2].set_ylim(-8,5)\n",
    "            rcryo_inner = plt.Rectangle((-2.75,-3.75), 5.5, 5.5,ec=\"black\",facecolor='none')\n",
    "            rcryo = plt.Rectangle((-3.25,-4.25), 6.5, 6.5,ec=\"black\",facecolor='none')\n",
    "            rwater_tank = plt.Rectangle((-5.5,-7.5), 11, 13,ec=\"black\",facecolor='none')\n",
    "            axs[idx1][idx2].add_patch(rwater_tank)\n",
    "            axs[idx1][idx2].add_patch(rcryo)\n",
    "            axs[idx1][idx2].add_patch(rcryo_inner)\n",
    "            axs[idx1][idx2].set_ylim(-8,6)\n",
    "            axs[idx1][idx2].set_xlim(-6,6)\n",
    "        axs[idx1][idx2].set_title(f'r={radius[i]}cm')\n",
    "        axs[idx1][idx2].set_ylim(ylim[0],ylim[1])\n",
    "        axs[idx1][idx2].set_yscale(yscale)\n",
    "        axs[idx1][idx2].set_ylabel(ylabel)\n",
    "        if idx1==nrows-1:\n",
    "            axs[idx1][idx2].set_xlabel(xlabel)\n",
    "        if idx2==0:\n",
    "            axs[idx1][idx2].set_ylabel(ylabel)\n",
    "    return [fig,axs]"
   ]
  },
  {
   "cell_type": "code",
   "execution_count": 5,
   "metadata": {},
   "outputs": [],
   "source": [
    "def read_csv(filenames,ending='.csv'):\n",
    "    files=get_all_files(filenames,ending)\n",
    "    nCA = []\n",
    "    nCZ = []\n",
    "    cross_cryo = []\n",
    "    print(f\"Reading in data... ({files})\")\n",
    "    #df_in = []\n",
    "    for file in tqdm(files):\n",
    "        df_in = pd.read_csv(file,skiprows=1)\n",
    "    #    print(df_in)\n",
    "        df_in.to_numpy()\n",
    "\n",
    "        nCA.extend(df_in['nC_A'].to_numpy())\n",
    "        nCZ.extend(df_in['nC_Z'].to_numpy())\n",
    "        cross_cryo.extend(df_in['cross_cryo'].to_numpy())\n",
    "    return [nCA,nCZ,cross_cryo]"
   ]
  },
  {
   "cell_type": "code",
   "execution_count": 6,
   "metadata": {},
   "outputs": [],
   "source": [
    "def read_design_parameters(filenames,ending='.csv'):\n",
    "    files=get_all_files(filenames,ending)\n",
    "    params = []\n",
    "    for idx,file in enumerate(files):\n",
    "        with open(file) as f:\n",
    "            first_line = f.readline()\n",
    "            first_line=first_line[first_line.find('[')+1:first_line.find(']')]\n",
    "            x = [k for k in first_line.split(\",\")]\n",
    "            if idx==0:\n",
    "                params=x\n",
    "            elif idx > 0 and params!=x:\n",
    "                print(f\"Error {files[idx-1]} and {files[idx]} don't have the same parameters\")\n",
    "    return params"
   ]
  },
  {
   "cell_type": "code",
   "execution_count": 7,
   "metadata": {},
   "outputs": [
    {
     "name": "stdout",
     "output_type": "stream",
     "text": [
      "Reading in data... (['../simulation/out/LF/v2/scans_5dim/neutron-sim-D4-LF-0_0000.csv', '../simulation/out/LF/v2/scans_5dim/neutron-sim-D4-LF-0_0001.csv'])\n"
     ]
    },
    {
     "name": "stderr",
     "output_type": "stream",
     "text": [
      "100%|██████████| 2/2 [00:00<00:00,  7.02it/s]\n"
     ]
    },
    {
     "name": "stdout",
     "output_type": "stream",
     "text": [
      "Reading in data... (['../simulation/out/LF/v2/scans_5dim/neutron-sim-D4-LF-1_0000.csv', '../simulation/out/LF/v2/scans_5dim/neutron-sim-D4-LF-1_0001.csv'])\n"
     ]
    },
    {
     "name": "stderr",
     "output_type": "stream",
     "text": [
      "100%|██████████| 2/2 [00:00<00:00, 11.56it/s]\n"
     ]
    },
    {
     "name": "stdout",
     "output_type": "stream",
     "text": [
      "Reading in data... (['../simulation/out/LF/v2/scans_5dim/neutron-sim-D4-LF-2_0000.csv', '../simulation/out/LF/v2/scans_5dim/neutron-sim-D4-LF-2_0001.csv'])\n"
     ]
    },
    {
     "name": "stderr",
     "output_type": "stream",
     "text": [
      "100%|██████████| 2/2 [00:00<00:00, 13.72it/s]\n"
     ]
    },
    {
     "name": "stdout",
     "output_type": "stream",
     "text": [
      "Reading in data... (['../simulation/out/LF/v2/scans_5dim/neutron-sim-D4-LF-3_0000.csv', '../simulation/out/LF/v2/scans_5dim/neutron-sim-D4-LF-3_0001.csv'])\n"
     ]
    },
    {
     "name": "stderr",
     "output_type": "stream",
     "text": [
      "100%|██████████| 2/2 [00:00<00:00, 12.62it/s]\n"
     ]
    },
    {
     "name": "stdout",
     "output_type": "stream",
     "text": [
      "Reading in data... (['../simulation/out/LF/v2/scans_5dim/neutron-sim-D4-LF-4_0000.csv', '../simulation/out/LF/v2/scans_5dim/neutron-sim-D4-LF-4_0001.csv'])\n"
     ]
    },
    {
     "name": "stderr",
     "output_type": "stream",
     "text": [
      "100%|██████████| 2/2 [00:00<00:00,  9.30it/s]\n"
     ]
    },
    {
     "name": "stdout",
     "output_type": "stream",
     "text": [
      "Reading in data... (['../simulation/out/LF/v2/scans_5dim/neutron-sim-D4-LF-5_0000.csv', '../simulation/out/LF/v2/scans_5dim/neutron-sim-D4-LF-5_0001.csv'])\n"
     ]
    },
    {
     "name": "stderr",
     "output_type": "stream",
     "text": [
      "100%|██████████| 2/2 [00:00<00:00,  9.37it/s]\n"
     ]
    },
    {
     "name": "stdout",
     "output_type": "stream",
     "text": [
      "Reading in data... (['../simulation/out/LF/v2/scans_5dim/neutron-sim-D4-LF-6_0000.csv', '../simulation/out/LF/v2/scans_5dim/neutron-sim-D4-LF-6_0001.csv'])\n"
     ]
    },
    {
     "name": "stderr",
     "output_type": "stream",
     "text": [
      "100%|██████████| 2/2 [00:00<00:00,  9.03it/s]\n"
     ]
    },
    {
     "name": "stdout",
     "output_type": "stream",
     "text": [
      "Reading in data... (['../simulation/out/LF/v2/scans_5dim/neutron-sim-D4-LF-7_0000.csv', '../simulation/out/LF/v2/scans_5dim/neutron-sim-D4-LF-7_0001.csv'])\n"
     ]
    },
    {
     "name": "stderr",
     "output_type": "stream",
     "text": [
      "100%|██████████| 2/2 [00:00<00:00,  6.91it/s]\n"
     ]
    },
    {
     "name": "stdout",
     "output_type": "stream",
     "text": [
      "Reading in data... (['../simulation/out/LF/v2/scans_5dim/neutron-sim-D4-LF-8_0000.csv', '../simulation/out/LF/v2/scans_5dim/neutron-sim-D4-LF-8_0001.csv'])\n"
     ]
    },
    {
     "name": "stderr",
     "output_type": "stream",
     "text": [
      "100%|██████████| 2/2 [00:00<00:00,  7.22it/s]\n"
     ]
    },
    {
     "name": "stdout",
     "output_type": "stream",
     "text": [
      "Reading in data... (['../simulation/out/LF/v2/scans_5dim/neutron-sim-D4-LF-9_0000.csv', '../simulation/out/LF/v2/scans_5dim/neutron-sim-D4-LF-9_0001.csv'])\n"
     ]
    },
    {
     "name": "stderr",
     "output_type": "stream",
     "text": [
      "100%|██████████| 2/2 [00:00<00:00,  8.00it/s]\n"
     ]
    },
    {
     "name": "stdout",
     "output_type": "stream",
     "text": [
      "Reading in data... (['../simulation/out/LF/v2/scans_5dim/neutron-sim-D4-LF-10_0000.csv', '../simulation/out/LF/v2/scans_5dim/neutron-sim-D4-LF-10_0001.csv'])\n"
     ]
    },
    {
     "name": "stderr",
     "output_type": "stream",
     "text": [
      "100%|██████████| 2/2 [00:00<00:00,  8.02it/s]\n"
     ]
    },
    {
     "name": "stdout",
     "output_type": "stream",
     "text": [
      "Reading in data... (['../simulation/out/LF/v2/scans_5dim/neutron-sim-D4-LF-11_0000.csv', '../simulation/out/LF/v2/scans_5dim/neutron-sim-D4-LF-11_0001.csv'])\n"
     ]
    },
    {
     "name": "stderr",
     "output_type": "stream",
     "text": [
      "100%|██████████| 2/2 [00:00<00:00,  8.58it/s]\n"
     ]
    },
    {
     "name": "stdout",
     "output_type": "stream",
     "text": [
      "Reading in data... (['../simulation/out/LF/v2/scans_5dim/neutron-sim-D4-LF-12_0000.csv', '../simulation/out/LF/v2/scans_5dim/neutron-sim-D4-LF-12_0001.csv'])\n"
     ]
    },
    {
     "name": "stderr",
     "output_type": "stream",
     "text": [
      "100%|██████████| 2/2 [00:00<00:00,  7.06it/s]\n"
     ]
    },
    {
     "name": "stdout",
     "output_type": "stream",
     "text": [
      "Reading in data... (['../simulation/out/LF/v2/scans_5dim/neutron-sim-D4-LF-13_0000.csv', '../simulation/out/LF/v2/scans_5dim/neutron-sim-D4-LF-13_0001.csv'])\n"
     ]
    },
    {
     "name": "stderr",
     "output_type": "stream",
     "text": [
      "100%|██████████| 2/2 [00:00<00:00,  8.58it/s]\n"
     ]
    },
    {
     "name": "stdout",
     "output_type": "stream",
     "text": [
      "Reading in data... (['../simulation/out/LF/v2/scans_5dim/neutron-sim-D4-LF-14_0000.csv', '../simulation/out/LF/v2/scans_5dim/neutron-sim-D4-LF-14_0001.csv'])\n"
     ]
    },
    {
     "name": "stderr",
     "output_type": "stream",
     "text": [
      "100%|██████████| 2/2 [00:00<00:00,  8.41it/s]\n"
     ]
    },
    {
     "name": "stdout",
     "output_type": "stream",
     "text": [
      "Reading in data... (['../simulation/out/LF/v2/scans_5dim/neutron-sim-D4-LF-15_0000.csv', '../simulation/out/LF/v2/scans_5dim/neutron-sim-D4-LF-15_0001.csv'])\n"
     ]
    },
    {
     "name": "stderr",
     "output_type": "stream",
     "text": [
      "100%|██████████| 2/2 [00:00<00:00,  8.13it/s]\n"
     ]
    },
    {
     "name": "stdout",
     "output_type": "stream",
     "text": [
      "Reading in data... (['../simulation/out/LF/v2/scans_5dim/neutron-sim-D4-LF-16_0000.csv', '../simulation/out/LF/v2/scans_5dim/neutron-sim-D4-LF-16_0001.csv'])\n"
     ]
    },
    {
     "name": "stderr",
     "output_type": "stream",
     "text": [
      "100%|██████████| 2/2 [00:00<00:00,  6.46it/s]\n"
     ]
    },
    {
     "name": "stdout",
     "output_type": "stream",
     "text": [
      "Reading in data... (['../simulation/out/LF/v2/scans_5dim/neutron-sim-D4-LF-17_0000.csv', '../simulation/out/LF/v2/scans_5dim/neutron-sim-D4-LF-17_0001.csv'])\n"
     ]
    },
    {
     "name": "stderr",
     "output_type": "stream",
     "text": [
      "100%|██████████| 2/2 [00:00<00:00,  8.61it/s]\n"
     ]
    },
    {
     "name": "stdout",
     "output_type": "stream",
     "text": [
      "Reading in data... (['../simulation/out/LF/v2/scans_5dim/neutron-sim-D4-LF-18_0000.csv', '../simulation/out/LF/v2/scans_5dim/neutron-sim-D4-LF-18_0001.csv'])\n"
     ]
    },
    {
     "name": "stderr",
     "output_type": "stream",
     "text": [
      "100%|██████████| 2/2 [00:00<00:00,  6.59it/s]\n"
     ]
    },
    {
     "name": "stdout",
     "output_type": "stream",
     "text": [
      "Reading in data... (['../simulation/out/LF/v2/scans_5dim/neutron-sim-D4-LF-19_0000.csv', '../simulation/out/LF/v2/scans_5dim/neutron-sim-D4-LF-19_0001.csv'])\n"
     ]
    },
    {
     "name": "stderr",
     "output_type": "stream",
     "text": [
      "100%|██████████| 2/2 [00:00<00:00,  9.43it/s]\n"
     ]
    },
    {
     "name": "stdout",
     "output_type": "stream",
     "text": [
      "Reading in data... (['../simulation/out/LF/v2/scans_5dim/neutron-sim-D4-LF-20_0000.csv', '../simulation/out/LF/v2/scans_5dim/neutron-sim-D4-LF-20_0001.csv'])\n"
     ]
    },
    {
     "name": "stderr",
     "output_type": "stream",
     "text": [
      "100%|██████████| 2/2 [00:00<00:00, 10.17it/s]\n"
     ]
    },
    {
     "name": "stdout",
     "output_type": "stream",
     "text": [
      "Reading in data... (['../simulation/out/LF/v2/scans_5dim/neutron-sim-D4-LF-21_0000.csv', '../simulation/out/LF/v2/scans_5dim/neutron-sim-D4-LF-21_0001.csv'])\n"
     ]
    },
    {
     "name": "stderr",
     "output_type": "stream",
     "text": [
      "100%|██████████| 2/2 [00:00<00:00,  9.52it/s]\n"
     ]
    },
    {
     "name": "stdout",
     "output_type": "stream",
     "text": [
      "Reading in data... (['../simulation/out/LF/v2/scans_5dim/neutron-sim-D4-LF-22_0000.csv', '../simulation/out/LF/v2/scans_5dim/neutron-sim-D4-LF-22_0001.csv'])\n"
     ]
    },
    {
     "name": "stderr",
     "output_type": "stream",
     "text": [
      "100%|██████████| 2/2 [00:00<00:00, 10.35it/s]\n"
     ]
    },
    {
     "name": "stdout",
     "output_type": "stream",
     "text": [
      "Reading in data... (['../simulation/out/LF/v2/scans_5dim/neutron-sim-D4-LF-23_0000.csv', '../simulation/out/LF/v2/scans_5dim/neutron-sim-D4-LF-23_0001.csv'])\n"
     ]
    },
    {
     "name": "stderr",
     "output_type": "stream",
     "text": [
      "100%|██████████| 2/2 [00:00<00:00, 11.43it/s]\n"
     ]
    },
    {
     "name": "stdout",
     "output_type": "stream",
     "text": [
      "Reading in data... (['../simulation/out/LF/v2/scans_5dim/neutron-sim-D4-LF-24_0000.csv', '../simulation/out/LF/v2/scans_5dim/neutron-sim-D4-LF-24_0001.csv'])\n"
     ]
    },
    {
     "name": "stderr",
     "output_type": "stream",
     "text": [
      "100%|██████████| 2/2 [00:00<00:00, 13.35it/s]\n"
     ]
    },
    {
     "name": "stdout",
     "output_type": "stream",
     "text": [
      "Reading in data... (['../simulation/out/LF/v2/scans_5dim/neutron-sim-D4-LF-25_0000.csv', '../simulation/out/LF/v2/scans_5dim/neutron-sim-D4-LF-25_0001.csv'])\n"
     ]
    },
    {
     "name": "stderr",
     "output_type": "stream",
     "text": [
      "100%|██████████| 2/2 [00:00<00:00,  9.91it/s]\n"
     ]
    },
    {
     "name": "stdout",
     "output_type": "stream",
     "text": [
      "Reading in data... (['../simulation/out/LF/v2/scans_5dim/neutron-sim-D4-LF-26_0000.csv', '../simulation/out/LF/v2/scans_5dim/neutron-sim-D4-LF-26_0001.csv'])\n"
     ]
    },
    {
     "name": "stderr",
     "output_type": "stream",
     "text": [
      "100%|██████████| 2/2 [00:00<00:00, 13.21it/s]\n"
     ]
    },
    {
     "name": "stdout",
     "output_type": "stream",
     "text": [
      "Reading in data... (['../simulation/out/LF/v2/scans_5dim/neutron-sim-D4-LF-27_0000.csv', '../simulation/out/LF/v2/scans_5dim/neutron-sim-D4-LF-27_0001.csv'])\n"
     ]
    },
    {
     "name": "stderr",
     "output_type": "stream",
     "text": [
      "100%|██████████| 2/2 [00:00<00:00, 14.26it/s]\n"
     ]
    },
    {
     "name": "stdout",
     "output_type": "stream",
     "text": [
      "Reading in data... (['../simulation/out/LF/v2/scans_5dim/neutron-sim-D4-LF-28_0000.csv', '../simulation/out/LF/v2/scans_5dim/neutron-sim-D4-LF-28_0001.csv'])\n"
     ]
    },
    {
     "name": "stderr",
     "output_type": "stream",
     "text": [
      "100%|██████████| 2/2 [00:00<00:00, 14.54it/s]\n"
     ]
    },
    {
     "name": "stdout",
     "output_type": "stream",
     "text": [
      "Reading in data... (['../simulation/out/LF/v2/scans_5dim/neutron-sim-D4-LF-29_0000.csv', '../simulation/out/LF/v2/scans_5dim/neutron-sim-D4-LF-29_0001.csv'])\n"
     ]
    },
    {
     "name": "stderr",
     "output_type": "stream",
     "text": [
      "100%|██████████| 2/2 [00:00<00:00, 14.58it/s]\n"
     ]
    },
    {
     "name": "stdout",
     "output_type": "stream",
     "text": [
      "Reading in data... (['../simulation/out/LF/v2/scans_5dim/neutron-sim-D4-LF-30_0000.csv', '../simulation/out/LF/v2/scans_5dim/neutron-sim-D4-LF-30_0001.csv'])\n"
     ]
    },
    {
     "name": "stderr",
     "output_type": "stream",
     "text": [
      "100%|██████████| 2/2 [00:00<00:00, 10.77it/s]\n"
     ]
    },
    {
     "name": "stdout",
     "output_type": "stream",
     "text": [
      "Reading in data... (['../simulation/out/LF/v2/scans_5dim/neutron-sim-D4-LF-31_0000.csv', '../simulation/out/LF/v2/scans_5dim/neutron-sim-D4-LF-31_0001.csv'])\n"
     ]
    },
    {
     "name": "stderr",
     "output_type": "stream",
     "text": [
      "100%|██████████| 2/2 [00:00<00:00,  7.55it/s]\n"
     ]
    },
    {
     "name": "stdout",
     "output_type": "stream",
     "text": [
      "Reading in data... (['../simulation/out/LF/v2/scans_5dim/neutron-sim-D4-LF-32_0000.csv', '../simulation/out/LF/v2/scans_5dim/neutron-sim-D4-LF-32_0001.csv'])\n"
     ]
    },
    {
     "name": "stderr",
     "output_type": "stream",
     "text": [
      "100%|██████████| 2/2 [00:00<00:00,  8.95it/s]\n"
     ]
    },
    {
     "name": "stdout",
     "output_type": "stream",
     "text": [
      "Reading in data... (['../simulation/out/LF/v2/scans_5dim/neutron-sim-D4-LF-33_0000.csv', '../simulation/out/LF/v2/scans_5dim/neutron-sim-D4-LF-33_0001.csv'])\n"
     ]
    },
    {
     "name": "stderr",
     "output_type": "stream",
     "text": [
      "100%|██████████| 2/2 [00:00<00:00,  9.67it/s]\n"
     ]
    },
    {
     "name": "stdout",
     "output_type": "stream",
     "text": [
      "Reading in data... (['../simulation/out/LF/v2/scans_5dim/neutron-sim-D4-LF-34_0000.csv', '../simulation/out/LF/v2/scans_5dim/neutron-sim-D4-LF-34_0001.csv'])\n"
     ]
    },
    {
     "name": "stderr",
     "output_type": "stream",
     "text": [
      "100%|██████████| 2/2 [00:00<00:00,  7.07it/s]\n"
     ]
    },
    {
     "name": "stdout",
     "output_type": "stream",
     "text": [
      "Reading in data... (['../simulation/out/LF/v2/scans_5dim/neutron-sim-D4-LF-35_0000.csv', '../simulation/out/LF/v2/scans_5dim/neutron-sim-D4-LF-35_0001.csv'])\n"
     ]
    },
    {
     "name": "stderr",
     "output_type": "stream",
     "text": [
      "100%|██████████| 2/2 [00:00<00:00,  7.56it/s]\n"
     ]
    },
    {
     "name": "stdout",
     "output_type": "stream",
     "text": [
      "Reading in data... (['../simulation/out/LF/v2/scans_5dim/neutron-sim-D4-LF-36_0000.csv', '../simulation/out/LF/v2/scans_5dim/neutron-sim-D4-LF-36_0001.csv'])\n"
     ]
    },
    {
     "name": "stderr",
     "output_type": "stream",
     "text": [
      "100%|██████████| 2/2 [00:00<00:00,  8.18it/s]\n"
     ]
    },
    {
     "name": "stdout",
     "output_type": "stream",
     "text": [
      "Reading in data... (['../simulation/out/LF/v2/scans_5dim/neutron-sim-D4-LF-37_0000.csv', '../simulation/out/LF/v2/scans_5dim/neutron-sim-D4-LF-37_0001.csv'])\n"
     ]
    },
    {
     "name": "stderr",
     "output_type": "stream",
     "text": [
      "100%|██████████| 2/2 [00:00<00:00,  8.57it/s]\n"
     ]
    },
    {
     "name": "stdout",
     "output_type": "stream",
     "text": [
      "Reading in data... (['../simulation/out/LF/v2/scans_5dim/neutron-sim-D4-LF-38_0000.csv', '../simulation/out/LF/v2/scans_5dim/neutron-sim-D4-LF-38_0001.csv'])\n"
     ]
    },
    {
     "name": "stderr",
     "output_type": "stream",
     "text": [
      "100%|██████████| 2/2 [00:00<00:00,  8.25it/s]\n"
     ]
    },
    {
     "name": "stdout",
     "output_type": "stream",
     "text": [
      "Reading in data... (['../simulation/out/LF/v2/scans_5dim/neutron-sim-D4-LF-39_0000.csv', '../simulation/out/LF/v2/scans_5dim/neutron-sim-D4-LF-39_0001.csv'])\n"
     ]
    },
    {
     "name": "stderr",
     "output_type": "stream",
     "text": [
      "100%|██████████| 2/2 [00:00<00:00,  6.82it/s]\n"
     ]
    },
    {
     "name": "stdout",
     "output_type": "stream",
     "text": [
      "Reading in data... (['../simulation/out/LF/v2/scans_5dim/neutron-sim-D4-LF-40_0000.csv', '../simulation/out/LF/v2/scans_5dim/neutron-sim-D4-LF-40_0001.csv'])\n"
     ]
    },
    {
     "name": "stderr",
     "output_type": "stream",
     "text": [
      "100%|██████████| 2/2 [00:00<00:00,  7.92it/s]\n"
     ]
    },
    {
     "name": "stdout",
     "output_type": "stream",
     "text": [
      "Reading in data... (['../simulation/out/LF/v2/scans_5dim/neutron-sim-D4-LF-41_0000.csv', '../simulation/out/LF/v2/scans_5dim/neutron-sim-D4-LF-41_0001.csv'])\n"
     ]
    },
    {
     "name": "stderr",
     "output_type": "stream",
     "text": [
      "100%|██████████| 2/2 [00:00<00:00,  8.36it/s]\n"
     ]
    },
    {
     "name": "stdout",
     "output_type": "stream",
     "text": [
      "Reading in data... (['../simulation/out/LF/v2/scans_5dim/neutron-sim-D4-LF-42_0000.csv', '../simulation/out/LF/v2/scans_5dim/neutron-sim-D4-LF-42_0001.csv'])\n"
     ]
    },
    {
     "name": "stderr",
     "output_type": "stream",
     "text": [
      "100%|██████████| 2/2 [00:00<00:00,  8.49it/s]\n"
     ]
    },
    {
     "name": "stdout",
     "output_type": "stream",
     "text": [
      "Reading in data... (['../simulation/out/LF/v2/scans_5dim/neutron-sim-D4-LF-43_0000.csv', '../simulation/out/LF/v2/scans_5dim/neutron-sim-D4-LF-43_0001.csv'])\n"
     ]
    },
    {
     "name": "stderr",
     "output_type": "stream",
     "text": [
      "100%|██████████| 2/2 [00:00<00:00,  6.02it/s]\n"
     ]
    },
    {
     "name": "stdout",
     "output_type": "stream",
     "text": [
      "Reading in data... (['../simulation/out/LF/v2/scans_5dim/neutron-sim-D4-LF-44_0000.csv', '../simulation/out/LF/v2/scans_5dim/neutron-sim-D4-LF-44_0001.csv'])\n"
     ]
    },
    {
     "name": "stderr",
     "output_type": "stream",
     "text": [
      "100%|██████████| 2/2 [00:00<00:00,  8.17it/s]\n"
     ]
    },
    {
     "name": "stdout",
     "output_type": "stream",
     "text": [
      "Reading in data... (['../simulation/out/LF/v2/scans_5dim/neutron-sim-D4-LF-45_0000.csv', '../simulation/out/LF/v2/scans_5dim/neutron-sim-D4-LF-45_0001.csv'])\n"
     ]
    },
    {
     "name": "stderr",
     "output_type": "stream",
     "text": [
      "100%|██████████| 2/2 [00:00<00:00,  9.87it/s]\n"
     ]
    },
    {
     "name": "stdout",
     "output_type": "stream",
     "text": [
      "Reading in data... (['../simulation/out/LF/v2/scans_5dim/neutron-sim-D4-LF-46_0000.csv', '../simulation/out/LF/v2/scans_5dim/neutron-sim-D4-LF-46_0001.csv'])\n"
     ]
    },
    {
     "name": "stderr",
     "output_type": "stream",
     "text": [
      "100%|██████████| 2/2 [00:00<00:00,  9.92it/s]\n"
     ]
    },
    {
     "name": "stdout",
     "output_type": "stream",
     "text": [
      "Reading in data... (['../simulation/out/LF/v2/scans_5dim/neutron-sim-D4-LF-47_0000.csv', '../simulation/out/LF/v2/scans_5dim/neutron-sim-D4-LF-47_0001.csv'])\n"
     ]
    },
    {
     "name": "stderr",
     "output_type": "stream",
     "text": [
      "100%|██████████| 2/2 [00:00<00:00,  9.83it/s]\n"
     ]
    },
    {
     "name": "stdout",
     "output_type": "stream",
     "text": [
      "Reading in data... (['../simulation/out/LF/v2/scans_5dim/neutron-sim-D4-LF-48_0000.csv', '../simulation/out/LF/v2/scans_5dim/neutron-sim-D4-LF-48_0001.csv'])\n"
     ]
    },
    {
     "name": "stderr",
     "output_type": "stream",
     "text": [
      "100%|██████████| 2/2 [00:00<00:00, 12.42it/s]\n"
     ]
    },
    {
     "name": "stdout",
     "output_type": "stream",
     "text": [
      "Reading in data... (['../simulation/out/LF/v2/scans_5dim/neutron-sim-D4-LF-49_0000.csv', '../simulation/out/LF/v2/scans_5dim/neutron-sim-D4-LF-49_0001.csv'])\n"
     ]
    },
    {
     "name": "stderr",
     "output_type": "stream",
     "text": [
      "100%|██████████| 2/2 [00:00<00:00, 13.98it/s]\n"
     ]
    },
    {
     "name": "stdout",
     "output_type": "stream",
     "text": [
      "Reading in data... (['../simulation/out/LF/v2/scans_5dim/neutron-sim-D4-LF-50_0000.csv', '../simulation/out/LF/v2/scans_5dim/neutron-sim-D4-LF-50_0001.csv'])\n"
     ]
    },
    {
     "name": "stderr",
     "output_type": "stream",
     "text": [
      "100%|██████████| 2/2 [00:00<00:00, 13.51it/s]\n"
     ]
    },
    {
     "name": "stdout",
     "output_type": "stream",
     "text": [
      "Reading in data... (['../simulation/out/LF/v2/scans_5dim/neutron-sim-D4-LF-51_0000.csv', '../simulation/out/LF/v2/scans_5dim/neutron-sim-D4-LF-51_0001.csv'])\n"
     ]
    },
    {
     "name": "stderr",
     "output_type": "stream",
     "text": [
      "100%|██████████| 2/2 [00:00<00:00, 13.35it/s]\n"
     ]
    },
    {
     "name": "stdout",
     "output_type": "stream",
     "text": [
      "Reading in data... (['../simulation/out/LF/v2/scans_5dim/neutron-sim-D4-LF-52_0000.csv', '../simulation/out/LF/v2/scans_5dim/neutron-sim-D4-LF-52_0001.csv'])\n"
     ]
    },
    {
     "name": "stderr",
     "output_type": "stream",
     "text": [
      "100%|██████████| 2/2 [00:00<00:00, 17.23it/s]\n"
     ]
    },
    {
     "name": "stdout",
     "output_type": "stream",
     "text": [
      "Reading in data... (['../simulation/out/LF/v2/scans_5dim/neutron-sim-D4-LF-53_0000.csv', '../simulation/out/LF/v2/scans_5dim/neutron-sim-D4-LF-53_0001.csv'])\n"
     ]
    },
    {
     "name": "stderr",
     "output_type": "stream",
     "text": [
      "100%|██████████| 2/2 [00:00<00:00, 11.72it/s]\n"
     ]
    },
    {
     "name": "stdout",
     "output_type": "stream",
     "text": [
      "Reading in data... (['../simulation/out/LF/v2/scans_5dim/neutron-sim-D4-LF-54_0000.csv', '../simulation/out/LF/v2/scans_5dim/neutron-sim-D4-LF-54_0001.csv'])\n"
     ]
    },
    {
     "name": "stderr",
     "output_type": "stream",
     "text": [
      "100%|██████████| 2/2 [00:00<00:00,  8.38it/s]\n"
     ]
    },
    {
     "name": "stdout",
     "output_type": "stream",
     "text": [
      "Reading in data... (['../simulation/out/LF/v2/scans_5dim/neutron-sim-D4-LF-55_0000.csv', '../simulation/out/LF/v2/scans_5dim/neutron-sim-D4-LF-55_0001.csv'])\n"
     ]
    },
    {
     "name": "stderr",
     "output_type": "stream",
     "text": [
      "100%|██████████| 2/2 [00:00<00:00,  8.50it/s]\n"
     ]
    },
    {
     "name": "stdout",
     "output_type": "stream",
     "text": [
      "Reading in data... (['../simulation/out/LF/v2/scans_5dim/neutron-sim-D4-LF-56_0000.csv', '../simulation/out/LF/v2/scans_5dim/neutron-sim-D4-LF-56_0001.csv'])\n"
     ]
    },
    {
     "name": "stderr",
     "output_type": "stream",
     "text": [
      "100%|██████████| 2/2 [00:00<00:00,  8.69it/s]\n"
     ]
    },
    {
     "name": "stdout",
     "output_type": "stream",
     "text": [
      "Reading in data... (['../simulation/out/LF/v2/scans_5dim/neutron-sim-D4-LF-57_0000.csv', '../simulation/out/LF/v2/scans_5dim/neutron-sim-D4-LF-57_0001.csv'])\n"
     ]
    },
    {
     "name": "stderr",
     "output_type": "stream",
     "text": [
      "100%|██████████| 2/2 [00:00<00:00,  8.48it/s]\n"
     ]
    },
    {
     "name": "stdout",
     "output_type": "stream",
     "text": [
      "Reading in data... (['../simulation/out/LF/v2/scans_5dim/neutron-sim-D4-LF-58_0000.csv', '../simulation/out/LF/v2/scans_5dim/neutron-sim-D4-LF-58_0001.csv'])\n"
     ]
    },
    {
     "name": "stderr",
     "output_type": "stream",
     "text": [
      "100%|██████████| 2/2 [00:00<00:00,  9.17it/s]\n"
     ]
    },
    {
     "name": "stdout",
     "output_type": "stream",
     "text": [
      "Reading in data... (['../simulation/out/LF/v2/scans_5dim/neutron-sim-D4-LF-59_0000.csv', '../simulation/out/LF/v2/scans_5dim/neutron-sim-D4-LF-59_0001.csv'])\n"
     ]
    },
    {
     "name": "stderr",
     "output_type": "stream",
     "text": [
      "100%|██████████| 2/2 [00:00<00:00,  8.07it/s]\n"
     ]
    },
    {
     "name": "stdout",
     "output_type": "stream",
     "text": [
      "Reading in data... (['../simulation/out/LF/v2/scans_5dim/neutron-sim-D4-LF-60_0000.csv', '../simulation/out/LF/v2/scans_5dim/neutron-sim-D4-LF-60_0001.csv'])\n"
     ]
    },
    {
     "name": "stderr",
     "output_type": "stream",
     "text": [
      "100%|██████████| 2/2 [00:00<00:00,  8.94it/s]\n"
     ]
    },
    {
     "name": "stdout",
     "output_type": "stream",
     "text": [
      "Reading in data... (['../simulation/out/LF/v2/scans_5dim/neutron-sim-D4-LF-61_0000.csv', '../simulation/out/LF/v2/scans_5dim/neutron-sim-D4-LF-61_0001.csv'])\n"
     ]
    },
    {
     "name": "stderr",
     "output_type": "stream",
     "text": [
      "100%|██████████| 2/2 [00:00<00:00,  7.85it/s]\n"
     ]
    },
    {
     "name": "stdout",
     "output_type": "stream",
     "text": [
      "Reading in data... (['../simulation/out/LF/v2/scans_5dim/neutron-sim-D4-LF-62_0000.csv', '../simulation/out/LF/v2/scans_5dim/neutron-sim-D4-LF-62_0001.csv'])\n"
     ]
    },
    {
     "name": "stderr",
     "output_type": "stream",
     "text": [
      "100%|██████████| 2/2 [00:00<00:00,  6.98it/s]\n"
     ]
    },
    {
     "name": "stdout",
     "output_type": "stream",
     "text": [
      "Reading in data... (['../simulation/out/LF/v2/scans_5dim/neutron-sim-D4-LF-63_0000.csv', '../simulation/out/LF/v2/scans_5dim/neutron-sim-D4-LF-63_0001.csv'])\n"
     ]
    },
    {
     "name": "stderr",
     "output_type": "stream",
     "text": [
      "100%|██████████| 2/2 [00:00<00:00,  7.29it/s]\n"
     ]
    },
    {
     "name": "stdout",
     "output_type": "stream",
     "text": [
      "Reading in data... (['../simulation/out/LF/v2/scans_5dim/neutron-sim-D4-LF-64_0000.csv', '../simulation/out/LF/v2/scans_5dim/neutron-sim-D4-LF-64_0001.csv'])\n"
     ]
    },
    {
     "name": "stderr",
     "output_type": "stream",
     "text": [
      "100%|██████████| 2/2 [00:00<00:00,  8.39it/s]\n"
     ]
    },
    {
     "name": "stdout",
     "output_type": "stream",
     "text": [
      "Reading in data... (['../simulation/out/LF/v2/scans_5dim/neutron-sim-D4-LF-65_0000.csv', '../simulation/out/LF/v2/scans_5dim/neutron-sim-D4-LF-65_0001.csv'])\n"
     ]
    },
    {
     "name": "stderr",
     "output_type": "stream",
     "text": [
      "100%|██████████| 2/2 [00:00<00:00,  8.75it/s]\n"
     ]
    },
    {
     "name": "stdout",
     "output_type": "stream",
     "text": [
      "Reading in data... (['../simulation/out/LF/v2/scans_5dim/neutron-sim-D4-LF-66_0000.csv', '../simulation/out/LF/v2/scans_5dim/neutron-sim-D4-LF-66_0001.csv'])\n"
     ]
    },
    {
     "name": "stderr",
     "output_type": "stream",
     "text": [
      "100%|██████████| 2/2 [00:00<00:00,  9.10it/s]\n"
     ]
    },
    {
     "name": "stdout",
     "output_type": "stream",
     "text": [
      "Reading in data... (['../simulation/out/LF/v2/scans_5dim/neutron-sim-D4-LF-67_0000.csv', '../simulation/out/LF/v2/scans_5dim/neutron-sim-D4-LF-67_0001.csv'])\n"
     ]
    },
    {
     "name": "stderr",
     "output_type": "stream",
     "text": [
      "100%|██████████| 2/2 [00:00<00:00,  8.23it/s]\n"
     ]
    },
    {
     "name": "stdout",
     "output_type": "stream",
     "text": [
      "Reading in data... (['../simulation/out/LF/v2/scans_5dim/neutron-sim-D4-LF-68_0000.csv', '../simulation/out/LF/v2/scans_5dim/neutron-sim-D4-LF-68_0001.csv'])\n"
     ]
    },
    {
     "name": "stderr",
     "output_type": "stream",
     "text": [
      "100%|██████████| 2/2 [00:00<00:00,  9.90it/s]\n"
     ]
    },
    {
     "name": "stdout",
     "output_type": "stream",
     "text": [
      "Reading in data... (['../simulation/out/LF/v2/scans_5dim/neutron-sim-D4-LF-69_0000.csv', '../simulation/out/LF/v2/scans_5dim/neutron-sim-D4-LF-69_0001.csv'])\n"
     ]
    },
    {
     "name": "stderr",
     "output_type": "stream",
     "text": [
      "100%|██████████| 2/2 [00:00<00:00,  8.39it/s]\n"
     ]
    },
    {
     "name": "stdout",
     "output_type": "stream",
     "text": [
      "Reading in data... (['../simulation/out/LF/v2/scans_5dim/neutron-sim-D4-LF-70_0000.csv', '../simulation/out/LF/v2/scans_5dim/neutron-sim-D4-LF-70_0001.csv'])\n"
     ]
    },
    {
     "name": "stderr",
     "output_type": "stream",
     "text": [
      "100%|██████████| 2/2 [00:00<00:00,  8.90it/s]\n"
     ]
    },
    {
     "name": "stdout",
     "output_type": "stream",
     "text": [
      "Reading in data... (['../simulation/out/LF/v2/scans_5dim/neutron-sim-D4-LF-71_0000.csv', '../simulation/out/LF/v2/scans_5dim/neutron-sim-D4-LF-71_0001.csv'])\n"
     ]
    },
    {
     "name": "stderr",
     "output_type": "stream",
     "text": [
      "100%|██████████| 2/2 [00:00<00:00,  7.95it/s]\n"
     ]
    },
    {
     "name": "stdout",
     "output_type": "stream",
     "text": [
      "Reading in data... (['../simulation/out/LF/v2/scans_5dim/neutron-sim-D4-LF-72_0000.csv', '../simulation/out/LF/v2/scans_5dim/neutron-sim-D4-LF-72_0001.csv'])\n"
     ]
    },
    {
     "name": "stderr",
     "output_type": "stream",
     "text": [
      "100%|██████████| 2/2 [00:00<00:00, 10.53it/s]\n"
     ]
    },
    {
     "name": "stdout",
     "output_type": "stream",
     "text": [
      "Reading in data... (['../simulation/out/LF/v2/scans_5dim/neutron-sim-D4-LF-73_0000.csv', '../simulation/out/LF/v2/scans_5dim/neutron-sim-D4-LF-73_0001.csv'])\n"
     ]
    },
    {
     "name": "stderr",
     "output_type": "stream",
     "text": [
      "100%|██████████| 2/2 [00:00<00:00, 13.42it/s]\n"
     ]
    },
    {
     "name": "stdout",
     "output_type": "stream",
     "text": [
      "Reading in data... (['../simulation/out/LF/v2/scans_5dim/neutron-sim-D4-LF-74_0000.csv', '../simulation/out/LF/v2/scans_5dim/neutron-sim-D4-LF-74_0001.csv'])\n"
     ]
    },
    {
     "name": "stderr",
     "output_type": "stream",
     "text": [
      "100%|██████████| 2/2 [00:00<00:00, 12.81it/s]\n"
     ]
    },
    {
     "name": "stdout",
     "output_type": "stream",
     "text": [
      "Reading in data... (['../simulation/out/LF/v2/scans_5dim/neutron-sim-D4-LF-75_0000.csv', '../simulation/out/LF/v2/scans_5dim/neutron-sim-D4-LF-75_0001.csv'])\n"
     ]
    },
    {
     "name": "stderr",
     "output_type": "stream",
     "text": [
      "100%|██████████| 2/2 [00:00<00:00, 12.65it/s]\n"
     ]
    },
    {
     "name": "stdout",
     "output_type": "stream",
     "text": [
      "Reading in data... (['../simulation/out/LF/v2/scans_5dim/neutron-sim-D4-LF-76_0000.csv', '../simulation/out/LF/v2/scans_5dim/neutron-sim-D4-LF-76_0001.csv'])\n"
     ]
    },
    {
     "name": "stderr",
     "output_type": "stream",
     "text": [
      "100%|██████████| 2/2 [00:00<00:00, 15.32it/s]\n"
     ]
    },
    {
     "name": "stdout",
     "output_type": "stream",
     "text": [
      "Reading in data... (['../simulation/out/LF/v2/scans_5dim/neutron-sim-D4-LF-77_0000.csv', '../simulation/out/LF/v2/scans_5dim/neutron-sim-D4-LF-77_0001.csv'])\n"
     ]
    },
    {
     "name": "stderr",
     "output_type": "stream",
     "text": [
      "100%|██████████| 2/2 [00:00<00:00, 14.07it/s]\n"
     ]
    },
    {
     "name": "stdout",
     "output_type": "stream",
     "text": [
      "Reading in data... (['../simulation/out/LF/v2/scans_5dim/neutron-sim-D4-LF-78_0000.csv', '../simulation/out/LF/v2/scans_5dim/neutron-sim-D4-LF-78_0001.csv'])\n"
     ]
    },
    {
     "name": "stderr",
     "output_type": "stream",
     "text": [
      "100%|██████████| 2/2 [00:00<00:00, 14.35it/s]\n"
     ]
    },
    {
     "name": "stdout",
     "output_type": "stream",
     "text": [
      "Reading in data... (['../simulation/out/LF/v2/scans_5dim/neutron-sim-D4-LF-79_0000.csv', '../simulation/out/LF/v2/scans_5dim/neutron-sim-D4-LF-79_0001.csv'])\n"
     ]
    },
    {
     "name": "stderr",
     "output_type": "stream",
     "text": [
      "100%|██████████| 2/2 [00:00<00:00, 12.75it/s]\n"
     ]
    },
    {
     "name": "stdout",
     "output_type": "stream",
     "text": [
      "Reading in data... (['../simulation/out/LF/v2/scans_5dim/neutron-sim-D4-LF-80_0000.csv', '../simulation/out/LF/v2/scans_5dim/neutron-sim-D4-LF-80_0001.csv'])\n"
     ]
    },
    {
     "name": "stderr",
     "output_type": "stream",
     "text": [
      "100%|██████████| 2/2 [00:00<00:00,  7.49it/s]\n"
     ]
    },
    {
     "name": "stdout",
     "output_type": "stream",
     "text": [
      "Reading in data... (['../simulation/out/LF/v2/scans_5dim/neutron-sim-D4-LF-81_0000.csv', '../simulation/out/LF/v2/scans_5dim/neutron-sim-D4-LF-81_0001.csv'])\n"
     ]
    },
    {
     "name": "stderr",
     "output_type": "stream",
     "text": [
      "100%|██████████| 2/2 [00:00<00:00,  7.68it/s]\n"
     ]
    },
    {
     "name": "stdout",
     "output_type": "stream",
     "text": [
      "Reading in data... (['../simulation/out/LF/v2/scans_5dim/neutron-sim-D4-LF-82_0000.csv', '../simulation/out/LF/v2/scans_5dim/neutron-sim-D4-LF-82_0001.csv'])\n"
     ]
    },
    {
     "name": "stderr",
     "output_type": "stream",
     "text": [
      "100%|██████████| 2/2 [00:00<00:00,  8.57it/s]\n"
     ]
    },
    {
     "name": "stdout",
     "output_type": "stream",
     "text": [
      "Reading in data... (['../simulation/out/LF/v2/scans_5dim/neutron-sim-D4-LF-83_0000.csv', '../simulation/out/LF/v2/scans_5dim/neutron-sim-D4-LF-83_0001.csv'])\n"
     ]
    },
    {
     "name": "stderr",
     "output_type": "stream",
     "text": [
      "100%|██████████| 2/2 [00:00<00:00,  9.23it/s]\n"
     ]
    },
    {
     "name": "stdout",
     "output_type": "stream",
     "text": [
      "Reading in data... (['../simulation/out/LF/v2/scans_5dim/neutron-sim-D4-LF-84_0000.csv', '../simulation/out/LF/v2/scans_5dim/neutron-sim-D4-LF-84_0001.csv'])\n"
     ]
    },
    {
     "name": "stderr",
     "output_type": "stream",
     "text": [
      "100%|██████████| 2/2 [00:00<00:00,  9.00it/s]\n"
     ]
    },
    {
     "name": "stdout",
     "output_type": "stream",
     "text": [
      "Reading in data... (['../simulation/out/LF/v2/scans_5dim/neutron-sim-D4-LF-85_0000.csv', '../simulation/out/LF/v2/scans_5dim/neutron-sim-D4-LF-85_0001.csv'])\n"
     ]
    },
    {
     "name": "stderr",
     "output_type": "stream",
     "text": [
      "100%|██████████| 2/2 [00:00<00:00,  6.61it/s]\n"
     ]
    },
    {
     "name": "stdout",
     "output_type": "stream",
     "text": [
      "Reading in data... (['../simulation/out/LF/v2/scans_5dim/neutron-sim-D4-LF-86_0000.csv', '../simulation/out/LF/v2/scans_5dim/neutron-sim-D4-LF-86_0001.csv'])\n"
     ]
    },
    {
     "name": "stderr",
     "output_type": "stream",
     "text": [
      "100%|██████████| 2/2 [00:00<00:00,  8.61it/s]\n"
     ]
    },
    {
     "name": "stdout",
     "output_type": "stream",
     "text": [
      "Reading in data... (['../simulation/out/LF/v2/scans_5dim/neutron-sim-D4-LF-87_0000.csv', '../simulation/out/LF/v2/scans_5dim/neutron-sim-D4-LF-87_0001.csv'])\n"
     ]
    },
    {
     "name": "stderr",
     "output_type": "stream",
     "text": [
      "100%|██████████| 2/2 [00:00<00:00,  8.10it/s]\n"
     ]
    },
    {
     "name": "stdout",
     "output_type": "stream",
     "text": [
      "Reading in data... (['../simulation/out/LF/v2/scans_5dim/neutron-sim-D4-LF-88_0000.csv', '../simulation/out/LF/v2/scans_5dim/neutron-sim-D4-LF-88_0001.csv'])\n"
     ]
    },
    {
     "name": "stderr",
     "output_type": "stream",
     "text": [
      "100%|██████████| 2/2 [00:00<00:00,  9.83it/s]\n"
     ]
    },
    {
     "name": "stdout",
     "output_type": "stream",
     "text": [
      "Reading in data... (['../simulation/out/LF/v2/scans_5dim/neutron-sim-D4-LF-89_0000.csv', '../simulation/out/LF/v2/scans_5dim/neutron-sim-D4-LF-89_0001.csv'])\n"
     ]
    },
    {
     "name": "stderr",
     "output_type": "stream",
     "text": [
      "100%|██████████| 2/2 [00:00<00:00,  6.16it/s]\n"
     ]
    },
    {
     "name": "stdout",
     "output_type": "stream",
     "text": [
      "Reading in data... (['../simulation/out/LF/v2/scans_5dim/neutron-sim-D4-LF-90_0000.csv', '../simulation/out/LF/v2/scans_5dim/neutron-sim-D4-LF-90_0001.csv'])\n"
     ]
    },
    {
     "name": "stderr",
     "output_type": "stream",
     "text": [
      "100%|██████████| 2/2 [00:00<00:00,  8.64it/s]\n"
     ]
    },
    {
     "name": "stdout",
     "output_type": "stream",
     "text": [
      "Reading in data... (['../simulation/out/LF/v2/scans_5dim/neutron-sim-D4-LF-91_0000.csv', '../simulation/out/LF/v2/scans_5dim/neutron-sim-D4-LF-91_0001.csv'])\n"
     ]
    },
    {
     "name": "stderr",
     "output_type": "stream",
     "text": [
      "100%|██████████| 2/2 [00:00<00:00,  9.43it/s]\n"
     ]
    },
    {
     "name": "stdout",
     "output_type": "stream",
     "text": [
      "Reading in data... (['../simulation/out/LF/v2/scans_5dim/neutron-sim-D4-LF-92_0000.csv', '../simulation/out/LF/v2/scans_5dim/neutron-sim-D4-LF-92_0001.csv'])\n"
     ]
    },
    {
     "name": "stderr",
     "output_type": "stream",
     "text": [
      "100%|██████████| 2/2 [00:00<00:00,  8.89it/s]\n"
     ]
    },
    {
     "name": "stdout",
     "output_type": "stream",
     "text": [
      "Reading in data... (['../simulation/out/LF/v2/scans_5dim/neutron-sim-D4-LF-93_0000.csv', '../simulation/out/LF/v2/scans_5dim/neutron-sim-D4-LF-93_0001.csv'])\n"
     ]
    },
    {
     "name": "stderr",
     "output_type": "stream",
     "text": [
      "100%|██████████| 2/2 [00:00<00:00,  8.27it/s]\n"
     ]
    },
    {
     "name": "stdout",
     "output_type": "stream",
     "text": [
      "Reading in data... (['../simulation/out/LF/v2/scans_5dim/neutron-sim-D4-LF-94_0000.csv', '../simulation/out/LF/v2/scans_5dim/neutron-sim-D4-LF-94_0001.csv'])\n"
     ]
    },
    {
     "name": "stderr",
     "output_type": "stream",
     "text": [
      "100%|██████████| 2/2 [00:00<00:00,  8.18it/s]\n"
     ]
    },
    {
     "name": "stdout",
     "output_type": "stream",
     "text": [
      "Reading in data... (['../simulation/out/LF/v2/scans_5dim/neutron-sim-D4-LF-95_0000.csv', '../simulation/out/LF/v2/scans_5dim/neutron-sim-D4-LF-95_0001.csv'])\n"
     ]
    },
    {
     "name": "stderr",
     "output_type": "stream",
     "text": [
      "100%|██████████| 2/2 [00:00<00:00,  9.15it/s]\n"
     ]
    },
    {
     "name": "stdout",
     "output_type": "stream",
     "text": [
      "Reading in data... (['../simulation/out/LF/v2/scans_5dim/neutron-sim-D4-LF-96_0000.csv', '../simulation/out/LF/v2/scans_5dim/neutron-sim-D4-LF-96_0001.csv'])\n"
     ]
    },
    {
     "name": "stderr",
     "output_type": "stream",
     "text": [
      "100%|██████████| 2/2 [00:00<00:00, 12.04it/s]\n"
     ]
    },
    {
     "name": "stdout",
     "output_type": "stream",
     "text": [
      "Reading in data... (['../simulation/out/LF/v2/scans_5dim/neutron-sim-D4-LF-97_0000.csv', '../simulation/out/LF/v2/scans_5dim/neutron-sim-D4-LF-97_0001.csv'])\n"
     ]
    },
    {
     "name": "stderr",
     "output_type": "stream",
     "text": [
      "100%|██████████| 2/2 [00:00<00:00, 12.88it/s]\n"
     ]
    },
    {
     "name": "stdout",
     "output_type": "stream",
     "text": [
      "Reading in data... (['../simulation/out/LF/v2/scans_5dim/neutron-sim-D4-LF-98_0000.csv', '../simulation/out/LF/v2/scans_5dim/neutron-sim-D4-LF-98_0001.csv'])\n"
     ]
    },
    {
     "name": "stderr",
     "output_type": "stream",
     "text": [
      "100%|██████████| 2/2 [00:00<00:00,  9.98it/s]\n"
     ]
    },
    {
     "name": "stdout",
     "output_type": "stream",
     "text": [
      "Reading in data... (['../simulation/out/LF/v2/scans_5dim/neutron-sim-D4-LF-99_0000.csv', '../simulation/out/LF/v2/scans_5dim/neutron-sim-D4-LF-99_0001.csv'])\n"
     ]
    },
    {
     "name": "stderr",
     "output_type": "stream",
     "text": [
      "100%|██████████| 2/2 [00:00<00:00, 10.82it/s]\n"
     ]
    },
    {
     "name": "stdout",
     "output_type": "stream",
     "text": [
      "Reading in data... (['../simulation/out/LF/v2/scans_5dim/neutron-sim-D4-LF-100_0000.csv', '../simulation/out/LF/v2/scans_5dim/neutron-sim-D4-LF-100_0001.csv'])\n"
     ]
    },
    {
     "name": "stderr",
     "output_type": "stream",
     "text": [
      "100%|██████████| 2/2 [00:00<00:00, 14.84it/s]\n"
     ]
    },
    {
     "name": "stdout",
     "output_type": "stream",
     "text": [
      "Reading in data... (['../simulation/out/LF/v2/scans_5dim/neutron-sim-D4-LF-101_0000.csv', '../simulation/out/LF/v2/scans_5dim/neutron-sim-D4-LF-101_0001.csv'])\n"
     ]
    },
    {
     "name": "stderr",
     "output_type": "stream",
     "text": [
      "100%|██████████| 2/2 [00:00<00:00, 13.68it/s]\n"
     ]
    },
    {
     "name": "stdout",
     "output_type": "stream",
     "text": [
      "Reading in data... (['../simulation/out/LF/v2/scans_5dim/neutron-sim-D4-LF-102_0000.csv', '../simulation/out/LF/v2/scans_5dim/neutron-sim-D4-LF-102_0001.csv'])\n"
     ]
    },
    {
     "name": "stderr",
     "output_type": "stream",
     "text": [
      "100%|██████████| 2/2 [00:00<00:00,  8.38it/s]\n"
     ]
    },
    {
     "name": "stdout",
     "output_type": "stream",
     "text": [
      "Reading in data... (['../simulation/out/LF/v2/scans_5dim/neutron-sim-D4-LF-103_0000.csv', '../simulation/out/LF/v2/scans_5dim/neutron-sim-D4-LF-103_0001.csv'])\n"
     ]
    },
    {
     "name": "stderr",
     "output_type": "stream",
     "text": [
      "100%|██████████| 2/2 [00:00<00:00,  8.16it/s]\n"
     ]
    },
    {
     "name": "stdout",
     "output_type": "stream",
     "text": [
      "Reading in data... (['../simulation/out/LF/v2/scans_5dim/neutron-sim-D4-LF-104_0000.csv', '../simulation/out/LF/v2/scans_5dim/neutron-sim-D4-LF-104_0001.csv'])\n"
     ]
    },
    {
     "name": "stderr",
     "output_type": "stream",
     "text": [
      "100%|██████████| 2/2 [00:00<00:00,  7.89it/s]\n"
     ]
    },
    {
     "name": "stdout",
     "output_type": "stream",
     "text": [
      "Reading in data... (['../simulation/out/LF/v2/scans_5dim/neutron-sim-D4-LF-105_0000.csv', '../simulation/out/LF/v2/scans_5dim/neutron-sim-D4-LF-105_0001.csv'])\n"
     ]
    },
    {
     "name": "stderr",
     "output_type": "stream",
     "text": [
      "100%|██████████| 2/2 [00:00<00:00,  5.71it/s]\n"
     ]
    },
    {
     "name": "stdout",
     "output_type": "stream",
     "text": [
      "Reading in data... (['../simulation/out/LF/v2/scans_5dim/neutron-sim-D4-LF-106_0000.csv', '../simulation/out/LF/v2/scans_5dim/neutron-sim-D4-LF-106_0001.csv'])\n"
     ]
    },
    {
     "name": "stderr",
     "output_type": "stream",
     "text": [
      "100%|██████████| 2/2 [00:00<00:00,  7.30it/s]\n"
     ]
    },
    {
     "name": "stdout",
     "output_type": "stream",
     "text": [
      "Reading in data... (['../simulation/out/LF/v2/scans_5dim/neutron-sim-D4-LF-107_0000.csv', '../simulation/out/LF/v2/scans_5dim/neutron-sim-D4-LF-107_0001.csv'])\n"
     ]
    },
    {
     "name": "stderr",
     "output_type": "stream",
     "text": [
      "100%|██████████| 2/2 [00:00<00:00,  8.60it/s]\n"
     ]
    },
    {
     "name": "stdout",
     "output_type": "stream",
     "text": [
      "Reading in data... (['../simulation/out/LF/v2/scans_5dim/neutron-sim-D4-LF-108_0000.csv', '../simulation/out/LF/v2/scans_5dim/neutron-sim-D4-LF-108_0001.csv'])\n"
     ]
    },
    {
     "name": "stderr",
     "output_type": "stream",
     "text": [
      "100%|██████████| 2/2 [00:00<00:00,  7.58it/s]\n"
     ]
    },
    {
     "name": "stdout",
     "output_type": "stream",
     "text": [
      "Reading in data... (['../simulation/out/LF/v2/scans_5dim/neutron-sim-D4-LF-109_0000.csv', '../simulation/out/LF/v2/scans_5dim/neutron-sim-D4-LF-109_0001.csv'])\n"
     ]
    },
    {
     "name": "stderr",
     "output_type": "stream",
     "text": [
      "100%|██████████| 2/2 [00:00<00:00,  6.91it/s]\n"
     ]
    },
    {
     "name": "stdout",
     "output_type": "stream",
     "text": [
      "Reading in data... (['../simulation/out/LF/v2/scans_5dim/neutron-sim-D4-LF-110_0000.csv', '../simulation/out/LF/v2/scans_5dim/neutron-sim-D4-LF-110_0001.csv'])\n"
     ]
    },
    {
     "name": "stderr",
     "output_type": "stream",
     "text": [
      "100%|██████████| 2/2 [00:00<00:00,  7.97it/s]\n"
     ]
    },
    {
     "name": "stdout",
     "output_type": "stream",
     "text": [
      "Reading in data... (['../simulation/out/LF/v2/scans_5dim/neutron-sim-D4-LF-111_0000.csv', '../simulation/out/LF/v2/scans_5dim/neutron-sim-D4-LF-111_0001.csv'])\n"
     ]
    },
    {
     "name": "stderr",
     "output_type": "stream",
     "text": [
      "100%|██████████| 2/2 [00:00<00:00,  7.49it/s]\n"
     ]
    },
    {
     "name": "stdout",
     "output_type": "stream",
     "text": [
      "Reading in data... (['../simulation/out/LF/v2/scans_5dim/neutron-sim-D4-LF-112_0000.csv', '../simulation/out/LF/v2/scans_5dim/neutron-sim-D4-LF-112_0001.csv'])\n"
     ]
    },
    {
     "name": "stderr",
     "output_type": "stream",
     "text": [
      "100%|██████████| 2/2 [00:00<00:00,  5.79it/s]\n"
     ]
    },
    {
     "name": "stdout",
     "output_type": "stream",
     "text": [
      "Reading in data... (['../simulation/out/LF/v2/scans_5dim/neutron-sim-D4-LF-113_0000.csv', '../simulation/out/LF/v2/scans_5dim/neutron-sim-D4-LF-113_0001.csv'])\n"
     ]
    },
    {
     "name": "stderr",
     "output_type": "stream",
     "text": [
      "100%|██████████| 2/2 [00:00<00:00,  6.00it/s]\n"
     ]
    },
    {
     "name": "stdout",
     "output_type": "stream",
     "text": [
      "Reading in data... (['../simulation/out/LF/v2/scans_5dim/neutron-sim-D4-LF-114_0000.csv', '../simulation/out/LF/v2/scans_5dim/neutron-sim-D4-LF-114_0001.csv'])\n"
     ]
    },
    {
     "name": "stderr",
     "output_type": "stream",
     "text": [
      "100%|██████████| 2/2 [00:00<00:00,  6.65it/s]\n"
     ]
    },
    {
     "name": "stdout",
     "output_type": "stream",
     "text": [
      "Reading in data... (['../simulation/out/LF/v2/scans_5dim/neutron-sim-D4-LF-115_0000.csv', '../simulation/out/LF/v2/scans_5dim/neutron-sim-D4-LF-115_0001.csv'])\n"
     ]
    },
    {
     "name": "stderr",
     "output_type": "stream",
     "text": [
      "100%|██████████| 2/2 [00:00<00:00,  6.34it/s]\n"
     ]
    },
    {
     "name": "stdout",
     "output_type": "stream",
     "text": [
      "Reading in data... (['../simulation/out/LF/v2/scans_5dim/neutron-sim-D4-LF-116_0000.csv', '../simulation/out/LF/v2/scans_5dim/neutron-sim-D4-LF-116_0001.csv'])\n"
     ]
    },
    {
     "name": "stderr",
     "output_type": "stream",
     "text": [
      "100%|██████████| 2/2 [00:00<00:00,  8.92it/s]\n"
     ]
    },
    {
     "name": "stdout",
     "output_type": "stream",
     "text": [
      "Reading in data... (['../simulation/out/LF/v2/scans_5dim/neutron-sim-D4-LF-117_0000.csv', '../simulation/out/LF/v2/scans_5dim/neutron-sim-D4-LF-117_0001.csv'])\n"
     ]
    },
    {
     "name": "stderr",
     "output_type": "stream",
     "text": [
      "100%|██████████| 2/2 [00:00<00:00,  9.22it/s]\n"
     ]
    },
    {
     "name": "stdout",
     "output_type": "stream",
     "text": [
      "Reading in data... (['../simulation/out/LF/v2/scans_5dim/neutron-sim-D4-LF-118_0000.csv', '../simulation/out/LF/v2/scans_5dim/neutron-sim-D4-LF-118_0001.csv'])\n"
     ]
    },
    {
     "name": "stderr",
     "output_type": "stream",
     "text": [
      "100%|██████████| 2/2 [00:00<00:00,  5.76it/s]\n"
     ]
    },
    {
     "name": "stdout",
     "output_type": "stream",
     "text": [
      "Reading in data... (['../simulation/out/LF/v2/scans_5dim/neutron-sim-D4-LF-119_0000.csv', '../simulation/out/LF/v2/scans_5dim/neutron-sim-D4-LF-119_0001.csv'])\n"
     ]
    },
    {
     "name": "stderr",
     "output_type": "stream",
     "text": [
      "100%|██████████| 2/2 [00:00<00:00,  6.93it/s]\n"
     ]
    },
    {
     "name": "stdout",
     "output_type": "stream",
     "text": [
      "Reading in data... (['../simulation/out/LF/v2/scans_5dim/neutron-sim-D4-LF-120_0000.csv', '../simulation/out/LF/v2/scans_5dim/neutron-sim-D4-LF-120_0001.csv'])\n"
     ]
    },
    {
     "name": "stderr",
     "output_type": "stream",
     "text": [
      "100%|██████████| 2/2 [00:00<00:00,  9.79it/s]\n"
     ]
    },
    {
     "name": "stdout",
     "output_type": "stream",
     "text": [
      "Reading in data... (['../simulation/out/LF/v2/scans_5dim/neutron-sim-D4-LF-121_0000.csv', '../simulation/out/LF/v2/scans_5dim/neutron-sim-D4-LF-121_0001.csv'])\n"
     ]
    },
    {
     "name": "stderr",
     "output_type": "stream",
     "text": [
      "100%|██████████| 2/2 [00:00<00:00, 12.10it/s]\n"
     ]
    },
    {
     "name": "stdout",
     "output_type": "stream",
     "text": [
      "Reading in data... (['../simulation/out/LF/v2/scans_5dim/neutron-sim-D4-LF-122_0000.csv', '../simulation/out/LF/v2/scans_5dim/neutron-sim-D4-LF-122_0001.csv'])\n"
     ]
    },
    {
     "name": "stderr",
     "output_type": "stream",
     "text": [
      "100%|██████████| 2/2 [00:00<00:00, 13.95it/s]\n"
     ]
    },
    {
     "name": "stdout",
     "output_type": "stream",
     "text": [
      "Reading in data... (['../simulation/out/LF/v2/scans_5dim/neutron-sim-D4-LF-123_0000.csv', '../simulation/out/LF/v2/scans_5dim/neutron-sim-D4-LF-123_0001.csv'])\n"
     ]
    },
    {
     "name": "stderr",
     "output_type": "stream",
     "text": [
      "100%|██████████| 2/2 [00:00<00:00, 14.15it/s]\n"
     ]
    },
    {
     "name": "stdout",
     "output_type": "stream",
     "text": [
      "Reading in data... (['../simulation/out/LF/v2/scans_5dim/neutron-sim-D4-LF-124_0000.csv', '../simulation/out/LF/v2/scans_5dim/neutron-sim-D4-LF-124_0001.csv'])\n"
     ]
    },
    {
     "name": "stderr",
     "output_type": "stream",
     "text": [
      "100%|██████████| 2/2 [00:00<00:00, 13.57it/s]\n"
     ]
    },
    {
     "name": "stdout",
     "output_type": "stream",
     "text": [
      "Reading in data... (['../simulation/out/LF/v2/scans_5dim/neutron-sim-D4-LF-125_0000.csv', '../simulation/out/LF/v2/scans_5dim/neutron-sim-D4-LF-125_0001.csv'])\n"
     ]
    },
    {
     "name": "stderr",
     "output_type": "stream",
     "text": [
      "100%|██████████| 2/2 [00:00<00:00, 15.18it/s]\n"
     ]
    },
    {
     "name": "stdout",
     "output_type": "stream",
     "text": [
      "Reading in data... (['../simulation/out/LF/v2/scans_5dim/neutron-sim-D4-LF-126_0000.csv', '../simulation/out/LF/v2/scans_5dim/neutron-sim-D4-LF-126_0001.csv'])\n"
     ]
    },
    {
     "name": "stderr",
     "output_type": "stream",
     "text": [
      "100%|██████████| 2/2 [00:00<00:00,  7.22it/s]\n"
     ]
    },
    {
     "name": "stdout",
     "output_type": "stream",
     "text": [
      "Reading in data... (['../simulation/out/LF/v2/scans_5dim/neutron-sim-D4-LF-127_0000.csv', '../simulation/out/LF/v2/scans_5dim/neutron-sim-D4-LF-127_0001.csv'])\n"
     ]
    },
    {
     "name": "stderr",
     "output_type": "stream",
     "text": [
      "100%|██████████| 2/2 [00:00<00:00, 11.18it/s]\n"
     ]
    },
    {
     "name": "stdout",
     "output_type": "stream",
     "text": [
      "Reading in data... (['../simulation/out/LF/v2/scans_5dim/neutron-sim-D4-LF-128_0000.csv', '../simulation/out/LF/v2/scans_5dim/neutron-sim-D4-LF-128_0001.csv'])\n"
     ]
    },
    {
     "name": "stderr",
     "output_type": "stream",
     "text": [
      "100%|██████████| 2/2 [00:00<00:00, 12.40it/s]\n"
     ]
    },
    {
     "name": "stdout",
     "output_type": "stream",
     "text": [
      "Reading in data... (['../simulation/out/LF/v2/scans_5dim/neutron-sim-D4-LF-129_0000.csv', '../simulation/out/LF/v2/scans_5dim/neutron-sim-D4-LF-129_0001.csv'])\n"
     ]
    },
    {
     "name": "stderr",
     "output_type": "stream",
     "text": [
      "100%|██████████| 2/2 [00:00<00:00, 14.70it/s]\n"
     ]
    },
    {
     "name": "stdout",
     "output_type": "stream",
     "text": [
      "Reading in data... (['../simulation/out/LF/v2/scans_5dim/neutron-sim-D4-LF-130_0000.csv', '../simulation/out/LF/v2/scans_5dim/neutron-sim-D4-LF-130_0001.csv'])\n"
     ]
    },
    {
     "name": "stderr",
     "output_type": "stream",
     "text": [
      "100%|██████████| 2/2 [00:00<00:00, 14.32it/s]\n"
     ]
    },
    {
     "name": "stdout",
     "output_type": "stream",
     "text": [
      "Reading in data... (['../simulation/out/LF/v2/scans_5dim/neutron-sim-D4-LF-131_0000.csv', '../simulation/out/LF/v2/scans_5dim/neutron-sim-D4-LF-131_0001.csv'])\n"
     ]
    },
    {
     "name": "stderr",
     "output_type": "stream",
     "text": [
      "100%|██████████| 2/2 [00:00<00:00, 10.12it/s]\n"
     ]
    },
    {
     "name": "stdout",
     "output_type": "stream",
     "text": [
      "Reading in data... (['../simulation/out/LF/v2/scans_5dim/neutron-sim-D4-LF-132_0000.csv', '../simulation/out/LF/v2/scans_5dim/neutron-sim-D4-LF-132_0001.csv'])\n"
     ]
    },
    {
     "name": "stderr",
     "output_type": "stream",
     "text": [
      "100%|██████████| 2/2 [00:00<00:00,  7.79it/s]\n"
     ]
    },
    {
     "name": "stdout",
     "output_type": "stream",
     "text": [
      "Reading in data... (['../simulation/out/LF/v2/scans_5dim/neutron-sim-D4-LF-133_0000.csv', '../simulation/out/LF/v2/scans_5dim/neutron-sim-D4-LF-133_0001.csv'])\n"
     ]
    },
    {
     "name": "stderr",
     "output_type": "stream",
     "text": [
      "100%|██████████| 2/2 [00:00<00:00,  9.38it/s]\n"
     ]
    },
    {
     "name": "stdout",
     "output_type": "stream",
     "text": [
      "Reading in data... (['../simulation/out/LF/v2/scans_5dim/neutron-sim-D4-LF-134_0000.csv', '../simulation/out/LF/v2/scans_5dim/neutron-sim-D4-LF-134_0001.csv'])\n"
     ]
    },
    {
     "name": "stderr",
     "output_type": "stream",
     "text": [
      "100%|██████████| 2/2 [00:00<00:00,  9.84it/s]\n"
     ]
    },
    {
     "name": "stdout",
     "output_type": "stream",
     "text": [
      "Reading in data... (['../simulation/out/LF/v2/scans_5dim/neutron-sim-D4-LF-135_0000.csv', '../simulation/out/LF/v2/scans_5dim/neutron-sim-D4-LF-135_0001.csv'])\n"
     ]
    },
    {
     "name": "stderr",
     "output_type": "stream",
     "text": [
      "100%|██████████| 2/2 [00:00<00:00,  7.79it/s]\n"
     ]
    },
    {
     "name": "stdout",
     "output_type": "stream",
     "text": [
      "Reading in data... (['../simulation/out/LF/v2/scans_5dim/neutron-sim-D4-LF-136_0000.csv', '../simulation/out/LF/v2/scans_5dim/neutron-sim-D4-LF-136_0001.csv'])\n"
     ]
    },
    {
     "name": "stderr",
     "output_type": "stream",
     "text": [
      "100%|██████████| 2/2 [00:00<00:00,  6.51it/s]\n"
     ]
    },
    {
     "name": "stdout",
     "output_type": "stream",
     "text": [
      "Reading in data... (['../simulation/out/LF/v2/scans_5dim/neutron-sim-D4-LF-137_0000.csv', '../simulation/out/LF/v2/scans_5dim/neutron-sim-D4-LF-137_0001.csv'])\n"
     ]
    },
    {
     "name": "stderr",
     "output_type": "stream",
     "text": [
      "100%|██████████| 2/2 [00:00<00:00,  7.05it/s]\n"
     ]
    },
    {
     "name": "stdout",
     "output_type": "stream",
     "text": [
      "Reading in data... (['../simulation/out/LF/v2/scans_5dim/neutron-sim-D4-LF-138_0000.csv', '../simulation/out/LF/v2/scans_5dim/neutron-sim-D4-LF-138_0001.csv'])\n"
     ]
    },
    {
     "name": "stderr",
     "output_type": "stream",
     "text": [
      "100%|██████████| 2/2 [00:00<00:00,  8.26it/s]\n"
     ]
    },
    {
     "name": "stdout",
     "output_type": "stream",
     "text": [
      "Reading in data... (['../simulation/out/LF/v2/scans_5dim/neutron-sim-D4-LF-139_0000.csv', '../simulation/out/LF/v2/scans_5dim/neutron-sim-D4-LF-139_0001.csv'])\n"
     ]
    },
    {
     "name": "stderr",
     "output_type": "stream",
     "text": [
      "100%|██████████| 2/2 [00:00<00:00,  8.11it/s]\n"
     ]
    },
    {
     "name": "stdout",
     "output_type": "stream",
     "text": [
      "Reading in data... (['../simulation/out/LF/v2/scans_5dim/neutron-sim-D4-LF-140_0000.csv', '../simulation/out/LF/v2/scans_5dim/neutron-sim-D4-LF-140_0001.csv'])\n"
     ]
    },
    {
     "name": "stderr",
     "output_type": "stream",
     "text": [
      "100%|██████████| 2/2 [00:00<00:00,  7.98it/s]\n"
     ]
    },
    {
     "name": "stdout",
     "output_type": "stream",
     "text": [
      "Reading in data... (['../simulation/out/LF/v2/scans_5dim/neutron-sim-D4-LF-141_0000.csv', '../simulation/out/LF/v2/scans_5dim/neutron-sim-D4-LF-141_0001.csv'])\n"
     ]
    },
    {
     "name": "stderr",
     "output_type": "stream",
     "text": [
      "100%|██████████| 2/2 [00:00<00:00, 10.15it/s]\n"
     ]
    },
    {
     "name": "stdout",
     "output_type": "stream",
     "text": [
      "Reading in data... (['../simulation/out/LF/v2/scans_5dim/neutron-sim-D4-LF-142_0000.csv', '../simulation/out/LF/v2/scans_5dim/neutron-sim-D4-LF-142_0001.csv'])\n"
     ]
    },
    {
     "name": "stderr",
     "output_type": "stream",
     "text": [
      "100%|██████████| 2/2 [00:00<00:00,  9.63it/s]\n"
     ]
    },
    {
     "name": "stdout",
     "output_type": "stream",
     "text": [
      "Reading in data... (['../simulation/out/LF/v2/scans_5dim/neutron-sim-D4-LF-143_0000.csv', '../simulation/out/LF/v2/scans_5dim/neutron-sim-D4-LF-143_0001.csv'])\n"
     ]
    },
    {
     "name": "stderr",
     "output_type": "stream",
     "text": [
      "100%|██████████| 2/2 [00:00<00:00,  8.75it/s]\n"
     ]
    },
    {
     "name": "stdout",
     "output_type": "stream",
     "text": [
      "Reading in data... (['../simulation/out/LF/v2/scans_5dim/neutron-sim-D4-LF-144_0000.csv', '../simulation/out/LF/v2/scans_5dim/neutron-sim-D4-LF-144_0001.csv'])\n"
     ]
    },
    {
     "name": "stderr",
     "output_type": "stream",
     "text": [
      "100%|██████████| 2/2 [00:00<00:00,  7.71it/s]\n"
     ]
    },
    {
     "name": "stdout",
     "output_type": "stream",
     "text": [
      "Reading in data... (['../simulation/out/LF/v2/scans_5dim/neutron-sim-D4-LF-145_0000.csv', '../simulation/out/LF/v2/scans_5dim/neutron-sim-D4-LF-145_0001.csv'])\n"
     ]
    },
    {
     "name": "stderr",
     "output_type": "stream",
     "text": [
      "100%|██████████| 2/2 [00:00<00:00, 10.22it/s]\n"
     ]
    },
    {
     "name": "stdout",
     "output_type": "stream",
     "text": [
      "Reading in data... (['../simulation/out/LF/v2/scans_5dim/neutron-sim-D4-LF-146_0000.csv', '../simulation/out/LF/v2/scans_5dim/neutron-sim-D4-LF-146_0001.csv'])\n"
     ]
    },
    {
     "name": "stderr",
     "output_type": "stream",
     "text": [
      "100%|██████████| 2/2 [00:00<00:00, 14.42it/s]\n"
     ]
    },
    {
     "name": "stdout",
     "output_type": "stream",
     "text": [
      "Reading in data... (['../simulation/out/LF/v2/scans_5dim/neutron-sim-D4-LF-147_0000.csv', '../simulation/out/LF/v2/scans_5dim/neutron-sim-D4-LF-147_0001.csv'])\n"
     ]
    },
    {
     "name": "stderr",
     "output_type": "stream",
     "text": [
      "100%|██████████| 2/2 [00:00<00:00, 13.95it/s]\n"
     ]
    },
    {
     "name": "stdout",
     "output_type": "stream",
     "text": [
      "Reading in data... (['../simulation/out/LF/v2/scans_5dim/neutron-sim-D4-LF-148_0000.csv', '../simulation/out/LF/v2/scans_5dim/neutron-sim-D4-LF-148_0001.csv'])\n"
     ]
    },
    {
     "name": "stderr",
     "output_type": "stream",
     "text": [
      "100%|██████████| 2/2 [00:00<00:00, 13.69it/s]\n"
     ]
    },
    {
     "name": "stdout",
     "output_type": "stream",
     "text": [
      "Reading in data... (['../simulation/out/LF/v2/scans_5dim/neutron-sim-D4-LF-149_0000.csv', '../simulation/out/LF/v2/scans_5dim/neutron-sim-D4-LF-149_0001.csv'])\n"
     ]
    },
    {
     "name": "stderr",
     "output_type": "stream",
     "text": [
      "100%|██████████| 2/2 [00:00<00:00, 13.03it/s]\n"
     ]
    },
    {
     "name": "stdout",
     "output_type": "stream",
     "text": [
      "Reading in data... (['../simulation/out/LF/v2/scans_5dim/neutron-sim-D4-LF-150_0000.csv', '../simulation/out/LF/v2/scans_5dim/neutron-sim-D4-LF-150_0001.csv'])\n"
     ]
    },
    {
     "name": "stderr",
     "output_type": "stream",
     "text": [
      "100%|██████████| 2/2 [00:00<00:00, 13.72it/s]\n"
     ]
    },
    {
     "name": "stdout",
     "output_type": "stream",
     "text": [
      "Reading in data... (['../simulation/out/LF/v2/scans_5dim/neutron-sim-D4-LF-151_0000.csv', '../simulation/out/LF/v2/scans_5dim/neutron-sim-D4-LF-151_0001.csv'])\n"
     ]
    },
    {
     "name": "stderr",
     "output_type": "stream",
     "text": [
      "100%|██████████| 2/2 [00:00<00:00, 15.00it/s]\n"
     ]
    },
    {
     "name": "stdout",
     "output_type": "stream",
     "text": [
      "Reading in data... (['../simulation/out/LF/v2/scans_5dim/neutron-sim-D4-LF-152_0000.csv', '../simulation/out/LF/v2/scans_5dim/neutron-sim-D4-LF-152_0001.csv'])\n"
     ]
    },
    {
     "name": "stderr",
     "output_type": "stream",
     "text": [
      "100%|██████████| 2/2 [00:00<00:00, 10.46it/s]\n"
     ]
    },
    {
     "name": "stdout",
     "output_type": "stream",
     "text": [
      "Reading in data... (['../simulation/out/LF/v2/scans_5dim/neutron-sim-D4-LF-153_0000.csv', '../simulation/out/LF/v2/scans_5dim/neutron-sim-D4-LF-153_0001.csv'])\n"
     ]
    },
    {
     "name": "stderr",
     "output_type": "stream",
     "text": [
      "100%|██████████| 2/2 [00:00<00:00, 13.26it/s]\n"
     ]
    },
    {
     "name": "stdout",
     "output_type": "stream",
     "text": [
      "Reading in data... (['../simulation/out/LF/v2/scans_5dim/neutron-sim-D4-LF-154_0000.csv', '../simulation/out/LF/v2/scans_5dim/neutron-sim-D4-LF-154_0001.csv'])\n"
     ]
    },
    {
     "name": "stderr",
     "output_type": "stream",
     "text": [
      "100%|██████████| 2/2 [00:00<00:00, 13.42it/s]\n"
     ]
    },
    {
     "name": "stdout",
     "output_type": "stream",
     "text": [
      "Reading in data... (['../simulation/out/LF/v2/scans_5dim/neutron-sim-D4-LF-155_0000.csv', '../simulation/out/LF/v2/scans_5dim/neutron-sim-D4-LF-155_0001.csv'])\n"
     ]
    },
    {
     "name": "stderr",
     "output_type": "stream",
     "text": [
      "100%|██████████| 2/2 [00:00<00:00, 15.07it/s]\n"
     ]
    },
    {
     "name": "stdout",
     "output_type": "stream",
     "text": [
      "Reading in data... (['../simulation/out/LF/v2/scans_5dim/neutron-sim-D4-LF-156_0000.csv', '../simulation/out/LF/v2/scans_5dim/neutron-sim-D4-LF-156_0001.csv'])\n"
     ]
    },
    {
     "name": "stderr",
     "output_type": "stream",
     "text": [
      "100%|██████████| 2/2 [00:00<00:00, 14.45it/s]\n"
     ]
    },
    {
     "name": "stdout",
     "output_type": "stream",
     "text": [
      "Reading in data... (['../simulation/out/LF/v2/scans_5dim/neutron-sim-D4-LF-157_0000.csv', '../simulation/out/LF/v2/scans_5dim/neutron-sim-D4-LF-157_0001.csv'])\n"
     ]
    },
    {
     "name": "stderr",
     "output_type": "stream",
     "text": [
      "100%|██████████| 2/2 [00:00<00:00, 12.33it/s]\n"
     ]
    },
    {
     "name": "stdout",
     "output_type": "stream",
     "text": [
      "Reading in data... (['../simulation/out/LF/v2/scans_5dim/neutron-sim-D4-LF-158_0000.csv', '../simulation/out/LF/v2/scans_5dim/neutron-sim-D4-LF-158_0001.csv'])\n"
     ]
    },
    {
     "name": "stderr",
     "output_type": "stream",
     "text": [
      "100%|██████████| 2/2 [00:00<00:00, 14.33it/s]\n"
     ]
    },
    {
     "name": "stdout",
     "output_type": "stream",
     "text": [
      "Reading in data... (['../simulation/out/LF/v2/scans_5dim/neutron-sim-D4-LF-159_0000.csv', '../simulation/out/LF/v2/scans_5dim/neutron-sim-D4-LF-159_0001.csv'])\n"
     ]
    },
    {
     "name": "stderr",
     "output_type": "stream",
     "text": [
      "100%|██████████| 2/2 [00:00<00:00, 14.20it/s]\n"
     ]
    },
    {
     "name": "stdout",
     "output_type": "stream",
     "text": [
      "Reading in data... (['../simulation/out/LF/v2/scans_5dim/neutron-sim-D4-LF-160_0000.csv', '../simulation/out/LF/v2/scans_5dim/neutron-sim-D4-LF-160_0001.csv'])\n"
     ]
    },
    {
     "name": "stderr",
     "output_type": "stream",
     "text": [
      "100%|██████████| 2/2 [00:00<00:00, 15.01it/s]\n"
     ]
    },
    {
     "name": "stdout",
     "output_type": "stream",
     "text": [
      "Reading in data... (['../simulation/out/LF/v2/scans_5dim/neutron-sim-D4-LF-161_0000.csv', '../simulation/out/LF/v2/scans_5dim/neutron-sim-D4-LF-161_0001.csv'])\n"
     ]
    },
    {
     "name": "stderr",
     "output_type": "stream",
     "text": [
      "100%|██████████| 2/2 [00:00<00:00, 11.04it/s]\n"
     ]
    },
    {
     "name": "stdout",
     "output_type": "stream",
     "text": [
      "Reading in data... (['../simulation/out/LF/v2/scans_5dim/neutron-sim-D4-LF-162_0000.csv', '../simulation/out/LF/v2/scans_5dim/neutron-sim-D4-LF-162_0001.csv'])\n"
     ]
    },
    {
     "name": "stderr",
     "output_type": "stream",
     "text": [
      "100%|██████████| 2/2 [00:00<00:00, 13.21it/s]\n"
     ]
    },
    {
     "name": "stdout",
     "output_type": "stream",
     "text": [
      "Reading in data... (['../simulation/out/LF/v2/scans_5dim/neutron-sim-D4-LF-163_0000.csv', '../simulation/out/LF/v2/scans_5dim/neutron-sim-D4-LF-163_0001.csv'])\n"
     ]
    },
    {
     "name": "stderr",
     "output_type": "stream",
     "text": [
      "100%|██████████| 2/2 [00:00<00:00, 13.85it/s]\n"
     ]
    },
    {
     "name": "stdout",
     "output_type": "stream",
     "text": [
      "Reading in data... (['../simulation/out/LF/v2/scans_5dim/neutron-sim-D4-LF-164_0000.csv', '../simulation/out/LF/v2/scans_5dim/neutron-sim-D4-LF-164_0001.csv'])\n"
     ]
    },
    {
     "name": "stderr",
     "output_type": "stream",
     "text": [
      "100%|██████████| 2/2 [00:00<00:00, 15.32it/s]\n"
     ]
    },
    {
     "name": "stdout",
     "output_type": "stream",
     "text": [
      "Reading in data... (['../simulation/out/LF/v2/scans_5dim/neutron-sim-D4-LF-165_0000.csv', '../simulation/out/LF/v2/scans_5dim/neutron-sim-D4-LF-165_0001.csv'])\n"
     ]
    },
    {
     "name": "stderr",
     "output_type": "stream",
     "text": [
      "100%|██████████| 2/2 [00:00<00:00, 14.87it/s]\n"
     ]
    },
    {
     "name": "stdout",
     "output_type": "stream",
     "text": [
      "Reading in data... (['../simulation/out/LF/v2/scans_5dim/neutron-sim-D4-LF-166_0000.csv', '../simulation/out/LF/v2/scans_5dim/neutron-sim-D4-LF-166_0001.csv'])\n"
     ]
    },
    {
     "name": "stderr",
     "output_type": "stream",
     "text": [
      "100%|██████████| 2/2 [00:00<00:00, 10.59it/s]\n"
     ]
    },
    {
     "name": "stdout",
     "output_type": "stream",
     "text": [
      "Reading in data... (['../simulation/out/LF/v2/scans_5dim/neutron-sim-D4-LF-167_0000.csv', '../simulation/out/LF/v2/scans_5dim/neutron-sim-D4-LF-167_0001.csv'])\n"
     ]
    },
    {
     "name": "stderr",
     "output_type": "stream",
     "text": [
      "100%|██████████| 2/2 [00:00<00:00,  8.98it/s]\n"
     ]
    },
    {
     "name": "stdout",
     "output_type": "stream",
     "text": [
      "Reading in data... (['../simulation/out/LF/v2/scans_5dim/neutron-sim-D4-LF-168_0000.csv', '../simulation/out/LF/v2/scans_5dim/neutron-sim-D4-LF-168_0001.csv'])\n"
     ]
    },
    {
     "name": "stderr",
     "output_type": "stream",
     "text": [
      "100%|██████████| 2/2 [00:00<00:00,  7.45it/s]\n"
     ]
    },
    {
     "name": "stdout",
     "output_type": "stream",
     "text": [
      "Reading in data... (['../simulation/out/LF/v2/scans_5dim/neutron-sim-D4-LF-169_0000.csv', '../simulation/out/LF/v2/scans_5dim/neutron-sim-D4-LF-169_0001.csv'])\n"
     ]
    },
    {
     "name": "stderr",
     "output_type": "stream",
     "text": [
      "100%|██████████| 2/2 [00:00<00:00,  8.85it/s]\n"
     ]
    },
    {
     "name": "stdout",
     "output_type": "stream",
     "text": [
      "Reading in data... (['../simulation/out/LF/v2/scans_5dim/neutron-sim-D4-LF-170_0000.csv', '../simulation/out/LF/v2/scans_5dim/neutron-sim-D4-LF-170_0001.csv'])\n"
     ]
    },
    {
     "name": "stderr",
     "output_type": "stream",
     "text": [
      "100%|██████████| 2/2 [00:00<00:00, 11.12it/s]\n"
     ]
    },
    {
     "name": "stdout",
     "output_type": "stream",
     "text": [
      "Reading in data... (['../simulation/out/LF/v2/scans_5dim/neutron-sim-D4-LF-171_0000.csv', '../simulation/out/LF/v2/scans_5dim/neutron-sim-D4-LF-171_0001.csv'])\n"
     ]
    },
    {
     "name": "stderr",
     "output_type": "stream",
     "text": [
      "100%|██████████| 2/2 [00:00<00:00, 10.12it/s]\n"
     ]
    },
    {
     "name": "stdout",
     "output_type": "stream",
     "text": [
      "Reading in data... (['../simulation/out/LF/v2/scans_5dim/neutron-sim-D4-LF-172_0000.csv', '../simulation/out/LF/v2/scans_5dim/neutron-sim-D4-LF-172_0001.csv'])\n"
     ]
    },
    {
     "name": "stderr",
     "output_type": "stream",
     "text": [
      "100%|██████████| 2/2 [00:00<00:00, 11.20it/s]\n"
     ]
    },
    {
     "name": "stdout",
     "output_type": "stream",
     "text": [
      "Reading in data... (['../simulation/out/LF/v2/scans_5dim/neutron-sim-D4-LF-173_0000.csv', '../simulation/out/LF/v2/scans_5dim/neutron-sim-D4-LF-173_0001.csv'])\n"
     ]
    },
    {
     "name": "stderr",
     "output_type": "stream",
     "text": [
      "100%|██████████| 2/2 [00:00<00:00, 10.60it/s]\n"
     ]
    },
    {
     "name": "stdout",
     "output_type": "stream",
     "text": [
      "Reading in data... (['../simulation/out/LF/v2/scans_5dim/neutron-sim-D4-LF-174_0000.csv', '../simulation/out/LF/v2/scans_5dim/neutron-sim-D4-LF-174_0001.csv'])\n"
     ]
    },
    {
     "name": "stderr",
     "output_type": "stream",
     "text": [
      "100%|██████████| 2/2 [00:00<00:00,  9.36it/s]\n"
     ]
    },
    {
     "name": "stdout",
     "output_type": "stream",
     "text": [
      "Reading in data... (['../simulation/out/LF/v2/scans_5dim/neutron-sim-D4-LF-175_0000.csv', '../simulation/out/LF/v2/scans_5dim/neutron-sim-D4-LF-175_0001.csv'])\n"
     ]
    },
    {
     "name": "stderr",
     "output_type": "stream",
     "text": [
      "100%|██████████| 2/2 [00:00<00:00, 10.42it/s]\n"
     ]
    },
    {
     "name": "stdout",
     "output_type": "stream",
     "text": [
      "Reading in data... (['../simulation/out/LF/v2/scans_5dim/neutron-sim-D4-LF-176_0000.csv', '../simulation/out/LF/v2/scans_5dim/neutron-sim-D4-LF-176_0001.csv'])\n"
     ]
    },
    {
     "name": "stderr",
     "output_type": "stream",
     "text": [
      "100%|██████████| 2/2 [00:00<00:00, 10.89it/s]\n"
     ]
    },
    {
     "name": "stdout",
     "output_type": "stream",
     "text": [
      "Reading in data... (['../simulation/out/LF/v2/scans_5dim/neutron-sim-D4-LF-177_0000.csv', '../simulation/out/LF/v2/scans_5dim/neutron-sim-D4-LF-177_0001.csv'])\n"
     ]
    },
    {
     "name": "stderr",
     "output_type": "stream",
     "text": [
      "100%|██████████| 2/2 [00:00<00:00, 10.72it/s]\n"
     ]
    },
    {
     "name": "stdout",
     "output_type": "stream",
     "text": [
      "Reading in data... (['../simulation/out/LF/v2/scans_5dim/neutron-sim-D4-LF-178_0000.csv', '../simulation/out/LF/v2/scans_5dim/neutron-sim-D4-LF-178_0001.csv'])\n"
     ]
    },
    {
     "name": "stderr",
     "output_type": "stream",
     "text": [
      "100%|██████████| 2/2 [00:00<00:00, 11.44it/s]\n"
     ]
    },
    {
     "name": "stdout",
     "output_type": "stream",
     "text": [
      "Reading in data... (['../simulation/out/LF/v2/scans_5dim/neutron-sim-D4-LF-179_0000.csv', '../simulation/out/LF/v2/scans_5dim/neutron-sim-D4-LF-179_0001.csv'])\n"
     ]
    },
    {
     "name": "stderr",
     "output_type": "stream",
     "text": [
      "100%|██████████| 2/2 [00:00<00:00,  8.95it/s]\n"
     ]
    },
    {
     "name": "stdout",
     "output_type": "stream",
     "text": [
      "Reading in data... (['../simulation/out/LF/v2/scans_5dim/neutron-sim-D4-LF-180_0000.csv', '../simulation/out/LF/v2/scans_5dim/neutron-sim-D4-LF-180_0001.csv'])\n"
     ]
    },
    {
     "name": "stderr",
     "output_type": "stream",
     "text": [
      "100%|██████████| 2/2 [00:00<00:00,  6.23it/s]\n"
     ]
    },
    {
     "name": "stdout",
     "output_type": "stream",
     "text": [
      "Reading in data... (['../simulation/out/LF/v2/scans_5dim/neutron-sim-D4-LF-181_0000.csv', '../simulation/out/LF/v2/scans_5dim/neutron-sim-D4-LF-181_0001.csv'])\n"
     ]
    },
    {
     "name": "stderr",
     "output_type": "stream",
     "text": [
      "100%|██████████| 2/2 [00:00<00:00,  7.31it/s]\n"
     ]
    },
    {
     "name": "stdout",
     "output_type": "stream",
     "text": [
      "Reading in data... (['../simulation/out/LF/v2/scans_5dim/neutron-sim-D4-LF-182_0000.csv', '../simulation/out/LF/v2/scans_5dim/neutron-sim-D4-LF-182_0001.csv'])\n"
     ]
    },
    {
     "name": "stderr",
     "output_type": "stream",
     "text": [
      "100%|██████████| 2/2 [00:00<00:00,  6.91it/s]\n"
     ]
    },
    {
     "name": "stdout",
     "output_type": "stream",
     "text": [
      "Reading in data... (['../simulation/out/LF/v2/scans_5dim/neutron-sim-D4-LF-183_0000.csv', '../simulation/out/LF/v2/scans_5dim/neutron-sim-D4-LF-183_0001.csv'])\n"
     ]
    },
    {
     "name": "stderr",
     "output_type": "stream",
     "text": [
      "100%|██████████| 2/2 [00:00<00:00,  8.17it/s]\n"
     ]
    },
    {
     "name": "stdout",
     "output_type": "stream",
     "text": [
      "Reading in data... (['../simulation/out/LF/v2/scans_5dim/neutron-sim-D4-LF-184_0000.csv', '../simulation/out/LF/v2/scans_5dim/neutron-sim-D4-LF-184_0001.csv'])\n"
     ]
    },
    {
     "name": "stderr",
     "output_type": "stream",
     "text": [
      "100%|██████████| 2/2 [00:00<00:00,  5.64it/s]\n"
     ]
    },
    {
     "name": "stdout",
     "output_type": "stream",
     "text": [
      "Reading in data... (['../simulation/out/LF/v2/scans_5dim/neutron-sim-D4-LF-185_0000.csv', '../simulation/out/LF/v2/scans_5dim/neutron-sim-D4-LF-185_0001.csv'])\n"
     ]
    },
    {
     "name": "stderr",
     "output_type": "stream",
     "text": [
      "100%|██████████| 2/2 [00:00<00:00,  7.67it/s]\n"
     ]
    },
    {
     "name": "stdout",
     "output_type": "stream",
     "text": [
      "Reading in data... (['../simulation/out/LF/v2/scans_5dim/neutron-sim-D4-LF-186_0000.csv', '../simulation/out/LF/v2/scans_5dim/neutron-sim-D4-LF-186_0001.csv'])\n"
     ]
    },
    {
     "name": "stderr",
     "output_type": "stream",
     "text": [
      "100%|██████████| 2/2 [00:00<00:00,  8.70it/s]\n"
     ]
    },
    {
     "name": "stdout",
     "output_type": "stream",
     "text": [
      "Reading in data... (['../simulation/out/LF/v2/scans_5dim/neutron-sim-D4-LF-187_0000.csv', '../simulation/out/LF/v2/scans_5dim/neutron-sim-D4-LF-187_0001.csv'])\n"
     ]
    },
    {
     "name": "stderr",
     "output_type": "stream",
     "text": [
      "100%|██████████| 2/2 [00:00<00:00,  8.57it/s]\n"
     ]
    },
    {
     "name": "stdout",
     "output_type": "stream",
     "text": [
      "Reading in data... (['../simulation/out/LF/v2/scans_5dim/neutron-sim-D4-LF-188_0000.csv', '../simulation/out/LF/v2/scans_5dim/neutron-sim-D4-LF-188_0001.csv'])\n"
     ]
    },
    {
     "name": "stderr",
     "output_type": "stream",
     "text": [
      "100%|██████████| 2/2 [00:00<00:00,  8.95it/s]\n"
     ]
    },
    {
     "name": "stdout",
     "output_type": "stream",
     "text": [
      "Reading in data... (['../simulation/out/LF/v2/scans_5dim/neutron-sim-D4-LF-189_0000.csv', '../simulation/out/LF/v2/scans_5dim/neutron-sim-D4-LF-189_0001.csv'])\n"
     ]
    },
    {
     "name": "stderr",
     "output_type": "stream",
     "text": [
      "100%|██████████| 2/2 [00:00<00:00,  8.57it/s]\n"
     ]
    },
    {
     "name": "stdout",
     "output_type": "stream",
     "text": [
      "Reading in data... (['../simulation/out/LF/v2/scans_5dim/neutron-sim-D4-LF-190_0000.csv', '../simulation/out/LF/v2/scans_5dim/neutron-sim-D4-LF-190_0001.csv'])\n"
     ]
    },
    {
     "name": "stderr",
     "output_type": "stream",
     "text": [
      "100%|██████████| 2/2 [00:00<00:00,  9.32it/s]\n"
     ]
    },
    {
     "name": "stdout",
     "output_type": "stream",
     "text": [
      "Reading in data... (['../simulation/out/LF/v2/scans_5dim/neutron-sim-D4-LF-191_0000.csv', '../simulation/out/LF/v2/scans_5dim/neutron-sim-D4-LF-191_0001.csv'])\n"
     ]
    },
    {
     "name": "stderr",
     "output_type": "stream",
     "text": [
      "100%|██████████| 2/2 [00:00<00:00,  7.06it/s]\n"
     ]
    },
    {
     "name": "stdout",
     "output_type": "stream",
     "text": [
      "Reading in data... (['../simulation/out/LF/v2/scans_5dim/neutron-sim-D4-LF-192_0000.csv', '../simulation/out/LF/v2/scans_5dim/neutron-sim-D4-LF-192_0001.csv'])\n"
     ]
    },
    {
     "name": "stderr",
     "output_type": "stream",
     "text": [
      "100%|██████████| 2/2 [00:00<00:00,  7.00it/s]\n"
     ]
    },
    {
     "name": "stdout",
     "output_type": "stream",
     "text": [
      "Reading in data... (['../simulation/out/LF/v2/scans_5dim/neutron-sim-D4-LF-193_0000.csv', '../simulation/out/LF/v2/scans_5dim/neutron-sim-D4-LF-193_0001.csv'])\n"
     ]
    },
    {
     "name": "stderr",
     "output_type": "stream",
     "text": [
      "100%|██████████| 2/2 [00:00<00:00,  6.84it/s]\n"
     ]
    },
    {
     "name": "stdout",
     "output_type": "stream",
     "text": [
      "Reading in data... (['../simulation/out/LF/v2/scans_5dim/neutron-sim-D4-LF-194_0000.csv', '../simulation/out/LF/v2/scans_5dim/neutron-sim-D4-LF-194_0001.csv'])\n"
     ]
    },
    {
     "name": "stderr",
     "output_type": "stream",
     "text": [
      "100%|██████████| 2/2 [00:00<00:00, 10.64it/s]\n"
     ]
    },
    {
     "name": "stdout",
     "output_type": "stream",
     "text": [
      "Reading in data... (['../simulation/out/LF/v2/scans_5dim/neutron-sim-D4-LF-195_0000.csv', '../simulation/out/LF/v2/scans_5dim/neutron-sim-D4-LF-195_0001.csv'])\n"
     ]
    },
    {
     "name": "stderr",
     "output_type": "stream",
     "text": [
      "100%|██████████| 2/2 [00:00<00:00, 10.16it/s]\n"
     ]
    },
    {
     "name": "stdout",
     "output_type": "stream",
     "text": [
      "Reading in data... (['../simulation/out/LF/v2/scans_5dim/neutron-sim-D4-LF-196_0000.csv', '../simulation/out/LF/v2/scans_5dim/neutron-sim-D4-LF-196_0001.csv'])\n"
     ]
    },
    {
     "name": "stderr",
     "output_type": "stream",
     "text": [
      "100%|██████████| 2/2 [00:00<00:00, 11.20it/s]\n"
     ]
    },
    {
     "name": "stdout",
     "output_type": "stream",
     "text": [
      "Reading in data... (['../simulation/out/LF/v2/scans_5dim/neutron-sim-D4-LF-197_0000.csv', '../simulation/out/LF/v2/scans_5dim/neutron-sim-D4-LF-197_0001.csv'])\n"
     ]
    },
    {
     "name": "stderr",
     "output_type": "stream",
     "text": [
      "100%|██████████| 2/2 [00:00<00:00,  9.28it/s]\n"
     ]
    },
    {
     "name": "stdout",
     "output_type": "stream",
     "text": [
      "Reading in data... (['../simulation/out/LF/v2/scans_5dim/neutron-sim-D4-LF-198_0000.csv', '../simulation/out/LF/v2/scans_5dim/neutron-sim-D4-LF-198_0001.csv'])\n"
     ]
    },
    {
     "name": "stderr",
     "output_type": "stream",
     "text": [
      "100%|██████████| 2/2 [00:00<00:00,  9.39it/s]\n"
     ]
    },
    {
     "name": "stdout",
     "output_type": "stream",
     "text": [
      "Reading in data... (['../simulation/out/LF/v2/scans_5dim/neutron-sim-D4-LF-199_0000.csv', '../simulation/out/LF/v2/scans_5dim/neutron-sim-D4-LF-199_0001.csv'])\n"
     ]
    },
    {
     "name": "stderr",
     "output_type": "stream",
     "text": [
      "100%|██████████| 2/2 [00:00<00:00,  7.13it/s]\n"
     ]
    },
    {
     "name": "stdout",
     "output_type": "stream",
     "text": [
      "Reading in data... (['../simulation/out/LF/v2/scans_5dim/neutron-sim-D4-LF-200_0000.csv', '../simulation/out/LF/v2/scans_5dim/neutron-sim-D4-LF-200_0001.csv'])\n"
     ]
    },
    {
     "name": "stderr",
     "output_type": "stream",
     "text": [
      "100%|██████████| 2/2 [00:00<00:00,  8.93it/s]\n"
     ]
    },
    {
     "name": "stdout",
     "output_type": "stream",
     "text": [
      "Reading in data... (['../simulation/out/LF/v2/scans_5dim/neutron-sim-D4-LF-201_0000.csv', '../simulation/out/LF/v2/scans_5dim/neutron-sim-D4-LF-201_0001.csv'])\n"
     ]
    },
    {
     "name": "stderr",
     "output_type": "stream",
     "text": [
      "100%|██████████| 2/2 [00:00<00:00,  9.78it/s]\n"
     ]
    },
    {
     "name": "stdout",
     "output_type": "stream",
     "text": [
      "Reading in data... (['../simulation/out/LF/v2/scans_5dim/neutron-sim-D4-LF-202_0000.csv', '../simulation/out/LF/v2/scans_5dim/neutron-sim-D4-LF-202_0001.csv'])\n"
     ]
    },
    {
     "name": "stderr",
     "output_type": "stream",
     "text": [
      "100%|██████████| 2/2 [00:00<00:00,  7.75it/s]\n"
     ]
    },
    {
     "name": "stdout",
     "output_type": "stream",
     "text": [
      "Reading in data... (['../simulation/out/LF/v2/scans_5dim/neutron-sim-D4-LF-203_0000.csv', '../simulation/out/LF/v2/scans_5dim/neutron-sim-D4-LF-203_0001.csv'])\n"
     ]
    },
    {
     "name": "stderr",
     "output_type": "stream",
     "text": [
      "100%|██████████| 2/2 [00:00<00:00,  9.87it/s]\n"
     ]
    },
    {
     "name": "stdout",
     "output_type": "stream",
     "text": [
      "Reading in data... (['../simulation/out/LF/v2/scans_5dim/neutron-sim-D4-LF-204_0000.csv', '../simulation/out/LF/v2/scans_5dim/neutron-sim-D4-LF-204_0001.csv'])\n"
     ]
    },
    {
     "name": "stderr",
     "output_type": "stream",
     "text": [
      "100%|██████████| 2/2 [00:00<00:00,  6.59it/s]\n"
     ]
    },
    {
     "name": "stdout",
     "output_type": "stream",
     "text": [
      "Reading in data... (['../simulation/out/LF/v2/scans_5dim/neutron-sim-D4-LF-205_0000.csv', '../simulation/out/LF/v2/scans_5dim/neutron-sim-D4-LF-205_0001.csv'])\n"
     ]
    },
    {
     "name": "stderr",
     "output_type": "stream",
     "text": [
      "100%|██████████| 2/2 [00:00<00:00,  8.45it/s]\n"
     ]
    },
    {
     "name": "stdout",
     "output_type": "stream",
     "text": [
      "Reading in data... (['../simulation/out/LF/v2/scans_5dim/neutron-sim-D4-LF-206_0000.csv', '../simulation/out/LF/v2/scans_5dim/neutron-sim-D4-LF-206_0001.csv'])\n"
     ]
    },
    {
     "name": "stderr",
     "output_type": "stream",
     "text": [
      "100%|██████████| 2/2 [00:00<00:00, 10.18it/s]\n"
     ]
    },
    {
     "name": "stdout",
     "output_type": "stream",
     "text": [
      "Reading in data... (['../simulation/out/LF/v2/scans_5dim/neutron-sim-D4-LF-207_0000.csv', '../simulation/out/LF/v2/scans_5dim/neutron-sim-D4-LF-207_0001.csv'])\n"
     ]
    },
    {
     "name": "stderr",
     "output_type": "stream",
     "text": [
      "100%|██████████| 2/2 [00:00<00:00,  8.33it/s]\n"
     ]
    },
    {
     "name": "stdout",
     "output_type": "stream",
     "text": [
      "Reading in data... (['../simulation/out/LF/v2/scans_5dim/neutron-sim-D4-LF-208_0000.csv', '../simulation/out/LF/v2/scans_5dim/neutron-sim-D4-LF-208_0001.csv'])\n"
     ]
    },
    {
     "name": "stderr",
     "output_type": "stream",
     "text": [
      "100%|██████████| 2/2 [00:00<00:00,  8.47it/s]\n"
     ]
    },
    {
     "name": "stdout",
     "output_type": "stream",
     "text": [
      "Reading in data... (['../simulation/out/LF/v2/scans_5dim/neutron-sim-D4-LF-209_0000.csv', '../simulation/out/LF/v2/scans_5dim/neutron-sim-D4-LF-209_0001.csv'])\n"
     ]
    },
    {
     "name": "stderr",
     "output_type": "stream",
     "text": [
      "100%|██████████| 2/2 [00:00<00:00,  8.17it/s]\n"
     ]
    },
    {
     "name": "stdout",
     "output_type": "stream",
     "text": [
      "Reading in data... (['../simulation/out/LF/v2/scans_5dim/neutron-sim-D4-LF-210_0000.csv', '../simulation/out/LF/v2/scans_5dim/neutron-sim-D4-LF-210_0001.csv'])\n"
     ]
    },
    {
     "name": "stderr",
     "output_type": "stream",
     "text": [
      "100%|██████████| 2/2 [00:00<00:00,  6.95it/s]\n"
     ]
    },
    {
     "name": "stdout",
     "output_type": "stream",
     "text": [
      "Reading in data... (['../simulation/out/LF/v2/scans_5dim/neutron-sim-D4-LF-211_0000.csv', '../simulation/out/LF/v2/scans_5dim/neutron-sim-D4-LF-211_0001.csv'])\n"
     ]
    },
    {
     "name": "stderr",
     "output_type": "stream",
     "text": [
      "100%|██████████| 2/2 [00:00<00:00, 10.20it/s]\n"
     ]
    },
    {
     "name": "stdout",
     "output_type": "stream",
     "text": [
      "Reading in data... (['../simulation/out/LF/v2/scans_5dim/neutron-sim-D4-LF-212_0000.csv', '../simulation/out/LF/v2/scans_5dim/neutron-sim-D4-LF-212_0001.csv'])\n"
     ]
    },
    {
     "name": "stderr",
     "output_type": "stream",
     "text": [
      "100%|██████████| 2/2 [00:00<00:00, 12.25it/s]\n"
     ]
    },
    {
     "name": "stdout",
     "output_type": "stream",
     "text": [
      "Reading in data... (['../simulation/out/LF/v2/scans_5dim/neutron-sim-D4-LF-213_0000.csv', '../simulation/out/LF/v2/scans_5dim/neutron-sim-D4-LF-213_0001.csv'])\n"
     ]
    },
    {
     "name": "stderr",
     "output_type": "stream",
     "text": [
      "100%|██████████| 2/2 [00:00<00:00, 14.23it/s]\n"
     ]
    },
    {
     "name": "stdout",
     "output_type": "stream",
     "text": [
      "Reading in data... (['../simulation/out/LF/v2/scans_5dim/neutron-sim-D4-LF-214_0000.csv', '../simulation/out/LF/v2/scans_5dim/neutron-sim-D4-LF-214_0001.csv'])\n"
     ]
    },
    {
     "name": "stderr",
     "output_type": "stream",
     "text": [
      "100%|██████████| 2/2 [00:00<00:00, 15.62it/s]\n"
     ]
    },
    {
     "name": "stdout",
     "output_type": "stream",
     "text": [
      "Reading in data... (['../simulation/out/LF/v2/scans_5dim/neutron-sim-D4-LF-215_0000.csv', '../simulation/out/LF/v2/scans_5dim/neutron-sim-D4-LF-215_0001.csv'])\n"
     ]
    },
    {
     "name": "stderr",
     "output_type": "stream",
     "text": [
      "100%|██████████| 2/2 [00:00<00:00, 16.98it/s]\n"
     ]
    },
    {
     "name": "stdout",
     "output_type": "stream",
     "text": [
      "Reading in data... (['../simulation/out/LF/v2/scans_5dim/neutron-sim-D4-LF-216_0000.csv', '../simulation/out/LF/v2/scans_5dim/neutron-sim-D4-LF-216_0001.csv'])\n"
     ]
    },
    {
     "name": "stderr",
     "output_type": "stream",
     "text": [
      "100%|██████████| 2/2 [00:00<00:00, 16.48it/s]\n"
     ]
    },
    {
     "name": "stdout",
     "output_type": "stream",
     "text": [
      "Reading in data... (['../simulation/out/LF/v2/scans_5dim/neutron-sim-D4-LF-217_0000.csv', '../simulation/out/LF/v2/scans_5dim/neutron-sim-D4-LF-217_0001.csv'])\n"
     ]
    },
    {
     "name": "stderr",
     "output_type": "stream",
     "text": [
      "100%|██████████| 2/2 [00:00<00:00, 15.64it/s]\n"
     ]
    },
    {
     "name": "stdout",
     "output_type": "stream",
     "text": [
      "Reading in data... (['../simulation/out/LF/v2/scans_5dim/neutron-sim-D4-LF-218_0000.csv', '../simulation/out/LF/v2/scans_5dim/neutron-sim-D4-LF-218_0001.csv'])\n"
     ]
    },
    {
     "name": "stderr",
     "output_type": "stream",
     "text": [
      "100%|██████████| 2/2 [00:00<00:00, 12.26it/s]\n"
     ]
    },
    {
     "name": "stdout",
     "output_type": "stream",
     "text": [
      "Reading in data... (['../simulation/out/LF/v2/scans_5dim/neutron-sim-D4-LF-219_0000.csv', '../simulation/out/LF/v2/scans_5dim/neutron-sim-D4-LF-219_0001.csv'])\n"
     ]
    },
    {
     "name": "stderr",
     "output_type": "stream",
     "text": [
      "100%|██████████| 2/2 [00:00<00:00,  8.16it/s]\n"
     ]
    },
    {
     "name": "stdout",
     "output_type": "stream",
     "text": [
      "Reading in data... (['../simulation/out/LF/v2/scans_5dim/neutron-sim-D4-LF-220_0000.csv', '../simulation/out/LF/v2/scans_5dim/neutron-sim-D4-LF-220_0001.csv'])\n"
     ]
    },
    {
     "name": "stderr",
     "output_type": "stream",
     "text": [
      "100%|██████████| 2/2 [00:00<00:00, 11.93it/s]\n"
     ]
    },
    {
     "name": "stdout",
     "output_type": "stream",
     "text": [
      "Reading in data... (['../simulation/out/LF/v2/scans_5dim/neutron-sim-D4-LF-221_0000.csv', '../simulation/out/LF/v2/scans_5dim/neutron-sim-D4-LF-221_0001.csv'])\n"
     ]
    },
    {
     "name": "stderr",
     "output_type": "stream",
     "text": [
      "100%|██████████| 2/2 [00:00<00:00, 10.27it/s]\n"
     ]
    },
    {
     "name": "stdout",
     "output_type": "stream",
     "text": [
      "Reading in data... (['../simulation/out/LF/v2/scans_5dim/neutron-sim-D4-LF-222_0000.csv', '../simulation/out/LF/v2/scans_5dim/neutron-sim-D4-LF-222_0001.csv'])\n"
     ]
    },
    {
     "name": "stderr",
     "output_type": "stream",
     "text": [
      "100%|██████████| 2/2 [00:00<00:00, 11.58it/s]\n"
     ]
    },
    {
     "name": "stdout",
     "output_type": "stream",
     "text": [
      "Reading in data... (['../simulation/out/LF/v2/scans_5dim/neutron-sim-D4-LF-223_0000.csv', '../simulation/out/LF/v2/scans_5dim/neutron-sim-D4-LF-223_0001.csv'])\n"
     ]
    },
    {
     "name": "stderr",
     "output_type": "stream",
     "text": [
      "100%|██████████| 2/2 [00:00<00:00,  8.79it/s]\n"
     ]
    },
    {
     "name": "stdout",
     "output_type": "stream",
     "text": [
      "Reading in data... (['../simulation/out/LF/v2/scans_5dim/neutron-sim-D4-LF-224_0000.csv', '../simulation/out/LF/v2/scans_5dim/neutron-sim-D4-LF-224_0001.csv'])\n"
     ]
    },
    {
     "name": "stderr",
     "output_type": "stream",
     "text": [
      "100%|██████████| 2/2 [00:00<00:00,  7.81it/s]\n"
     ]
    },
    {
     "name": "stdout",
     "output_type": "stream",
     "text": [
      "Reading in data... (['../simulation/out/LF/v2/scans_5dim/neutron-sim-D4-LF-225_0000.csv', '../simulation/out/LF/v2/scans_5dim/neutron-sim-D4-LF-225_0001.csv'])\n"
     ]
    },
    {
     "name": "stderr",
     "output_type": "stream",
     "text": [
      "100%|██████████| 2/2 [00:00<00:00,  7.88it/s]\n"
     ]
    },
    {
     "name": "stdout",
     "output_type": "stream",
     "text": [
      "Reading in data... (['../simulation/out/LF/v2/scans_5dim/neutron-sim-D4-LF-226_0000.csv', '../simulation/out/LF/v2/scans_5dim/neutron-sim-D4-LF-226_0001.csv'])\n"
     ]
    },
    {
     "name": "stderr",
     "output_type": "stream",
     "text": [
      "100%|██████████| 2/2 [00:00<00:00, 10.20it/s]\n"
     ]
    },
    {
     "name": "stdout",
     "output_type": "stream",
     "text": [
      "Reading in data... (['../simulation/out/LF/v2/scans_5dim/neutron-sim-D4-LF-227_0000.csv', '../simulation/out/LF/v2/scans_5dim/neutron-sim-D4-LF-227_0001.csv'])\n"
     ]
    },
    {
     "name": "stderr",
     "output_type": "stream",
     "text": [
      "100%|██████████| 2/2 [00:00<00:00,  7.38it/s]\n"
     ]
    },
    {
     "name": "stdout",
     "output_type": "stream",
     "text": [
      "Reading in data... (['../simulation/out/LF/v2/scans_5dim/neutron-sim-D4-LF-228_0000.csv', '../simulation/out/LF/v2/scans_5dim/neutron-sim-D4-LF-228_0001.csv'])\n"
     ]
    },
    {
     "name": "stderr",
     "output_type": "stream",
     "text": [
      "100%|██████████| 2/2 [00:00<00:00, 12.40it/s]\n"
     ]
    },
    {
     "name": "stdout",
     "output_type": "stream",
     "text": [
      "Reading in data... (['../simulation/out/LF/v2/scans_5dim/neutron-sim-D4-LF-229_0000.csv', '../simulation/out/LF/v2/scans_5dim/neutron-sim-D4-LF-229_0001.csv'])\n"
     ]
    },
    {
     "name": "stderr",
     "output_type": "stream",
     "text": [
      "100%|██████████| 2/2 [00:00<00:00, 14.68it/s]\n"
     ]
    },
    {
     "name": "stdout",
     "output_type": "stream",
     "text": [
      "Reading in data... (['../simulation/out/LF/v2/scans_5dim/neutron-sim-D4-LF-230_0000.csv', '../simulation/out/LF/v2/scans_5dim/neutron-sim-D4-LF-230_0001.csv'])\n"
     ]
    },
    {
     "name": "stderr",
     "output_type": "stream",
     "text": [
      "100%|██████████| 2/2 [00:00<00:00, 11.66it/s]\n"
     ]
    },
    {
     "name": "stdout",
     "output_type": "stream",
     "text": [
      "Reading in data... (['../simulation/out/LF/v2/scans_5dim/neutron-sim-D4-LF-231_0000.csv', '../simulation/out/LF/v2/scans_5dim/neutron-sim-D4-LF-231_0001.csv'])\n"
     ]
    },
    {
     "name": "stderr",
     "output_type": "stream",
     "text": [
      "100%|██████████| 2/2 [00:00<00:00, 10.42it/s]\n"
     ]
    },
    {
     "name": "stdout",
     "output_type": "stream",
     "text": [
      "Reading in data... (['../simulation/out/LF/v2/scans_5dim/neutron-sim-D4-LF-232_0000.csv', '../simulation/out/LF/v2/scans_5dim/neutron-sim-D4-LF-232_0001.csv'])\n"
     ]
    },
    {
     "name": "stderr",
     "output_type": "stream",
     "text": [
      "100%|██████████| 2/2 [00:00<00:00, 11.60it/s]\n"
     ]
    },
    {
     "name": "stdout",
     "output_type": "stream",
     "text": [
      "Reading in data... (['../simulation/out/LF/v2/scans_5dim/neutron-sim-D4-LF-233_0000.csv', '../simulation/out/LF/v2/scans_5dim/neutron-sim-D4-LF-233_0001.csv'])\n"
     ]
    },
    {
     "name": "stderr",
     "output_type": "stream",
     "text": [
      "100%|██████████| 2/2 [00:00<00:00, 12.94it/s]\n"
     ]
    },
    {
     "name": "stdout",
     "output_type": "stream",
     "text": [
      "Reading in data... (['../simulation/out/LF/v2/scans_5dim/neutron-sim-D4-LF-234_0000.csv', '../simulation/out/LF/v2/scans_5dim/neutron-sim-D4-LF-234_0001.csv'])\n"
     ]
    },
    {
     "name": "stderr",
     "output_type": "stream",
     "text": [
      "100%|██████████| 2/2 [00:00<00:00, 13.99it/s]\n"
     ]
    },
    {
     "name": "stdout",
     "output_type": "stream",
     "text": [
      "Reading in data... (['../simulation/out/LF/v2/scans_5dim/neutron-sim-D4-LF-235_0000.csv', '../simulation/out/LF/v2/scans_5dim/neutron-sim-D4-LF-235_0001.csv'])\n"
     ]
    },
    {
     "name": "stderr",
     "output_type": "stream",
     "text": [
      "100%|██████████| 2/2 [00:00<00:00,  7.01it/s]\n"
     ]
    },
    {
     "name": "stdout",
     "output_type": "stream",
     "text": [
      "Reading in data... (['../simulation/out/LF/v2/scans_5dim/neutron-sim-D4-LF-236_0000.csv', '../simulation/out/LF/v2/scans_5dim/neutron-sim-D4-LF-236_0001.csv'])\n"
     ]
    },
    {
     "name": "stderr",
     "output_type": "stream",
     "text": [
      "100%|██████████| 2/2 [00:00<00:00,  7.53it/s]\n"
     ]
    },
    {
     "name": "stdout",
     "output_type": "stream",
     "text": [
      "Reading in data... (['../simulation/out/LF/v2/scans_5dim/neutron-sim-D4-LF-237_0000.csv', '../simulation/out/LF/v2/scans_5dim/neutron-sim-D4-LF-237_0001.csv'])\n"
     ]
    },
    {
     "name": "stderr",
     "output_type": "stream",
     "text": [
      "100%|██████████| 2/2 [00:00<00:00,  9.01it/s]\n"
     ]
    },
    {
     "name": "stdout",
     "output_type": "stream",
     "text": [
      "Reading in data... (['../simulation/out/LF/v2/scans_5dim/neutron-sim-D4-LF-238_0000.csv', '../simulation/out/LF/v2/scans_5dim/neutron-sim-D4-LF-238_0001.csv'])\n"
     ]
    },
    {
     "name": "stderr",
     "output_type": "stream",
     "text": [
      "100%|██████████| 2/2 [00:00<00:00,  6.58it/s]\n"
     ]
    },
    {
     "name": "stdout",
     "output_type": "stream",
     "text": [
      "Reading in data... (['../simulation/out/LF/v2/scans_5dim/neutron-sim-D4-LF-239_0000.csv', '../simulation/out/LF/v2/scans_5dim/neutron-sim-D4-LF-239_0001.csv'])\n"
     ]
    },
    {
     "name": "stderr",
     "output_type": "stream",
     "text": [
      "100%|██████████| 2/2 [00:00<00:00,  8.90it/s]\n"
     ]
    },
    {
     "name": "stdout",
     "output_type": "stream",
     "text": [
      "Reading in data... (['../simulation/out/LF/v2/scans_5dim/neutron-sim-D4-LF-240_0000.csv', '../simulation/out/LF/v2/scans_5dim/neutron-sim-D4-LF-240_0001.csv'])\n"
     ]
    },
    {
     "name": "stderr",
     "output_type": "stream",
     "text": [
      "100%|██████████| 2/2 [00:00<00:00,  9.47it/s]\n"
     ]
    },
    {
     "name": "stdout",
     "output_type": "stream",
     "text": [
      "Reading in data... (['../simulation/out/LF/v2/scans_5dim/neutron-sim-D4-LF-241_0000.csv', '../simulation/out/LF/v2/scans_5dim/neutron-sim-D4-LF-241_0001.csv'])\n"
     ]
    },
    {
     "name": "stderr",
     "output_type": "stream",
     "text": [
      "100%|██████████| 2/2 [00:00<00:00,  8.14it/s]\n"
     ]
    },
    {
     "name": "stdout",
     "output_type": "stream",
     "text": [
      "Reading in data... (['../simulation/out/LF/v2/scans_5dim/neutron-sim-D4-LF-242_0000.csv', '../simulation/out/LF/v2/scans_5dim/neutron-sim-D4-LF-242_0001.csv'])\n"
     ]
    },
    {
     "name": "stderr",
     "output_type": "stream",
     "text": [
      "100%|██████████| 2/2 [00:00<00:00,  7.35it/s]\n"
     ]
    },
    {
     "name": "stdout",
     "output_type": "stream",
     "text": [
      "Reading in data... (['../simulation/out/LF/v2/scans_5dim/neutron-sim-D4-LF-243_0000.csv', '../simulation/out/LF/v2/scans_5dim/neutron-sim-D4-LF-243_0001.csv'])\n"
     ]
    },
    {
     "name": "stderr",
     "output_type": "stream",
     "text": [
      "100%|██████████| 2/2 [00:00<00:00,  8.21it/s]\n"
     ]
    },
    {
     "name": "stdout",
     "output_type": "stream",
     "text": [
      "Reading in data... (['../simulation/out/LF/v2/scans_5dim/neutron-sim-D4-LF-244_0000.csv', '../simulation/out/LF/v2/scans_5dim/neutron-sim-D4-LF-244_0001.csv'])\n"
     ]
    },
    {
     "name": "stderr",
     "output_type": "stream",
     "text": [
      "100%|██████████| 2/2 [00:00<00:00,  8.25it/s]\n"
     ]
    },
    {
     "name": "stdout",
     "output_type": "stream",
     "text": [
      "Reading in data... (['../simulation/out/LF/v2/scans_5dim/neutron-sim-D4-LF-245_0000.csv', '../simulation/out/LF/v2/scans_5dim/neutron-sim-D4-LF-245_0001.csv'])\n"
     ]
    },
    {
     "name": "stderr",
     "output_type": "stream",
     "text": [
      "100%|██████████| 2/2 [00:00<00:00,  5.42it/s]\n"
     ]
    },
    {
     "name": "stdout",
     "output_type": "stream",
     "text": [
      "Reading in data... (['../simulation/out/LF/v2/scans_5dim/neutron-sim-D4-LF-246_0000.csv', '../simulation/out/LF/v2/scans_5dim/neutron-sim-D4-LF-246_0001.csv'])\n"
     ]
    },
    {
     "name": "stderr",
     "output_type": "stream",
     "text": [
      "100%|██████████| 2/2 [00:00<00:00,  7.77it/s]\n"
     ]
    },
    {
     "name": "stdout",
     "output_type": "stream",
     "text": [
      "Reading in data... (['../simulation/out/LF/v2/scans_5dim/neutron-sim-D4-LF-247_0000.csv', '../simulation/out/LF/v2/scans_5dim/neutron-sim-D4-LF-247_0001.csv'])\n"
     ]
    },
    {
     "name": "stderr",
     "output_type": "stream",
     "text": [
      "100%|██████████| 2/2 [00:00<00:00,  6.87it/s]\n"
     ]
    },
    {
     "name": "stdout",
     "output_type": "stream",
     "text": [
      "Reading in data... (['../simulation/out/LF/v2/scans_5dim/neutron-sim-D4-LF-248_0000.csv', '../simulation/out/LF/v2/scans_5dim/neutron-sim-D4-LF-248_0001.csv'])\n"
     ]
    },
    {
     "name": "stderr",
     "output_type": "stream",
     "text": [
      "100%|██████████| 2/2 [00:00<00:00,  7.18it/s]\n"
     ]
    },
    {
     "name": "stdout",
     "output_type": "stream",
     "text": [
      "Reading in data... (['../simulation/out/LF/v2/scans_5dim/neutron-sim-D4-LF-249_0000.csv', '../simulation/out/LF/v2/scans_5dim/neutron-sim-D4-LF-249_0001.csv'])\n"
     ]
    },
    {
     "name": "stderr",
     "output_type": "stream",
     "text": [
      "100%|██████████| 2/2 [00:00<00:00,  8.84it/s]\n"
     ]
    },
    {
     "name": "stdout",
     "output_type": "stream",
     "text": [
      "Reading in data... (['../simulation/out/LF/v2/scans_5dim/neutron-sim-D4-LF-250_0000.csv', '../simulation/out/LF/v2/scans_5dim/neutron-sim-D4-LF-250_0001.csv'])\n"
     ]
    },
    {
     "name": "stderr",
     "output_type": "stream",
     "text": [
      "100%|██████████| 2/2 [00:00<00:00,  9.59it/s]\n"
     ]
    },
    {
     "name": "stdout",
     "output_type": "stream",
     "text": [
      "Reading in data... (['../simulation/out/LF/v2/scans_5dim/neutron-sim-D4-LF-251_0000.csv', '../simulation/out/LF/v2/scans_5dim/neutron-sim-D4-LF-251_0001.csv'])\n"
     ]
    },
    {
     "name": "stderr",
     "output_type": "stream",
     "text": [
      "100%|██████████| 2/2 [00:00<00:00, 11.29it/s]\n"
     ]
    },
    {
     "name": "stdout",
     "output_type": "stream",
     "text": [
      "Reading in data... (['../simulation/out/LF/v2/scans_5dim/neutron-sim-D4-LF-252_0000.csv', '../simulation/out/LF/v2/scans_5dim/neutron-sim-D4-LF-252_0001.csv'])\n"
     ]
    },
    {
     "name": "stderr",
     "output_type": "stream",
     "text": [
      "100%|██████████| 2/2 [00:00<00:00, 14.11it/s]\n"
     ]
    },
    {
     "name": "stdout",
     "output_type": "stream",
     "text": [
      "Reading in data... (['../simulation/out/LF/v2/scans_5dim/neutron-sim-D4-LF-253_0000.csv', '../simulation/out/LF/v2/scans_5dim/neutron-sim-D4-LF-253_0001.csv'])\n"
     ]
    },
    {
     "name": "stderr",
     "output_type": "stream",
     "text": [
      "100%|██████████| 2/2 [00:00<00:00, 13.46it/s]\n"
     ]
    },
    {
     "name": "stdout",
     "output_type": "stream",
     "text": [
      "Reading in data... (['../simulation/out/LF/v2/scans_5dim/neutron-sim-D4-LF-254_0000.csv', '../simulation/out/LF/v2/scans_5dim/neutron-sim-D4-LF-254_0001.csv'])\n"
     ]
    },
    {
     "name": "stderr",
     "output_type": "stream",
     "text": [
      "100%|██████████| 2/2 [00:00<00:00, 11.42it/s]\n"
     ]
    },
    {
     "name": "stdout",
     "output_type": "stream",
     "text": [
      "Reading in data... (['../simulation/out/LF/v2/scans_5dim/neutron-sim-D4-LF-255_0000.csv', '../simulation/out/LF/v2/scans_5dim/neutron-sim-D4-LF-255_0001.csv'])\n"
     ]
    },
    {
     "name": "stderr",
     "output_type": "stream",
     "text": [
      "100%|██████████| 2/2 [00:00<00:00, 13.85it/s]\n"
     ]
    },
    {
     "name": "stdout",
     "output_type": "stream",
     "text": [
      "Reading in data... (['../simulation/out/LF/v2/scans_5dim/neutron-sim-D4-LF-256_0000.csv', '../simulation/out/LF/v2/scans_5dim/neutron-sim-D4-LF-256_0001.csv'])\n"
     ]
    },
    {
     "name": "stderr",
     "output_type": "stream",
     "text": [
      "100%|██████████| 2/2 [00:00<00:00, 14.77it/s]\n"
     ]
    },
    {
     "name": "stdout",
     "output_type": "stream",
     "text": [
      "Reading in data... (['../simulation/out/LF/v2/scans_5dim/neutron-sim-D4-LF-257_0000.csv', '../simulation/out/LF/v2/scans_5dim/neutron-sim-D4-LF-257_0001.csv'])\n"
     ]
    },
    {
     "name": "stderr",
     "output_type": "stream",
     "text": [
      "100%|██████████| 2/2 [00:00<00:00, 15.02it/s]\n"
     ]
    },
    {
     "name": "stdout",
     "output_type": "stream",
     "text": [
      "Reading in data... (['../simulation/out/LF/v2/scans_5dim/neutron-sim-D4-LF-258_0000.csv', '../simulation/out/LF/v2/scans_5dim/neutron-sim-D4-LF-258_0001.csv'])\n"
     ]
    },
    {
     "name": "stderr",
     "output_type": "stream",
     "text": [
      "100%|██████████| 2/2 [00:00<00:00, 15.52it/s]\n"
     ]
    },
    {
     "name": "stdout",
     "output_type": "stream",
     "text": [
      "Reading in data... (['../simulation/out/LF/v2/scans_5dim/neutron-sim-D4-LF-259_0000.csv', '../simulation/out/LF/v2/scans_5dim/neutron-sim-D4-LF-259_0001.csv'])\n"
     ]
    },
    {
     "name": "stderr",
     "output_type": "stream",
     "text": [
      "100%|██████████| 2/2 [00:00<00:00, 15.86it/s]\n"
     ]
    },
    {
     "name": "stdout",
     "output_type": "stream",
     "text": [
      "Reading in data... (['../simulation/out/LF/v2/scans_5dim/neutron-sim-D4-LF-260_0000.csv', '../simulation/out/LF/v2/scans_5dim/neutron-sim-D4-LF-260_0001.csv'])\n"
     ]
    },
    {
     "name": "stderr",
     "output_type": "stream",
     "text": [
      "100%|██████████| 2/2 [00:00<00:00, 14.55it/s]\n"
     ]
    },
    {
     "name": "stdout",
     "output_type": "stream",
     "text": [
      "Reading in data... (['../simulation/out/LF/v2/scans_5dim/neutron-sim-D4-LF-261_0000.csv', '../simulation/out/LF/v2/scans_5dim/neutron-sim-D4-LF-261_0001.csv'])\n"
     ]
    },
    {
     "name": "stderr",
     "output_type": "stream",
     "text": [
      "100%|██████████| 2/2 [00:00<00:00, 14.26it/s]\n"
     ]
    },
    {
     "name": "stdout",
     "output_type": "stream",
     "text": [
      "Reading in data... (['../simulation/out/LF/v2/scans_5dim/neutron-sim-D4-LF-262_0000.csv', '../simulation/out/LF/v2/scans_5dim/neutron-sim-D4-LF-262_0001.csv'])\n"
     ]
    },
    {
     "name": "stderr",
     "output_type": "stream",
     "text": [
      "100%|██████████| 2/2 [00:00<00:00, 14.57it/s]\n"
     ]
    },
    {
     "name": "stdout",
     "output_type": "stream",
     "text": [
      "Reading in data... (['../simulation/out/LF/v2/scans_5dim/neutron-sim-D4-LF-263_0000.csv', '../simulation/out/LF/v2/scans_5dim/neutron-sim-D4-LF-263_0001.csv'])\n"
     ]
    },
    {
     "name": "stderr",
     "output_type": "stream",
     "text": [
      "100%|██████████| 2/2 [00:00<00:00, 14.11it/s]\n"
     ]
    },
    {
     "name": "stdout",
     "output_type": "stream",
     "text": [
      "Reading in data... (['../simulation/out/LF/v2/scans_5dim/neutron-sim-D4-LF-264_0000.csv', '../simulation/out/LF/v2/scans_5dim/neutron-sim-D4-LF-264_0001.csv'])\n"
     ]
    },
    {
     "name": "stderr",
     "output_type": "stream",
     "text": [
      "100%|██████████| 2/2 [00:00<00:00, 14.45it/s]\n"
     ]
    },
    {
     "name": "stdout",
     "output_type": "stream",
     "text": [
      "Reading in data... (['../simulation/out/LF/v2/scans_5dim/neutron-sim-D4-LF-265_0000.csv', '../simulation/out/LF/v2/scans_5dim/neutron-sim-D4-LF-265_0001.csv'])\n"
     ]
    },
    {
     "name": "stderr",
     "output_type": "stream",
     "text": [
      "100%|██████████| 2/2 [00:00<00:00, 13.91it/s]\n"
     ]
    },
    {
     "name": "stdout",
     "output_type": "stream",
     "text": [
      "Reading in data... (['../simulation/out/LF/v2/scans_5dim/neutron-sim-D4-LF-266_0000.csv', '../simulation/out/LF/v2/scans_5dim/neutron-sim-D4-LF-266_0001.csv'])\n"
     ]
    },
    {
     "name": "stderr",
     "output_type": "stream",
     "text": [
      "100%|██████████| 2/2 [00:00<00:00, 13.01it/s]\n"
     ]
    },
    {
     "name": "stdout",
     "output_type": "stream",
     "text": [
      "Reading in data... (['../simulation/out/LF/v2/scans_5dim/neutron-sim-D4-LF-267_0000.csv', '../simulation/out/LF/v2/scans_5dim/neutron-sim-D4-LF-267_0001.csv'])\n"
     ]
    },
    {
     "name": "stderr",
     "output_type": "stream",
     "text": [
      "100%|██████████| 2/2 [00:00<00:00,  9.53it/s]\n"
     ]
    },
    {
     "name": "stdout",
     "output_type": "stream",
     "text": [
      "Reading in data... (['../simulation/out/LF/v2/scans_5dim/neutron-sim-D4-LF-268_0000.csv', '../simulation/out/LF/v2/scans_5dim/neutron-sim-D4-LF-268_0001.csv'])\n"
     ]
    },
    {
     "name": "stderr",
     "output_type": "stream",
     "text": [
      "100%|██████████| 2/2 [00:00<00:00, 10.80it/s]\n"
     ]
    },
    {
     "name": "stdout",
     "output_type": "stream",
     "text": [
      "Reading in data... (['../simulation/out/LF/v2/scans_5dim/neutron-sim-D4-LF-269_0000.csv', '../simulation/out/LF/v2/scans_5dim/neutron-sim-D4-LF-269_0001.csv'])\n"
     ]
    },
    {
     "name": "stderr",
     "output_type": "stream",
     "text": [
      "100%|██████████| 2/2 [00:00<00:00, 12.09it/s]\n"
     ]
    },
    {
     "name": "stdout",
     "output_type": "stream",
     "text": [
      "Reading in data... (['../simulation/out/LF/v2/scans_5dim/neutron-sim-D4-LF-270_0000.csv', '../simulation/out/LF/v2/scans_5dim/neutron-sim-D4-LF-270_0001.csv'])\n"
     ]
    },
    {
     "name": "stderr",
     "output_type": "stream",
     "text": [
      "100%|██████████| 2/2 [00:00<00:00, 11.58it/s]\n"
     ]
    },
    {
     "name": "stdout",
     "output_type": "stream",
     "text": [
      "Reading in data... (['../simulation/out/LF/v2/scans_5dim/neutron-sim-D4-LF-271_0000.csv', '../simulation/out/LF/v2/scans_5dim/neutron-sim-D4-LF-271_0001.csv'])\n"
     ]
    },
    {
     "name": "stderr",
     "output_type": "stream",
     "text": [
      "100%|██████████| 2/2 [00:00<00:00,  8.56it/s]\n"
     ]
    },
    {
     "name": "stdout",
     "output_type": "stream",
     "text": [
      "Reading in data... (['../simulation/out/LF/v2/scans_5dim/neutron-sim-D4-LF-272_0000.csv', '../simulation/out/LF/v2/scans_5dim/neutron-sim-D4-LF-272_0001.csv'])\n"
     ]
    },
    {
     "name": "stderr",
     "output_type": "stream",
     "text": [
      "100%|██████████| 2/2 [00:00<00:00, 11.46it/s]\n"
     ]
    },
    {
     "name": "stdout",
     "output_type": "stream",
     "text": [
      "Reading in data... (['../simulation/out/LF/v2/scans_5dim/neutron-sim-D4-LF-273_0000.csv', '../simulation/out/LF/v2/scans_5dim/neutron-sim-D4-LF-273_0001.csv'])\n"
     ]
    },
    {
     "name": "stderr",
     "output_type": "stream",
     "text": [
      "100%|██████████| 2/2 [00:00<00:00, 12.37it/s]\n"
     ]
    },
    {
     "name": "stdout",
     "output_type": "stream",
     "text": [
      "Reading in data... (['../simulation/out/LF/v2/scans_5dim/neutron-sim-D4-LF-274_0000.csv', '../simulation/out/LF/v2/scans_5dim/neutron-sim-D4-LF-274_0001.csv'])\n"
     ]
    },
    {
     "name": "stderr",
     "output_type": "stream",
     "text": [
      "100%|██████████| 2/2 [00:00<00:00, 11.89it/s]\n"
     ]
    },
    {
     "name": "stdout",
     "output_type": "stream",
     "text": [
      "Reading in data... (['../simulation/out/LF/v2/scans_5dim/neutron-sim-D4-LF-275_0000.csv', '../simulation/out/LF/v2/scans_5dim/neutron-sim-D4-LF-275_0001.csv'])\n"
     ]
    },
    {
     "name": "stderr",
     "output_type": "stream",
     "text": [
      "100%|██████████| 2/2 [00:00<00:00, 11.07it/s]\n"
     ]
    },
    {
     "name": "stdout",
     "output_type": "stream",
     "text": [
      "Reading in data... (['../simulation/out/LF/v2/scans_5dim/neutron-sim-D4-LF-276_0000.csv', '../simulation/out/LF/v2/scans_5dim/neutron-sim-D4-LF-276_0001.csv'])\n"
     ]
    },
    {
     "name": "stderr",
     "output_type": "stream",
     "text": [
      "100%|██████████| 2/2 [00:00<00:00, 13.63it/s]\n"
     ]
    },
    {
     "name": "stdout",
     "output_type": "stream",
     "text": [
      "Reading in data... (['../simulation/out/LF/v2/scans_5dim/neutron-sim-D4-LF-277_0000.csv', '../simulation/out/LF/v2/scans_5dim/neutron-sim-D4-LF-277_0001.csv'])\n"
     ]
    },
    {
     "name": "stderr",
     "output_type": "stream",
     "text": [
      "100%|██████████| 2/2 [00:00<00:00, 12.92it/s]\n"
     ]
    },
    {
     "name": "stdout",
     "output_type": "stream",
     "text": [
      "Reading in data... (['../simulation/out/LF/v2/scans_5dim/neutron-sim-D4-LF-278_0000.csv', '../simulation/out/LF/v2/scans_5dim/neutron-sim-D4-LF-278_0001.csv'])\n"
     ]
    },
    {
     "name": "stderr",
     "output_type": "stream",
     "text": [
      "100%|██████████| 2/2 [00:00<00:00, 12.35it/s]\n"
     ]
    },
    {
     "name": "stdout",
     "output_type": "stream",
     "text": [
      "Reading in data... (['../simulation/out/LF/v2/scans_5dim/neutron-sim-D4-LF-279_0000.csv', '../simulation/out/LF/v2/scans_5dim/neutron-sim-D4-LF-279_0001.csv'])\n"
     ]
    },
    {
     "name": "stderr",
     "output_type": "stream",
     "text": [
      "100%|██████████| 2/2 [00:00<00:00, 12.87it/s]\n"
     ]
    },
    {
     "name": "stdout",
     "output_type": "stream",
     "text": [
      "Reading in data... (['../simulation/out/LF/v2/scans_5dim/neutron-sim-D4-LF-280_0000.csv', '../simulation/out/LF/v2/scans_5dim/neutron-sim-D4-LF-280_0001.csv'])\n"
     ]
    },
    {
     "name": "stderr",
     "output_type": "stream",
     "text": [
      "100%|██████████| 2/2 [00:00<00:00,  8.58it/s]\n"
     ]
    },
    {
     "name": "stdout",
     "output_type": "stream",
     "text": [
      "Reading in data... (['../simulation/out/LF/v2/scans_5dim/neutron-sim-D4-LF-281_0000.csv', '../simulation/out/LF/v2/scans_5dim/neutron-sim-D4-LF-281_0001.csv'])\n"
     ]
    },
    {
     "name": "stderr",
     "output_type": "stream",
     "text": [
      "100%|██████████| 2/2 [00:00<00:00,  6.35it/s]\n"
     ]
    },
    {
     "name": "stdout",
     "output_type": "stream",
     "text": [
      "Reading in data... (['../simulation/out/LF/v2/scans_5dim/neutron-sim-D4-LF-282_0000.csv', '../simulation/out/LF/v2/scans_5dim/neutron-sim-D4-LF-282_0001.csv'])\n"
     ]
    },
    {
     "name": "stderr",
     "output_type": "stream",
     "text": [
      "100%|██████████| 2/2 [00:00<00:00,  9.85it/s]\n"
     ]
    },
    {
     "name": "stdout",
     "output_type": "stream",
     "text": [
      "Reading in data... (['../simulation/out/LF/v2/scans_5dim/neutron-sim-D4-LF-283_0000.csv', '../simulation/out/LF/v2/scans_5dim/neutron-sim-D4-LF-283_0001.csv'])\n"
     ]
    },
    {
     "name": "stderr",
     "output_type": "stream",
     "text": [
      "100%|██████████| 2/2 [00:00<00:00, 10.25it/s]\n"
     ]
    },
    {
     "name": "stdout",
     "output_type": "stream",
     "text": [
      "Reading in data... (['../simulation/out/LF/v2/scans_5dim/neutron-sim-D4-LF-284_0000.csv', '../simulation/out/LF/v2/scans_5dim/neutron-sim-D4-LF-284_0001.csv'])\n"
     ]
    },
    {
     "name": "stderr",
     "output_type": "stream",
     "text": [
      "100%|██████████| 2/2 [00:00<00:00, 12.05it/s]\n"
     ]
    },
    {
     "name": "stdout",
     "output_type": "stream",
     "text": [
      "Reading in data... (['../simulation/out/LF/v2/scans_5dim/neutron-sim-D4-LF-285_0000.csv', '../simulation/out/LF/v2/scans_5dim/neutron-sim-D4-LF-285_0001.csv'])\n"
     ]
    },
    {
     "name": "stderr",
     "output_type": "stream",
     "text": [
      "100%|██████████| 2/2 [00:00<00:00, 11.88it/s]\n"
     ]
    },
    {
     "name": "stdout",
     "output_type": "stream",
     "text": [
      "Reading in data... (['../simulation/out/LF/v2/scans_5dim/neutron-sim-D4-LF-286_0000.csv', '../simulation/out/LF/v2/scans_5dim/neutron-sim-D4-LF-286_0001.csv'])\n"
     ]
    },
    {
     "name": "stderr",
     "output_type": "stream",
     "text": [
      "100%|██████████| 2/2 [00:00<00:00, 11.45it/s]\n"
     ]
    },
    {
     "name": "stdout",
     "output_type": "stream",
     "text": [
      "Reading in data... (['../simulation/out/LF/v2/scans_5dim/neutron-sim-D4-LF-287_0000.csv', '../simulation/out/LF/v2/scans_5dim/neutron-sim-D4-LF-287_0001.csv'])\n"
     ]
    },
    {
     "name": "stderr",
     "output_type": "stream",
     "text": [
      "100%|██████████| 2/2 [00:00<00:00, 13.24it/s]\n"
     ]
    },
    {
     "name": "stdout",
     "output_type": "stream",
     "text": [
      "Reading in data... (['../simulation/out/LF/v2/scans_5dim/neutron-sim-D4-LF-288_0000.csv', '../simulation/out/LF/v2/scans_5dim/neutron-sim-D4-LF-288_0001.csv'])\n"
     ]
    },
    {
     "name": "stderr",
     "output_type": "stream",
     "text": [
      "100%|██████████| 2/2 [00:00<00:00, 13.57it/s]\n"
     ]
    },
    {
     "name": "stdout",
     "output_type": "stream",
     "text": [
      "Reading in data... (['../simulation/out/LF/v2/scans_5dim/neutron-sim-D4-LF-289_0000.csv', '../simulation/out/LF/v2/scans_5dim/neutron-sim-D4-LF-289_0001.csv'])\n"
     ]
    },
    {
     "name": "stderr",
     "output_type": "stream",
     "text": [
      "100%|██████████| 2/2 [00:00<00:00, 11.79it/s]\n"
     ]
    },
    {
     "name": "stdout",
     "output_type": "stream",
     "text": [
      "Reading in data... (['../simulation/out/LF/v2/scans_5dim/neutron-sim-D4-LF-290_0000.csv', '../simulation/out/LF/v2/scans_5dim/neutron-sim-D4-LF-290_0001.csv'])\n"
     ]
    },
    {
     "name": "stderr",
     "output_type": "stream",
     "text": [
      "100%|██████████| 2/2 [00:00<00:00, 10.86it/s]\n"
     ]
    },
    {
     "name": "stdout",
     "output_type": "stream",
     "text": [
      "Reading in data... (['../simulation/out/LF/v2/scans_5dim/neutron-sim-D4-LF-291_0000.csv', '../simulation/out/LF/v2/scans_5dim/neutron-sim-D4-LF-291_0001.csv'])\n"
     ]
    },
    {
     "name": "stderr",
     "output_type": "stream",
     "text": [
      "100%|██████████| 2/2 [00:00<00:00, 14.51it/s]\n"
     ]
    },
    {
     "name": "stdout",
     "output_type": "stream",
     "text": [
      "Reading in data... (['../simulation/out/LF/v2/scans_5dim/neutron-sim-D4-LF-292_0000.csv', '../simulation/out/LF/v2/scans_5dim/neutron-sim-D4-LF-292_0001.csv'])\n"
     ]
    },
    {
     "name": "stderr",
     "output_type": "stream",
     "text": [
      "100%|██████████| 2/2 [00:00<00:00,  5.40it/s]\n"
     ]
    },
    {
     "name": "stdout",
     "output_type": "stream",
     "text": [
      "Reading in data... (['../simulation/out/LF/v2/scans_5dim/neutron-sim-D4-LF-293_0000.csv', '../simulation/out/LF/v2/scans_5dim/neutron-sim-D4-LF-293_0001.csv'])\n"
     ]
    },
    {
     "name": "stderr",
     "output_type": "stream",
     "text": [
      "100%|██████████| 2/2 [00:00<00:00,  7.59it/s]\n"
     ]
    },
    {
     "name": "stdout",
     "output_type": "stream",
     "text": [
      "Reading in data... (['../simulation/out/LF/v2/scans_5dim/neutron-sim-D4-LF-294_0000.csv', '../simulation/out/LF/v2/scans_5dim/neutron-sim-D4-LF-294_0001.csv'])\n"
     ]
    },
    {
     "name": "stderr",
     "output_type": "stream",
     "text": [
      "100%|██████████| 2/2 [00:00<00:00,  7.89it/s]\n"
     ]
    },
    {
     "name": "stdout",
     "output_type": "stream",
     "text": [
      "Reading in data... (['../simulation/out/LF/v2/scans_5dim/neutron-sim-D4-LF-295_0000.csv', '../simulation/out/LF/v2/scans_5dim/neutron-sim-D4-LF-295_0001.csv'])\n"
     ]
    },
    {
     "name": "stderr",
     "output_type": "stream",
     "text": [
      "100%|██████████| 2/2 [00:00<00:00,  9.20it/s]\n"
     ]
    },
    {
     "name": "stdout",
     "output_type": "stream",
     "text": [
      "Reading in data... (['../simulation/out/LF/v2/scans_5dim/neutron-sim-D4-LF-296_0000.csv', '../simulation/out/LF/v2/scans_5dim/neutron-sim-D4-LF-296_0001.csv'])\n"
     ]
    },
    {
     "name": "stderr",
     "output_type": "stream",
     "text": [
      "100%|██████████| 2/2 [00:00<00:00,  9.71it/s]\n"
     ]
    },
    {
     "name": "stdout",
     "output_type": "stream",
     "text": [
      "Reading in data... (['../simulation/out/LF/v2/scans_5dim/neutron-sim-D4-LF-297_0000.csv', '../simulation/out/LF/v2/scans_5dim/neutron-sim-D4-LF-297_0001.csv'])\n"
     ]
    },
    {
     "name": "stderr",
     "output_type": "stream",
     "text": [
      "100%|██████████| 2/2 [00:00<00:00,  9.94it/s]\n"
     ]
    },
    {
     "name": "stdout",
     "output_type": "stream",
     "text": [
      "Reading in data... (['../simulation/out/LF/v2/scans_5dim/neutron-sim-D4-LF-298_0000.csv', '../simulation/out/LF/v2/scans_5dim/neutron-sim-D4-LF-298_0001.csv'])\n"
     ]
    },
    {
     "name": "stderr",
     "output_type": "stream",
     "text": [
      "100%|██████████| 2/2 [00:00<00:00,  8.41it/s]\n"
     ]
    },
    {
     "name": "stdout",
     "output_type": "stream",
     "text": [
      "Reading in data... (['../simulation/out/LF/v2/scans_5dim/neutron-sim-D4-LF-299_0000.csv', '../simulation/out/LF/v2/scans_5dim/neutron-sim-D4-LF-299_0001.csv'])\n"
     ]
    },
    {
     "name": "stderr",
     "output_type": "stream",
     "text": [
      "100%|██████████| 2/2 [00:00<00:00,  8.47it/s]\n"
     ]
    },
    {
     "name": "stdout",
     "output_type": "stream",
     "text": [
      "Reading in data... (['../simulation/out/LF/v2/scans_5dim/neutron-sim-D4-LF-300_0000.csv', '../simulation/out/LF/v2/scans_5dim/neutron-sim-D4-LF-300_0001.csv'])\n"
     ]
    },
    {
     "name": "stderr",
     "output_type": "stream",
     "text": [
      "100%|██████████| 2/2 [00:00<00:00,  8.03it/s]\n"
     ]
    },
    {
     "name": "stdout",
     "output_type": "stream",
     "text": [
      "Reading in data... (['../simulation/out/LF/v2/scans_5dim/neutron-sim-D4-LF-301_0000.csv', '../simulation/out/LF/v2/scans_5dim/neutron-sim-D4-LF-301_0001.csv'])\n"
     ]
    },
    {
     "name": "stderr",
     "output_type": "stream",
     "text": [
      "100%|██████████| 2/2 [00:00<00:00,  8.30it/s]\n"
     ]
    },
    {
     "name": "stdout",
     "output_type": "stream",
     "text": [
      "Reading in data... (['../simulation/out/LF/v2/scans_5dim/neutron-sim-D4-LF-302_0000.csv', '../simulation/out/LF/v2/scans_5dim/neutron-sim-D4-LF-302_0001.csv'])\n"
     ]
    },
    {
     "name": "stderr",
     "output_type": "stream",
     "text": [
      "100%|██████████| 2/2 [00:00<00:00,  5.27it/s]\n"
     ]
    }
   ],
   "source": [
    "\n",
    "nSamples=303\n",
    "version = 'v6'\n",
    "if not os.path.exists(f'out/{version}'):\n",
    "   os.makedirs(f'out/{version}')\n",
    "nCA = []\n",
    "nCZ = []\n",
    "iidx = []\n",
    "nprimaries = []\n",
    "cross_cryo = []\n",
    "nLF=0\n",
    "sim_mode = []\n",
    "radius = []\n",
    "design = []\n",
    "thickness = []\n",
    "theta = []\n",
    "phi = []\n",
    "npanels = []\n",
    "Length = []\n",
    "zpos = []\n",
    "volume = []\n",
    "height = []\n",
    "\n",
    "\n",
    "for m in range(0,nSamples):\n",
    "    #filename=f'../simulation/out/LF/{version}/scans_5dim/neutron-sim-D4-LF-{m}_'\n",
    "    filename=f'../simulation/out/LF/v2/scans_5dim/neutron-sim-D4-LF-{m}_'\n",
    "    tmp=np.array(read_design_parameters(filename))\n",
    "    sim_mode.append(tmp[0])\n",
    "    design.append(float(tmp[1]))\n",
    "    radius.append(float(tmp[2]))\n",
    "    height.append(float(tmp[8]))\n",
    "    thickness.append(float(tmp[3]))\n",
    "    volume.append(float(tmp[10]))\n",
    "    Length.append(float(tmp[7]))\n",
    "    theta.append(float(tmp[6]))\n",
    "    zpos.append(float(tmp[9]))\n",
    "    npanels.append(float(tmp[4]))\n",
    "    phi.append(float(tmp[5])/np.pi*180.)\n",
    "    [nCA000,nCZ000,cross_cryo000] = read_csv(filename)\n",
    "    nprimaries.append(25000*len(get_all_files(filename,ending='.csv')))\n",
    "    iidx.append(len(nCA))\n",
    "    nCA.extend(nCA000)\n",
    "    nCZ.extend(nCZ000)\n",
    "    cross_cryo.extend(cross_cryo000)\n",
    "    nLF+=1\n"
   ]
  },
  {
   "cell_type": "code",
   "execution_count": 8,
   "metadata": {},
   "outputs": [
    {
     "name": "stdout",
     "output_type": "stream",
     "text": [
      "Reading in data... (['../simulation/out/HF/v2/Neutron-Simulation-Design0/neutron-sim-design0_0000.csv', '../simulation/out/HF/v2/Neutron-Simulation-Design0/neutron-sim-design0_0002.csv', '../simulation/out/HF/v2/Neutron-Simulation-Design0/neutron-sim-design0_0003.csv', '../simulation/out/HF/v2/Neutron-Simulation-Design0/neutron-sim-design0_0004.csv', '../simulation/out/HF/v2/Neutron-Simulation-Design0/neutron-sim-design0_0005.csv', '../simulation/out/HF/v2/Neutron-Simulation-Design0/neutron-sim-design0_0006.csv', '../simulation/out/HF/v2/Neutron-Simulation-Design0/neutron-sim-design0_0007.csv', '../simulation/out/HF/v2/Neutron-Simulation-Design0/neutron-sim-design0_0008.csv', '../simulation/out/HF/v2/Neutron-Simulation-Design0/neutron-sim-design0_0010.csv', '../simulation/out/HF/v2/Neutron-Simulation-Design0/neutron-sim-design0_0011.csv', '../simulation/out/HF/v2/Neutron-Simulation-Design0/neutron-sim-design0_0012.csv', '../simulation/out/HF/v2/Neutron-Simulation-Design0/neutron-sim-design0_0013.csv', '../simulation/out/HF/v2/Neutron-Simulation-Design0/neutron-sim-design0_0014.csv', '../simulation/out/HF/v2/Neutron-Simulation-Design0/neutron-sim-design0_0015.csv', '../simulation/out/HF/v2/Neutron-Simulation-Design0/neutron-sim-design0_0017.csv', '../simulation/out/HF/v2/Neutron-Simulation-Design0/neutron-sim-design0_0018.csv', '../simulation/out/HF/v2/Neutron-Simulation-Design0/neutron-sim-design0_0019.csv', '../simulation/out/HF/v2/Neutron-Simulation-Design0/neutron-sim-design0_0020.csv', '../simulation/out/HF/v2/Neutron-Simulation-Design0/neutron-sim-design0_0021.csv', '../simulation/out/HF/v2/Neutron-Simulation-Design0/neutron-sim-design0_0022.csv', '../simulation/out/HF/v2/Neutron-Simulation-Design0/neutron-sim-design0_0023.csv', '../simulation/out/HF/v2/Neutron-Simulation-Design0/neutron-sim-design0_0024.csv', '../simulation/out/HF/v2/Neutron-Simulation-Design0/neutron-sim-design0_0025.csv', '../simulation/out/HF/v2/Neutron-Simulation-Design0/neutron-sim-design0_0026.csv', '../simulation/out/HF/v2/Neutron-Simulation-Design0/neutron-sim-design0_0027.csv', '../simulation/out/HF/v2/Neutron-Simulation-Design0/neutron-sim-design0_0028.csv', '../simulation/out/HF/v2/Neutron-Simulation-Design0/neutron-sim-design0_0029.csv', '../simulation/out/HF/v2/Neutron-Simulation-Design0/neutron-sim-design0_0030.csv', '../simulation/out/HF/v2/Neutron-Simulation-Design0/neutron-sim-design0_0031.csv', '../simulation/out/HF/v2/Neutron-Simulation-Design0/neutron-sim-design0_0032.csv', '../simulation/out/HF/v2/Neutron-Simulation-Design0/neutron-sim-design0_0033.csv', '../simulation/out/HF/v2/Neutron-Simulation-Design0/neutron-sim-design0_0034.csv', '../simulation/out/HF/v2/Neutron-Simulation-Design0/neutron-sim-design0_0035.csv', '../simulation/out/HF/v2/Neutron-Simulation-Design0/neutron-sim-design0_0036.csv', '../simulation/out/HF/v2/Neutron-Simulation-Design0/neutron-sim-design0_0037.csv', '../simulation/out/HF/v2/Neutron-Simulation-Design0/neutron-sim-design0_0038.csv', '../simulation/out/HF/v2/Neutron-Simulation-Design0/neutron-sim-design0_0040.csv', '../simulation/out/HF/v2/Neutron-Simulation-Design0/neutron-sim-design0_0041.csv', '../simulation/out/HF/v2/Neutron-Simulation-Design0/neutron-sim-design0_0042.csv', '../simulation/out/HF/v2/Neutron-Simulation-Design0/neutron-sim-design0_0043.csv', '../simulation/out/HF/v2/Neutron-Simulation-Design0/neutron-sim-design0_0044.csv', '../simulation/out/HF/v2/Neutron-Simulation-Design0/neutron-sim-design0_0045.csv', '../simulation/out/HF/v2/Neutron-Simulation-Design0/neutron-sim-design0_0046.csv', '../simulation/out/HF/v2/Neutron-Simulation-Design0/neutron-sim-design0_0047.csv', '../simulation/out/HF/v2/Neutron-Simulation-Design0/neutron-sim-design0_0048.csv', '../simulation/out/HF/v2/Neutron-Simulation-Design0/neutron-sim-design0_0049.csv', '../simulation/out/HF/v2/Neutron-Simulation-Design0/neutron-sim-design0_0050.csv', '../simulation/out/HF/v2/Neutron-Simulation-Design0/neutron-sim-design0_0051.csv', '../simulation/out/HF/v2/Neutron-Simulation-Design0/neutron-sim-design0_0052.csv', '../simulation/out/HF/v2/Neutron-Simulation-Design0/neutron-sim-design0_0053.csv', '../simulation/out/HF/v2/Neutron-Simulation-Design0/neutron-sim-design0_0054.csv', '../simulation/out/HF/v2/Neutron-Simulation-Design0/neutron-sim-design0_0055.csv', '../simulation/out/HF/v2/Neutron-Simulation-Design0/neutron-sim-design0_0056.csv', '../simulation/out/HF/v2/Neutron-Simulation-Design0/neutron-sim-design0_0058.csv', '../simulation/out/HF/v2/Neutron-Simulation-Design0/neutron-sim-design0_0059.csv', '../simulation/out/HF/v2/Neutron-Simulation-Design0/neutron-sim-design0_0060.csv', '../simulation/out/HF/v2/Neutron-Simulation-Design0/neutron-sim-design0_0061.csv', '../simulation/out/HF/v2/Neutron-Simulation-Design0/neutron-sim-design0_0062.csv', '../simulation/out/HF/v2/Neutron-Simulation-Design0/neutron-sim-design0_0063.csv', '../simulation/out/HF/v2/Neutron-Simulation-Design0/neutron-sim-design0_0064.csv', '../simulation/out/HF/v2/Neutron-Simulation-Design0/neutron-sim-design0_0065.csv', '../simulation/out/HF/v2/Neutron-Simulation-Design0/neutron-sim-design0_0066.csv', '../simulation/out/HF/v2/Neutron-Simulation-Design0/neutron-sim-design0_0067.csv', '../simulation/out/HF/v2/Neutron-Simulation-Design0/neutron-sim-design0_0068.csv', '../simulation/out/HF/v2/Neutron-Simulation-Design0/neutron-sim-design0_0069.csv', '../simulation/out/HF/v2/Neutron-Simulation-Design0/neutron-sim-design0_0070.csv', '../simulation/out/HF/v2/Neutron-Simulation-Design0/neutron-sim-design0_0071.csv', '../simulation/out/HF/v2/Neutron-Simulation-Design0/neutron-sim-design0_0072.csv', '../simulation/out/HF/v2/Neutron-Simulation-Design0/neutron-sim-design0_0073.csv', '../simulation/out/HF/v2/Neutron-Simulation-Design0/neutron-sim-design0_0074.csv', '../simulation/out/HF/v2/Neutron-Simulation-Design0/neutron-sim-design0_0075.csv', '../simulation/out/HF/v2/Neutron-Simulation-Design0/neutron-sim-design0_0076.csv', '../simulation/out/HF/v2/Neutron-Simulation-Design0/neutron-sim-design0_0077.csv', '../simulation/out/HF/v2/Neutron-Simulation-Design0/neutron-sim-design0_0078.csv', '../simulation/out/HF/v2/Neutron-Simulation-Design0/neutron-sim-design0_0079.csv', '../simulation/out/HF/v2/Neutron-Simulation-Design0/neutron-sim-design0_0080.csv', '../simulation/out/HF/v2/Neutron-Simulation-Design0/neutron-sim-design0_0081.csv', '../simulation/out/HF/v2/Neutron-Simulation-Design0/neutron-sim-design0_0082.csv', '../simulation/out/HF/v2/Neutron-Simulation-Design0/neutron-sim-design0_0083.csv', '../simulation/out/HF/v2/Neutron-Simulation-Design0/neutron-sim-design0_0084.csv', '../simulation/out/HF/v2/Neutron-Simulation-Design0/neutron-sim-design0_0085.csv', '../simulation/out/HF/v2/Neutron-Simulation-Design0/neutron-sim-design0_0086.csv', '../simulation/out/HF/v2/Neutron-Simulation-Design0/neutron-sim-design0_0087.csv', '../simulation/out/HF/v2/Neutron-Simulation-Design0/neutron-sim-design0_0088.csv', '../simulation/out/HF/v2/Neutron-Simulation-Design0/neutron-sim-design0_0089.csv', '../simulation/out/HF/v2/Neutron-Simulation-Design0/neutron-sim-design0_0090.csv', '../simulation/out/HF/v2/Neutron-Simulation-Design0/neutron-sim-design0_0091.csv', '../simulation/out/HF/v2/Neutron-Simulation-Design0/neutron-sim-design0_0092.csv', '../simulation/out/HF/v2/Neutron-Simulation-Design0/neutron-sim-design0_0093.csv', '../simulation/out/HF/v2/Neutron-Simulation-Design0/neutron-sim-design0_0094.csv', '../simulation/out/HF/v2/Neutron-Simulation-Design0/neutron-sim-design0_0095.csv', '../simulation/out/HF/v2/Neutron-Simulation-Design0/neutron-sim-design0_0096.csv', '../simulation/out/HF/v2/Neutron-Simulation-Design0/neutron-sim-design0_0097.csv', '../simulation/out/HF/v2/Neutron-Simulation-Design0/neutron-sim-design0_0098.csv', '../simulation/out/HF/v2/Neutron-Simulation-Design0/neutron-sim-design0_0099.csv', '../simulation/out/HF/v2/Neutron-Simulation-Design0/neutron-sim-design0_0100.csv', '../simulation/out/HF/v2/Neutron-Simulation-Design0/neutron-sim-design0_0101.csv', '../simulation/out/HF/v2/Neutron-Simulation-Design0/neutron-sim-design0_0102.csv', '../simulation/out/HF/v2/Neutron-Simulation-Design0/neutron-sim-design0_0103.csv', '../simulation/out/HF/v2/Neutron-Simulation-Design0/neutron-sim-design0_0104.csv', '../simulation/out/HF/v2/Neutron-Simulation-Design0/neutron-sim-design0_0105.csv', '../simulation/out/HF/v2/Neutron-Simulation-Design0/neutron-sim-design0_0106.csv', '../simulation/out/HF/v2/Neutron-Simulation-Design0/neutron-sim-design0_0107.csv', '../simulation/out/HF/v2/Neutron-Simulation-Design0/neutron-sim-design0_0108.csv', '../simulation/out/HF/v2/Neutron-Simulation-Design0/neutron-sim-design0_0109.csv', '../simulation/out/HF/v2/Neutron-Simulation-Design0/neutron-sim-design0_0110.csv', '../simulation/out/HF/v2/Neutron-Simulation-Design0/neutron-sim-design0_0111.csv', '../simulation/out/HF/v2/Neutron-Simulation-Design0/neutron-sim-design0_0112.csv', '../simulation/out/HF/v2/Neutron-Simulation-Design0/neutron-sim-design0_0113.csv', '../simulation/out/HF/v2/Neutron-Simulation-Design0/neutron-sim-design0_0114.csv', '../simulation/out/HF/v2/Neutron-Simulation-Design0/neutron-sim-design0_0115.csv', '../simulation/out/HF/v2/Neutron-Simulation-Design0/neutron-sim-design0_0116.csv', '../simulation/out/HF/v2/Neutron-Simulation-Design0/neutron-sim-design0_0117.csv', '../simulation/out/HF/v2/Neutron-Simulation-Design0/neutron-sim-design0_0118.csv', '../simulation/out/HF/v2/Neutron-Simulation-Design0/neutron-sim-design0_0119.csv', '../simulation/out/HF/v2/Neutron-Simulation-Design0/neutron-sim-design0_0120.csv', '../simulation/out/HF/v2/Neutron-Simulation-Design0/neutron-sim-design0_0121.csv', '../simulation/out/HF/v2/Neutron-Simulation-Design0/neutron-sim-design0_0122.csv', '../simulation/out/HF/v2/Neutron-Simulation-Design0/neutron-sim-design0_0123.csv', '../simulation/out/HF/v2/Neutron-Simulation-Design0/neutron-sim-design0_0124.csv', '../simulation/out/HF/v2/Neutron-Simulation-Design0/neutron-sim-design0_0125.csv', '../simulation/out/HF/v2/Neutron-Simulation-Design0/neutron-sim-design0_0127.csv', '../simulation/out/HF/v2/Neutron-Simulation-Design0/neutron-sim-design0_0128.csv', '../simulation/out/HF/v2/Neutron-Simulation-Design0/neutron-sim-design0_0129.csv', '../simulation/out/HF/v2/Neutron-Simulation-Design0/neutron-sim-design0_0130.csv', '../simulation/out/HF/v2/Neutron-Simulation-Design0/neutron-sim-design0_0131.csv', '../simulation/out/HF/v2/Neutron-Simulation-Design0/neutron-sim-design0_0132.csv', '../simulation/out/HF/v2/Neutron-Simulation-Design0/neutron-sim-design0_0133.csv', '../simulation/out/HF/v2/Neutron-Simulation-Design0/neutron-sim-design0_0134.csv', '../simulation/out/HF/v2/Neutron-Simulation-Design0/neutron-sim-design0_0135.csv', '../simulation/out/HF/v2/Neutron-Simulation-Design0/neutron-sim-design0_0136.csv', '../simulation/out/HF/v2/Neutron-Simulation-Design0/neutron-sim-design0_0137.csv', '../simulation/out/HF/v2/Neutron-Simulation-Design0/neutron-sim-design0_0138.csv', '../simulation/out/HF/v2/Neutron-Simulation-Design0/neutron-sim-design0_0139.csv', '../simulation/out/HF/v2/Neutron-Simulation-Design0/neutron-sim-design0_0140.csv', '../simulation/out/HF/v2/Neutron-Simulation-Design0/neutron-sim-design0_0141.csv', '../simulation/out/HF/v2/Neutron-Simulation-Design0/neutron-sim-design0_0142.csv', '../simulation/out/HF/v2/Neutron-Simulation-Design0/neutron-sim-design0_0143.csv', '../simulation/out/HF/v2/Neutron-Simulation-Design0/neutron-sim-design0_0144.csv', '../simulation/out/HF/v2/Neutron-Simulation-Design0/neutron-sim-design0_0145.csv', '../simulation/out/HF/v2/Neutron-Simulation-Design0/neutron-sim-design0_0146.csv', '../simulation/out/HF/v2/Neutron-Simulation-Design0/neutron-sim-design0_0147.csv', '../simulation/out/HF/v2/Neutron-Simulation-Design0/neutron-sim-design0_0148.csv', '../simulation/out/HF/v2/Neutron-Simulation-Design0/neutron-sim-design0_0149.csv', '../simulation/out/HF/v2/Neutron-Simulation-Design0/neutron-sim-design0_0150.csv', '../simulation/out/HF/v2/Neutron-Simulation-Design0/neutron-sim-design0_0151.csv', '../simulation/out/HF/v2/Neutron-Simulation-Design0/neutron-sim-design0_0152.csv', '../simulation/out/HF/v2/Neutron-Simulation-Design0/neutron-sim-design0_0153.csv', '../simulation/out/HF/v2/Neutron-Simulation-Design0/neutron-sim-design0_0154.csv', '../simulation/out/HF/v2/Neutron-Simulation-Design0/neutron-sim-design0_0155.csv', '../simulation/out/HF/v2/Neutron-Simulation-Design0/neutron-sim-design0_0156.csv', '../simulation/out/HF/v2/Neutron-Simulation-Design0/neutron-sim-design0_0157.csv', '../simulation/out/HF/v2/Neutron-Simulation-Design0/neutron-sim-design0_0158.csv', '../simulation/out/HF/v2/Neutron-Simulation-Design0/neutron-sim-design0_0159.csv', '../simulation/out/HF/v2/Neutron-Simulation-Design0/neutron-sim-design0_0160.csv', '../simulation/out/HF/v2/Neutron-Simulation-Design0/neutron-sim-design0_0161.csv', '../simulation/out/HF/v2/Neutron-Simulation-Design0/neutron-sim-design0_0162.csv', '../simulation/out/HF/v2/Neutron-Simulation-Design0/neutron-sim-design0_0163.csv', '../simulation/out/HF/v2/Neutron-Simulation-Design0/neutron-sim-design0_0164.csv', '../simulation/out/HF/v2/Neutron-Simulation-Design0/neutron-sim-design0_0166.csv', '../simulation/out/HF/v2/Neutron-Simulation-Design0/neutron-sim-design0_0167.csv', '../simulation/out/HF/v2/Neutron-Simulation-Design0/neutron-sim-design0_0168.csv', '../simulation/out/HF/v2/Neutron-Simulation-Design0/neutron-sim-design0_0169.csv', '../simulation/out/HF/v2/Neutron-Simulation-Design0/neutron-sim-design0_0170.csv', '../simulation/out/HF/v2/Neutron-Simulation-Design0/neutron-sim-design0_0171.csv', '../simulation/out/HF/v2/Neutron-Simulation-Design0/neutron-sim-design0_0172.csv', '../simulation/out/HF/v2/Neutron-Simulation-Design0/neutron-sim-design0_0173.csv', '../simulation/out/HF/v2/Neutron-Simulation-Design0/neutron-sim-design0_0174.csv', '../simulation/out/HF/v2/Neutron-Simulation-Design0/neutron-sim-design0_0175.csv', '../simulation/out/HF/v2/Neutron-Simulation-Design0/neutron-sim-design0_0176.csv', '../simulation/out/HF/v2/Neutron-Simulation-Design0/neutron-sim-design0_0177.csv', '../simulation/out/HF/v2/Neutron-Simulation-Design0/neutron-sim-design0_0178.csv', '../simulation/out/HF/v2/Neutron-Simulation-Design0/neutron-sim-design0_0179.csv', '../simulation/out/HF/v2/Neutron-Simulation-Design0/neutron-sim-design0_0180.csv', '../simulation/out/HF/v2/Neutron-Simulation-Design0/neutron-sim-design0_0181.csv', '../simulation/out/HF/v2/Neutron-Simulation-Design0/neutron-sim-design0_0182.csv', '../simulation/out/HF/v2/Neutron-Simulation-Design0/neutron-sim-design0_0183.csv', '../simulation/out/HF/v2/Neutron-Simulation-Design0/neutron-sim-design0_0184.csv', '../simulation/out/HF/v2/Neutron-Simulation-Design0/neutron-sim-design0_0185.csv', '../simulation/out/HF/v2/Neutron-Simulation-Design0/neutron-sim-design0_0186.csv', '../simulation/out/HF/v2/Neutron-Simulation-Design0/neutron-sim-design0_0187.csv', '../simulation/out/HF/v2/Neutron-Simulation-Design0/neutron-sim-design0_0188.csv', '../simulation/out/HF/v2/Neutron-Simulation-Design0/neutron-sim-design0_0189.csv', '../simulation/out/HF/v2/Neutron-Simulation-Design0/neutron-sim-design0_0190.csv', '../simulation/out/HF/v2/Neutron-Simulation-Design0/neutron-sim-design0_0191.csv', '../simulation/out/HF/v2/Neutron-Simulation-Design0/neutron-sim-design0_0192.csv', '../simulation/out/HF/v2/Neutron-Simulation-Design0/neutron-sim-design0_0193.csv', '../simulation/out/HF/v2/Neutron-Simulation-Design0/neutron-sim-design0_0194.csv', '../simulation/out/HF/v2/Neutron-Simulation-Design0/neutron-sim-design0_0195.csv', '../simulation/out/HF/v2/Neutron-Simulation-Design0/neutron-sim-design0_0196.csv', '../simulation/out/HF/v2/Neutron-Simulation-Design0/neutron-sim-design0_0197.csv', '../simulation/out/HF/v2/Neutron-Simulation-Design0/neutron-sim-design0_0198.csv', '../simulation/out/HF/v2/Neutron-Simulation-Design0/neutron-sim-design0_0199.csv', '../simulation/out/HF/v2/Neutron-Simulation-Design0/neutron-sim-design0_0201.csv', '../simulation/out/HF/v2/Neutron-Simulation-Design0/neutron-sim-design0_0202.csv', '../simulation/out/HF/v2/Neutron-Simulation-Design0/neutron-sim-design0_0203.csv', '../simulation/out/HF/v2/Neutron-Simulation-Design0/neutron-sim-design0_0204.csv', '../simulation/out/HF/v2/Neutron-Simulation-Design0/neutron-sim-design0_0205.csv', '../simulation/out/HF/v2/Neutron-Simulation-Design0/neutron-sim-design0_0206.csv', '../simulation/out/HF/v2/Neutron-Simulation-Design0/neutron-sim-design0_0207.csv', '../simulation/out/HF/v2/Neutron-Simulation-Design0/neutron-sim-design0_0208.csv', '../simulation/out/HF/v2/Neutron-Simulation-Design0/neutron-sim-design0_0209.csv'])\n"
     ]
    },
    {
     "name": "stderr",
     "output_type": "stream",
     "text": [
      "100%|██████████| 202/202 [00:05<00:00, 38.48it/s]\n"
     ]
    },
    {
     "name": "stdout",
     "output_type": "stream",
     "text": [
      "Reading in data... (['../simulation/out/HF/v2/Neutron-Simulation-Design1/neutron-sim-design1_0000.csv', '../simulation/out/HF/v2/Neutron-Simulation-Design1/neutron-sim-design1_0002.csv', '../simulation/out/HF/v2/Neutron-Simulation-Design1/neutron-sim-design1_0003.csv', '../simulation/out/HF/v2/Neutron-Simulation-Design1/neutron-sim-design1_0004.csv', '../simulation/out/HF/v2/Neutron-Simulation-Design1/neutron-sim-design1_0005.csv', '../simulation/out/HF/v2/Neutron-Simulation-Design1/neutron-sim-design1_0006.csv', '../simulation/out/HF/v2/Neutron-Simulation-Design1/neutron-sim-design1_0007.csv', '../simulation/out/HF/v2/Neutron-Simulation-Design1/neutron-sim-design1_0008.csv', '../simulation/out/HF/v2/Neutron-Simulation-Design1/neutron-sim-design1_0009.csv', '../simulation/out/HF/v2/Neutron-Simulation-Design1/neutron-sim-design1_0010.csv', '../simulation/out/HF/v2/Neutron-Simulation-Design1/neutron-sim-design1_0011.csv', '../simulation/out/HF/v2/Neutron-Simulation-Design1/neutron-sim-design1_0012.csv', '../simulation/out/HF/v2/Neutron-Simulation-Design1/neutron-sim-design1_0014.csv', '../simulation/out/HF/v2/Neutron-Simulation-Design1/neutron-sim-design1_0016.csv', '../simulation/out/HF/v2/Neutron-Simulation-Design1/neutron-sim-design1_0017.csv', '../simulation/out/HF/v2/Neutron-Simulation-Design1/neutron-sim-design1_0018.csv', '../simulation/out/HF/v2/Neutron-Simulation-Design1/neutron-sim-design1_0019.csv', '../simulation/out/HF/v2/Neutron-Simulation-Design1/neutron-sim-design1_0020.csv', '../simulation/out/HF/v2/Neutron-Simulation-Design1/neutron-sim-design1_0021.csv', '../simulation/out/HF/v2/Neutron-Simulation-Design1/neutron-sim-design1_0022.csv', '../simulation/out/HF/v2/Neutron-Simulation-Design1/neutron-sim-design1_0023.csv', '../simulation/out/HF/v2/Neutron-Simulation-Design1/neutron-sim-design1_0024.csv', '../simulation/out/HF/v2/Neutron-Simulation-Design1/neutron-sim-design1_0025.csv', '../simulation/out/HF/v2/Neutron-Simulation-Design1/neutron-sim-design1_0026.csv', '../simulation/out/HF/v2/Neutron-Simulation-Design1/neutron-sim-design1_0027.csv', '../simulation/out/HF/v2/Neutron-Simulation-Design1/neutron-sim-design1_0028.csv', '../simulation/out/HF/v2/Neutron-Simulation-Design1/neutron-sim-design1_0030.csv', '../simulation/out/HF/v2/Neutron-Simulation-Design1/neutron-sim-design1_0031.csv', '../simulation/out/HF/v2/Neutron-Simulation-Design1/neutron-sim-design1_0032.csv', '../simulation/out/HF/v2/Neutron-Simulation-Design1/neutron-sim-design1_0033.csv', '../simulation/out/HF/v2/Neutron-Simulation-Design1/neutron-sim-design1_0034.csv', '../simulation/out/HF/v2/Neutron-Simulation-Design1/neutron-sim-design1_0036.csv', '../simulation/out/HF/v2/Neutron-Simulation-Design1/neutron-sim-design1_0037.csv', '../simulation/out/HF/v2/Neutron-Simulation-Design1/neutron-sim-design1_0038.csv', '../simulation/out/HF/v2/Neutron-Simulation-Design1/neutron-sim-design1_0039.csv', '../simulation/out/HF/v2/Neutron-Simulation-Design1/neutron-sim-design1_0040.csv', '../simulation/out/HF/v2/Neutron-Simulation-Design1/neutron-sim-design1_0041.csv', '../simulation/out/HF/v2/Neutron-Simulation-Design1/neutron-sim-design1_0043.csv', '../simulation/out/HF/v2/Neutron-Simulation-Design1/neutron-sim-design1_0044.csv', '../simulation/out/HF/v2/Neutron-Simulation-Design1/neutron-sim-design1_0045.csv', '../simulation/out/HF/v2/Neutron-Simulation-Design1/neutron-sim-design1_0046.csv', '../simulation/out/HF/v2/Neutron-Simulation-Design1/neutron-sim-design1_0047.csv', '../simulation/out/HF/v2/Neutron-Simulation-Design1/neutron-sim-design1_0048.csv', '../simulation/out/HF/v2/Neutron-Simulation-Design1/neutron-sim-design1_0049.csv', '../simulation/out/HF/v2/Neutron-Simulation-Design1/neutron-sim-design1_0050.csv', '../simulation/out/HF/v2/Neutron-Simulation-Design1/neutron-sim-design1_0052.csv', '../simulation/out/HF/v2/Neutron-Simulation-Design1/neutron-sim-design1_0053.csv', '../simulation/out/HF/v2/Neutron-Simulation-Design1/neutron-sim-design1_0054.csv', '../simulation/out/HF/v2/Neutron-Simulation-Design1/neutron-sim-design1_0055.csv', '../simulation/out/HF/v2/Neutron-Simulation-Design1/neutron-sim-design1_0056.csv', '../simulation/out/HF/v2/Neutron-Simulation-Design1/neutron-sim-design1_0057.csv', '../simulation/out/HF/v2/Neutron-Simulation-Design1/neutron-sim-design1_0058.csv', '../simulation/out/HF/v2/Neutron-Simulation-Design1/neutron-sim-design1_0059.csv', '../simulation/out/HF/v2/Neutron-Simulation-Design1/neutron-sim-design1_0060.csv', '../simulation/out/HF/v2/Neutron-Simulation-Design1/neutron-sim-design1_0062.csv', '../simulation/out/HF/v2/Neutron-Simulation-Design1/neutron-sim-design1_0063.csv', '../simulation/out/HF/v2/Neutron-Simulation-Design1/neutron-sim-design1_0064.csv', '../simulation/out/HF/v2/Neutron-Simulation-Design1/neutron-sim-design1_0065.csv', '../simulation/out/HF/v2/Neutron-Simulation-Design1/neutron-sim-design1_0066.csv', '../simulation/out/HF/v2/Neutron-Simulation-Design1/neutron-sim-design1_0067.csv', '../simulation/out/HF/v2/Neutron-Simulation-Design1/neutron-sim-design1_0068.csv', '../simulation/out/HF/v2/Neutron-Simulation-Design1/neutron-sim-design1_0069.csv', '../simulation/out/HF/v2/Neutron-Simulation-Design1/neutron-sim-design1_0070.csv', '../simulation/out/HF/v2/Neutron-Simulation-Design1/neutron-sim-design1_0071.csv', '../simulation/out/HF/v2/Neutron-Simulation-Design1/neutron-sim-design1_0072.csv', '../simulation/out/HF/v2/Neutron-Simulation-Design1/neutron-sim-design1_0073.csv', '../simulation/out/HF/v2/Neutron-Simulation-Design1/neutron-sim-design1_0074.csv', '../simulation/out/HF/v2/Neutron-Simulation-Design1/neutron-sim-design1_0075.csv', '../simulation/out/HF/v2/Neutron-Simulation-Design1/neutron-sim-design1_0076.csv', '../simulation/out/HF/v2/Neutron-Simulation-Design1/neutron-sim-design1_0077.csv', '../simulation/out/HF/v2/Neutron-Simulation-Design1/neutron-sim-design1_0078.csv', '../simulation/out/HF/v2/Neutron-Simulation-Design1/neutron-sim-design1_0079.csv', '../simulation/out/HF/v2/Neutron-Simulation-Design1/neutron-sim-design1_0080.csv', '../simulation/out/HF/v2/Neutron-Simulation-Design1/neutron-sim-design1_0081.csv', '../simulation/out/HF/v2/Neutron-Simulation-Design1/neutron-sim-design1_0082.csv', '../simulation/out/HF/v2/Neutron-Simulation-Design1/neutron-sim-design1_0083.csv', '../simulation/out/HF/v2/Neutron-Simulation-Design1/neutron-sim-design1_0084.csv', '../simulation/out/HF/v2/Neutron-Simulation-Design1/neutron-sim-design1_0085.csv', '../simulation/out/HF/v2/Neutron-Simulation-Design1/neutron-sim-design1_0086.csv', '../simulation/out/HF/v2/Neutron-Simulation-Design1/neutron-sim-design1_0087.csv', '../simulation/out/HF/v2/Neutron-Simulation-Design1/neutron-sim-design1_0088.csv', '../simulation/out/HF/v2/Neutron-Simulation-Design1/neutron-sim-design1_0089.csv', '../simulation/out/HF/v2/Neutron-Simulation-Design1/neutron-sim-design1_0090.csv', '../simulation/out/HF/v2/Neutron-Simulation-Design1/neutron-sim-design1_0091.csv', '../simulation/out/HF/v2/Neutron-Simulation-Design1/neutron-sim-design1_0092.csv', '../simulation/out/HF/v2/Neutron-Simulation-Design1/neutron-sim-design1_0093.csv', '../simulation/out/HF/v2/Neutron-Simulation-Design1/neutron-sim-design1_0094.csv', '../simulation/out/HF/v2/Neutron-Simulation-Design1/neutron-sim-design1_0095.csv', '../simulation/out/HF/v2/Neutron-Simulation-Design1/neutron-sim-design1_0096.csv', '../simulation/out/HF/v2/Neutron-Simulation-Design1/neutron-sim-design1_0097.csv', '../simulation/out/HF/v2/Neutron-Simulation-Design1/neutron-sim-design1_0098.csv', '../simulation/out/HF/v2/Neutron-Simulation-Design1/neutron-sim-design1_0099.csv', '../simulation/out/HF/v2/Neutron-Simulation-Design1/neutron-sim-design1_0100.csv', '../simulation/out/HF/v2/Neutron-Simulation-Design1/neutron-sim-design1_0101.csv', '../simulation/out/HF/v2/Neutron-Simulation-Design1/neutron-sim-design1_0102.csv', '../simulation/out/HF/v2/Neutron-Simulation-Design1/neutron-sim-design1_0103.csv', '../simulation/out/HF/v2/Neutron-Simulation-Design1/neutron-sim-design1_0104.csv', '../simulation/out/HF/v2/Neutron-Simulation-Design1/neutron-sim-design1_0105.csv', '../simulation/out/HF/v2/Neutron-Simulation-Design1/neutron-sim-design1_0106.csv', '../simulation/out/HF/v2/Neutron-Simulation-Design1/neutron-sim-design1_0107.csv', '../simulation/out/HF/v2/Neutron-Simulation-Design1/neutron-sim-design1_0108.csv', '../simulation/out/HF/v2/Neutron-Simulation-Design1/neutron-sim-design1_0109.csv', '../simulation/out/HF/v2/Neutron-Simulation-Design1/neutron-sim-design1_0110.csv', '../simulation/out/HF/v2/Neutron-Simulation-Design1/neutron-sim-design1_0111.csv', '../simulation/out/HF/v2/Neutron-Simulation-Design1/neutron-sim-design1_0112.csv', '../simulation/out/HF/v2/Neutron-Simulation-Design1/neutron-sim-design1_0113.csv', '../simulation/out/HF/v2/Neutron-Simulation-Design1/neutron-sim-design1_0114.csv', '../simulation/out/HF/v2/Neutron-Simulation-Design1/neutron-sim-design1_0115.csv', '../simulation/out/HF/v2/Neutron-Simulation-Design1/neutron-sim-design1_0116.csv', '../simulation/out/HF/v2/Neutron-Simulation-Design1/neutron-sim-design1_0117.csv', '../simulation/out/HF/v2/Neutron-Simulation-Design1/neutron-sim-design1_0118.csv', '../simulation/out/HF/v2/Neutron-Simulation-Design1/neutron-sim-design1_0119.csv', '../simulation/out/HF/v2/Neutron-Simulation-Design1/neutron-sim-design1_0120.csv', '../simulation/out/HF/v2/Neutron-Simulation-Design1/neutron-sim-design1_0121.csv', '../simulation/out/HF/v2/Neutron-Simulation-Design1/neutron-sim-design1_0122.csv', '../simulation/out/HF/v2/Neutron-Simulation-Design1/neutron-sim-design1_0123.csv', '../simulation/out/HF/v2/Neutron-Simulation-Design1/neutron-sim-design1_0124.csv', '../simulation/out/HF/v2/Neutron-Simulation-Design1/neutron-sim-design1_0125.csv', '../simulation/out/HF/v2/Neutron-Simulation-Design1/neutron-sim-design1_0126.csv', '../simulation/out/HF/v2/Neutron-Simulation-Design1/neutron-sim-design1_0127.csv', '../simulation/out/HF/v2/Neutron-Simulation-Design1/neutron-sim-design1_0128.csv', '../simulation/out/HF/v2/Neutron-Simulation-Design1/neutron-sim-design1_0129.csv', '../simulation/out/HF/v2/Neutron-Simulation-Design1/neutron-sim-design1_0131.csv', '../simulation/out/HF/v2/Neutron-Simulation-Design1/neutron-sim-design1_0132.csv', '../simulation/out/HF/v2/Neutron-Simulation-Design1/neutron-sim-design1_0133.csv', '../simulation/out/HF/v2/Neutron-Simulation-Design1/neutron-sim-design1_0134.csv', '../simulation/out/HF/v2/Neutron-Simulation-Design1/neutron-sim-design1_0135.csv', '../simulation/out/HF/v2/Neutron-Simulation-Design1/neutron-sim-design1_0136.csv', '../simulation/out/HF/v2/Neutron-Simulation-Design1/neutron-sim-design1_0137.csv', '../simulation/out/HF/v2/Neutron-Simulation-Design1/neutron-sim-design1_0138.csv', '../simulation/out/HF/v2/Neutron-Simulation-Design1/neutron-sim-design1_0139.csv', '../simulation/out/HF/v2/Neutron-Simulation-Design1/neutron-sim-design1_0142.csv', '../simulation/out/HF/v2/Neutron-Simulation-Design1/neutron-sim-design1_0143.csv', '../simulation/out/HF/v2/Neutron-Simulation-Design1/neutron-sim-design1_0144.csv', '../simulation/out/HF/v2/Neutron-Simulation-Design1/neutron-sim-design1_0145.csv', '../simulation/out/HF/v2/Neutron-Simulation-Design1/neutron-sim-design1_0146.csv', '../simulation/out/HF/v2/Neutron-Simulation-Design1/neutron-sim-design1_0148.csv', '../simulation/out/HF/v2/Neutron-Simulation-Design1/neutron-sim-design1_0149.csv', '../simulation/out/HF/v2/Neutron-Simulation-Design1/neutron-sim-design1_0150.csv', '../simulation/out/HF/v2/Neutron-Simulation-Design1/neutron-sim-design1_0151.csv', '../simulation/out/HF/v2/Neutron-Simulation-Design1/neutron-sim-design1_0152.csv', '../simulation/out/HF/v2/Neutron-Simulation-Design1/neutron-sim-design1_0153.csv', '../simulation/out/HF/v2/Neutron-Simulation-Design1/neutron-sim-design1_0154.csv', '../simulation/out/HF/v2/Neutron-Simulation-Design1/neutron-sim-design1_0155.csv', '../simulation/out/HF/v2/Neutron-Simulation-Design1/neutron-sim-design1_0156.csv', '../simulation/out/HF/v2/Neutron-Simulation-Design1/neutron-sim-design1_0157.csv', '../simulation/out/HF/v2/Neutron-Simulation-Design1/neutron-sim-design1_0158.csv', '../simulation/out/HF/v2/Neutron-Simulation-Design1/neutron-sim-design1_0159.csv', '../simulation/out/HF/v2/Neutron-Simulation-Design1/neutron-sim-design1_0160.csv', '../simulation/out/HF/v2/Neutron-Simulation-Design1/neutron-sim-design1_0161.csv', '../simulation/out/HF/v2/Neutron-Simulation-Design1/neutron-sim-design1_0162.csv', '../simulation/out/HF/v2/Neutron-Simulation-Design1/neutron-sim-design1_0163.csv', '../simulation/out/HF/v2/Neutron-Simulation-Design1/neutron-sim-design1_0164.csv', '../simulation/out/HF/v2/Neutron-Simulation-Design1/neutron-sim-design1_0165.csv', '../simulation/out/HF/v2/Neutron-Simulation-Design1/neutron-sim-design1_0166.csv', '../simulation/out/HF/v2/Neutron-Simulation-Design1/neutron-sim-design1_0167.csv', '../simulation/out/HF/v2/Neutron-Simulation-Design1/neutron-sim-design1_0168.csv', '../simulation/out/HF/v2/Neutron-Simulation-Design1/neutron-sim-design1_0169.csv', '../simulation/out/HF/v2/Neutron-Simulation-Design1/neutron-sim-design1_0170.csv', '../simulation/out/HF/v2/Neutron-Simulation-Design1/neutron-sim-design1_0171.csv', '../simulation/out/HF/v2/Neutron-Simulation-Design1/neutron-sim-design1_0172.csv', '../simulation/out/HF/v2/Neutron-Simulation-Design1/neutron-sim-design1_0173.csv', '../simulation/out/HF/v2/Neutron-Simulation-Design1/neutron-sim-design1_0174.csv', '../simulation/out/HF/v2/Neutron-Simulation-Design1/neutron-sim-design1_0175.csv', '../simulation/out/HF/v2/Neutron-Simulation-Design1/neutron-sim-design1_0176.csv', '../simulation/out/HF/v2/Neutron-Simulation-Design1/neutron-sim-design1_0177.csv', '../simulation/out/HF/v2/Neutron-Simulation-Design1/neutron-sim-design1_0178.csv', '../simulation/out/HF/v2/Neutron-Simulation-Design1/neutron-sim-design1_0179.csv', '../simulation/out/HF/v2/Neutron-Simulation-Design1/neutron-sim-design1_0180.csv', '../simulation/out/HF/v2/Neutron-Simulation-Design1/neutron-sim-design1_0181.csv', '../simulation/out/HF/v2/Neutron-Simulation-Design1/neutron-sim-design1_0182.csv', '../simulation/out/HF/v2/Neutron-Simulation-Design1/neutron-sim-design1_0183.csv', '../simulation/out/HF/v2/Neutron-Simulation-Design1/neutron-sim-design1_0184.csv', '../simulation/out/HF/v2/Neutron-Simulation-Design1/neutron-sim-design1_0185.csv', '../simulation/out/HF/v2/Neutron-Simulation-Design1/neutron-sim-design1_0186.csv', '../simulation/out/HF/v2/Neutron-Simulation-Design1/neutron-sim-design1_0187.csv', '../simulation/out/HF/v2/Neutron-Simulation-Design1/neutron-sim-design1_0189.csv', '../simulation/out/HF/v2/Neutron-Simulation-Design1/neutron-sim-design1_0190.csv', '../simulation/out/HF/v2/Neutron-Simulation-Design1/neutron-sim-design1_0192.csv', '../simulation/out/HF/v2/Neutron-Simulation-Design1/neutron-sim-design1_0193.csv', '../simulation/out/HF/v2/Neutron-Simulation-Design1/neutron-sim-design1_0194.csv', '../simulation/out/HF/v2/Neutron-Simulation-Design1/neutron-sim-design1_0195.csv', '../simulation/out/HF/v2/Neutron-Simulation-Design1/neutron-sim-design1_0196.csv', '../simulation/out/HF/v2/Neutron-Simulation-Design1/neutron-sim-design1_0197.csv', '../simulation/out/HF/v2/Neutron-Simulation-Design1/neutron-sim-design1_0199.csv'])\n"
     ]
    },
    {
     "name": "stderr",
     "output_type": "stream",
     "text": [
      "100%|██████████| 185/185 [00:05<00:00, 35.22it/s]\n"
     ]
    },
    {
     "name": "stdout",
     "output_type": "stream",
     "text": [
      "Reading in data... (['../simulation/out/HF/v2/Neutron-Simulation-Design2/neutron-sim-design2_0002.csv', '../simulation/out/HF/v2/Neutron-Simulation-Design2/neutron-sim-design2_0003.csv', '../simulation/out/HF/v2/Neutron-Simulation-Design2/neutron-sim-design2_0004.csv', '../simulation/out/HF/v2/Neutron-Simulation-Design2/neutron-sim-design2_0005.csv', '../simulation/out/HF/v2/Neutron-Simulation-Design2/neutron-sim-design2_0006.csv', '../simulation/out/HF/v2/Neutron-Simulation-Design2/neutron-sim-design2_0007.csv', '../simulation/out/HF/v2/Neutron-Simulation-Design2/neutron-sim-design2_0008.csv', '../simulation/out/HF/v2/Neutron-Simulation-Design2/neutron-sim-design2_0009.csv', '../simulation/out/HF/v2/Neutron-Simulation-Design2/neutron-sim-design2_0010.csv', '../simulation/out/HF/v2/Neutron-Simulation-Design2/neutron-sim-design2_0011.csv', '../simulation/out/HF/v2/Neutron-Simulation-Design2/neutron-sim-design2_0012.csv', '../simulation/out/HF/v2/Neutron-Simulation-Design2/neutron-sim-design2_0013.csv', '../simulation/out/HF/v2/Neutron-Simulation-Design2/neutron-sim-design2_0015.csv', '../simulation/out/HF/v2/Neutron-Simulation-Design2/neutron-sim-design2_0016.csv', '../simulation/out/HF/v2/Neutron-Simulation-Design2/neutron-sim-design2_0018.csv', '../simulation/out/HF/v2/Neutron-Simulation-Design2/neutron-sim-design2_0019.csv', '../simulation/out/HF/v2/Neutron-Simulation-Design2/neutron-sim-design2_0020.csv', '../simulation/out/HF/v2/Neutron-Simulation-Design2/neutron-sim-design2_0021.csv', '../simulation/out/HF/v2/Neutron-Simulation-Design2/neutron-sim-design2_0022.csv', '../simulation/out/HF/v2/Neutron-Simulation-Design2/neutron-sim-design2_0023.csv', '../simulation/out/HF/v2/Neutron-Simulation-Design2/neutron-sim-design2_0024.csv', '../simulation/out/HF/v2/Neutron-Simulation-Design2/neutron-sim-design2_0025.csv', '../simulation/out/HF/v2/Neutron-Simulation-Design2/neutron-sim-design2_0026.csv', '../simulation/out/HF/v2/Neutron-Simulation-Design2/neutron-sim-design2_0027.csv', '../simulation/out/HF/v2/Neutron-Simulation-Design2/neutron-sim-design2_0028.csv', '../simulation/out/HF/v2/Neutron-Simulation-Design2/neutron-sim-design2_0029.csv', '../simulation/out/HF/v2/Neutron-Simulation-Design2/neutron-sim-design2_0030.csv', '../simulation/out/HF/v2/Neutron-Simulation-Design2/neutron-sim-design2_0032.csv', '../simulation/out/HF/v2/Neutron-Simulation-Design2/neutron-sim-design2_0034.csv', '../simulation/out/HF/v2/Neutron-Simulation-Design2/neutron-sim-design2_0035.csv', '../simulation/out/HF/v2/Neutron-Simulation-Design2/neutron-sim-design2_0036.csv', '../simulation/out/HF/v2/Neutron-Simulation-Design2/neutron-sim-design2_0037.csv', '../simulation/out/HF/v2/Neutron-Simulation-Design2/neutron-sim-design2_0038.csv', '../simulation/out/HF/v2/Neutron-Simulation-Design2/neutron-sim-design2_0039.csv', '../simulation/out/HF/v2/Neutron-Simulation-Design2/neutron-sim-design2_0040.csv', '../simulation/out/HF/v2/Neutron-Simulation-Design2/neutron-sim-design2_0041.csv', '../simulation/out/HF/v2/Neutron-Simulation-Design2/neutron-sim-design2_0042.csv', '../simulation/out/HF/v2/Neutron-Simulation-Design2/neutron-sim-design2_0043.csv', '../simulation/out/HF/v2/Neutron-Simulation-Design2/neutron-sim-design2_0044.csv', '../simulation/out/HF/v2/Neutron-Simulation-Design2/neutron-sim-design2_0045.csv', '../simulation/out/HF/v2/Neutron-Simulation-Design2/neutron-sim-design2_0046.csv', '../simulation/out/HF/v2/Neutron-Simulation-Design2/neutron-sim-design2_0047.csv', '../simulation/out/HF/v2/Neutron-Simulation-Design2/neutron-sim-design2_0048.csv', '../simulation/out/HF/v2/Neutron-Simulation-Design2/neutron-sim-design2_0049.csv', '../simulation/out/HF/v2/Neutron-Simulation-Design2/neutron-sim-design2_0050.csv', '../simulation/out/HF/v2/Neutron-Simulation-Design2/neutron-sim-design2_0051.csv', '../simulation/out/HF/v2/Neutron-Simulation-Design2/neutron-sim-design2_0052.csv', '../simulation/out/HF/v2/Neutron-Simulation-Design2/neutron-sim-design2_0053.csv', '../simulation/out/HF/v2/Neutron-Simulation-Design2/neutron-sim-design2_0054.csv', '../simulation/out/HF/v2/Neutron-Simulation-Design2/neutron-sim-design2_0055.csv', '../simulation/out/HF/v2/Neutron-Simulation-Design2/neutron-sim-design2_0056.csv', '../simulation/out/HF/v2/Neutron-Simulation-Design2/neutron-sim-design2_0057.csv', '../simulation/out/HF/v2/Neutron-Simulation-Design2/neutron-sim-design2_0058.csv', '../simulation/out/HF/v2/Neutron-Simulation-Design2/neutron-sim-design2_0059.csv', '../simulation/out/HF/v2/Neutron-Simulation-Design2/neutron-sim-design2_0060.csv', '../simulation/out/HF/v2/Neutron-Simulation-Design2/neutron-sim-design2_0061.csv', '../simulation/out/HF/v2/Neutron-Simulation-Design2/neutron-sim-design2_0062.csv', '../simulation/out/HF/v2/Neutron-Simulation-Design2/neutron-sim-design2_0063.csv', '../simulation/out/HF/v2/Neutron-Simulation-Design2/neutron-sim-design2_0064.csv', '../simulation/out/HF/v2/Neutron-Simulation-Design2/neutron-sim-design2_0066.csv', '../simulation/out/HF/v2/Neutron-Simulation-Design2/neutron-sim-design2_0067.csv', '../simulation/out/HF/v2/Neutron-Simulation-Design2/neutron-sim-design2_0068.csv', '../simulation/out/HF/v2/Neutron-Simulation-Design2/neutron-sim-design2_0069.csv', '../simulation/out/HF/v2/Neutron-Simulation-Design2/neutron-sim-design2_0071.csv', '../simulation/out/HF/v2/Neutron-Simulation-Design2/neutron-sim-design2_0072.csv', '../simulation/out/HF/v2/Neutron-Simulation-Design2/neutron-sim-design2_0073.csv', '../simulation/out/HF/v2/Neutron-Simulation-Design2/neutron-sim-design2_0074.csv', '../simulation/out/HF/v2/Neutron-Simulation-Design2/neutron-sim-design2_0075.csv', '../simulation/out/HF/v2/Neutron-Simulation-Design2/neutron-sim-design2_0076.csv', '../simulation/out/HF/v2/Neutron-Simulation-Design2/neutron-sim-design2_0077.csv', '../simulation/out/HF/v2/Neutron-Simulation-Design2/neutron-sim-design2_0078.csv', '../simulation/out/HF/v2/Neutron-Simulation-Design2/neutron-sim-design2_0079.csv', '../simulation/out/HF/v2/Neutron-Simulation-Design2/neutron-sim-design2_0080.csv', '../simulation/out/HF/v2/Neutron-Simulation-Design2/neutron-sim-design2_0081.csv', '../simulation/out/HF/v2/Neutron-Simulation-Design2/neutron-sim-design2_0082.csv', '../simulation/out/HF/v2/Neutron-Simulation-Design2/neutron-sim-design2_0083.csv', '../simulation/out/HF/v2/Neutron-Simulation-Design2/neutron-sim-design2_0084.csv', '../simulation/out/HF/v2/Neutron-Simulation-Design2/neutron-sim-design2_0085.csv', '../simulation/out/HF/v2/Neutron-Simulation-Design2/neutron-sim-design2_0086.csv', '../simulation/out/HF/v2/Neutron-Simulation-Design2/neutron-sim-design2_0087.csv', '../simulation/out/HF/v2/Neutron-Simulation-Design2/neutron-sim-design2_0088.csv', '../simulation/out/HF/v2/Neutron-Simulation-Design2/neutron-sim-design2_0089.csv', '../simulation/out/HF/v2/Neutron-Simulation-Design2/neutron-sim-design2_0090.csv', '../simulation/out/HF/v2/Neutron-Simulation-Design2/neutron-sim-design2_0091.csv', '../simulation/out/HF/v2/Neutron-Simulation-Design2/neutron-sim-design2_0092.csv', '../simulation/out/HF/v2/Neutron-Simulation-Design2/neutron-sim-design2_0093.csv', '../simulation/out/HF/v2/Neutron-Simulation-Design2/neutron-sim-design2_0094.csv', '../simulation/out/HF/v2/Neutron-Simulation-Design2/neutron-sim-design2_0095.csv', '../simulation/out/HF/v2/Neutron-Simulation-Design2/neutron-sim-design2_0096.csv', '../simulation/out/HF/v2/Neutron-Simulation-Design2/neutron-sim-design2_0097.csv', '../simulation/out/HF/v2/Neutron-Simulation-Design2/neutron-sim-design2_0098.csv', '../simulation/out/HF/v2/Neutron-Simulation-Design2/neutron-sim-design2_0099.csv', '../simulation/out/HF/v2/Neutron-Simulation-Design2/neutron-sim-design2_0100.csv', '../simulation/out/HF/v2/Neutron-Simulation-Design2/neutron-sim-design2_0101.csv', '../simulation/out/HF/v2/Neutron-Simulation-Design2/neutron-sim-design2_0102.csv', '../simulation/out/HF/v2/Neutron-Simulation-Design2/neutron-sim-design2_0103.csv', '../simulation/out/HF/v2/Neutron-Simulation-Design2/neutron-sim-design2_0104.csv', '../simulation/out/HF/v2/Neutron-Simulation-Design2/neutron-sim-design2_0105.csv', '../simulation/out/HF/v2/Neutron-Simulation-Design2/neutron-sim-design2_0106.csv', '../simulation/out/HF/v2/Neutron-Simulation-Design2/neutron-sim-design2_0107.csv', '../simulation/out/HF/v2/Neutron-Simulation-Design2/neutron-sim-design2_0108.csv', '../simulation/out/HF/v2/Neutron-Simulation-Design2/neutron-sim-design2_0109.csv', '../simulation/out/HF/v2/Neutron-Simulation-Design2/neutron-sim-design2_0110.csv', '../simulation/out/HF/v2/Neutron-Simulation-Design2/neutron-sim-design2_0111.csv', '../simulation/out/HF/v2/Neutron-Simulation-Design2/neutron-sim-design2_0112.csv', '../simulation/out/HF/v2/Neutron-Simulation-Design2/neutron-sim-design2_0113.csv', '../simulation/out/HF/v2/Neutron-Simulation-Design2/neutron-sim-design2_0115.csv', '../simulation/out/HF/v2/Neutron-Simulation-Design2/neutron-sim-design2_0116.csv', '../simulation/out/HF/v2/Neutron-Simulation-Design2/neutron-sim-design2_0117.csv', '../simulation/out/HF/v2/Neutron-Simulation-Design2/neutron-sim-design2_0118.csv', '../simulation/out/HF/v2/Neutron-Simulation-Design2/neutron-sim-design2_0119.csv', '../simulation/out/HF/v2/Neutron-Simulation-Design2/neutron-sim-design2_0120.csv', '../simulation/out/HF/v2/Neutron-Simulation-Design2/neutron-sim-design2_0121.csv', '../simulation/out/HF/v2/Neutron-Simulation-Design2/neutron-sim-design2_0122.csv', '../simulation/out/HF/v2/Neutron-Simulation-Design2/neutron-sim-design2_0123.csv', '../simulation/out/HF/v2/Neutron-Simulation-Design2/neutron-sim-design2_0124.csv', '../simulation/out/HF/v2/Neutron-Simulation-Design2/neutron-sim-design2_0125.csv', '../simulation/out/HF/v2/Neutron-Simulation-Design2/neutron-sim-design2_0126.csv', '../simulation/out/HF/v2/Neutron-Simulation-Design2/neutron-sim-design2_0127.csv', '../simulation/out/HF/v2/Neutron-Simulation-Design2/neutron-sim-design2_0128.csv', '../simulation/out/HF/v2/Neutron-Simulation-Design2/neutron-sim-design2_0129.csv', '../simulation/out/HF/v2/Neutron-Simulation-Design2/neutron-sim-design2_0130.csv', '../simulation/out/HF/v2/Neutron-Simulation-Design2/neutron-sim-design2_0131.csv', '../simulation/out/HF/v2/Neutron-Simulation-Design2/neutron-sim-design2_0132.csv', '../simulation/out/HF/v2/Neutron-Simulation-Design2/neutron-sim-design2_0133.csv', '../simulation/out/HF/v2/Neutron-Simulation-Design2/neutron-sim-design2_0134.csv', '../simulation/out/HF/v2/Neutron-Simulation-Design2/neutron-sim-design2_0135.csv', '../simulation/out/HF/v2/Neutron-Simulation-Design2/neutron-sim-design2_0136.csv', '../simulation/out/HF/v2/Neutron-Simulation-Design2/neutron-sim-design2_0137.csv', '../simulation/out/HF/v2/Neutron-Simulation-Design2/neutron-sim-design2_0138.csv', '../simulation/out/HF/v2/Neutron-Simulation-Design2/neutron-sim-design2_0139.csv', '../simulation/out/HF/v2/Neutron-Simulation-Design2/neutron-sim-design2_0140.csv', '../simulation/out/HF/v2/Neutron-Simulation-Design2/neutron-sim-design2_0141.csv', '../simulation/out/HF/v2/Neutron-Simulation-Design2/neutron-sim-design2_0142.csv', '../simulation/out/HF/v2/Neutron-Simulation-Design2/neutron-sim-design2_0143.csv', '../simulation/out/HF/v2/Neutron-Simulation-Design2/neutron-sim-design2_0144.csv', '../simulation/out/HF/v2/Neutron-Simulation-Design2/neutron-sim-design2_0145.csv', '../simulation/out/HF/v2/Neutron-Simulation-Design2/neutron-sim-design2_0146.csv', '../simulation/out/HF/v2/Neutron-Simulation-Design2/neutron-sim-design2_0147.csv', '../simulation/out/HF/v2/Neutron-Simulation-Design2/neutron-sim-design2_0148.csv', '../simulation/out/HF/v2/Neutron-Simulation-Design2/neutron-sim-design2_0149.csv', '../simulation/out/HF/v2/Neutron-Simulation-Design2/neutron-sim-design2_0150.csv', '../simulation/out/HF/v2/Neutron-Simulation-Design2/neutron-sim-design2_0152.csv', '../simulation/out/HF/v2/Neutron-Simulation-Design2/neutron-sim-design2_0153.csv', '../simulation/out/HF/v2/Neutron-Simulation-Design2/neutron-sim-design2_0154.csv', '../simulation/out/HF/v2/Neutron-Simulation-Design2/neutron-sim-design2_0155.csv', '../simulation/out/HF/v2/Neutron-Simulation-Design2/neutron-sim-design2_0157.csv', '../simulation/out/HF/v2/Neutron-Simulation-Design2/neutron-sim-design2_0158.csv', '../simulation/out/HF/v2/Neutron-Simulation-Design2/neutron-sim-design2_0159.csv', '../simulation/out/HF/v2/Neutron-Simulation-Design2/neutron-sim-design2_0160.csv', '../simulation/out/HF/v2/Neutron-Simulation-Design2/neutron-sim-design2_0161.csv', '../simulation/out/HF/v2/Neutron-Simulation-Design2/neutron-sim-design2_0162.csv', '../simulation/out/HF/v2/Neutron-Simulation-Design2/neutron-sim-design2_0164.csv', '../simulation/out/HF/v2/Neutron-Simulation-Design2/neutron-sim-design2_0165.csv', '../simulation/out/HF/v2/Neutron-Simulation-Design2/neutron-sim-design2_0166.csv', '../simulation/out/HF/v2/Neutron-Simulation-Design2/neutron-sim-design2_0167.csv', '../simulation/out/HF/v2/Neutron-Simulation-Design2/neutron-sim-design2_0168.csv', '../simulation/out/HF/v2/Neutron-Simulation-Design2/neutron-sim-design2_0169.csv', '../simulation/out/HF/v2/Neutron-Simulation-Design2/neutron-sim-design2_0170.csv', '../simulation/out/HF/v2/Neutron-Simulation-Design2/neutron-sim-design2_0171.csv', '../simulation/out/HF/v2/Neutron-Simulation-Design2/neutron-sim-design2_0172.csv', '../simulation/out/HF/v2/Neutron-Simulation-Design2/neutron-sim-design2_0173.csv', '../simulation/out/HF/v2/Neutron-Simulation-Design2/neutron-sim-design2_0174.csv', '../simulation/out/HF/v2/Neutron-Simulation-Design2/neutron-sim-design2_0175.csv', '../simulation/out/HF/v2/Neutron-Simulation-Design2/neutron-sim-design2_0176.csv', '../simulation/out/HF/v2/Neutron-Simulation-Design2/neutron-sim-design2_0177.csv', '../simulation/out/HF/v2/Neutron-Simulation-Design2/neutron-sim-design2_0178.csv', '../simulation/out/HF/v2/Neutron-Simulation-Design2/neutron-sim-design2_0179.csv', '../simulation/out/HF/v2/Neutron-Simulation-Design2/neutron-sim-design2_0180.csv', '../simulation/out/HF/v2/Neutron-Simulation-Design2/neutron-sim-design2_0182.csv', '../simulation/out/HF/v2/Neutron-Simulation-Design2/neutron-sim-design2_0184.csv', '../simulation/out/HF/v2/Neutron-Simulation-Design2/neutron-sim-design2_0185.csv', '../simulation/out/HF/v2/Neutron-Simulation-Design2/neutron-sim-design2_0188.csv', '../simulation/out/HF/v2/Neutron-Simulation-Design2/neutron-sim-design2_0189.csv', '../simulation/out/HF/v2/Neutron-Simulation-Design2/neutron-sim-design2_0190.csv', '../simulation/out/HF/v2/Neutron-Simulation-Design2/neutron-sim-design2_0191.csv', '../simulation/out/HF/v2/Neutron-Simulation-Design2/neutron-sim-design2_0192.csv', '../simulation/out/HF/v2/Neutron-Simulation-Design2/neutron-sim-design2_0193.csv', '../simulation/out/HF/v2/Neutron-Simulation-Design2/neutron-sim-design2_0194.csv', '../simulation/out/HF/v2/Neutron-Simulation-Design2/neutron-sim-design2_0195.csv', '../simulation/out/HF/v2/Neutron-Simulation-Design2/neutron-sim-design2_0196.csv', '../simulation/out/HF/v2/Neutron-Simulation-Design2/neutron-sim-design2_0197.csv', '../simulation/out/HF/v2/Neutron-Simulation-Design2/neutron-sim-design2_0198.csv', '../simulation/out/HF/v2/Neutron-Simulation-Design2/neutron-sim-design2_0199.csv', '../simulation/out/HF/v2/Neutron-Simulation-Design2/neutron-sim-design2_0200.csv', '../simulation/out/HF/v2/Neutron-Simulation-Design2/neutron-sim-design2_0201.csv', '../simulation/out/HF/v2/Neutron-Simulation-Design2/neutron-sim-design2_0202.csv', '../simulation/out/HF/v2/Neutron-Simulation-Design2/neutron-sim-design2_0204.csv', '../simulation/out/HF/v2/Neutron-Simulation-Design2/neutron-sim-design2_0205.csv', '../simulation/out/HF/v2/Neutron-Simulation-Design2/neutron-sim-design2_0206.csv', '../simulation/out/HF/v2/Neutron-Simulation-Design2/neutron-sim-design2_0207.csv', '../simulation/out/HF/v2/Neutron-Simulation-Design2/neutron-sim-design2_0208.csv', '../simulation/out/HF/v2/Neutron-Simulation-Design2/neutron-sim-design2_0209.csv'])\n"
     ]
    },
    {
     "name": "stderr",
     "output_type": "stream",
     "text": [
      "100%|██████████| 193/193 [00:06<00:00, 30.78it/s]\n"
     ]
    }
   ],
   "source": [
    "# read in HF simulations\n",
    "hf_sims=[0,1,2]\n",
    "nHF=len(hf_sims)\n",
    "for i,m in enumerate(hf_sims):\n",
    "    filename=f'../simulation/out/HF/v2/Neutron-Simulation-Design{m}/neutron-sim-design{m}'\n",
    "    tmp=read_design_parameters(filename)\n",
    "    sim_mode.append(tmp[0])\n",
    "    design.append(float(tmp[1]))\n",
    "    radius.append(float(tmp[2]))\n",
    "    height.append(float(tmp[7]))\n",
    "    thickness.append(float(tmp[3]))\n",
    "    volume.append(float(tmp[9]))\n",
    "    Length.append(float(tmp[6]))\n",
    "    phi.append(float(tmp[4]))\n",
    "    theta.append(float(tmp[5]))\n",
    "    zpos.append(float(tmp[8]))\n",
    "    npanels.append(360)\n",
    "    [nCA000,nCZ000,cross_cryo000] = read_csv(filename)\n",
    "    nprimaries.append(50000*len(get_all_files(filename,ending='.csv')))\n",
    "    iidx.append(len(nCA))\n",
    "    nCA.extend(nCA000)\n",
    "    nCZ.extend(nCZ000)\n",
    "    cross_cryo.extend(cross_cryo000)\n"
   ]
  },
  {
   "cell_type": "code",
   "execution_count": 9,
   "metadata": {},
   "outputs": [],
   "source": [
    "iidx.append(len(nCA))"
   ]
  },
  {
   "cell_type": "code",
   "execution_count": 10,
   "metadata": {},
   "outputs": [],
   "source": [
    "scaling=1.365\n",
    "Ge77factor=2599.8512051851676*scaling\n",
    "Ge77factor_err=52.446566098836236*scaling\n",
    "Ge77LFscaling=1494984/10100000\n",
    "Ge77LFscaling_err=np.sqrt(1494984)/10100000\n",
    "Ge77HFscaling=1\n",
    "\n",
    "def fNPrimariesLF(scaling, n_neutrons):\n",
    "    return n_neutrons/scaling\n",
    "def fGe77Rate(nCZ,Ge77factor,nprimaries):\n",
    "    return nCZ*(Ge77factor/nprimaries)"
   ]
  },
  {
   "cell_type": "code",
   "execution_count": 11,
   "metadata": {},
   "outputs": [],
   "source": [
    "def monte_carlo_simulations(rate_mean, rate_std, n_iter=10000):\n",
    "    outputs = []\n",
    "    for i in range(n_iter):\n",
    "        result = random.normalvariate(rate_mean, rate_std)\n",
    "        outputs.append(result)\n",
    "    return outputs\n",
    "\n",
    "def gauss(x, A, mean, sigma):\n",
    "    return A * np.exp(-(x - mean) ** 2 / (2 * sigma ** 2))\n",
    "\n",
    "def Ge77MonteCarlosSim(nevt,Ge77factor,nprimaries):\n",
    "    nevt_std=np.sqrt(nevt)\n",
    "    events = monte_carlo_simulations(nevt,nevt_std)\n",
    "    results = [fGe77Rate(k,Ge77factor,nprimaries) for k in events]\n",
    "    values, bins = np.histogram(results, bins=100)    \n",
    "    x = (bins[:-1] + bins[1:]) / 2\n",
    "    #plt.scatter(x,values)\n",
    "    parameters, covariance = curve_fit(gauss, x, values, p0 = [250, fGe77Rate(nevt,Ge77factor,nprimaries), fGe77Rate(nevt_std,Ge77factor,nprimaries)])\n",
    "    #plt.plot(x,gauss(x,parameters[0],parameters[1],parameters[2]))\n",
    "    return parameters[2]"
   ]
  },
  {
   "cell_type": "code",
   "execution_count": 12,
   "metadata": {},
   "outputs": [],
   "source": [
    "Ge77 = []\n",
    "Ge77err = []\n",
    "Ge77Rate_err = []\n",
    "Ge77Rate = []\n",
    "Ge77Rate1 = []\n",
    "n_neutrons = []\n",
    "Ge77Eff_err = []\n",
    "Ge77Eff = []\n",
    "Ge77Rate_err_stat = []\n",
    "\n",
    "for j in range(len(iidx)-1):\n",
    "    itmp=int(j/3)\n",
    "    iitmp=int(j%3)\n",
    "    length=iidx[j+1]-iidx[j]\n",
    "\n",
    "    #nCZtmp2=[nCZ[i] for i in range(iidx[j],iidx[j+1],1) if nCZ[i]==32 and nCA[i]==77]\n",
    "    nCGe77=len([nCZ[i] for i in range(iidx[j],iidx[j+1],1) if nCZ[i]==32 and nCA[i]==77 and cross_cryo[i]!=-1])\n",
    "    nneutrons=len([cross_cryo[i] for i in range(iidx[j],iidx[j+1],1) if cross_cryo[i]!=-1])\n",
    "    GeEvents = []\n",
    "\n",
    "    if j < nLF:\n",
    "        n_neutrons.append(length)\n",
    "        nprims=length/Ge77LFscaling\n",
    "\n",
    "        err_x3=nCGe77*(Ge77factor*Ge77LFscaling/(n_neutrons[j]**2))*np.sqrt(n_neutrons[j])\n",
    "        err_x4=nCGe77*(Ge77factor*Ge77LFscaling_err/n_neutrons[j])\n",
    "        \n",
    "\n",
    "    else:\n",
    "        n_neutrons.append(nneutrons)\n",
    "        nprims=nprimaries[j]\n",
    "        err_x3=nCGe77*(Ge77factor/(nprims**2))*np.sqrt(nprims)\n",
    "        err_x4=0\n",
    "\n",
    "    err_x1=np.sqrt(nCGe77)*(Ge77factor/nprims)\n",
    "    err_x2=nCGe77*(Ge77factor_err/nprims)\n",
    "    \n",
    "    err_xx1=np.sqrt(nCGe77)/nneutrons\n",
    "    err_xx2=nCGe77/nneutrons**2*np.sqrt(nneutrons)\n",
    "\n",
    "    Ge77Rate_err_stat.append(Ge77MonteCarlosSim(nCGe77,Ge77factor,nprims))\n",
    "\n",
    "    Ge77.append(nCGe77)\n",
    "    Ge77err.append(np.sqrt(nCGe77))\n",
    "    Ge77Rate.append(fGe77Rate(nCGe77,Ge77factor,nprims))\n",
    "    Ge77Rate_err.append(np.sqrt(err_x1**2+err_x2**2+err_x3**2+err_x4**2))\n",
    "    Ge77Eff.append(Ge77[j]/nneutrons)\n",
    "    Ge77Eff_err.append(np.sqrt(err_xx1**2+err_xx2**2))\n",
    "\n"
   ]
  },
  {
   "cell_type": "code",
   "execution_count": 13,
   "metadata": {},
   "outputs": [
    {
     "data": {
      "image/png": "[encoded data removed]",
      "text/plain": [
       "<Figure size 640x480 with 3 Axes>"
      ]
     },
     "metadata": {},
     "output_type": "display_data"
    }
   ],
   "source": [
    "fig, (ax1,ax2,ax3)= plt.subplots(3,1)\n",
    "ax1.grid(color='gray', linestyle='-', linewidth=0.5)\n",
    "\n",
    "ax1.errorbar(radius[0:nLF],np.array(np.array(Ge77))[0:nLF],np.array(np.sqrt(np.array(Ge77)))[0:nLF],ls='none')\n",
    "ax1.scatter(radius[0:nLF],np.array(np.array(Ge77))[0:nLF],label='LF')\n",
    "ax1.errorbar(radius[nLF:],np.array(np.array(Ge77))[nLF:],np.array(np.sqrt(np.array(Ge77)))[nLF:],ls='none',color='red')\n",
    "ax1.scatter(radius[nLF:],np.array(np.array(Ge77))[nLF:],color='red',label='HF')\n",
    "ax1.set_ylabel('$n_{Ge77}$')\n",
    "ax1.set_yscale('log')\n",
    "ax1.legend(loc='upper right')\n",
    "\n",
    "ax2.grid(color='gray', linestyle='-', linewidth=0.5)\n",
    "ax2.errorbar(radius[0:-nHF],Ge77Eff[0:-nHF],Ge77Eff_err[0:-nHF],ls='none')\n",
    "ax2.scatter(radius[0:-nHF],np.array(np.array(Ge77)/np.array(n_neutrons))[0:-nHF],label='LF')\n",
    "ax2.errorbar(radius[-nHF:],Ge77Eff[-nHF:],Ge77Eff_err[-nHF:],ls='none',color='red')\n",
    "ax2.scatter(radius[-nHF:],np.array(np.array(Ge77)/np.array(n_neutrons))[-nHF:],color='red',label='HF')\n",
    "ax2.set_ylabel('$n_{Ge77}/n_\\mu$')\n",
    "\n",
    "\n",
    "ax3.grid(color='gray', linestyle='-', linewidth=0.5)\n",
    "ax3.scatter(radius[0:-nHF],Ge77Rate[0:-nHF],label='LF')\n",
    "ax3.errorbar(radius[0:-nHF],Ge77Rate[0:-nHF],Ge77Rate_err[0:-nHF],ls='none')\n",
    "\n",
    "ax3.errorbar(radius[-nHF:],Ge77Rate[-nHF:],Ge77Rate_err[-nHF:],ls='none',color='red')\n",
    "ax3.scatter(radius[-nHF:],Ge77Rate[-nHF:],color='red',label='HF')\n",
    "ax3.set_ylabel('[nucleus/(kg yr)]')\n",
    "fig.savefig(f'out/{version}/neutron-Ge77-capture-comparision_{version}.png')"
   ]
  },
  {
   "cell_type": "code",
   "execution_count": 14,
   "metadata": {},
   "outputs": [
    {
     "data": {
      "text/html": [
       "<div>\n",
       "<style scoped>\n",
       "    .dataframe tbody tr th:only-of-type {\n",
       "        vertical-align: middle;\n",
       "    }\n",
       "\n",
       "    .dataframe tbody tr th {\n",
       "        vertical-align: top;\n",
       "    }\n",
       "\n",
       "    .dataframe thead th {\n",
       "        text-align: right;\n",
       "    }\n",
       "</style>\n",
       "<table border=\"1\" class=\"dataframe\">\n",
       "  <thead>\n",
       "    <tr style=\"text-align: right;\">\n",
       "      <th></th>\n",
       "      <th>Mode</th>\n",
       "      <th>Design</th>\n",
       "      <th>Radius[cm]</th>\n",
       "      <th>Thickness[cm]</th>\n",
       "      <th>NPanels</th>\n",
       "      <th>Phi[deg]</th>\n",
       "      <th>Theta[deg]</th>\n",
       "      <th>Length[cm]</th>\n",
       "      <th>Height[cm]</th>\n",
       "      <th>ZPosition[cm]</th>\n",
       "      <th>Volume[cm3]</th>\n",
       "      <th>Ge-77[nevents]</th>\n",
       "      <th>Ge-77_err[nevents]</th>\n",
       "      <th>Ge77-Eff</th>\n",
       "      <th>Ge77-Eff_err</th>\n",
       "      <th>Ge77-Rate[nucleus/(kg yr)]</th>\n",
       "      <th>Ge77-Rate_err[nucleus/(kg yr)]</th>\n",
       "      <th>Ge77-Rate_err_stat[nucleus/(kg yr)]</th>\n",
       "      <th>nprimaries</th>\n",
       "      <th>total_neutrons</th>\n",
       "    </tr>\n",
       "  </thead>\n",
       "  <tbody>\n",
       "    <tr>\n",
       "      <th>0</th>\n",
       "      <td>LF</td>\n",
       "      <td>4.0</td>\n",
       "      <td>124.0</td>\n",
       "      <td>16.0</td>\n",
       "      <td>196.0</td>\n",
       "      <td>105.237146</td>\n",
       "      <td>18.0</td>\n",
       "      <td>3.0</td>\n",
       "      <td>300.0</td>\n",
       "      <td>42.0</td>\n",
       "      <td>4792806.91</td>\n",
       "      <td>37</td>\n",
       "      <td>6.082763</td>\n",
       "      <td>0.000319</td>\n",
       "      <td>0.000052</td>\n",
       "      <td>0.157468</td>\n",
       "      <td>0.026086</td>\n",
       "      <td>0.025432</td>\n",
       "      <td>50000</td>\n",
       "      <td>123426</td>\n",
       "    </tr>\n",
       "    <tr>\n",
       "      <th>1</th>\n",
       "      <td>LF</td>\n",
       "      <td>4.0</td>\n",
       "      <td>200.0</td>\n",
       "      <td>7.0</td>\n",
       "      <td>230.0</td>\n",
       "      <td>89.680351</td>\n",
       "      <td>27.0</td>\n",
       "      <td>134.0</td>\n",
       "      <td>300.0</td>\n",
       "      <td>42.0</td>\n",
       "      <td>66606597.45</td>\n",
       "      <td>41</td>\n",
       "      <td>6.403124</td>\n",
       "      <td>0.000391</td>\n",
       "      <td>0.000061</td>\n",
       "      <td>0.192992</td>\n",
       "      <td>0.030397</td>\n",
       "      <td>0.029726</td>\n",
       "      <td>50000</td>\n",
       "      <td>111594</td>\n",
       "    </tr>\n",
       "    <tr>\n",
       "      <th>2</th>\n",
       "      <td>LF</td>\n",
       "      <td>4.0</td>\n",
       "      <td>139.0</td>\n",
       "      <td>8.0</td>\n",
       "      <td>95.0</td>\n",
       "      <td>217.120849</td>\n",
       "      <td>4.0</td>\n",
       "      <td>17.0</td>\n",
       "      <td>300.0</td>\n",
       "      <td>42.0</td>\n",
       "      <td>4962186.81</td>\n",
       "      <td>31</td>\n",
       "      <td>5.567764</td>\n",
       "      <td>0.000264</td>\n",
       "      <td>0.000047</td>\n",
       "      <td>0.130581</td>\n",
       "      <td>0.023604</td>\n",
       "      <td>0.023319</td>\n",
       "      <td>50000</td>\n",
       "      <td>124703</td>\n",
       "    </tr>\n",
       "    <tr>\n",
       "      <th>3</th>\n",
       "      <td>LF</td>\n",
       "      <td>4.0</td>\n",
       "      <td>198.0</td>\n",
       "      <td>7.0</td>\n",
       "      <td>357.0</td>\n",
       "      <td>57.777257</td>\n",
       "      <td>28.0</td>\n",
       "      <td>45.0</td>\n",
       "      <td>300.0</td>\n",
       "      <td>42.0</td>\n",
       "      <td>35584856.04</td>\n",
       "      <td>40</td>\n",
       "      <td>6.324555</td>\n",
       "      <td>0.000358</td>\n",
       "      <td>0.000057</td>\n",
       "      <td>0.176968</td>\n",
       "      <td>0.028213</td>\n",
       "      <td>0.027981</td>\n",
       "      <td>50000</td>\n",
       "      <td>118730</td>\n",
       "    </tr>\n",
       "    <tr>\n",
       "      <th>4</th>\n",
       "      <td>LF</td>\n",
       "      <td>4.0</td>\n",
       "      <td>116.0</td>\n",
       "      <td>11.0</td>\n",
       "      <td>67.0</td>\n",
       "      <td>307.857920</td>\n",
       "      <td>7.0</td>\n",
       "      <td>144.0</td>\n",
       "      <td>300.0</td>\n",
       "      <td>42.0</td>\n",
       "      <td>32953156.45</td>\n",
       "      <td>29</td>\n",
       "      <td>5.385165</td>\n",
       "      <td>0.000254</td>\n",
       "      <td>0.000047</td>\n",
       "      <td>0.125613</td>\n",
       "      <td>0.023466</td>\n",
       "      <td>0.023465</td>\n",
       "      <td>50000</td>\n",
       "      <td>121272</td>\n",
       "    </tr>\n",
       "    <tr>\n",
       "      <th>...</th>\n",
       "      <td>...</td>\n",
       "      <td>...</td>\n",
       "      <td>...</td>\n",
       "      <td>...</td>\n",
       "      <td>...</td>\n",
       "      <td>...</td>\n",
       "      <td>...</td>\n",
       "      <td>...</td>\n",
       "      <td>...</td>\n",
       "      <td>...</td>\n",
       "      <td>...</td>\n",
       "      <td>...</td>\n",
       "      <td>...</td>\n",
       "      <td>...</td>\n",
       "      <td>...</td>\n",
       "      <td>...</td>\n",
       "      <td>...</td>\n",
       "      <td>...</td>\n",
       "      <td>...</td>\n",
       "      <td>...</td>\n",
       "    </tr>\n",
       "    <tr>\n",
       "      <th>301</th>\n",
       "      <td>LF</td>\n",
       "      <td>3.0</td>\n",
       "      <td>200.0</td>\n",
       "      <td>10.0</td>\n",
       "      <td>360.0</td>\n",
       "      <td>0.000000</td>\n",
       "      <td>0.0</td>\n",
       "      <td>3.5</td>\n",
       "      <td>300.0</td>\n",
       "      <td>42.0</td>\n",
       "      <td>4702964.00</td>\n",
       "      <td>39</td>\n",
       "      <td>6.244998</td>\n",
       "      <td>0.000340</td>\n",
       "      <td>0.000055</td>\n",
       "      <td>0.168672</td>\n",
       "      <td>0.027227</td>\n",
       "      <td>0.026511</td>\n",
       "      <td>50000</td>\n",
       "      <td>121456</td>\n",
       "    </tr>\n",
       "    <tr>\n",
       "      <th>302</th>\n",
       "      <td>LF</td>\n",
       "      <td>0.0</td>\n",
       "      <td>0.0</td>\n",
       "      <td>0.0</td>\n",
       "      <td>0.0</td>\n",
       "      <td>0.000000</td>\n",
       "      <td>0.0</td>\n",
       "      <td>0.0</td>\n",
       "      <td>0.0</td>\n",
       "      <td>0.0</td>\n",
       "      <td>0.00</td>\n",
       "      <td>76</td>\n",
       "      <td>8.717798</td>\n",
       "      <td>0.000626</td>\n",
       "      <td>0.000072</td>\n",
       "      <td>0.308966</td>\n",
       "      <td>0.035996</td>\n",
       "      <td>0.034959</td>\n",
       "      <td>50000</td>\n",
       "      <td>129211</td>\n",
       "    </tr>\n",
       "    <tr>\n",
       "      <th>303</th>\n",
       "      <td>HF</td>\n",
       "      <td>0.0</td>\n",
       "      <td>0.0</td>\n",
       "      <td>0.0</td>\n",
       "      <td>360.0</td>\n",
       "      <td>0.000000</td>\n",
       "      <td>0.0</td>\n",
       "      <td>0.0</td>\n",
       "      <td>0.0</td>\n",
       "      <td>0.0</td>\n",
       "      <td>42.00</td>\n",
       "      <td>780</td>\n",
       "      <td>27.928480</td>\n",
       "      <td>0.000522</td>\n",
       "      <td>0.000019</td>\n",
       "      <td>0.274066</td>\n",
       "      <td>0.011264</td>\n",
       "      <td>0.009900</td>\n",
       "      <td>10100000</td>\n",
       "      <td>1494984</td>\n",
       "    </tr>\n",
       "    <tr>\n",
       "      <th>304</th>\n",
       "      <td>HF</td>\n",
       "      <td>3.0</td>\n",
       "      <td>95.0</td>\n",
       "      <td>10.0</td>\n",
       "      <td>360.0</td>\n",
       "      <td>360.000000</td>\n",
       "      <td>0.0</td>\n",
       "      <td>0.0</td>\n",
       "      <td>1.7</td>\n",
       "      <td>300.0</td>\n",
       "      <td>42.00</td>\n",
       "      <td>456</td>\n",
       "      <td>21.354157</td>\n",
       "      <td>0.000359</td>\n",
       "      <td>0.000017</td>\n",
       "      <td>0.174946</td>\n",
       "      <td>0.008921</td>\n",
       "      <td>0.008166</td>\n",
       "      <td>9250000</td>\n",
       "      <td>1269722</td>\n",
       "    </tr>\n",
       "    <tr>\n",
       "      <th>305</th>\n",
       "      <td>HF</td>\n",
       "      <td>3.0</td>\n",
       "      <td>200.0</td>\n",
       "      <td>10.0</td>\n",
       "      <td>360.0</td>\n",
       "      <td>360.000000</td>\n",
       "      <td>0.0</td>\n",
       "      <td>0.0</td>\n",
       "      <td>3.5</td>\n",
       "      <td>300.0</td>\n",
       "      <td>42.00</td>\n",
       "      <td>380</td>\n",
       "      <td>19.493589</td>\n",
       "      <td>0.000308</td>\n",
       "      <td>0.000016</td>\n",
       "      <td>0.139745</td>\n",
       "      <td>0.007703</td>\n",
       "      <td>0.007164</td>\n",
       "      <td>9650000</td>\n",
       "      <td>1235106</td>\n",
       "    </tr>\n",
       "  </tbody>\n",
       "</table>\n",
       "<p>306 rows × 20 columns</p>\n",
       "</div>"
      ],
      "text/plain": [
       "    Mode  Design  Radius[cm]  Thickness[cm]  NPanels    Phi[deg]  Theta[deg]   \n",
       "0     LF     4.0       124.0           16.0    196.0  105.237146        18.0  \\\n",
       "1     LF     4.0       200.0            7.0    230.0   89.680351        27.0   \n",
       "2     LF     4.0       139.0            8.0     95.0  217.120849         4.0   \n",
       "3     LF     4.0       198.0            7.0    357.0   57.777257        28.0   \n",
       "4     LF     4.0       116.0           11.0     67.0  307.857920         7.0   \n",
       "..   ...     ...         ...            ...      ...         ...         ...   \n",
       "301   LF     3.0       200.0           10.0    360.0    0.000000         0.0   \n",
       "302   LF     0.0         0.0            0.0      0.0    0.000000         0.0   \n",
       "303   HF     0.0         0.0            0.0    360.0    0.000000         0.0   \n",
       "304   HF     3.0        95.0           10.0    360.0  360.000000         0.0   \n",
       "305   HF     3.0       200.0           10.0    360.0  360.000000         0.0   \n",
       "\n",
       "     Length[cm]  Height[cm]  ZPosition[cm]  Volume[cm3]  Ge-77[nevents]   \n",
       "0           3.0       300.0           42.0   4792806.91              37  \\\n",
       "1         134.0       300.0           42.0  66606597.45              41   \n",
       "2          17.0       300.0           42.0   4962186.81              31   \n",
       "3          45.0       300.0           42.0  35584856.04              40   \n",
       "4         144.0       300.0           42.0  32953156.45              29   \n",
       "..          ...         ...            ...          ...             ...   \n",
       "301         3.5       300.0           42.0   4702964.00              39   \n",
       "302         0.0         0.0            0.0         0.00              76   \n",
       "303         0.0         0.0            0.0        42.00             780   \n",
       "304         0.0         1.7          300.0        42.00             456   \n",
       "305         0.0         3.5          300.0        42.00             380   \n",
       "\n",
       "     Ge-77_err[nevents]  Ge77-Eff  Ge77-Eff_err  Ge77-Rate[nucleus/(kg yr)]   \n",
       "0              6.082763  0.000319      0.000052                    0.157468  \\\n",
       "1              6.403124  0.000391      0.000061                    0.192992   \n",
       "2              5.567764  0.000264      0.000047                    0.130581   \n",
       "3              6.324555  0.000358      0.000057                    0.176968   \n",
       "4              5.385165  0.000254      0.000047                    0.125613   \n",
       "..                  ...       ...           ...                         ...   \n",
       "301            6.244998  0.000340      0.000055                    0.168672   \n",
       "302            8.717798  0.000626      0.000072                    0.308966   \n",
       "303           27.928480  0.000522      0.000019                    0.274066   \n",
       "304           21.354157  0.000359      0.000017                    0.174946   \n",
       "305           19.493589  0.000308      0.000016                    0.139745   \n",
       "\n",
       "     Ge77-Rate_err[nucleus/(kg yr)]  Ge77-Rate_err_stat[nucleus/(kg yr)]   \n",
       "0                          0.026086                             0.025432  \\\n",
       "1                          0.030397                             0.029726   \n",
       "2                          0.023604                             0.023319   \n",
       "3                          0.028213                             0.027981   \n",
       "4                          0.023466                             0.023465   \n",
       "..                              ...                                  ...   \n",
       "301                        0.027227                             0.026511   \n",
       "302                        0.035996                             0.034959   \n",
       "303                        0.011264                             0.009900   \n",
       "304                        0.008921                             0.008166   \n",
       "305                        0.007703                             0.007164   \n",
       "\n",
       "     nprimaries  total_neutrons  \n",
       "0         50000          123426  \n",
       "1         50000          111594  \n",
       "2         50000          124703  \n",
       "3         50000          118730  \n",
       "4         50000          121272  \n",
       "..          ...             ...  \n",
       "301       50000          121456  \n",
       "302       50000          129211  \n",
       "303    10100000         1494984  \n",
       "304     9250000         1269722  \n",
       "305     9650000         1235106  \n",
       "\n",
       "[306 rows x 20 columns]"
      ]
     },
     "execution_count": 14,
     "metadata": {},
     "output_type": "execute_result"
    }
   ],
   "source": [
    "#np.set_printoptions(threshold=sys.maxsize)\n",
    "df = pd.DataFrame({'Mode': sim_mode, 'Design': design, 'Radius[cm]': radius, 'Thickness[cm]': thickness, 'NPanels': npanels, 'Phi[deg]': phi, 'Theta[deg]': theta, 'Length[cm]':Length, 'Height[cm]': height, 'ZPosition[cm]':zpos, 'Volume[cm3]':volume, 'Ge-77[nevents]':Ge77, 'Ge-77_err[nevents]':np.sqrt(np.array(Ge77)), 'Ge77-Eff': Ge77Eff, 'Ge77-Eff_err': Ge77Eff_err, 'Ge77-Rate[nucleus/(kg yr)]': Ge77Rate, 'Ge77-Rate_err[nucleus/(kg yr)]': Ge77Rate_err, 'Ge77-Rate_err_stat[nucleus/(kg yr)]': Ge77Rate_err_stat, 'nprimaries':nprimaries, 'total_neutrons': n_neutrons})\n",
    "df"
   ]
  },
  {
   "cell_type": "code",
   "execution_count": 31,
   "metadata": {},
   "outputs": [
    {
     "data": {
      "image/png": "[encoded data removed]",
      "text/plain": [
       "<Figure size 1000x400 with 1 Axes>"
      ]
     },
     "metadata": {},
     "output_type": "display_data"
    }
   ],
   "source": [
    "\n",
    "values, bins = np.histogram(Ge77Rate_err_stat[0:nLF], bins=10)    \n",
    "x = (bins[:-1] + bins[1:]) / 2\n",
    "#plt.scatter(x,values)\n",
    "plt.figure(figsize=(10,4))\n",
    "plt.axhline(y = np.mean(Ge77Rate_err_stat[0:nLF]), color = 'y')\n",
    "plt.plot(radius[0:nLF],Ge77Rate_err_stat[0:nLF],'b',marker=\".\",linewidth=0)\n",
    "\n",
    "# only one line may be specified; full height\n",
    "\n",
    "ymin=np.mean(Ge77Rate_err_stat[0:nLF])-1*np.std(Ge77Rate_err_stat[0:nLF])\n",
    "ymax=np.mean(Ge77Rate_err_stat[0:nLF])+1*np.std(Ge77Rate_err_stat[0:nLF])\n",
    "x=[i for i in range(90,265)]\n",
    "y1=[ymin for i in range(90,265)]\n",
    "y2=[ymax for i in range(90,265)]\n",
    "plt.fill_between(x,y1,y2,color='y', alpha=0.3)\n",
    "plt.xlim(90.,265.)\n",
    "plt.xlabel('Radius [cm]')\n",
    "plt.ylabel(r'$\\sigma\\,\\rm [nuclei/(kg \\cdot yr)]$')\n",
    "err_min=np.min(Ge77Rate_err_stat[0:nLF])*1.\n",
    "plt.text(220,err_min,f\"mean = {np.round(np.mean(Ge77Rate_err_stat[0:nLF]),5)} +- {np.round(np.std(Ge77Rate_err_stat[0:nLF]),5)}\",fontsize=8)\n",
    "plt.savefig(f\"out/{version}/noise_LF_{version}.png\")"
   ]
  },
  {
   "cell_type": "code",
   "execution_count": 29,
   "metadata": {},
   "outputs": [],
   "source": [
    "f=open(f'out/{version}/Ge77_rates_{version}.csv',\"w\")\n",
    "f.write(f\"# LF noise: mean = {np.mean(Ge77Rate_err_stat[0:nLF])} +- {np.std(Ge77Rate_err_stat[0:nLF])}\"+\"\\n\")\n",
    "f.close()\n",
    "df.to_csv(f'out/{version}/Ge77_rates_{version}.csv',mode='a')"
   ]
  },
  {
   "cell_type": "code",
   "execution_count": null,
   "metadata": {},
   "outputs": [],
   "source": []
  }
 ],
 "metadata": {
  "kernelspec": {
   "display_name": "legend",
   "language": "python",
   "name": "python3"
  },
  "language_info": {
   "codemirror_mode": {
    "name": "ipython",
    "version": 3
   },
   "file_extension": ".py",
   "mimetype": "text/x-python",
   "name": "python",
   "nbconvert_exporter": "python",
   "pygments_lexer": "ipython3",
   "version": "3.10.9"
  }
 },
 "nbformat": 4,
 "nbformat_minor": 4
}
