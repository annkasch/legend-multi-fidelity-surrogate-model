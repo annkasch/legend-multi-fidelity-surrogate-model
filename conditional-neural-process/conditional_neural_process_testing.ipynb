{
 "cells": [
  {
   "cell_type": "markdown",
   "metadata": {},
   "source": [
    "# Conditional Neural Processes (CNP) for 1D regression.\n",
    "[Conditional Neural Processes](https://arxiv.org/pdf/1807.01613.pdf) (CNPs) were\n",
    "introduced as a continuation of\n",
    "[Generative Query Networks](https://deepmind.com/blog/neural-scene-representation-and-rendering/)\n",
    "(GQN) to extend its training regime to tasks beyond scene rendering, e.g. to\n",
    "regression and classification."
   ]
  },
  {
   "cell_type": "code",
   "execution_count": 1,
   "metadata": {},
   "outputs": [
    {
     "name": "stdout",
     "output_type": "stream",
     "text": [
      "importing Jupyter notebook from conditional_neural_process_model.ipynb\n"
     ]
    }
   ],
   "source": [
    "import torch\n",
    "import torch.nn as nn\n",
    "import matplotlib.pyplot as plt\n",
    "import datetime\n",
    "import numpy as np\n",
    "import torchsnooper\n",
    "import plotting_utils_cnp as plotting\n",
    "import data_generator as data\n",
    "from matplotlib.backends.backend_pdf import PdfPages\n",
    "import pandas as pd\n",
    "import dask.dataframe as dd\n",
    "import sys\n",
    "sys.path.append('../utilities')\n",
    "import utilities as utils\n",
    "import import_ipynb\n",
    "import conditional_neural_process_model as cnp"
   ]
  },
  {
   "cell_type": "markdown",
   "metadata": {},
   "source": [
    "## Running Conditional Neural Processes\n",
    "\n",
    "Now that we have defined the dataset as well as our model and its components we\n",
    "can start building everything into the graph. Before we get started we need to\n",
    "set some variables:\n",
    "\n",
    "*   **`TRAINING_ITERATIONS`** - a scalar that describes the number of iterations\n",
    "    for training. At each iteration we will sample a new batch of functions from\n",
    "    the GP, pick some of the points on the curves as our context points **(x,\n",
    "    y)<sub>C</sub>** and some points as our target points **(x,\n",
    "    y)<sub>T</sub>**. We will predict the mean and variance at the target points\n",
    "    given the context and use the log likelihood of the ground truth targets as\n",
    "    our loss to update the model.\n",
    "*   **`MAX_CONTEXT_POINTS`** - a scalar that sets the maximum number of contest\n",
    "    points used during training. The number of context points will then be a\n",
    "    value between 3 and `MAX_CONTEXT_POINTS` that is sampled at random for every\n",
    "    iteration.\n",
    "*   **`PLOT_AFTER`** - a scalar that regulates how often we plot the\n",
    "    intermediate results."
   ]
  },
  {
   "cell_type": "code",
   "execution_count": 2,
   "metadata": {},
   "outputs": [],
   "source": [
    "TRAINING_ITERATIONS = int(3540) # Total number of training points: training_iterations * batch_size * max_content_points\n",
    "#BATCH_SIZE = 100 # number of simulation configurations\n",
    "\n",
    "MAX_CONTEXT_POINTS = 1000 # 2000 # 4000\n",
    "MAX_TARGET_POINTS =  2000 # 4000 # 8000\n",
    "CONTEXT_IS_SUBSET = True\n",
    "BATCH_SIZE = 1\n",
    "CONFIG_WISE = False\n",
    "PLOT_AFTER = int(200)\n",
    "torch.manual_seed(0)\n",
    "\n",
    "# all available x config/ physics parameters are [\"radius\",\"thickness\",\"npanels\",\"theta\",\"length\",\"height\",\"z_offset\",\"volume\",\"nC_Ge77\",\"time_0[ms]\",\"x_0[m]\",\"y_0[m]\",\"z_0[m]\",\"px_0[m]\",\"py_0[m]\",\"pz_0[m]\",\"ekin_0[eV]\",\"edep_0[eV]\",\"time_t[ms]\",\"x_t[m]\",\"y_t[m]\",\"z_t[m]\",\"px_t[m]\",\"py_t[m]\",\"pz_t[m]\",\"ekin_t[eV]\",\"edep_t[eV]\",\"nsec\"]\n",
    "# Comment: if using data version v1.1 for training, \"radius\",\"thickness\",\"npanels\",\"theta\",\"length\" is probably necessary\n",
    "names_x=[\"radius\",\"thickness\",\"npanels\",\"theta\",\"length\",\"r_0[m]\",\"z_0[m]\",\"time_t[ms]\",\"r_t[m]\",\"z_t[m]\",\"L_t[m]\",\"ln(E0vsET)\",\"edep_t[eV]\",\"nsec\"]\n",
    "name_y ='total_nC_Ge77[cts]'\n",
    "x_size = len(names_x)\n",
    "if isinstance(name_y,str):\n",
    "    y_size = 1\n",
    "else:\n",
    "    y_size = len(name_y)\n",
    "\n",
    "RATIO_TESTING_VS_TRAINING = 1/40\n",
    "version_cnp=\"v1.6\"\n",
    "version_lf=\"v1.4\"\n",
    "version_hf=\"v1.3\"\n",
    "path_to_files=f\"../simulation/out/LF/{version_lf}/tier2/\"\n",
    "path_out = f'./out/'\n",
    "f_out = f'{path_out}CNPGauss_{version_cnp}_{TRAINING_ITERATIONS}_c{MAX_CONTEXT_POINTS}_t{MAX_TARGET_POINTS}'"
   ]
  },
  {
   "cell_type": "code",
   "execution_count": 3,
   "metadata": {},
   "outputs": [],
   "source": [
    "# Set data augmentation parameters\n",
    "USE_DATA_AUGMENTATION = \"mixup\" #\"smote\" #False #\"mixup\"\n",
    "USE_BETA = [0.1,0.1] # uniform => None, beta => [a,b] U-shape [0.1,0.1] Uniform [1.,1.] falling [0.2,0.5] rising [0.2,0.5]\n",
    "SIGNAL_TO_BACKGROUND_RATIO = \"\" # \"_1to4\" # used for smote augmentation\n",
    "\n",
    "if USE_DATA_AUGMENTATION:\n",
    "    path_out = f'./out/{USE_DATA_AUGMENTATION}/'\n",
    "    f_out = f'CNPGauss_{version_cnp}_{TRAINING_ITERATIONS}_c{MAX_CONTEXT_POINTS}_t{MAX_TARGET_POINTS}_{USE_DATA_AUGMENTATION}{SIGNAL_TO_BACKGROUND_RATIO}'\n",
    "    if USE_DATA_AUGMENTATION == \"mixup\":\n",
    "        path_to_files = f\"../simulation/out/LF/{version_lf}/tier3/beta_{USE_BETA[0]}_{USE_BETA[1]}/\"\n",
    "        f_out = f'CNPGauss_{version_cnp}_{TRAINING_ITERATIONS}_c{MAX_CONTEXT_POINTS}_t{MAX_TARGET_POINTS}_beta_{USE_BETA[0]}_{USE_BETA[1]}'\n",
    "    elif USE_DATA_AUGMENTATION == \"smote\" and CONFIG_WISE == True:\n",
    "        path_to_files = f\"../simulation/out/LF/{version_lf}/tier3/smote{SIGNAL_TO_BACKGROUND_RATIO}/\"\n",
    "\n"
   ]
  },
  {
   "cell_type": "code",
   "execution_count": 4,
   "metadata": {},
   "outputs": [
    {
     "name": "stdout",
     "output_type": "stream",
     "text": [
      "./out/CNPGauss_v1.9_4000_c1000_t2000_beta_0.1_0.1_model.pth\n"
     ]
    },
    {
     "data": {
      "text/plain": [
       "DeterministicModel(\n",
       "  (_encoder): DeterministicEncoder(\n",
       "    (linears): ModuleList(\n",
       "      (0): Linear(in_features=15, out_features=32, bias=True)\n",
       "      (1): Linear(in_features=32, out_features=64, bias=True)\n",
       "      (2): Linear(in_features=64, out_features=128, bias=True)\n",
       "      (3-4): 2 x Linear(in_features=128, out_features=128, bias=True)\n",
       "      (5): Linear(in_features=128, out_features=64, bias=True)\n",
       "      (6): Linear(in_features=64, out_features=48, bias=True)\n",
       "      (7): Linear(in_features=48, out_features=32, bias=True)\n",
       "    )\n",
       "  )\n",
       "  (_decoder): DeterministicDecoder(\n",
       "    (linears): ModuleList(\n",
       "      (0): Linear(in_features=46, out_features=32, bias=True)\n",
       "      (1): Linear(in_features=32, out_features=64, bias=True)\n",
       "      (2): Linear(in_features=64, out_features=128, bias=True)\n",
       "      (3-4): 2 x Linear(in_features=128, out_features=128, bias=True)\n",
       "      (5): Linear(in_features=128, out_features=64, bias=True)\n",
       "      (6): Linear(in_features=64, out_features=48, bias=True)\n",
       "      (7): Linear(in_features=48, out_features=2, bias=True)\n",
       "    )\n",
       "  )\n",
       ")"
      ]
     },
     "execution_count": 4,
     "metadata": {},
     "output_type": "execute_result"
    }
   ],
   "source": [
    "d_x, d_in, representation_size, d_out = x_size , x_size+y_size, 32, y_size+1\n",
    "encoder_sizes = [d_in, 32, 64, 128, 128, 128, 64, 48, representation_size]\n",
    "decoder_sizes = [representation_size + d_x, 32, 64, 128, 128, 128, 64, 48, d_out]\n",
    "\n",
    "model = cnp.DeterministicModel(encoder_sizes,decoder_sizes)\n",
    "model.load_state_dict(torch.load(f'./out/{f_out}_model.pth'))\n",
    "model.eval()\n"
   ]
  },
  {
   "cell_type": "code",
   "execution_count": 5,
   "metadata": {},
   "outputs": [
    {
     "name": "stdout",
     "output_type": "stream",
     "text": [
      "0/303 2024-09-27 20:22:28, LF, radius: 208.7 cm, test loss: 37.02206802368164 (bce 0.2117694914340973)\n",
      "1/303 2024-09-27 20:22:31, LF, radius: 194.6 cm, test loss: 58.087669372558594 (bce 0.3064119517803192)\n",
      "2/303 2024-09-27 20:22:33, LF, radius: 240.3 cm, test loss: 81.0401382446289 (bce 0.4290315806865692)\n",
      "3/303 2024-09-27 20:22:36, LF, radius: 215.3 cm, test loss: 361.6502990722656 (bce 1.141096591949463)\n",
      "4/303 2024-09-27 20:22:38, LF, radius: 253.8 cm, test loss: 59.13003921508789 (bce 0.34325647354125977)\n",
      "5/303 2024-09-27 20:22:40, LF, radius: 187.0 cm, test loss: 44.876976013183594 (bce 0.2362651526927948)\n",
      "6/303 2024-09-27 20:22:42, LF, radius: 194.6 cm, test loss: 60.86112976074219 (bce 0.31151241064071655)\n",
      "7/303 2024-09-27 20:22:44, LF, radius: 114.8 cm, test loss: 61.01150894165039 (bce 0.27598002552986145)\n",
      "8/303 2024-09-27 20:22:46, LF, radius: 161.6 cm, test loss: 125.43603515625 (bce 0.5907607674598694)\n",
      "9/303 2024-09-27 20:22:48, LF, radius: 174.8 cm, test loss: 82.53832244873047 (bce 0.4122312664985657)\n",
      "10/303 2024-09-27 20:22:51, LF, radius: 234.9 cm, test loss: 61.77927017211914 (bce 0.33871370553970337)\n",
      "11/303 2024-09-27 20:22:53, LF, radius: 164.0 cm, test loss: 132.25381469726562 (bce 0.610190212726593)\n",
      "12/303 2024-09-27 20:22:55, LF, radius: 237.6 cm, test loss: 109.29953002929688 (bce 0.5168550610542297)\n",
      "13/303 2024-09-27 20:22:57, LF, radius: 163.6 cm, test loss: 46.18954849243164 (bce 0.23821035027503967)\n",
      "14/303 2024-09-27 20:22:59, LF, radius: 204.0 cm, test loss: 164.14324951171875 (bce 0.6947541832923889)\n",
      "15/303 2024-09-27 20:23:01, LF, radius: 203.2 cm, test loss: 42.22354507446289 (bce 0.2382003515958786)\n"
     ]
    },
    {
     "data": {
      "text/plain": [
       "<Figure size 900x300 with 0 Axes>"
      ]
     },
     "metadata": {},
     "output_type": "display_data"
    },
    {
     "data": {
      "text/plain": [
       "<Figure size 900x300 with 0 Axes>"
      ]
     },
     "metadata": {},
     "output_type": "display_data"
    },
    {
     "data": {
      "text/plain": [
       "<Figure size 900x300 with 0 Axes>"
      ]
     },
     "metadata": {},
     "output_type": "display_data"
    },
    {
     "data": {
      "text/plain": [
       "<Figure size 900x300 with 0 Axes>"
      ]
     },
     "metadata": {},
     "output_type": "display_data"
    },
    {
     "data": {
      "text/plain": [
       "<Figure size 900x300 with 0 Axes>"
      ]
     },
     "metadata": {},
     "output_type": "display_data"
    },
    {
     "data": {
      "text/plain": [
       "<Figure size 900x300 with 0 Axes>"
      ]
     },
     "metadata": {},
     "output_type": "display_data"
    },
    {
     "data": {
      "text/plain": [
       "<Figure size 900x300 with 0 Axes>"
      ]
     },
     "metadata": {},
     "output_type": "display_data"
    },
    {
     "data": {
      "text/plain": [
       "<Figure size 900x300 with 0 Axes>"
      ]
     },
     "metadata": {},
     "output_type": "display_data"
    },
    {
     "data": {
      "text/plain": [
       "<Figure size 900x300 with 0 Axes>"
      ]
     },
     "metadata": {},
     "output_type": "display_data"
    },
    {
     "data": {
      "text/plain": [
       "<Figure size 900x300 with 0 Axes>"
      ]
     },
     "metadata": {},
     "output_type": "display_data"
    },
    {
     "data": {
      "text/plain": [
       "<Figure size 900x300 with 0 Axes>"
      ]
     },
     "metadata": {},
     "output_type": "display_data"
    },
    {
     "data": {
      "text/plain": [
       "<Figure size 900x300 with 0 Axes>"
      ]
     },
     "metadata": {},
     "output_type": "display_data"
    },
    {
     "data": {
      "text/plain": [
       "<Figure size 900x300 with 0 Axes>"
      ]
     },
     "metadata": {},
     "output_type": "display_data"
    },
    {
     "data": {
      "text/plain": [
       "<Figure size 900x300 with 0 Axes>"
      ]
     },
     "metadata": {},
     "output_type": "display_data"
    },
    {
     "data": {
      "text/plain": [
       "<Figure size 900x300 with 0 Axes>"
      ]
     },
     "metadata": {},
     "output_type": "display_data"
    },
    {
     "data": {
      "image/png": "[encoded data removed]",
      "text/plain": [
       "<Figure size 900x300 with 2 Axes>"
      ]
     },
     "metadata": {},
     "output_type": "display_data"
    },
    {
     "name": "stdout",
     "output_type": "stream",
     "text": [
      "16/303 2024-09-27 20:23:04, LF, radius: 155.8 cm, test loss: 43.742828369140625 (bce 0.22051241993904114)\n",
      "17/303 2024-09-27 20:23:07, LF, radius: 121.2 cm, test loss: 109.60916137695312 (bce 0.5061231851577759)\n",
      "18/303 2024-09-27 20:31:00, LF, radius: 96.4 cm, test loss: 57.81593704223633 (bce 0.26497071981430054)\n",
      "19/303 2024-09-27 20:31:03, LF, radius: 168.4 cm, test loss: 41.062435150146484 (bce 0.21151599287986755)\n",
      "20/303 2024-09-27 20:31:05, LF, radius: 244.4 cm, test loss: 60.1919059753418 (bce 0.34735390543937683)\n",
      "21/303 2024-09-27 20:31:08, LF, radius: 202.2 cm, test loss: 125.06095886230469 (bce 0.5635295510292053)\n",
      "22/303 2024-09-27 20:31:11, LF, radius: 172.1 cm, test loss: 41.5343132019043 (bce 0.21513035893440247)\n",
      "23/303 2024-09-27 20:31:13, LF, radius: 187.3 cm, test loss: 51.30723190307617 (bce 0.2711947560310364)\n",
      "24/303 2024-09-27 20:31:15, LF, radius: 212.8 cm, test loss: 49.080162048339844 (bce 0.2737187147140503)\n",
      "25/303 2024-09-27 20:31:19, LF, radius: 208.1 cm, test loss: 39.54540252685547 (bce 0.22497697174549103)\n",
      "26/303 2024-09-27 20:31:22, LF, radius: 186.4 cm, test loss: 37.47359848022461 (bce 0.19235922396183014)\n",
      "27/303 2024-09-27 20:31:24, LF, radius: 181.6 cm, test loss: 40.151580810546875 (bce 0.21255584061145782)\n",
      "28/303 2024-09-27 20:31:27, LF, radius: 155.6 cm, test loss: 95.18864440917969 (bce 0.4644302427768707)\n",
      "29/303 2024-09-27 20:31:31, LF, radius: 158.1 cm, test loss: 45.02263259887695 (bce 0.22456152737140656)\n",
      "30/303 2024-09-27 20:31:33, LF, radius: 180.7 cm, test loss: 48.156517028808594 (bce 0.27022865414619446)\n",
      "31/303 2024-09-27 20:31:39, LF, radius: 257.5 cm, test loss: 71.08927154541016 (bce 0.3957935571670532)\n",
      "32/303 2024-09-27 20:31:51, LF, radius: 249.5 cm, test loss: 78.29073333740234 (bce 0.42020899057388306)\n",
      "33/303 2024-09-27 20:31:56, LF, radius: 189.6 cm, test loss: 49.67768859863281 (bce 0.2658873498439789)\n",
      "34/303 2024-09-27 20:31:59, LF, radius: 176.9 cm, test loss: 55.718692779541016 (bce 0.2858818769454956)\n",
      "35/303 2024-09-27 20:32:02, LF, radius: 241.6 cm, test loss: 106.19070434570312 (bce 0.5122328996658325)\n"
     ]
    },
    {
     "name": "stderr",
     "output_type": "stream",
     "text": [
      "/Users/aschuetz/Documents/Analysis/legend/ML/legend-multi-fidelity-surrogate-model/conditional-neural-process/plotting_utils_cnp.py:162: RuntimeWarning: More than 20 figures have been opened. Figures created through the pyplot interface (`matplotlib.pyplot.figure`) are retained until explicitly closed and may consume too much memory. (To control this warning, see the rcParam `figure.max_open_warning`). Consider using `matplotlib.pyplot.close()`.\n",
      "  fig, ax = plt.subplots(1, 2, figsize=(9, 3))\n"
     ]
    },
    {
     "name": "stdout",
     "output_type": "stream",
     "text": [
      "36/303 2024-09-27 20:32:04, LF, radius: 161.4 cm, test loss: 72.65784454345703 (bce 0.37369757890701294)\n",
      "37/303 2024-09-27 20:32:07, LF, radius: 222.3 cm, test loss: 93.51704406738281 (bce 0.4472604990005493)\n",
      "38/303 2024-09-27 20:32:10, LF, radius: 111.9 cm, test loss: 70.90202331542969 (bce 0.3167535662651062)\n",
      "39/303 2024-09-27 20:32:12, LF, radius: 137.4 cm, test loss: 48.588523864746094 (bce 0.2322506159543991)\n",
      "40/303 2024-09-27 20:32:14, LF, radius: 182.0 cm, test loss: 38.185523986816406 (bce 0.20341897010803223)\n",
      "41/303 2024-09-27 20:32:16, LF, radius: 118.9 cm, test loss: 70.3445053100586 (bce 0.31862589716911316)\n",
      "42/303 2024-09-27 20:32:18, LF, radius: 242.6 cm, test loss: 54.73688888549805 (bce 0.3196321725845337)\n",
      "43/303 2024-09-27 20:32:21, LF, radius: 191.0 cm, test loss: 38.471893310546875 (bce 0.19956427812576294)\n",
      "44/303 2024-09-27 20:32:23, LF, radius: 250.7 cm, test loss: 107.77621459960938 (bce 0.5063934326171875)\n",
      "45/303 2024-09-27 20:32:25, LF, radius: 201.3 cm, test loss: 44.17466735839844 (bce 0.23402279615402222)\n",
      "46/303 2024-09-27 20:32:27, LF, radius: 220.0 cm, test loss: 45.59591293334961 (bce 0.2632598280906677)\n",
      "47/303 2024-09-27 20:32:29, LF, radius: 128.3 cm, test loss: 48.7304801940918 (bce 0.22933951020240784)\n",
      "48/303 2024-09-27 20:32:31, LF, radius: 234.4 cm, test loss: 94.25379180908203 (bce 0.4634324014186859)\n",
      "49/303 2024-09-27 20:32:33, LF, radius: 197.6 cm, test loss: 41.022926330566406 (bce 0.21899953484535217)\n",
      "50/303 2024-09-27 20:32:35, LF, radius: 118.6 cm, test loss: 51.05967330932617 (bce 0.23900803923606873)\n",
      "51/303 2024-09-27 20:32:37, LF, radius: 208.2 cm, test loss: 39.95405960083008 (bce 0.22558875381946564)\n",
      "52/303 2024-09-27 20:32:39, LF, radius: 99.3 cm, test loss: 60.9786376953125 (bce 0.2752314507961273)\n",
      "53/303 2024-09-27 20:32:42, LF, radius: 133.6 cm, test loss: 56.746009826660156 (bce 0.30418330430984497)\n",
      "54/303 2024-09-27 20:32:44, LF, radius: 203.1 cm, test loss: 42.08748245239258 (bce 0.2296401560306549)\n",
      "55/303 2024-09-27 20:32:46, LF, radius: 116.1 cm, test loss: 67.72896575927734 (bce 0.3099861741065979)\n",
      "56/303 2024-09-27 20:32:48, LF, radius: 251.4 cm, test loss: 49.66547775268555 (bce 0.30097874999046326)\n",
      "57/303 2024-09-27 20:32:50, LF, radius: 157.0 cm, test loss: 58.50011444091797 (bce 0.28391215205192566)\n",
      "58/303 2024-09-27 20:32:53, LF, radius: 182.1 cm, test loss: 69.55801391601562 (bce 0.348448246717453)\n",
      "59/303 2024-09-27 20:32:55, LF, radius: 203.7 cm, test loss: 37.61819076538086 (bce 0.21470089256763458)\n",
      "60/303 2024-09-27 20:32:57, LF, radius: 175.4 cm, test loss: 80.41888427734375 (bce 0.43362709879875183)\n",
      "61/303 2024-09-27 20:32:59, LF, radius: 246.3 cm, test loss: 57.81120300292969 (bce 0.34078434109687805)\n",
      "62/303 2024-09-27 20:33:02, LF, radius: 214.8 cm, test loss: 47.24068069458008 (bce 0.2701864242553711)\n",
      "63/303 2024-09-27 20:33:05, LF, radius: 104.2 cm, test loss: 65.60786437988281 (bce 0.2915853261947632)\n",
      "64/303 2024-09-27 20:33:07, LF, radius: 248.9 cm, test loss: 62.80790710449219 (bce 0.3540244996547699)\n",
      "65/303 2024-09-27 20:33:09, LF, radius: 192.0 cm, test loss: 74.93069458007812 (bce 0.3924570381641388)\n",
      "66/303 2024-09-27 20:33:11, LF, radius: 199.8 cm, test loss: 66.10627746582031 (bce 0.34410524368286133)\n",
      "67/303 2024-09-27 20:33:14, LF, radius: 241.6 cm, test loss: 70.51763916015625 (bce 0.38738110661506653)\n",
      "68/303 2024-09-27 20:33:16, LF, radius: 234.4 cm, test loss: 63.764400482177734 (bce 0.35654547810554504)\n",
      "69/303 2024-09-27 20:33:18, LF, radius: 194.1 cm, test loss: 153.2069091796875 (bce 0.6582650542259216)\n",
      "70/303 2024-09-27 20:33:20, LF, radius: 161.8 cm, test loss: 62.180198669433594 (bce 0.3050168454647064)\n",
      "71/303 2024-09-27 20:33:22, LF, radius: 181.2 cm, test loss: 43.650394439697266 (bce 0.227488175034523)\n",
      "72/303 2024-09-27 20:33:24, LF, radius: 102.5 cm, test loss: 58.145042419433594 (bce 0.26831841468811035)\n",
      "73/303 2024-09-27 20:33:26, LF, radius: 178.4 cm, test loss: 66.73526000976562 (bce 0.3411219120025635)\n",
      "74/303 2024-09-27 20:33:29, LF, radius: 194.5 cm, test loss: 42.54468536376953 (bce 0.23507362604141235)\n",
      "75/303 2024-09-27 20:33:31, LF, radius: 236.8 cm, test loss: 113.77030944824219 (bce 0.5499790906906128)\n",
      "76/303 2024-09-27 20:33:33, LF, radius: 202.0 cm, test loss: 67.56465911865234 (bce 0.3578214645385742)\n",
      "77/303 2024-09-27 20:33:35, LF, radius: 107.2 cm, test loss: 62.81316375732422 (bce 0.28115883469581604)\n",
      "78/303 2024-09-27 20:33:37, LF, radius: 214.0 cm, test loss: 217.13980102539062 (bce 0.8261831998825073)\n",
      "79/303 2024-09-27 20:33:39, LF, radius: 143.7 cm, test loss: 45.44881820678711 (bce 0.21687021851539612)\n",
      "80/303 2024-09-27 20:33:42, LF, radius: 235.1 cm, test loss: 51.337249755859375 (bce 0.2686839997768402)\n",
      "81/303 2024-09-27 20:33:44, LF, radius: 243.6 cm, test loss: 79.77828979492188 (bce 0.4208740293979645)\n",
      "82/303 2024-09-27 20:33:46, LF, radius: 244.6 cm, test loss: 357.25140380859375 (bce 1.095934510231018)\n",
      "83/303 2024-09-27 20:33:48, LF, radius: 170.5 cm, test loss: 65.41593933105469 (bce 0.33592039346694946)\n",
      "84/303 2024-09-27 20:33:50, LF, radius: 235.8 cm, test loss: 131.07151794433594 (bce 0.5871286392211914)\n",
      "85/303 2024-09-27 20:33:52, LF, radius: 159.5 cm, test loss: 44.36912536621094 (bce 0.21837209165096283)\n",
      "86/303 2024-09-27 20:33:54, LF, radius: 170.8 cm, test loss: 53.58588409423828 (bce 0.2680448293685913)\n",
      "87/303 2024-09-27 20:33:56, LF, radius: 219.6 cm, test loss: 40.12638473510742 (bce 0.2435949742794037)\n",
      "88/303 2024-09-27 20:33:58, LF, radius: 143.6 cm, test loss: 47.3953742980957 (bce 0.23949821293354034)\n",
      "89/303 2024-09-27 20:34:01, LF, radius: 244.5 cm, test loss: 121.99169921875 (bce 0.5697513222694397)\n",
      "90/303 2024-09-27 20:34:03, LF, radius: 231.6 cm, test loss: 194.1549530029297 (bce 0.7604409456253052)\n",
      "91/303 2024-09-27 20:34:05, LF, radius: 157.9 cm, test loss: 49.228660583496094 (bce 0.24553191661834717)\n",
      "92/303 2024-09-27 20:34:07, LF, radius: 136.4 cm, test loss: 49.73524856567383 (bce 0.23370343446731567)\n",
      "93/303 2024-09-27 20:34:09, LF, radius: 177.1 cm, test loss: 94.80189514160156 (bce 0.45254653692245483)\n",
      "94/303 2024-09-27 20:34:11, LF, radius: 123.0 cm, test loss: 57.038272857666016 (bce 0.2603215277194977)\n",
      "95/303 2024-09-27 20:34:13, LF, radius: 203.5 cm, test loss: 48.82551193237305 (bce 0.2733783423900604)\n",
      "96/303 2024-09-27 20:34:15, LF, radius: 204.2 cm, test loss: 51.88188171386719 (bce 0.28074029088020325)\n",
      "97/303 2024-09-27 20:34:18, LF, radius: 220.2 cm, test loss: 37.21928787231445 (bce 0.22007155418395996)\n",
      "98/303 2024-09-27 20:34:20, LF, radius: 144.5 cm, test loss: 63.21635055541992 (bce 0.30903273820877075)\n",
      "99/303 2024-09-27 20:34:22, LF, radius: 228.3 cm, test loss: 79.83272552490234 (bce 0.41099902987480164)\n",
      "100/303 2024-09-27 20:34:24, LF, radius: 224.8 cm, test loss: 71.40354919433594 (bce 0.37427833676338196)\n",
      "101/303 2024-09-27 20:34:26, LF, radius: 253.3 cm, test loss: 146.8961181640625 (bce 0.6318238377571106)\n",
      "102/303 2024-09-27 20:34:28, LF, radius: 190.6 cm, test loss: 43.09047317504883 (bce 0.2330419421195984)\n",
      "103/303 2024-09-27 20:34:30, LF, radius: 127.3 cm, test loss: 50.228660583496094 (bce 0.2383241355419159)\n",
      "104/303 2024-09-27 20:34:32, LF, radius: 245.4 cm, test loss: 51.38618469238281 (bce 0.30720460414886475)\n",
      "105/303 2024-09-27 20:34:35, LF, radius: 245.0 cm, test loss: 47.77186965942383 (bce 0.2941136062145233)\n",
      "106/303 2024-09-27 20:34:36, LF, radius: 186.9 cm, test loss: 44.30263137817383 (bce 0.23405805230140686)\n",
      "107/303 2024-09-27 20:34:38, LF, radius: 189.4 cm, test loss: 72.40660095214844 (bce 0.37005630135536194)\n",
      "108/303 2024-09-27 20:34:41, LF, radius: 146.2 cm, test loss: 54.5982551574707 (bce 0.26257026195526123)\n",
      "109/303 2024-09-27 20:34:43, LF, radius: 181.3 cm, test loss: 54.28316116333008 (bce 0.2842458188533783)\n",
      "110/303 2024-09-27 20:34:45, LF, radius: 138.3 cm, test loss: 52.4479866027832 (bce 0.25199514627456665)\n",
      "111/303 2024-09-27 20:34:47, LF, radius: 126.7 cm, test loss: 58.801361083984375 (bce 0.2700200080871582)\n",
      "112/303 2024-09-27 20:34:49, LF, radius: 251.8 cm, test loss: 74.05746459960938 (bce 0.4106483459472656)\n",
      "113/303 2024-09-27 20:34:51, LF, radius: 158.0 cm, test loss: 46.19835662841797 (bce 0.24765989184379578)\n",
      "114/303 2024-09-27 20:34:53, LF, radius: 249.7 cm, test loss: 70.683349609375 (bce 0.396825909614563)\n",
      "115/303 2024-09-27 20:34:55, LF, radius: 207.0 cm, test loss: 37.74729537963867 (bce 0.21817779541015625)\n",
      "116/303 2024-09-27 20:34:57, LF, radius: 188.5 cm, test loss: 39.65040588378906 (bce 0.21552927792072296)\n",
      "117/303 2024-09-27 20:34:59, LF, radius: 220.4 cm, test loss: 97.57548522949219 (bce 0.4881029725074768)\n",
      "118/303 2024-09-27 20:35:02, LF, radius: 159.6 cm, test loss: 42.469478607177734 (bce 0.20907621085643768)\n",
      "119/303 2024-09-27 20:35:04, LF, radius: 206.2 cm, test loss: 39.85757827758789 (bce 0.21900629997253418)\n",
      "120/303 2024-09-27 20:35:06, LF, radius: 137.9 cm, test loss: 68.42765045166016 (bce 0.32283154129981995)\n",
      "121/303 2024-09-27 20:35:08, LF, radius: 225.9 cm, test loss: 44.47279739379883 (bce 0.2631596028804779)\n",
      "122/303 2024-09-27 20:35:10, LF, radius: 180.8 cm, test loss: 43.085693359375 (bce 0.2268379032611847)\n",
      "123/303 2024-09-27 20:35:12, LF, radius: 218.0 cm, test loss: 123.47930145263672 (bce 0.5591010451316833)\n",
      "124/303 2024-09-27 20:35:15, LF, radius: 235.5 cm, test loss: 82.6218032836914 (bce 0.4323018491268158)\n",
      "125/303 2024-09-27 20:35:17, LF, radius: 145.8 cm, test loss: 56.217994689941406 (bce 0.2754436731338501)\n",
      "126/303 2024-09-27 20:35:19, LF, radius: 126.8 cm, test loss: 97.55109405517578 (bce 0.4663095772266388)\n",
      "127/303 2024-09-27 20:35:21, LF, radius: 134.3 cm, test loss: 47.760108947753906 (bce 0.23029957711696625)\n",
      "128/303 2024-09-27 20:35:23, LF, radius: 138.8 cm, test loss: 50.31316375732422 (bce 0.24034641683101654)\n",
      "129/303 2024-09-27 20:35:25, LF, radius: 195.4 cm, test loss: 38.18223190307617 (bce 0.2095460146665573)\n",
      "130/303 2024-09-27 20:35:27, LF, radius: 220.4 cm, test loss: 80.22337341308594 (bce 0.4072878658771515)\n",
      "131/303 2024-09-27 20:35:30, LF, radius: 253.0 cm, test loss: 50.48575973510742 (bce 0.30929750204086304)\n",
      "132/303 2024-09-27 20:35:32, LF, radius: 213.4 cm, test loss: 43.68794631958008 (bce 0.2505270540714264)\n",
      "133/303 2024-09-27 20:35:34, LF, radius: 225.2 cm, test loss: 57.48386001586914 (bce 0.3220503032207489)\n",
      "134/303 2024-09-27 20:35:36, LF, radius: 127.8 cm, test loss: 48.9689826965332 (bce 0.2330794781446457)\n",
      "135/303 2024-09-27 20:35:38, LF, radius: 107.8 cm, test loss: 65.23710632324219 (bce 0.29845407605171204)\n",
      "136/303 2024-09-27 20:35:41, LF, radius: 122.6 cm, test loss: 98.73651123046875 (bce 0.46611255407333374)\n",
      "137/303 2024-09-27 20:35:43, LF, radius: 170.8 cm, test loss: 39.37837219238281 (bce 0.20281274616718292)\n",
      "138/303 2024-09-27 20:35:45, LF, radius: 147.6 cm, test loss: 54.165771484375 (bce 0.2612549066543579)\n",
      "139/303 2024-09-27 20:35:47, LF, radius: 176.2 cm, test loss: 131.88137817382812 (bce 0.5871189832687378)\n",
      "140/303 2024-09-27 20:35:49, LF, radius: 234.7 cm, test loss: 315.30780029296875 (bce 1.0587799549102783)\n",
      "141/303 2024-09-27 20:35:52, LF, radius: 183.0 cm, test loss: 51.31720733642578 (bce 0.2612171173095703)\n",
      "142/303 2024-09-27 20:35:54, LF, radius: 164.6 cm, test loss: 59.46946716308594 (bce 0.2754674255847931)\n",
      "143/303 2024-09-27 20:35:56, LF, radius: 174.2 cm, test loss: 45.06015396118164 (bce 0.24035656452178955)\n",
      "144/303 2024-09-27 20:35:58, LF, radius: 97.9 cm, test loss: 95.72843170166016 (bce 0.45343631505966187)\n",
      "145/303 2024-09-27 20:36:01, LF, radius: 178.0 cm, test loss: 82.98448181152344 (bce 0.4086928367614746)\n",
      "146/303 2024-09-27 20:36:03, LF, radius: 240.8 cm, test loss: 82.24079132080078 (bce 0.42410770058631897)\n",
      "147/303 2024-09-27 20:36:05, LF, radius: 210.8 cm, test loss: 56.34080505371094 (bce 0.31630751490592957)\n",
      "148/303 2024-09-27 20:36:07, LF, radius: 185.6 cm, test loss: 40.880653381347656 (bce 0.2191152423620224)\n",
      "149/303 2024-09-27 20:36:09, LF, radius: 199.7 cm, test loss: 39.77848434448242 (bce 0.2171151041984558)\n",
      "150/303 2024-09-27 20:36:11, LF, radius: 238.8 cm, test loss: 62.315650939941406 (bce 0.34500184655189514)\n",
      "151/303 2024-09-27 20:36:13, LF, radius: 148.7 cm, test loss: 46.23334884643555 (bce 0.22300219535827637)\n",
      "152/303 2024-09-27 20:36:16, LF, radius: 205.7 cm, test loss: 193.4585723876953 (bce 0.7792010307312012)\n",
      "153/303 2024-09-27 20:36:18, LF, radius: 215.6 cm, test loss: 45.088592529296875 (bce 0.26080602407455444)\n",
      "154/303 2024-09-27 20:36:20, LF, radius: 221.8 cm, test loss: 49.054481506347656 (bce 0.2809709906578064)\n",
      "155/303 2024-09-27 20:36:22, LF, radius: 236.0 cm, test loss: 128.71035766601562 (bce 0.5706642866134644)\n",
      "156/303 2024-09-27 20:36:24, LF, radius: 220.4 cm, test loss: 67.15878295898438 (bce 0.35936641693115234)\n",
      "157/303 2024-09-27 20:36:26, LF, radius: 226.2 cm, test loss: 57.070587158203125 (bce 0.3370797634124756)\n",
      "158/303 2024-09-27 20:36:29, LF, radius: 224.8 cm, test loss: 73.19216918945312 (bce 0.3941781222820282)\n",
      "159/303 2024-09-27 20:36:31, LF, radius: 120.0 cm, test loss: 62.82468795776367 (bce 0.29697564244270325)\n",
      "160/303 2024-09-27 20:36:34, LF, radius: 211.2 cm, test loss: 34.920143127441406 (bce 0.20177869498729706)\n",
      "161/303 2024-09-27 20:36:36, LF, radius: 238.2 cm, test loss: 40.868778228759766 (bce 0.24863195419311523)\n",
      "162/303 2024-09-27 20:36:38, LF, radius: 250.2 cm, test loss: 81.32380676269531 (bce 0.42304590344429016)\n",
      "163/303 2024-09-27 20:36:42, LF, radius: 217.0 cm, test loss: 44.18992614746094 (bce 0.2535930871963501)\n",
      "164/303 2024-09-27 20:36:45, LF, radius: 231.0 cm, test loss: 234.99266052246094 (bce 0.8769659399986267)\n",
      "165/303 2024-09-27 20:36:47, LF, radius: 158.0 cm, test loss: 70.88126373291016 (bce 0.36212483048439026)\n",
      "166/303 2024-09-27 20:36:50, LF, radius: 185.3 cm, test loss: 73.51849365234375 (bce 0.38606584072113037)\n",
      "167/303 2024-09-27 20:36:53, LF, radius: 214.0 cm, test loss: 71.50501251220703 (bce 0.36508065462112427)\n",
      "168/303 2024-09-27 20:36:55, LF, radius: 212.6 cm, test loss: 85.09246063232422 (bce 0.42784953117370605)\n",
      "169/303 2024-09-27 20:36:58, LF, radius: 205.7 cm, test loss: 111.48800659179688 (bce 0.5154298543930054)\n",
      "170/303 2024-09-27 20:37:01, LF, radius: 258.4 cm, test loss: 137.8248748779297 (bce 0.6161984205245972)\n",
      "171/303 2024-09-27 20:37:04, LF, radius: 207.3 cm, test loss: 160.9789276123047 (bce 0.6865687370300293)\n",
      "172/303 2024-09-27 20:37:06, LF, radius: 128.0 cm, test loss: 52.433616638183594 (bce 0.2453792840242386)\n",
      "173/303 2024-09-27 20:37:10, LF, radius: 167.6 cm, test loss: 43.736881256103516 (bce 0.22266140580177307)\n",
      "174/303 2024-09-27 20:37:14, LF, radius: 184.8 cm, test loss: 59.118408203125 (bce 0.304852157831192)\n",
      "175/303 2024-09-27 20:37:17, LF, radius: 174.4 cm, test loss: 271.1799011230469 (bce 0.9631527662277222)\n",
      "176/303 2024-09-27 20:37:20, LF, radius: 224.5 cm, test loss: 39.210784912109375 (bce 0.23298798501491547)\n",
      "177/303 2024-09-27 20:37:23, LF, radius: 227.9 cm, test loss: 43.88859939575195 (bce 0.264903724193573)\n",
      "178/303 2024-09-27 20:37:25, LF, radius: 207.4 cm, test loss: 64.31146240234375 (bce 0.3447706699371338)\n",
      "179/303 2024-09-27 20:37:27, LF, radius: 242.8 cm, test loss: 51.97793960571289 (bce 0.31164130568504333)\n",
      "180/303 2024-09-27 20:37:30, LF, radius: 149.2 cm, test loss: 44.72235870361328 (bce 0.21989382803440094)\n",
      "181/303 2024-09-27 20:37:32, LF, radius: 220.6 cm, test loss: 50.8173942565918 (bce 0.2858212888240814)\n",
      "182/303 2024-09-27 20:37:34, LF, radius: 227.8 cm, test loss: 65.36549377441406 (bce 0.35929766297340393)\n",
      "183/303 2024-09-27 20:37:36, LF, radius: 241.6 cm, test loss: 51.46697235107422 (bce 0.30663180351257324)\n",
      "184/303 2024-09-27 20:37:38, LF, radius: 102.3 cm, test loss: 58.85633850097656 (bce 0.2710179090499878)\n",
      "185/303 2024-09-27 20:37:40, LF, radius: 228.1 cm, test loss: 74.81813049316406 (bce 0.402436226606369)\n",
      "186/303 2024-09-27 20:37:43, LF, radius: 254.8 cm, test loss: 217.86190795898438 (bce 0.8155199885368347)\n",
      "187/303 2024-09-27 20:37:45, LF, radius: 136.1 cm, test loss: 52.24269104003906 (bce 0.2439068704843521)\n",
      "188/303 2024-09-27 20:37:47, LF, radius: 145.4 cm, test loss: 62.571014404296875 (bce 0.3385983109474182)\n",
      "189/303 2024-09-27 20:37:50, LF, radius: 149.4 cm, test loss: 38.59606170654297 (bce 0.19075751304626465)\n",
      "190/303 2024-09-27 20:37:52, LF, radius: 127.2 cm, test loss: 60.810813903808594 (bce 0.27972686290740967)\n",
      "191/303 2024-09-27 20:37:54, LF, radius: 254.8 cm, test loss: 86.67609405517578 (bce 0.4476494789123535)\n",
      "192/303 2024-09-27 20:37:56, LF, radius: 163.6 cm, test loss: 47.40095520019531 (bce 0.23960362374782562)\n",
      "193/303 2024-09-27 20:37:58, LF, radius: 254.6 cm, test loss: 64.06491088867188 (bce 0.36635738611221313)\n",
      "194/303 2024-09-27 20:38:03, LF, radius: 226.1 cm, test loss: 72.77713775634766 (bce 0.38249778747558594)\n",
      "195/303 2024-09-27 20:38:06, LF, radius: 189.9 cm, test loss: 123.11299133300781 (bce 0.5600706338882446)\n",
      "196/303 2024-09-27 20:38:09, LF, radius: 257.9 cm, test loss: 122.95769500732422 (bce 0.5563229918479919)\n",
      "197/303 2024-09-27 20:38:11, LF, radius: 107.4 cm, test loss: 64.14710235595703 (bce 0.2843210697174072)\n",
      "198/303 2024-09-27 20:38:13, LF, radius: 208.4 cm, test loss: 58.1651725769043 (bce 0.3027535676956177)\n",
      "199/303 2024-09-27 20:38:16, LF, radius: 241.0 cm, test loss: 159.74258422851562 (bce 0.6667564511299133)\n",
      "200/303 2024-09-27 20:38:19, LF, radius: 104.7 cm, test loss: 67.31829071044922 (bce 0.30120381712913513)\n",
      "201/303 2024-09-27 20:38:21, LF, radius: 236.0 cm, test loss: 55.37604522705078 (bce 0.31846868991851807)\n",
      "202/303 2024-09-27 20:38:24, LF, radius: 235.0 cm, test loss: 152.18658447265625 (bce 0.6418018341064453)\n",
      "203/303 2024-09-27 20:38:27, LF, radius: 126.4 cm, test loss: 49.027732849121094 (bce 0.24153082072734833)\n",
      "204/303 2024-09-27 20:38:29, LF, radius: 244.3 cm, test loss: 75.50733947753906 (bce 0.41579577326774597)\n",
      "205/303 2024-09-27 20:38:32, LF, radius: 167.6 cm, test loss: 49.454917907714844 (bce 0.2680683135986328)\n",
      "206/303 2024-09-27 20:38:34, LF, radius: 160.0 cm, test loss: 101.60618591308594 (bce 0.47560909390449524)\n",
      "207/303 2024-09-27 20:38:37, LF, radius: 255.6 cm, test loss: 137.16033935546875 (bce 0.6052125096321106)\n",
      "208/303 2024-09-27 20:38:39, LF, radius: 163.7 cm, test loss: 48.82270431518555 (bce 0.26007363200187683)\n",
      "209/303 2024-09-27 20:38:41, LF, radius: 181.9 cm, test loss: 42.16725540161133 (bce 0.22374789416790009)\n",
      "210/303 2024-09-27 20:38:43, LF, radius: 242.6 cm, test loss: 91.0509033203125 (bce 0.4589921832084656)\n",
      "211/303 2024-09-27 20:38:45, LF, radius: 230.0 cm, test loss: 96.97174072265625 (bce 0.46210989356040955)\n",
      "212/303 2024-09-27 20:38:47, LF, radius: 202.1 cm, test loss: 93.27300262451172 (bce 0.4765270948410034)\n",
      "213/303 2024-09-27 20:38:50, LF, radius: 100.7 cm, test loss: 68.6617431640625 (bce 0.3030664026737213)\n",
      "214/303 2024-09-27 20:38:52, LF, radius: 244.0 cm, test loss: 46.212928771972656 (bce 0.2797073721885681)\n",
      "215/303 2024-09-27 20:38:55, LF, radius: 198.9 cm, test loss: 46.72467803955078 (bce 0.25686243176460266)\n",
      "216/303 2024-09-27 20:38:57, LF, radius: 235.8 cm, test loss: 202.98989868164062 (bce 0.78961580991745)\n",
      "217/303 2024-09-27 20:39:00, LF, radius: 130.8 cm, test loss: 56.44401168823242 (bce 0.26581066846847534)\n",
      "218/303 2024-09-27 20:39:02, LF, radius: 193.4 cm, test loss: 35.20283508300781 (bce 0.1861903816461563)\n",
      "219/303 2024-09-27 20:39:04, LF, radius: 119.2 cm, test loss: 60.24616622924805 (bce 0.27324986457824707)\n",
      "220/303 2024-09-27 20:39:07, LF, radius: 161.6 cm, test loss: 51.33175277709961 (bce 0.25186824798583984)\n",
      "221/303 2024-09-27 20:39:09, LF, radius: 255.0 cm, test loss: 103.83455657958984 (bce 0.5186973810195923)\n",
      "222/303 2024-09-27 20:39:11, LF, radius: 136.2 cm, test loss: 51.032737731933594 (bce 0.2425450086593628)\n",
      "223/303 2024-09-27 20:39:13, LF, radius: 120.3 cm, test loss: 50.598480224609375 (bce 0.2411925047636032)\n",
      "224/303 2024-09-27 20:39:16, LF, radius: 210.4 cm, test loss: 49.092044830322266 (bce 0.27566489577293396)\n",
      "225/303 2024-09-27 20:39:18, LF, radius: 236.0 cm, test loss: 92.85999298095703 (bce 0.45535895228385925)\n",
      "226/303 2024-09-27 20:39:20, LF, radius: 139.7 cm, test loss: 90.23516845703125 (bce 0.42517006397247314)\n",
      "227/303 2024-09-27 20:39:22, LF, radius: 131.0 cm, test loss: 52.20499801635742 (bce 0.246888667345047)\n",
      "228/303 2024-09-27 20:39:24, LF, radius: 196.6 cm, test loss: 48.92684555053711 (bce 0.2668607234954834)\n",
      "229/303 2024-09-27 20:39:26, LF, radius: 170.6 cm, test loss: 64.89253234863281 (bce 0.31869417428970337)\n",
      "230/303 2024-09-27 20:39:28, LF, radius: 173.0 cm, test loss: 49.940616607666016 (bce 0.24510663747787476)\n",
      "231/303 2024-09-27 20:39:30, LF, radius: 243.6 cm, test loss: 52.0721435546875 (bce 0.3133321702480316)\n",
      "232/303 2024-09-27 20:39:32, LF, radius: 148.0 cm, test loss: 51.07191467285156 (bce 0.24540598690509796)\n",
      "233/303 2024-09-27 20:39:34, LF, radius: 166.6 cm, test loss: 44.45648956298828 (bce 0.23078928887844086)\n",
      "234/303 2024-09-27 20:39:36, LF, radius: 212.6 cm, test loss: 118.13946533203125 (bce 0.5534950494766235)\n",
      "235/303 2024-09-27 20:39:39, LF, radius: 223.0 cm, test loss: 51.87086486816406 (bce 0.2903568744659424)\n",
      "236/303 2024-09-27 20:39:41, LF, radius: 219.2 cm, test loss: 43.54444122314453 (bce 0.25301593542099)\n",
      "237/303 2024-09-27 20:39:43, LF, radius: 183.3 cm, test loss: 36.94560623168945 (bce 0.19705088436603546)\n",
      "238/303 2024-09-27 20:39:45, LF, radius: 229.2 cm, test loss: 49.102333068847656 (bce 0.28853729367256165)\n",
      "239/303 2024-09-27 20:39:47, LF, radius: 143.0 cm, test loss: 60.181907653808594 (bce 0.2929510474205017)\n",
      "240/303 2024-09-27 20:39:50, LF, radius: 215.9 cm, test loss: 44.01462173461914 (bce 0.24776676297187805)\n",
      "241/303 2024-09-27 20:39:52, LF, radius: 177.5 cm, test loss: 51.830291748046875 (bce 0.2630457878112793)\n",
      "242/303 2024-09-27 20:39:55, LF, radius: 109.3 cm, test loss: 68.55547332763672 (bce 0.3112963140010834)\n",
      "243/303 2024-09-27 20:39:57, LF, radius: 158.0 cm, test loss: 90.98332214355469 (bce 0.4346010684967041)\n",
      "244/303 2024-09-27 20:40:00, LF, radius: 174.2 cm, test loss: 43.21379470825195 (bce 0.22792264819145203)\n",
      "245/303 2024-09-27 20:40:02, LF, radius: 138.6 cm, test loss: 45.81702423095703 (bce 0.22190731763839722)\n",
      "246/303 2024-09-27 20:40:04, LF, radius: 238.4 cm, test loss: 46.88374710083008 (bce 0.28492024540901184)\n",
      "247/303 2024-09-27 20:40:06, LF, radius: 190.5 cm, test loss: 43.53813171386719 (bce 0.22712339460849762)\n",
      "248/303 2024-09-27 20:40:09, LF, radius: 253.9 cm, test loss: 208.476318359375 (bce 0.8060800433158875)\n",
      "249/303 2024-09-27 20:40:11, LF, radius: 248.6 cm, test loss: 68.85953521728516 (bce 0.38594433665275574)\n",
      "250/303 2024-09-27 20:40:14, LF, radius: 125.4 cm, test loss: 57.7073974609375 (bce 0.26873403787612915)\n",
      "251/303 2024-09-27 20:40:16, LF, radius: 158.0 cm, test loss: 75.16117858886719 (bce 0.3738337755203247)\n",
      "252/303 2024-09-27 20:40:19, LF, radius: 177.1 cm, test loss: 43.04445266723633 (bce 0.23014500737190247)\n",
      "253/303 2024-09-27 20:40:22, LF, radius: 142.0 cm, test loss: 44.02274703979492 (bce 0.21081358194351196)\n",
      "254/303 2024-09-27 20:40:24, LF, radius: 176.4 cm, test loss: 41.83655548095703 (bce 0.21610301733016968)\n",
      "255/303 2024-09-27 20:40:27, LF, radius: 171.9 cm, test loss: 65.26021575927734 (bce 0.3381737470626831)\n",
      "256/303 2024-09-27 20:40:29, LF, radius: 129.0 cm, test loss: 58.27149963378906 (bce 0.27895858883857727)\n",
      "257/303 2024-09-27 20:40:31, LF, radius: 241.9 cm, test loss: 66.05836486816406 (bce 0.35772305727005005)\n",
      "258/303 2024-09-27 20:40:34, LF, radius: 132.9 cm, test loss: 48.23789978027344 (bce 0.22872427105903625)\n",
      "259/303 2024-09-27 20:40:36, LF, radius: 118.2 cm, test loss: 53.496360778808594 (bce 0.25245752930641174)\n",
      "260/303 2024-09-27 20:40:38, LF, radius: 243.5 cm, test loss: 68.12106323242188 (bce 0.38335415720939636)\n",
      "261/303 2024-09-27 20:40:41, LF, radius: 174.9 cm, test loss: 95.73509979248047 (bce 0.44662994146347046)\n",
      "262/303 2024-09-27 20:40:43, LF, radius: 135.7 cm, test loss: 62.6866340637207 (bce 0.2923063337802887)\n",
      "263/303 2024-09-27 20:40:46, LF, radius: 160.2 cm, test loss: 45.134124755859375 (bce 0.22357334196567535)\n",
      "264/303 2024-09-27 20:40:48, LF, radius: 99.8 cm, test loss: 70.1334457397461 (bce 0.3074944317340851)\n",
      "265/303 2024-09-27 20:40:50, LF, radius: 101.8 cm, test loss: 68.25205993652344 (bce 0.3014903962612152)\n",
      "266/303 2024-09-27 20:40:52, LF, radius: 239.6 cm, test loss: 209.29824829101562 (bce 0.782458484172821)\n",
      "267/303 2024-09-27 20:40:55, LF, radius: 252.8 cm, test loss: 187.85787963867188 (bce 0.7301557660102844)\n",
      "268/303 2024-09-27 20:40:57, LF, radius: 248.0 cm, test loss: 67.43834686279297 (bce 0.3838483691215515)\n",
      "269/303 2024-09-27 20:40:59, LF, radius: 227.5 cm, test loss: 310.5122375488281 (bce 1.0184978246688843)\n",
      "270/303 2024-09-27 20:41:02, LF, radius: 213.1 cm, test loss: 68.63484191894531 (bce 0.36805006861686707)\n",
      "271/303 2024-09-27 20:41:05, LF, radius: 235.7 cm, test loss: 125.53231811523438 (bce 0.5858513116836548)\n",
      "272/303 2024-09-27 20:41:07, LF, radius: 246.7 cm, test loss: 56.38202667236328 (bce 0.328752726316452)\n",
      "273/303 2024-09-27 20:41:09, LF, radius: 227.0 cm, test loss: 55.66297149658203 (bce 0.3091662526130676)\n",
      "274/303 2024-09-27 20:41:11, LF, radius: 111.2 cm, test loss: 54.58352279663086 (bce 0.25402915477752686)\n",
      "275/303 2024-09-27 20:41:13, LF, radius: 132.5 cm, test loss: 170.72317504882812 (bce 0.7318577766418457)\n",
      "276/303 2024-09-27 20:41:16, LF, radius: 255.1 cm, test loss: 88.67894744873047 (bce 0.44702374935150146)\n",
      "277/303 2024-09-27 20:41:18, LF, radius: 218.8 cm, test loss: 61.416927337646484 (bce 0.34104976058006287)\n",
      "278/303 2024-09-27 20:41:20, LF, radius: 247.7 cm, test loss: 63.48163986206055 (bce 0.36558598279953003)\n",
      "279/303 2024-09-27 20:41:23, LF, radius: 209.1 cm, test loss: 49.69573211669922 (bce 0.28062891960144043)\n",
      "280/303 2024-09-27 20:41:25, LF, radius: 169.2 cm, test loss: 64.45877075195312 (bce 0.32505837082862854)\n",
      "281/303 2024-09-27 20:41:27, LF, radius: 206.4 cm, test loss: 63.549190521240234 (bce 0.34206727147102356)\n",
      "282/303 2024-09-27 20:41:29, LF, radius: 206.6 cm, test loss: 37.8794059753418 (bce 0.22053472697734833)\n",
      "283/303 2024-09-27 20:41:32, LF, radius: 206.6 cm, test loss: 41.3734245300293 (bce 0.23776337504386902)\n",
      "284/303 2024-09-27 20:41:34, LF, radius: 177.3 cm, test loss: 120.80331420898438 (bce 0.5865675806999207)\n",
      "285/303 2024-09-27 20:41:36, LF, radius: 133.1 cm, test loss: 47.80320358276367 (bce 0.22781215608119965)\n",
      "286/303 2024-09-27 20:41:38, LF, radius: 217.0 cm, test loss: 50.97175216674805 (bce 0.2987670600414276)\n",
      "287/303 2024-09-27 20:41:41, LF, radius: 233.1 cm, test loss: 44.218040466308594 (bce 0.2711890637874603)\n",
      "288/303 2024-09-27 20:41:43, LF, radius: 209.8 cm, test loss: 221.01480102539062 (bce 0.8305218815803528)\n",
      "289/303 2024-09-27 20:41:45, LF, radius: 147.7 cm, test loss: 48.31789779663086 (bce 0.2341301441192627)\n",
      "290/303 2024-09-27 20:41:47, LF, radius: 236.9 cm, test loss: 278.9559326171875 (bce 0.9680649042129517)\n",
      "291/303 2024-09-27 20:41:49, LF, radius: 182.2 cm, test loss: 68.27824401855469 (bce 0.33820509910583496)\n",
      "292/303 2024-09-27 20:41:51, LF, radius: 141.4 cm, test loss: 62.50168991088867 (bce 0.28479161858558655)\n",
      "293/303 2024-09-27 20:41:53, LF, radius: 159.1 cm, test loss: 45.95045852661133 (bce 0.22750376164913177)\n",
      "294/303 2024-09-27 20:41:55, LF, radius: 101.8 cm, test loss: 63.3362922668457 (bce 0.2984220087528229)\n",
      "295/303 2024-09-27 20:41:57, LF, radius: 100.7 cm, test loss: 64.04235076904297 (bce 0.28615817427635193)\n",
      "296/303 2024-09-27 20:41:59, LF, radius: 173.5 cm, test loss: 121.03598022460938 (bce 0.5549399852752686)\n",
      "297/303 2024-09-27 20:42:02, LF, radius: 235.8 cm, test loss: 111.728271484375 (bce 0.535531759262085)\n",
      "298/303 2024-09-27 20:42:04, LF, radius: 229.3 cm, test loss: 115.59039306640625 (bce 0.5433064103126526)\n",
      "299/303 2024-09-27 20:42:06, LF, radius: 0.0 cm, test loss: 148.20330810546875 (bce 0.512408435344696)\n"
     ]
    },
    {
     "name": "stderr",
     "output_type": "stream",
     "text": [
      "/Users/aschuetz/Documents/Analysis/legend/ML/legend-multi-fidelity-surrogate-model/conditional-neural-process/../utilities/plotting_utils.py:372: RuntimeWarning: divide by zero encountered in scalar divide\n",
      "  phi = 2.*np.pi/np.round(x[2])\n"
     ]
    },
    {
     "name": "stdout",
     "output_type": "stream",
     "text": [
      "300/303 2024-09-27 20:42:08, LF, radius: 95.0 cm, test loss: 86.28044891357422 (bce 0.43942803144454956)\n",
      "301/303 2024-09-27 20:42:11, LF, radius: 200.0 cm, test loss: 117.15757751464844 (bce 0.5807053446769714)\n",
      "302/303 2024-09-27 20:42:13, LF, radius: 116.02 cm, test loss: 54.97425842285156 (bce 0.2549245357513428)\n"
     ]
    },
    {
     "name": "stderr",
     "output_type": "stream",
     "text": [
      "/Users/aschuetz/Documents/Analysis/legend/ML/legend-multi-fidelity-surrogate-model/conditional-neural-process/plotting_utils_cnp.py:132: UserWarning: Data has no positive values, and therefore cannot be log-scaled.\n",
      "  ax[0].set_yscale(\"log\")\n"
     ]
    },
    {
     "data": {
      "text/plain": [
       "<Figure size 640x480 with 0 Axes>"
      ]
     },
     "metadata": {},
     "output_type": "display_data"
    },
    {
     "data": {
      "text/plain": [
       "<Figure size 900x300 with 0 Axes>"
      ]
     },
     "metadata": {},
     "output_type": "display_data"
    },
    {
     "data": {
      "text/plain": [
       "<Figure size 900x300 with 0 Axes>"
      ]
     },
     "metadata": {},
     "output_type": "display_data"
    },
    {
     "data": {
      "text/plain": [
       "<Figure size 900x300 with 0 Axes>"
      ]
     },
     "metadata": {},
     "output_type": "display_data"
    },
    {
     "data": {
      "text/plain": [
       "<Figure size 900x300 with 0 Axes>"
      ]
     },
     "metadata": {},
     "output_type": "display_data"
    },
    {
     "data": {
      "text/plain": [
       "<Figure size 900x300 with 0 Axes>"
      ]
     },
     "metadata": {},
     "output_type": "display_data"
    },
    {
     "data": {
      "text/plain": [
       "<Figure size 900x300 with 0 Axes>"
      ]
     },
     "metadata": {},
     "output_type": "display_data"
    },
    {
     "data": {
      "text/plain": [
       "<Figure size 900x300 with 0 Axes>"
      ]
     },
     "metadata": {},
     "output_type": "display_data"
    },
    {
     "data": {
      "text/plain": [
       "<Figure size 900x300 with 0 Axes>"
      ]
     },
     "metadata": {},
     "output_type": "display_data"
    },
    {
     "data": {
      "text/plain": [
       "<Figure size 900x300 with 0 Axes>"
      ]
     },
     "metadata": {},
     "output_type": "display_data"
    },
    {
     "data": {
      "text/plain": [
       "<Figure size 900x300 with 0 Axes>"
      ]
     },
     "metadata": {},
     "output_type": "display_data"
    },
    {
     "data": {
      "text/plain": [
       "<Figure size 900x300 with 0 Axes>"
      ]
     },
     "metadata": {},
     "output_type": "display_data"
    },
    {
     "data": {
      "text/plain": [
       "<Figure size 900x300 with 0 Axes>"
      ]
     },
     "metadata": {},
     "output_type": "display_data"
    },
    {
     "data": {
      "text/plain": [
       "<Figure size 900x300 with 0 Axes>"
      ]
     },
     "metadata": {},
     "output_type": "display_data"
    },
    {
     "data": {
      "text/plain": [
       "<Figure size 900x300 with 0 Axes>"
      ]
     },
     "metadata": {},
     "output_type": "display_data"
    },
    {
     "data": {
      "text/plain": [
       "<Figure size 900x300 with 0 Axes>"
      ]
     },
     "metadata": {},
     "output_type": "display_data"
    },
    {
     "data": {
      "text/plain": [
       "<Figure size 900x300 with 0 Axes>"
      ]
     },
     "metadata": {},
     "output_type": "display_data"
    },
    {
     "data": {
      "text/plain": [
       "<Figure size 900x300 with 0 Axes>"
      ]
     },
     "metadata": {},
     "output_type": "display_data"
    },
    {
     "data": {
      "text/plain": [
       "<Figure size 900x300 with 0 Axes>"
      ]
     },
     "metadata": {},
     "output_type": "display_data"
    },
    {
     "data": {
      "text/plain": [
       "<Figure size 900x300 with 0 Axes>"
      ]
     },
     "metadata": {},
     "output_type": "display_data"
    },
    {
     "data": {
      "text/plain": [
       "<Figure size 900x300 with 0 Axes>"
      ]
     },
     "metadata": {},
     "output_type": "display_data"
    },
    {
     "data": {
      "text/plain": [
       "<Figure size 900x300 with 0 Axes>"
      ]
     },
     "metadata": {},
     "output_type": "display_data"
    },
    {
     "data": {
      "text/plain": [
       "<Figure size 900x300 with 0 Axes>"
      ]
     },
     "metadata": {},
     "output_type": "display_data"
    },
    {
     "data": {
      "text/plain": [
       "<Figure size 900x300 with 0 Axes>"
      ]
     },
     "metadata": {},
     "output_type": "display_data"
    },
    {
     "data": {
      "text/plain": [
       "<Figure size 900x300 with 0 Axes>"
      ]
     },
     "metadata": {},
     "output_type": "display_data"
    },
    {
     "data": {
      "text/plain": [
       "<Figure size 900x300 with 0 Axes>"
      ]
     },
     "metadata": {},
     "output_type": "display_data"
    },
    {
     "data": {
      "text/plain": [
       "<Figure size 900x300 with 0 Axes>"
      ]
     },
     "metadata": {},
     "output_type": "display_data"
    },
    {
     "data": {
      "text/plain": [
       "<Figure size 900x300 with 0 Axes>"
      ]
     },
     "metadata": {},
     "output_type": "display_data"
    },
    {
     "data": {
      "text/plain": [
       "<Figure size 900x300 with 0 Axes>"
      ]
     },
     "metadata": {},
     "output_type": "display_data"
    },
    {
     "data": {
      "text/plain": [
       "<Figure size 900x300 with 0 Axes>"
      ]
     },
     "metadata": {},
     "output_type": "display_data"
    },
    {
     "data": {
      "text/plain": [
       "<Figure size 900x300 with 0 Axes>"
      ]
     },
     "metadata": {},
     "output_type": "display_data"
    },
    {
     "data": {
      "text/plain": [
       "<Figure size 900x300 with 0 Axes>"
      ]
     },
     "metadata": {},
     "output_type": "display_data"
    },
    {
     "data": {
      "text/plain": [
       "<Figure size 900x300 with 0 Axes>"
      ]
     },
     "metadata": {},
     "output_type": "display_data"
    },
    {
     "data": {
      "text/plain": [
       "<Figure size 900x300 with 0 Axes>"
      ]
     },
     "metadata": {},
     "output_type": "display_data"
    },
    {
     "data": {
      "text/plain": [
       "<Figure size 900x300 with 0 Axes>"
      ]
     },
     "metadata": {},
     "output_type": "display_data"
    },
    {
     "data": {
      "text/plain": [
       "<Figure size 900x300 with 0 Axes>"
      ]
     },
     "metadata": {},
     "output_type": "display_data"
    },
    {
     "data": {
      "text/plain": [
       "<Figure size 900x300 with 0 Axes>"
      ]
     },
     "metadata": {},
     "output_type": "display_data"
    },
    {
     "data": {
      "text/plain": [
       "<Figure size 900x300 with 0 Axes>"
      ]
     },
     "metadata": {},
     "output_type": "display_data"
    },
    {
     "data": {
      "text/plain": [
       "<Figure size 900x300 with 0 Axes>"
      ]
     },
     "metadata": {},
     "output_type": "display_data"
    },
    {
     "data": {
      "text/plain": [
       "<Figure size 900x300 with 0 Axes>"
      ]
     },
     "metadata": {},
     "output_type": "display_data"
    },
    {
     "data": {
      "text/plain": [
       "<Figure size 900x300 with 0 Axes>"
      ]
     },
     "metadata": {},
     "output_type": "display_data"
    },
    {
     "data": {
      "text/plain": [
       "<Figure size 900x300 with 0 Axes>"
      ]
     },
     "metadata": {},
     "output_type": "display_data"
    },
    {
     "data": {
      "text/plain": [
       "<Figure size 900x300 with 0 Axes>"
      ]
     },
     "metadata": {},
     "output_type": "display_data"
    },
    {
     "data": {
      "text/plain": [
       "<Figure size 900x300 with 0 Axes>"
      ]
     },
     "metadata": {},
     "output_type": "display_data"
    },
    {
     "data": {
      "text/plain": [
       "<Figure size 900x300 with 0 Axes>"
      ]
     },
     "metadata": {},
     "output_type": "display_data"
    },
    {
     "data": {
      "text/plain": [
       "<Figure size 900x300 with 0 Axes>"
      ]
     },
     "metadata": {},
     "output_type": "display_data"
    },
    {
     "data": {
      "text/plain": [
       "<Figure size 900x300 with 0 Axes>"
      ]
     },
     "metadata": {},
     "output_type": "display_data"
    },
    {
     "data": {
      "text/plain": [
       "<Figure size 900x300 with 0 Axes>"
      ]
     },
     "metadata": {},
     "output_type": "display_data"
    },
    {
     "data": {
      "text/plain": [
       "<Figure size 900x300 with 0 Axes>"
      ]
     },
     "metadata": {},
     "output_type": "display_data"
    },
    {
     "data": {
      "text/plain": [
       "<Figure size 900x300 with 0 Axes>"
      ]
     },
     "metadata": {},
     "output_type": "display_data"
    },
    {
     "data": {
      "text/plain": [
       "<Figure size 900x300 with 0 Axes>"
      ]
     },
     "metadata": {},
     "output_type": "display_data"
    },
    {
     "data": {
      "text/plain": [
       "<Figure size 900x300 with 0 Axes>"
      ]
     },
     "metadata": {},
     "output_type": "display_data"
    },
    {
     "data": {
      "text/plain": [
       "<Figure size 900x300 with 0 Axes>"
      ]
     },
     "metadata": {},
     "output_type": "display_data"
    },
    {
     "data": {
      "text/plain": [
       "<Figure size 900x300 with 0 Axes>"
      ]
     },
     "metadata": {},
     "output_type": "display_data"
    },
    {
     "data": {
      "text/plain": [
       "<Figure size 900x300 with 0 Axes>"
      ]
     },
     "metadata": {},
     "output_type": "display_data"
    },
    {
     "data": {
      "text/plain": [
       "<Figure size 900x300 with 0 Axes>"
      ]
     },
     "metadata": {},
     "output_type": "display_data"
    },
    {
     "data": {
      "text/plain": [
       "<Figure size 900x300 with 0 Axes>"
      ]
     },
     "metadata": {},
     "output_type": "display_data"
    },
    {
     "data": {
      "text/plain": [
       "<Figure size 900x300 with 0 Axes>"
      ]
     },
     "metadata": {},
     "output_type": "display_data"
    },
    {
     "data": {
      "text/plain": [
       "<Figure size 900x300 with 0 Axes>"
      ]
     },
     "metadata": {},
     "output_type": "display_data"
    },
    {
     "data": {
      "text/plain": [
       "<Figure size 900x300 with 0 Axes>"
      ]
     },
     "metadata": {},
     "output_type": "display_data"
    },
    {
     "data": {
      "text/plain": [
       "<Figure size 900x300 with 0 Axes>"
      ]
     },
     "metadata": {},
     "output_type": "display_data"
    },
    {
     "data": {
      "text/plain": [
       "<Figure size 900x300 with 0 Axes>"
      ]
     },
     "metadata": {},
     "output_type": "display_data"
    },
    {
     "data": {
      "text/plain": [
       "<Figure size 900x300 with 0 Axes>"
      ]
     },
     "metadata": {},
     "output_type": "display_data"
    },
    {
     "data": {
      "text/plain": [
       "<Figure size 900x300 with 0 Axes>"
      ]
     },
     "metadata": {},
     "output_type": "display_data"
    },
    {
     "data": {
      "text/plain": [
       "<Figure size 900x300 with 0 Axes>"
      ]
     },
     "metadata": {},
     "output_type": "display_data"
    },
    {
     "data": {
      "text/plain": [
       "<Figure size 900x300 with 0 Axes>"
      ]
     },
     "metadata": {},
     "output_type": "display_data"
    },
    {
     "data": {
      "text/plain": [
       "<Figure size 900x300 with 0 Axes>"
      ]
     },
     "metadata": {},
     "output_type": "display_data"
    },
    {
     "data": {
      "text/plain": [
       "<Figure size 900x300 with 0 Axes>"
      ]
     },
     "metadata": {},
     "output_type": "display_data"
    },
    {
     "data": {
      "text/plain": [
       "<Figure size 900x300 with 0 Axes>"
      ]
     },
     "metadata": {},
     "output_type": "display_data"
    },
    {
     "data": {
      "text/plain": [
       "<Figure size 900x300 with 0 Axes>"
      ]
     },
     "metadata": {},
     "output_type": "display_data"
    },
    {
     "data": {
      "text/plain": [
       "<Figure size 900x300 with 0 Axes>"
      ]
     },
     "metadata": {},
     "output_type": "display_data"
    },
    {
     "data": {
      "text/plain": [
       "<Figure size 900x300 with 0 Axes>"
      ]
     },
     "metadata": {},
     "output_type": "display_data"
    },
    {
     "data": {
      "text/plain": [
       "<Figure size 900x300 with 0 Axes>"
      ]
     },
     "metadata": {},
     "output_type": "display_data"
    },
    {
     "data": {
      "text/plain": [
       "<Figure size 900x300 with 0 Axes>"
      ]
     },
     "metadata": {},
     "output_type": "display_data"
    },
    {
     "data": {
      "text/plain": [
       "<Figure size 900x300 with 0 Axes>"
      ]
     },
     "metadata": {},
     "output_type": "display_data"
    },
    {
     "data": {
      "text/plain": [
       "<Figure size 900x300 with 0 Axes>"
      ]
     },
     "metadata": {},
     "output_type": "display_data"
    },
    {
     "data": {
      "text/plain": [
       "<Figure size 900x300 with 0 Axes>"
      ]
     },
     "metadata": {},
     "output_type": "display_data"
    },
    {
     "data": {
      "text/plain": [
       "<Figure size 900x300 with 0 Axes>"
      ]
     },
     "metadata": {},
     "output_type": "display_data"
    },
    {
     "data": {
      "text/plain": [
       "<Figure size 900x300 with 0 Axes>"
      ]
     },
     "metadata": {},
     "output_type": "display_data"
    },
    {
     "data": {
      "text/plain": [
       "<Figure size 900x300 with 0 Axes>"
      ]
     },
     "metadata": {},
     "output_type": "display_data"
    },
    {
     "data": {
      "text/plain": [
       "<Figure size 900x300 with 0 Axes>"
      ]
     },
     "metadata": {},
     "output_type": "display_data"
    },
    {
     "data": {
      "text/plain": [
       "<Figure size 900x300 with 0 Axes>"
      ]
     },
     "metadata": {},
     "output_type": "display_data"
    },
    {
     "data": {
      "text/plain": [
       "<Figure size 900x300 with 0 Axes>"
      ]
     },
     "metadata": {},
     "output_type": "display_data"
    },
    {
     "data": {
      "text/plain": [
       "<Figure size 900x300 with 0 Axes>"
      ]
     },
     "metadata": {},
     "output_type": "display_data"
    },
    {
     "data": {
      "text/plain": [
       "<Figure size 900x300 with 0 Axes>"
      ]
     },
     "metadata": {},
     "output_type": "display_data"
    },
    {
     "data": {
      "text/plain": [
       "<Figure size 900x300 with 0 Axes>"
      ]
     },
     "metadata": {},
     "output_type": "display_data"
    },
    {
     "data": {
      "text/plain": [
       "<Figure size 900x300 with 0 Axes>"
      ]
     },
     "metadata": {},
     "output_type": "display_data"
    },
    {
     "data": {
      "text/plain": [
       "<Figure size 900x300 with 0 Axes>"
      ]
     },
     "metadata": {},
     "output_type": "display_data"
    },
    {
     "data": {
      "text/plain": [
       "<Figure size 900x300 with 0 Axes>"
      ]
     },
     "metadata": {},
     "output_type": "display_data"
    },
    {
     "data": {
      "text/plain": [
       "<Figure size 900x300 with 0 Axes>"
      ]
     },
     "metadata": {},
     "output_type": "display_data"
    },
    {
     "data": {
      "text/plain": [
       "<Figure size 900x300 with 0 Axes>"
      ]
     },
     "metadata": {},
     "output_type": "display_data"
    },
    {
     "data": {
      "text/plain": [
       "<Figure size 900x300 with 0 Axes>"
      ]
     },
     "metadata": {},
     "output_type": "display_data"
    },
    {
     "data": {
      "text/plain": [
       "<Figure size 900x300 with 0 Axes>"
      ]
     },
     "metadata": {},
     "output_type": "display_data"
    },
    {
     "data": {
      "text/plain": [
       "<Figure size 900x300 with 0 Axes>"
      ]
     },
     "metadata": {},
     "output_type": "display_data"
    },
    {
     "data": {
      "text/plain": [
       "<Figure size 900x300 with 0 Axes>"
      ]
     },
     "metadata": {},
     "output_type": "display_data"
    },
    {
     "data": {
      "text/plain": [
       "<Figure size 900x300 with 0 Axes>"
      ]
     },
     "metadata": {},
     "output_type": "display_data"
    },
    {
     "data": {
      "text/plain": [
       "<Figure size 900x300 with 0 Axes>"
      ]
     },
     "metadata": {},
     "output_type": "display_data"
    },
    {
     "data": {
      "text/plain": [
       "<Figure size 900x300 with 0 Axes>"
      ]
     },
     "metadata": {},
     "output_type": "display_data"
    },
    {
     "data": {
      "text/plain": [
       "<Figure size 900x300 with 0 Axes>"
      ]
     },
     "metadata": {},
     "output_type": "display_data"
    },
    {
     "data": {
      "text/plain": [
       "<Figure size 900x300 with 0 Axes>"
      ]
     },
     "metadata": {},
     "output_type": "display_data"
    },
    {
     "data": {
      "text/plain": [
       "<Figure size 900x300 with 0 Axes>"
      ]
     },
     "metadata": {},
     "output_type": "display_data"
    },
    {
     "data": {
      "text/plain": [
       "<Figure size 900x300 with 0 Axes>"
      ]
     },
     "metadata": {},
     "output_type": "display_data"
    },
    {
     "data": {
      "text/plain": [
       "<Figure size 900x300 with 0 Axes>"
      ]
     },
     "metadata": {},
     "output_type": "display_data"
    },
    {
     "data": {
      "text/plain": [
       "<Figure size 900x300 with 0 Axes>"
      ]
     },
     "metadata": {},
     "output_type": "display_data"
    },
    {
     "data": {
      "text/plain": [
       "<Figure size 900x300 with 0 Axes>"
      ]
     },
     "metadata": {},
     "output_type": "display_data"
    },
    {
     "data": {
      "text/plain": [
       "<Figure size 900x300 with 0 Axes>"
      ]
     },
     "metadata": {},
     "output_type": "display_data"
    },
    {
     "data": {
      "text/plain": [
       "<Figure size 900x300 with 0 Axes>"
      ]
     },
     "metadata": {},
     "output_type": "display_data"
    },
    {
     "data": {
      "text/plain": [
       "<Figure size 900x300 with 0 Axes>"
      ]
     },
     "metadata": {},
     "output_type": "display_data"
    },
    {
     "data": {
      "text/plain": [
       "<Figure size 900x300 with 0 Axes>"
      ]
     },
     "metadata": {},
     "output_type": "display_data"
    },
    {
     "data": {
      "text/plain": [
       "<Figure size 900x300 with 0 Axes>"
      ]
     },
     "metadata": {},
     "output_type": "display_data"
    },
    {
     "data": {
      "text/plain": [
       "<Figure size 900x300 with 0 Axes>"
      ]
     },
     "metadata": {},
     "output_type": "display_data"
    },
    {
     "data": {
      "text/plain": [
       "<Figure size 900x300 with 0 Axes>"
      ]
     },
     "metadata": {},
     "output_type": "display_data"
    },
    {
     "data": {
      "text/plain": [
       "<Figure size 900x300 with 0 Axes>"
      ]
     },
     "metadata": {},
     "output_type": "display_data"
    },
    {
     "data": {
      "text/plain": [
       "<Figure size 900x300 with 0 Axes>"
      ]
     },
     "metadata": {},
     "output_type": "display_data"
    },
    {
     "data": {
      "text/plain": [
       "<Figure size 900x300 with 0 Axes>"
      ]
     },
     "metadata": {},
     "output_type": "display_data"
    },
    {
     "data": {
      "text/plain": [
       "<Figure size 900x300 with 0 Axes>"
      ]
     },
     "metadata": {},
     "output_type": "display_data"
    },
    {
     "data": {
      "text/plain": [
       "<Figure size 900x300 with 0 Axes>"
      ]
     },
     "metadata": {},
     "output_type": "display_data"
    },
    {
     "data": {
      "text/plain": [
       "<Figure size 900x300 with 0 Axes>"
      ]
     },
     "metadata": {},
     "output_type": "display_data"
    },
    {
     "data": {
      "text/plain": [
       "<Figure size 900x300 with 0 Axes>"
      ]
     },
     "metadata": {},
     "output_type": "display_data"
    },
    {
     "data": {
      "text/plain": [
       "<Figure size 900x300 with 0 Axes>"
      ]
     },
     "metadata": {},
     "output_type": "display_data"
    },
    {
     "data": {
      "text/plain": [
       "<Figure size 900x300 with 0 Axes>"
      ]
     },
     "metadata": {},
     "output_type": "display_data"
    },
    {
     "data": {
      "text/plain": [
       "<Figure size 900x300 with 0 Axes>"
      ]
     },
     "metadata": {},
     "output_type": "display_data"
    },
    {
     "data": {
      "text/plain": [
       "<Figure size 900x300 with 0 Axes>"
      ]
     },
     "metadata": {},
     "output_type": "display_data"
    },
    {
     "data": {
      "text/plain": [
       "<Figure size 900x300 with 0 Axes>"
      ]
     },
     "metadata": {},
     "output_type": "display_data"
    },
    {
     "data": {
      "text/plain": [
       "<Figure size 900x300 with 0 Axes>"
      ]
     },
     "metadata": {},
     "output_type": "display_data"
    },
    {
     "data": {
      "text/plain": [
       "<Figure size 900x300 with 0 Axes>"
      ]
     },
     "metadata": {},
     "output_type": "display_data"
    },
    {
     "data": {
      "text/plain": [
       "<Figure size 900x300 with 0 Axes>"
      ]
     },
     "metadata": {},
     "output_type": "display_data"
    },
    {
     "data": {
      "text/plain": [
       "<Figure size 900x300 with 0 Axes>"
      ]
     },
     "metadata": {},
     "output_type": "display_data"
    },
    {
     "data": {
      "text/plain": [
       "<Figure size 900x300 with 0 Axes>"
      ]
     },
     "metadata": {},
     "output_type": "display_data"
    },
    {
     "data": {
      "text/plain": [
       "<Figure size 900x300 with 0 Axes>"
      ]
     },
     "metadata": {},
     "output_type": "display_data"
    },
    {
     "data": {
      "text/plain": [
       "<Figure size 900x300 with 0 Axes>"
      ]
     },
     "metadata": {},
     "output_type": "display_data"
    },
    {
     "data": {
      "text/plain": [
       "<Figure size 900x300 with 0 Axes>"
      ]
     },
     "metadata": {},
     "output_type": "display_data"
    },
    {
     "data": {
      "text/plain": [
       "<Figure size 900x300 with 0 Axes>"
      ]
     },
     "metadata": {},
     "output_type": "display_data"
    },
    {
     "data": {
      "text/plain": [
       "<Figure size 900x300 with 0 Axes>"
      ]
     },
     "metadata": {},
     "output_type": "display_data"
    },
    {
     "data": {
      "text/plain": [
       "<Figure size 900x300 with 0 Axes>"
      ]
     },
     "metadata": {},
     "output_type": "display_data"
    },
    {
     "data": {
      "text/plain": [
       "<Figure size 900x300 with 0 Axes>"
      ]
     },
     "metadata": {},
     "output_type": "display_data"
    },
    {
     "data": {
      "text/plain": [
       "<Figure size 900x300 with 0 Axes>"
      ]
     },
     "metadata": {},
     "output_type": "display_data"
    },
    {
     "data": {
      "text/plain": [
       "<Figure size 900x300 with 0 Axes>"
      ]
     },
     "metadata": {},
     "output_type": "display_data"
    },
    {
     "data": {
      "text/plain": [
       "<Figure size 900x300 with 0 Axes>"
      ]
     },
     "metadata": {},
     "output_type": "display_data"
    },
    {
     "data": {
      "text/plain": [
       "<Figure size 900x300 with 0 Axes>"
      ]
     },
     "metadata": {},
     "output_type": "display_data"
    },
    {
     "data": {
      "text/plain": [
       "<Figure size 900x300 with 0 Axes>"
      ]
     },
     "metadata": {},
     "output_type": "display_data"
    },
    {
     "data": {
      "text/plain": [
       "<Figure size 900x300 with 0 Axes>"
      ]
     },
     "metadata": {},
     "output_type": "display_data"
    },
    {
     "data": {
      "text/plain": [
       "<Figure size 900x300 with 0 Axes>"
      ]
     },
     "metadata": {},
     "output_type": "display_data"
    },
    {
     "data": {
      "text/plain": [
       "<Figure size 900x300 with 0 Axes>"
      ]
     },
     "metadata": {},
     "output_type": "display_data"
    },
    {
     "data": {
      "text/plain": [
       "<Figure size 900x300 with 0 Axes>"
      ]
     },
     "metadata": {},
     "output_type": "display_data"
    },
    {
     "data": {
      "text/plain": [
       "<Figure size 900x300 with 0 Axes>"
      ]
     },
     "metadata": {},
     "output_type": "display_data"
    },
    {
     "data": {
      "text/plain": [
       "<Figure size 900x300 with 0 Axes>"
      ]
     },
     "metadata": {},
     "output_type": "display_data"
    },
    {
     "data": {
      "text/plain": [
       "<Figure size 900x300 with 0 Axes>"
      ]
     },
     "metadata": {},
     "output_type": "display_data"
    },
    {
     "data": {
      "text/plain": [
       "<Figure size 900x300 with 0 Axes>"
      ]
     },
     "metadata": {},
     "output_type": "display_data"
    },
    {
     "data": {
      "text/plain": [
       "<Figure size 900x300 with 0 Axes>"
      ]
     },
     "metadata": {},
     "output_type": "display_data"
    },
    {
     "data": {
      "text/plain": [
       "<Figure size 900x300 with 0 Axes>"
      ]
     },
     "metadata": {},
     "output_type": "display_data"
    },
    {
     "data": {
      "text/plain": [
       "<Figure size 900x300 with 0 Axes>"
      ]
     },
     "metadata": {},
     "output_type": "display_data"
    },
    {
     "data": {
      "text/plain": [
       "<Figure size 900x300 with 0 Axes>"
      ]
     },
     "metadata": {},
     "output_type": "display_data"
    },
    {
     "data": {
      "text/plain": [
       "<Figure size 900x300 with 0 Axes>"
      ]
     },
     "metadata": {},
     "output_type": "display_data"
    },
    {
     "data": {
      "text/plain": [
       "<Figure size 900x300 with 0 Axes>"
      ]
     },
     "metadata": {},
     "output_type": "display_data"
    },
    {
     "data": {
      "text/plain": [
       "<Figure size 900x300 with 0 Axes>"
      ]
     },
     "metadata": {},
     "output_type": "display_data"
    },
    {
     "data": {
      "text/plain": [
       "<Figure size 900x300 with 0 Axes>"
      ]
     },
     "metadata": {},
     "output_type": "display_data"
    },
    {
     "data": {
      "text/plain": [
       "<Figure size 900x300 with 0 Axes>"
      ]
     },
     "metadata": {},
     "output_type": "display_data"
    },
    {
     "data": {
      "text/plain": [
       "<Figure size 900x300 with 0 Axes>"
      ]
     },
     "metadata": {},
     "output_type": "display_data"
    },
    {
     "data": {
      "text/plain": [
       "<Figure size 900x300 with 0 Axes>"
      ]
     },
     "metadata": {},
     "output_type": "display_data"
    },
    {
     "data": {
      "text/plain": [
       "<Figure size 900x300 with 0 Axes>"
      ]
     },
     "metadata": {},
     "output_type": "display_data"
    },
    {
     "data": {
      "text/plain": [
       "<Figure size 900x300 with 0 Axes>"
      ]
     },
     "metadata": {},
     "output_type": "display_data"
    },
    {
     "data": {
      "text/plain": [
       "<Figure size 900x300 with 0 Axes>"
      ]
     },
     "metadata": {},
     "output_type": "display_data"
    },
    {
     "data": {
      "text/plain": [
       "<Figure size 900x300 with 0 Axes>"
      ]
     },
     "metadata": {},
     "output_type": "display_data"
    },
    {
     "data": {
      "text/plain": [
       "<Figure size 900x300 with 0 Axes>"
      ]
     },
     "metadata": {},
     "output_type": "display_data"
    },
    {
     "data": {
      "text/plain": [
       "<Figure size 900x300 with 0 Axes>"
      ]
     },
     "metadata": {},
     "output_type": "display_data"
    },
    {
     "data": {
      "text/plain": [
       "<Figure size 900x300 with 0 Axes>"
      ]
     },
     "metadata": {},
     "output_type": "display_data"
    },
    {
     "data": {
      "text/plain": [
       "<Figure size 900x300 with 0 Axes>"
      ]
     },
     "metadata": {},
     "output_type": "display_data"
    },
    {
     "data": {
      "text/plain": [
       "<Figure size 900x300 with 0 Axes>"
      ]
     },
     "metadata": {},
     "output_type": "display_data"
    },
    {
     "data": {
      "text/plain": [
       "<Figure size 900x300 with 0 Axes>"
      ]
     },
     "metadata": {},
     "output_type": "display_data"
    },
    {
     "data": {
      "text/plain": [
       "<Figure size 900x300 with 0 Axes>"
      ]
     },
     "metadata": {},
     "output_type": "display_data"
    },
    {
     "data": {
      "text/plain": [
       "<Figure size 900x300 with 0 Axes>"
      ]
     },
     "metadata": {},
     "output_type": "display_data"
    },
    {
     "data": {
      "text/plain": [
       "<Figure size 900x300 with 0 Axes>"
      ]
     },
     "metadata": {},
     "output_type": "display_data"
    },
    {
     "data": {
      "text/plain": [
       "<Figure size 900x300 with 0 Axes>"
      ]
     },
     "metadata": {},
     "output_type": "display_data"
    },
    {
     "data": {
      "text/plain": [
       "<Figure size 900x300 with 0 Axes>"
      ]
     },
     "metadata": {},
     "output_type": "display_data"
    },
    {
     "data": {
      "text/plain": [
       "<Figure size 900x300 with 0 Axes>"
      ]
     },
     "metadata": {},
     "output_type": "display_data"
    },
    {
     "data": {
      "text/plain": [
       "<Figure size 900x300 with 0 Axes>"
      ]
     },
     "metadata": {},
     "output_type": "display_data"
    },
    {
     "data": {
      "text/plain": [
       "<Figure size 900x300 with 0 Axes>"
      ]
     },
     "metadata": {},
     "output_type": "display_data"
    },
    {
     "data": {
      "text/plain": [
       "<Figure size 900x300 with 0 Axes>"
      ]
     },
     "metadata": {},
     "output_type": "display_data"
    },
    {
     "data": {
      "text/plain": [
       "<Figure size 900x300 with 0 Axes>"
      ]
     },
     "metadata": {},
     "output_type": "display_data"
    },
    {
     "data": {
      "text/plain": [
       "<Figure size 900x300 with 0 Axes>"
      ]
     },
     "metadata": {},
     "output_type": "display_data"
    },
    {
     "data": {
      "text/plain": [
       "<Figure size 900x300 with 0 Axes>"
      ]
     },
     "metadata": {},
     "output_type": "display_data"
    },
    {
     "data": {
      "text/plain": [
       "<Figure size 900x300 with 0 Axes>"
      ]
     },
     "metadata": {},
     "output_type": "display_data"
    },
    {
     "data": {
      "text/plain": [
       "<Figure size 900x300 with 0 Axes>"
      ]
     },
     "metadata": {},
     "output_type": "display_data"
    },
    {
     "data": {
      "text/plain": [
       "<Figure size 900x300 with 0 Axes>"
      ]
     },
     "metadata": {},
     "output_type": "display_data"
    },
    {
     "data": {
      "text/plain": [
       "<Figure size 900x300 with 0 Axes>"
      ]
     },
     "metadata": {},
     "output_type": "display_data"
    },
    {
     "data": {
      "text/plain": [
       "<Figure size 900x300 with 0 Axes>"
      ]
     },
     "metadata": {},
     "output_type": "display_data"
    },
    {
     "data": {
      "text/plain": [
       "<Figure size 900x300 with 0 Axes>"
      ]
     },
     "metadata": {},
     "output_type": "display_data"
    },
    {
     "data": {
      "text/plain": [
       "<Figure size 900x300 with 0 Axes>"
      ]
     },
     "metadata": {},
     "output_type": "display_data"
    },
    {
     "data": {
      "text/plain": [
       "<Figure size 900x300 with 0 Axes>"
      ]
     },
     "metadata": {},
     "output_type": "display_data"
    },
    {
     "data": {
      "text/plain": [
       "<Figure size 900x300 with 0 Axes>"
      ]
     },
     "metadata": {},
     "output_type": "display_data"
    },
    {
     "data": {
      "text/plain": [
       "<Figure size 900x300 with 0 Axes>"
      ]
     },
     "metadata": {},
     "output_type": "display_data"
    },
    {
     "data": {
      "text/plain": [
       "<Figure size 900x300 with 0 Axes>"
      ]
     },
     "metadata": {},
     "output_type": "display_data"
    },
    {
     "data": {
      "text/plain": [
       "<Figure size 900x300 with 0 Axes>"
      ]
     },
     "metadata": {},
     "output_type": "display_data"
    },
    {
     "data": {
      "text/plain": [
       "<Figure size 900x300 with 0 Axes>"
      ]
     },
     "metadata": {},
     "output_type": "display_data"
    },
    {
     "data": {
      "text/plain": [
       "<Figure size 900x300 with 0 Axes>"
      ]
     },
     "metadata": {},
     "output_type": "display_data"
    },
    {
     "data": {
      "text/plain": [
       "<Figure size 900x300 with 0 Axes>"
      ]
     },
     "metadata": {},
     "output_type": "display_data"
    },
    {
     "data": {
      "text/plain": [
       "<Figure size 900x300 with 0 Axes>"
      ]
     },
     "metadata": {},
     "output_type": "display_data"
    },
    {
     "data": {
      "text/plain": [
       "<Figure size 900x300 with 0 Axes>"
      ]
     },
     "metadata": {},
     "output_type": "display_data"
    },
    {
     "data": {
      "text/plain": [
       "<Figure size 900x300 with 0 Axes>"
      ]
     },
     "metadata": {},
     "output_type": "display_data"
    },
    {
     "data": {
      "text/plain": [
       "<Figure size 900x300 with 0 Axes>"
      ]
     },
     "metadata": {},
     "output_type": "display_data"
    },
    {
     "data": {
      "text/plain": [
       "<Figure size 900x300 with 0 Axes>"
      ]
     },
     "metadata": {},
     "output_type": "display_data"
    },
    {
     "data": {
      "text/plain": [
       "<Figure size 900x300 with 0 Axes>"
      ]
     },
     "metadata": {},
     "output_type": "display_data"
    },
    {
     "data": {
      "text/plain": [
       "<Figure size 900x300 with 0 Axes>"
      ]
     },
     "metadata": {},
     "output_type": "display_data"
    },
    {
     "data": {
      "text/plain": [
       "<Figure size 900x300 with 0 Axes>"
      ]
     },
     "metadata": {},
     "output_type": "display_data"
    },
    {
     "data": {
      "text/plain": [
       "<Figure size 900x300 with 0 Axes>"
      ]
     },
     "metadata": {},
     "output_type": "display_data"
    },
    {
     "data": {
      "text/plain": [
       "<Figure size 900x300 with 0 Axes>"
      ]
     },
     "metadata": {},
     "output_type": "display_data"
    },
    {
     "data": {
      "text/plain": [
       "<Figure size 900x300 with 0 Axes>"
      ]
     },
     "metadata": {},
     "output_type": "display_data"
    },
    {
     "data": {
      "text/plain": [
       "<Figure size 900x300 with 0 Axes>"
      ]
     },
     "metadata": {},
     "output_type": "display_data"
    },
    {
     "data": {
      "text/plain": [
       "<Figure size 900x300 with 0 Axes>"
      ]
     },
     "metadata": {},
     "output_type": "display_data"
    },
    {
     "data": {
      "text/plain": [
       "<Figure size 900x300 with 0 Axes>"
      ]
     },
     "metadata": {},
     "output_type": "display_data"
    },
    {
     "data": {
      "text/plain": [
       "<Figure size 900x300 with 0 Axes>"
      ]
     },
     "metadata": {},
     "output_type": "display_data"
    },
    {
     "data": {
      "text/plain": [
       "<Figure size 900x300 with 0 Axes>"
      ]
     },
     "metadata": {},
     "output_type": "display_data"
    },
    {
     "data": {
      "text/plain": [
       "<Figure size 900x300 with 0 Axes>"
      ]
     },
     "metadata": {},
     "output_type": "display_data"
    },
    {
     "data": {
      "text/plain": [
       "<Figure size 900x300 with 0 Axes>"
      ]
     },
     "metadata": {},
     "output_type": "display_data"
    },
    {
     "data": {
      "text/plain": [
       "<Figure size 900x300 with 0 Axes>"
      ]
     },
     "metadata": {},
     "output_type": "display_data"
    },
    {
     "data": {
      "text/plain": [
       "<Figure size 900x300 with 0 Axes>"
      ]
     },
     "metadata": {},
     "output_type": "display_data"
    },
    {
     "data": {
      "text/plain": [
       "<Figure size 900x300 with 0 Axes>"
      ]
     },
     "metadata": {},
     "output_type": "display_data"
    },
    {
     "data": {
      "text/plain": [
       "<Figure size 900x300 with 0 Axes>"
      ]
     },
     "metadata": {},
     "output_type": "display_data"
    },
    {
     "data": {
      "text/plain": [
       "<Figure size 900x300 with 0 Axes>"
      ]
     },
     "metadata": {},
     "output_type": "display_data"
    },
    {
     "data": {
      "text/plain": [
       "<Figure size 900x300 with 0 Axes>"
      ]
     },
     "metadata": {},
     "output_type": "display_data"
    },
    {
     "data": {
      "text/plain": [
       "<Figure size 900x300 with 0 Axes>"
      ]
     },
     "metadata": {},
     "output_type": "display_data"
    },
    {
     "data": {
      "text/plain": [
       "<Figure size 900x300 with 0 Axes>"
      ]
     },
     "metadata": {},
     "output_type": "display_data"
    },
    {
     "data": {
      "text/plain": [
       "<Figure size 900x300 with 0 Axes>"
      ]
     },
     "metadata": {},
     "output_type": "display_data"
    },
    {
     "data": {
      "text/plain": [
       "<Figure size 900x300 with 0 Axes>"
      ]
     },
     "metadata": {},
     "output_type": "display_data"
    },
    {
     "data": {
      "text/plain": [
       "<Figure size 900x300 with 0 Axes>"
      ]
     },
     "metadata": {},
     "output_type": "display_data"
    },
    {
     "data": {
      "text/plain": [
       "<Figure size 900x300 with 0 Axes>"
      ]
     },
     "metadata": {},
     "output_type": "display_data"
    },
    {
     "data": {
      "text/plain": [
       "<Figure size 900x300 with 0 Axes>"
      ]
     },
     "metadata": {},
     "output_type": "display_data"
    },
    {
     "data": {
      "text/plain": [
       "<Figure size 900x300 with 0 Axes>"
      ]
     },
     "metadata": {},
     "output_type": "display_data"
    },
    {
     "data": {
      "text/plain": [
       "<Figure size 900x300 with 0 Axes>"
      ]
     },
     "metadata": {},
     "output_type": "display_data"
    },
    {
     "data": {
      "text/plain": [
       "<Figure size 900x300 with 0 Axes>"
      ]
     },
     "metadata": {},
     "output_type": "display_data"
    },
    {
     "data": {
      "text/plain": [
       "<Figure size 900x300 with 0 Axes>"
      ]
     },
     "metadata": {},
     "output_type": "display_data"
    },
    {
     "data": {
      "text/plain": [
       "<Figure size 900x300 with 0 Axes>"
      ]
     },
     "metadata": {},
     "output_type": "display_data"
    },
    {
     "data": {
      "text/plain": [
       "<Figure size 900x300 with 0 Axes>"
      ]
     },
     "metadata": {},
     "output_type": "display_data"
    },
    {
     "data": {
      "text/plain": [
       "<Figure size 900x300 with 0 Axes>"
      ]
     },
     "metadata": {},
     "output_type": "display_data"
    },
    {
     "data": {
      "text/plain": [
       "<Figure size 900x300 with 0 Axes>"
      ]
     },
     "metadata": {},
     "output_type": "display_data"
    },
    {
     "data": {
      "text/plain": [
       "<Figure size 900x300 with 0 Axes>"
      ]
     },
     "metadata": {},
     "output_type": "display_data"
    },
    {
     "data": {
      "text/plain": [
       "<Figure size 900x300 with 0 Axes>"
      ]
     },
     "metadata": {},
     "output_type": "display_data"
    },
    {
     "data": {
      "text/plain": [
       "<Figure size 900x300 with 0 Axes>"
      ]
     },
     "metadata": {},
     "output_type": "display_data"
    },
    {
     "data": {
      "text/plain": [
       "<Figure size 900x300 with 0 Axes>"
      ]
     },
     "metadata": {},
     "output_type": "display_data"
    },
    {
     "data": {
      "text/plain": [
       "<Figure size 900x300 with 0 Axes>"
      ]
     },
     "metadata": {},
     "output_type": "display_data"
    },
    {
     "data": {
      "text/plain": [
       "<Figure size 900x300 with 0 Axes>"
      ]
     },
     "metadata": {},
     "output_type": "display_data"
    },
    {
     "data": {
      "text/plain": [
       "<Figure size 900x300 with 0 Axes>"
      ]
     },
     "metadata": {},
     "output_type": "display_data"
    },
    {
     "data": {
      "text/plain": [
       "<Figure size 900x300 with 0 Axes>"
      ]
     },
     "metadata": {},
     "output_type": "display_data"
    },
    {
     "data": {
      "text/plain": [
       "<Figure size 900x300 with 0 Axes>"
      ]
     },
     "metadata": {},
     "output_type": "display_data"
    },
    {
     "data": {
      "text/plain": [
       "<Figure size 900x300 with 0 Axes>"
      ]
     },
     "metadata": {},
     "output_type": "display_data"
    },
    {
     "data": {
      "text/plain": [
       "<Figure size 900x300 with 0 Axes>"
      ]
     },
     "metadata": {},
     "output_type": "display_data"
    },
    {
     "data": {
      "text/plain": [
       "<Figure size 900x300 with 0 Axes>"
      ]
     },
     "metadata": {},
     "output_type": "display_data"
    },
    {
     "data": {
      "text/plain": [
       "<Figure size 900x300 with 0 Axes>"
      ]
     },
     "metadata": {},
     "output_type": "display_data"
    },
    {
     "data": {
      "text/plain": [
       "<Figure size 900x300 with 0 Axes>"
      ]
     },
     "metadata": {},
     "output_type": "display_data"
    },
    {
     "data": {
      "text/plain": [
       "<Figure size 900x300 with 0 Axes>"
      ]
     },
     "metadata": {},
     "output_type": "display_data"
    },
    {
     "data": {
      "text/plain": [
       "<Figure size 900x300 with 0 Axes>"
      ]
     },
     "metadata": {},
     "output_type": "display_data"
    },
    {
     "data": {
      "text/plain": [
       "<Figure size 900x300 with 0 Axes>"
      ]
     },
     "metadata": {},
     "output_type": "display_data"
    },
    {
     "data": {
      "text/plain": [
       "<Figure size 900x300 with 0 Axes>"
      ]
     },
     "metadata": {},
     "output_type": "display_data"
    },
    {
     "data": {
      "text/plain": [
       "<Figure size 900x300 with 0 Axes>"
      ]
     },
     "metadata": {},
     "output_type": "display_data"
    },
    {
     "data": {
      "text/plain": [
       "<Figure size 900x300 with 0 Axes>"
      ]
     },
     "metadata": {},
     "output_type": "display_data"
    },
    {
     "data": {
      "text/plain": [
       "<Figure size 900x300 with 0 Axes>"
      ]
     },
     "metadata": {},
     "output_type": "display_data"
    },
    {
     "data": {
      "text/plain": [
       "<Figure size 900x300 with 0 Axes>"
      ]
     },
     "metadata": {},
     "output_type": "display_data"
    },
    {
     "data": {
      "text/plain": [
       "<Figure size 900x300 with 0 Axes>"
      ]
     },
     "metadata": {},
     "output_type": "display_data"
    },
    {
     "data": {
      "text/plain": [
       "<Figure size 900x300 with 0 Axes>"
      ]
     },
     "metadata": {},
     "output_type": "display_data"
    },
    {
     "data": {
      "text/plain": [
       "<Figure size 900x300 with 0 Axes>"
      ]
     },
     "metadata": {},
     "output_type": "display_data"
    },
    {
     "data": {
      "text/plain": [
       "<Figure size 900x300 with 0 Axes>"
      ]
     },
     "metadata": {},
     "output_type": "display_data"
    },
    {
     "data": {
      "text/plain": [
       "<Figure size 900x300 with 0 Axes>"
      ]
     },
     "metadata": {},
     "output_type": "display_data"
    },
    {
     "data": {
      "text/plain": [
       "<Figure size 900x300 with 0 Axes>"
      ]
     },
     "metadata": {},
     "output_type": "display_data"
    },
    {
     "data": {
      "text/plain": [
       "<Figure size 900x300 with 0 Axes>"
      ]
     },
     "metadata": {},
     "output_type": "display_data"
    },
    {
     "data": {
      "text/plain": [
       "<Figure size 900x300 with 0 Axes>"
      ]
     },
     "metadata": {},
     "output_type": "display_data"
    },
    {
     "data": {
      "text/plain": [
       "<Figure size 900x300 with 0 Axes>"
      ]
     },
     "metadata": {},
     "output_type": "display_data"
    },
    {
     "data": {
      "text/plain": [
       "<Figure size 900x300 with 0 Axes>"
      ]
     },
     "metadata": {},
     "output_type": "display_data"
    },
    {
     "data": {
      "text/plain": [
       "<Figure size 900x300 with 0 Axes>"
      ]
     },
     "metadata": {},
     "output_type": "display_data"
    },
    {
     "data": {
      "text/plain": [
       "<Figure size 900x300 with 0 Axes>"
      ]
     },
     "metadata": {},
     "output_type": "display_data"
    },
    {
     "data": {
      "text/plain": [
       "<Figure size 900x300 with 0 Axes>"
      ]
     },
     "metadata": {},
     "output_type": "display_data"
    },
    {
     "data": {
      "text/plain": [
       "<Figure size 900x300 with 0 Axes>"
      ]
     },
     "metadata": {},
     "output_type": "display_data"
    },
    {
     "data": {
      "text/plain": [
       "<Figure size 900x300 with 0 Axes>"
      ]
     },
     "metadata": {},
     "output_type": "display_data"
    },
    {
     "data": {
      "text/plain": [
       "<Figure size 900x300 with 0 Axes>"
      ]
     },
     "metadata": {},
     "output_type": "display_data"
    },
    {
     "data": {
      "text/plain": [
       "<Figure size 900x300 with 0 Axes>"
      ]
     },
     "metadata": {},
     "output_type": "display_data"
    },
    {
     "data": {
      "text/plain": [
       "<Figure size 900x300 with 0 Axes>"
      ]
     },
     "metadata": {},
     "output_type": "display_data"
    },
    {
     "data": {
      "text/plain": [
       "<Figure size 900x300 with 0 Axes>"
      ]
     },
     "metadata": {},
     "output_type": "display_data"
    },
    {
     "data": {
      "text/plain": [
       "<Figure size 900x300 with 0 Axes>"
      ]
     },
     "metadata": {},
     "output_type": "display_data"
    },
    {
     "data": {
      "text/plain": [
       "<Figure size 900x300 with 0 Axes>"
      ]
     },
     "metadata": {},
     "output_type": "display_data"
    },
    {
     "data": {
      "text/plain": [
       "<Figure size 900x300 with 0 Axes>"
      ]
     },
     "metadata": {},
     "output_type": "display_data"
    },
    {
     "data": {
      "text/plain": [
       "<Figure size 900x300 with 0 Axes>"
      ]
     },
     "metadata": {},
     "output_type": "display_data"
    },
    {
     "data": {
      "text/plain": [
       "<Figure size 900x300 with 0 Axes>"
      ]
     },
     "metadata": {},
     "output_type": "display_data"
    },
    {
     "data": {
      "text/plain": [
       "<Figure size 900x300 with 0 Axes>"
      ]
     },
     "metadata": {},
     "output_type": "display_data"
    },
    {
     "data": {
      "text/plain": [
       "<Figure size 900x300 with 0 Axes>"
      ]
     },
     "metadata": {},
     "output_type": "display_data"
    },
    {
     "data": {
      "text/plain": [
       "<Figure size 900x300 with 0 Axes>"
      ]
     },
     "metadata": {},
     "output_type": "display_data"
    },
    {
     "data": {
      "text/plain": [
       "<Figure size 900x300 with 0 Axes>"
      ]
     },
     "metadata": {},
     "output_type": "display_data"
    },
    {
     "data": {
      "text/plain": [
       "<Figure size 900x300 with 0 Axes>"
      ]
     },
     "metadata": {},
     "output_type": "display_data"
    },
    {
     "data": {
      "text/plain": [
       "<Figure size 900x300 with 0 Axes>"
      ]
     },
     "metadata": {},
     "output_type": "display_data"
    },
    {
     "data": {
      "text/plain": [
       "<Figure size 640x480 with 0 Axes>"
      ]
     },
     "metadata": {},
     "output_type": "display_data"
    }
   ],
   "source": [
    "\n",
    "mode=\"LF\"\n",
    "filelist = utils.get_all_files(f\"../simulation/out/{mode}/{version_lf}/tier2/neutron\")\n",
    "num_total_points = 50000\n",
    "\n",
    "\n",
    "MAX_CONTEXT_POINTS_NEW = int(1/3 * num_total_points)\n",
    "MAX_TARGET_POINTS_NEW = 2 * (MAX_CONTEXT_POINTS_NEW)\n",
    "bce = nn.BCELoss()\n",
    "\n",
    "x_lf = np.empty([0,6])\n",
    "sum_target_y_lf = np.empty([0,1])\n",
    "mean_mu_cnp_lf = np.empty([0,1])\n",
    "mean_sigma_cnp_lf = np.empty([0,1])\n",
    "rGe77_lf = np.empty([0,1])\n",
    "totGe77_lf = np.empty([0,1])\n",
    "totGe77_hf = np.empty([0,1])\n",
    "hist_target_sig_lf = hist_target_bkg_lf = hist_pred_sig_lf = hist_pred_bkg_lf = np.zeros(100)\n",
    "fout = open(f'{path_out}{f_out}_training.txt', \"a\")\n",
    "\n",
    "# create a PdfPages object\n",
    "pdf = PdfPages(f'{path_out}{f_out}_result_{mode}.pdf')\n",
    "\n",
    "for i,file in enumerate(filelist):\n",
    "    \n",
    "    path_to_files = file[:-4]\n",
    "    dataset_config = data.DataGeneration(num_iterations=1, num_context_points=MAX_CONTEXT_POINTS_NEW, num_target_points=MAX_TARGET_POINTS_NEW, batch_size = 1, use_data_augmentation=\"None\", path_to_files=path_to_files,x_size=x_size,y_size=y_size, mode = \"config\", ratio_testing=0.,names_x=names_x, name_y=name_y)\n",
    "    data_config = dataset_config.get_data(0, CONTEXT_IS_SUBSET)\n",
    "    # Get the predicted mean and variance at the target points for the testing set\n",
    "    log_prob_config, mu_config, sigma_config = model(data_config.query, data_config.target_y)\n",
    "    # Define the loss\n",
    "    config_loss = -log_prob_config.mean()\n",
    "    if max(mu_config[0].detach().numpy()) <= 1 and min(mu_config[0].detach().numpy()) >= 0:\n",
    "            loss_bce_config = bce(mu_config,  data_config.target_y)\n",
    "    else:\n",
    "            loss_bce_config = -1.\n",
    "\n",
    "    mu_config = mu_config[0].detach().numpy()\n",
    "    target_y = data_config.target_y[0].detach().numpy()\n",
    "    df = pd.read_csv(file, index_col=0)\n",
    "    tmp = df[[\"fidelity\",\"radius\",\"thickness\",\"npanels\",\"theta\",\"length\"]].to_numpy()\n",
    "    x_lf         = np.append(x_lf,[df[[\"fidelity\",\"radius\",\"thickness\",\"npanels\",\"theta\",\"length\"]].to_numpy()[0]],axis=0)\n",
    "\n",
    "    sum_target_y_tmp = np.array([np.sum(target_y)])\n",
    "    sum_target_y_lf    = np.append(sum_target_y_lf, [sum_target_y_tmp], axis=0)\n",
    "    mean_mu_tmp = np.array([np.mean(mu_config)])\n",
    "    mean_mu_cnp_lf = np.append(mean_mu_cnp_lf, [mean_mu_tmp], axis=0)\n",
    "    mean_sigma_tmp = np.array([np.mean(sigma_config[0].detach().numpy())])\n",
    "    mean_sigma_cnp_lf = np.append(mean_sigma_cnp_lf, [mean_sigma_tmp], axis=0)\n",
    "    rGe77_lf = np.append(rGe77_lf,[np.array([np.sum(pd.read_csv(file)[\"prod_rate_Ge77[nuc/(kg*yr)]\"].to_numpy())])], axis=0)\n",
    "    totGe77_lf = np.append(totGe77_lf,[np.array([np.sum(pd.read_csv(file)[\"total_nC_Ge77[cts]\"].to_numpy())])], axis=0)\n",
    "\n",
    "    hist_target_sig2, hist_target_bkg2, hist_pred_sig2, hist_pred_bkg2 = plotting.sum_hist(mu_config, target_y, hist_target_sig_lf, hist_target_bkg_lf, hist_pred_sig_lf, hist_pred_bkg_lf)\n",
    "\n",
    "    print(\"{}/{} {}, {}, radius: {} cm, test loss: {} (bce {})\".format(i,len(filelist),datetime.datetime.now().strftime(\"%Y-%m-%d %H:%M:%S\"), mode,x_lf[-1,1], config_loss, loss_bce_config))\n",
    "    fout.write(\"{}, Iteration: {}, test loss: {} (bce {})\\n\".format(datetime.datetime.now().strftime(\"%Y-%m-%d %H:%M:%S\"), i, config_loss, loss_bce_config))\n",
    "    fig = plotting.plot_result_configwise(mu_config, target_y, f'{config_loss:.2f}', x_lf[-1][1:])\n",
    "    pdf.savefig(fig)\n",
    "\n",
    "    if i==15:\n",
    "        hist_target_sig2= hist_target_sig_lf\n",
    "        hist_target_bkg2 = hist_target_bkg_lf\n",
    "        hist_pred_sig2 = hist_pred_sig_lf\n",
    "        hist_pred_bkg2 = hist_pred_bkg_lf\n",
    "        plt.show()\n",
    "    plt.clf()\n",
    "    \n",
    "fig1 = plotting.plot_result_summed(hist_target_sig_lf, hist_target_bkg_lf, hist_pred_sig_lf, hist_pred_bkg_lf)\n",
    "pdf.savefig(fig1)\n",
    "#plt.show()\n",
    "plt.clf()\n",
    "pdf.close()\n",
    "\n",
    "fout.close()\n",
    "\n",
    "df = pd.DataFrame(x_lf, columns=[\"Mode\",\"Radius[cm]\",\"Thickness[cm]\",\"NPanels\",\"Theta[deg]\",\"Length[cm]\"])\n",
    "df['Ge-77[nevents]'] = sum_target_y_lf\n",
    "df['Ge-77_CNP'] = mean_mu_cnp_lf\n",
    "df['Ge-77_CNP_err'] = mean_sigma_cnp_lf\n",
    "df['rGe77[nuc/(kg*yr)]'] = rGe77_lf\n",
    "df=df.round(decimals=4)\n",
    "df.to_csv(f'{path_out}{f_out}_Ge77rates.csv')\n",
    "\n",
    "\n"
   ]
  },
  {
   "cell_type": "code",
   "execution_count": 6,
   "metadata": {},
   "outputs": [
    {
     "name": "stdout",
     "output_type": "stream",
     "text": [
      "0/6 2024-09-27 20:42:22, HF, radius: 0.0 cm, test loss: 273.5470886230469 (bce 0.4602942168712616)\n"
     ]
    },
    {
     "name": "stderr",
     "output_type": "stream",
     "text": [
      "/Users/aschuetz/Documents/Analysis/legend/ML/legend-multi-fidelity-surrogate-model/conditional-neural-process/../utilities/plotting_utils.py:372: RuntimeWarning: divide by zero encountered in scalar divide\n",
      "  phi = 2.*np.pi/np.round(x[2])\n"
     ]
    },
    {
     "name": "stdout",
     "output_type": "stream",
     "text": [
      "1/6 2024-09-27 20:42:28, HF, radius: 95.0 cm, test loss: 135.0530548095703 (bce 0.24230749905109406)\n",
      "2/6 2024-09-27 20:42:36, HF, radius: 200.0 cm, test loss: 140.9678192138672 (bce 0.30528953671455383)\n",
      "3/6 2024-09-27 20:42:43, HF, radius: 116.2 cm, test loss: 179.11289978027344 (bce 0.21680448949337006)\n",
      "4/6 2024-09-27 20:42:50, HF, radius: 134.1 cm, test loss: 118.81468200683594 (bce 0.17081105709075928)\n",
      "5/6 2024-09-27 20:42:56, HF, radius: 176.6 cm, test loss: 120.26312255859375 (bce 0.15524673461914062)\n"
     ]
    },
    {
     "data": {
      "text/plain": [
       "<Figure size 900x300 with 0 Axes>"
      ]
     },
     "metadata": {},
     "output_type": "display_data"
    },
    {
     "data": {
      "text/plain": [
       "<Figure size 900x300 with 0 Axes>"
      ]
     },
     "metadata": {},
     "output_type": "display_data"
    },
    {
     "data": {
      "text/plain": [
       "<Figure size 900x300 with 0 Axes>"
      ]
     },
     "metadata": {},
     "output_type": "display_data"
    },
    {
     "data": {
      "text/plain": [
       "<Figure size 900x300 with 0 Axes>"
      ]
     },
     "metadata": {},
     "output_type": "display_data"
    },
    {
     "data": {
      "text/plain": [
       "<Figure size 900x300 with 0 Axes>"
      ]
     },
     "metadata": {},
     "output_type": "display_data"
    },
    {
     "data": {
      "text/plain": [
       "<Figure size 900x300 with 0 Axes>"
      ]
     },
     "metadata": {},
     "output_type": "display_data"
    },
    {
     "data": {
      "image/png": "[encoded data removed]",
      "text/plain": [
       "<Figure size 640x480 with 2 Axes>"
      ]
     },
     "metadata": {},
     "output_type": "display_data"
    },
    {
     "data": {
      "text/plain": [
       "<Figure size 640x480 with 0 Axes>"
      ]
     },
     "metadata": {},
     "output_type": "display_data"
    }
   ],
   "source": [
    "\n",
    "\n",
    "mode=\"HF\"\n",
    "\n",
    "filelist = utils.get_all_files(f\"../simulation/out/{mode}/{version_hf}/tier2/neutron\")\n",
    "\n",
    "x_hf = np.empty([0,6])\n",
    "sum_target_y_hf = np.empty([0,1])\n",
    "mean_mu_cnp_hf = np.empty([0,1])\n",
    "mean_sigma_cnp_hf = np.empty([0,1])\n",
    "upper_lim_hf = np.empty([0,1])\n",
    "rGe77_hf = np.empty([0,1])\n",
    "totGe77_hf = np.empty([0,1])\n",
    "hist_target_sig_hf = hist_target_bkg_hf = hist_pred_sig_hf = hist_pred_bkg_hf = np.zeros(100)\n",
    "fout = open(f'{path_out}{f_out}_training.txt', \"a\")\n",
    "\n",
    "# create a PdfPages object\n",
    "pdf=PdfPages(f'{path_out}{f_out}_result_{mode}.pdf')\n",
    "\n",
    "for i,file in enumerate(filelist):\n",
    "\n",
    "    path_to_files = file[:-4]\n",
    "    num_total_points = 0\n",
    "    with open(file, \"rbU\") as f:\n",
    "        num_total_points += int(np.floor(sum(1 for _ in f)))\n",
    "\n",
    "    MAX_CONTEXT_POINTS_NEW = int(1/3 * (num_total_points-1))\n",
    "    MAX_TARGET_POINTS_NEW = 2 * MAX_CONTEXT_POINTS_NEW\n",
    "\n",
    "    dataset_config = data.DataGeneration(num_iterations=1, num_context_points=MAX_CONTEXT_POINTS_NEW, num_target_points=MAX_TARGET_POINTS_NEW, batch_size = 1, use_data_augmentation=\"None\", path_to_files=path_to_files,x_size=x_size,y_size=y_size, mode = \"config\", ratio_testing=0.,names_x=names_x, name_y=name_y)\n",
    "    data_config = dataset_config.get_data(0, CONTEXT_IS_SUBSET)\n",
    "    \n",
    "    # Get the predicted mean and variance at the target points for the testing set\n",
    "    log_prob_config, mu_config, sigma_config = model(data_config.query, data_config.target_y)\n",
    "    # Define the loss\n",
    "    config_loss = -log_prob_config.mean()\n",
    "    if max(mu_config[0].detach().numpy()) <= 1 and min(mu_config[0].detach().numpy()) >= 0:\n",
    "            loss_bce_config = bce(mu_config,  data_config.target_y)\n",
    "    else:\n",
    "            loss_bce_config = -1.\n",
    "\n",
    "    mu_config = mu_config[0].detach().numpy()\n",
    "    \n",
    "    target_y = data_config.target_y[0].detach().numpy()\n",
    "    df = pd.read_csv(file, index_col=0)\n",
    "    x_hf         = np.append(x_hf,[df[[\"fidelity\",\"radius\",\"thickness\",\"npanels\",\"theta\",\"length\"]].to_numpy()[0]],axis=0)\n",
    "    #x         = np.append(x,[data_config.query[1][0][0][-5:].numpy()],axis=0)\n",
    "    sum_target_y_tmp = np.array([np.sum(target_y)])\n",
    "    sum_target_y_hf    = np.append(sum_target_y_hf, [sum_target_y_tmp], axis=0)\n",
    "    mean_mu_tmp = np.array([np.mean(mu_config)])\n",
    "    upper_lim_hf = np.append(upper_lim_hf,[np.array([np.percentile(mu_config,95.)])], axis=0)\n",
    "    mean_mu_cnp_hf = np.append(mean_mu_cnp_hf, [mean_mu_tmp], axis=0)\n",
    "    mean_sigma_tmp = np.array([np.mean(sigma_config[0].detach().numpy())])\n",
    "    mean_sigma_cnp_hf = np.append(mean_sigma_cnp_hf, [mean_sigma_tmp], axis=0)\n",
    "    rGe77_hf = np.append(rGe77_hf,[np.array([np.sum(pd.read_csv(file)[\"prod_rate_Ge77[nuc/(kg*yr)]\"].to_numpy())])], axis=0)\n",
    "    totGe77_hf = np.append(totGe77_hf,[np.array([np.sum(pd.read_csv(file)[\"total_nC_Ge77[cts]\"].to_numpy())])], axis=0)\n",
    "\n",
    "    hist_target_sig_hf, hist_target_bkg_hf, hist_pred_sig_hf, hist_pred_bkg_hf = plotting.sum_hist(mu_config, target_y, hist_target_sig_hf, hist_target_bkg_hf, hist_pred_sig_hf, hist_pred_bkg_hf)\n",
    "    print(\"{}/{} {}, {}, radius: {} cm, test loss: {} (bce {})\".format(i,len(filelist),datetime.datetime.now().strftime(\"%Y-%m-%d %H:%M:%S\"), mode,x_hf[-1,1], config_loss, loss_bce_config))\n",
    "    fout.write(\"{}, Iteration: {}, test loss: {} (bce {})\\n\".format(datetime.datetime.now().strftime(\"%Y-%m-%d %H:%M:%S\"), i, config_loss, loss_bce_config))\n",
    "   \n",
    "    fig = plotting.plot_result_configwise(mu_config, target_y, f'{config_loss:.2f}', x_hf[-1][1:])\n",
    "    pdf.savefig(fig)\n",
    "    #plt.show()\n",
    "    plt.clf()\n",
    "\n",
    "    \n",
    "fig1 = plotting.plot_result_summed(hist_target_sig_hf, hist_target_bkg_hf, hist_pred_sig_hf, hist_pred_bkg_hf)\n",
    "pdf.savefig(fig1)\n",
    "plt.show()\n",
    "plt.clf()\n",
    "pdf.close()\n",
    "\n",
    "fout.close()\n",
    "\n",
    "df= pd.read_csv(f'{path_out}{f_out}_Ge77rates.csv', index_col=0)\n",
    "x = df[[\"Mode\",\"Radius[cm]\",\"Thickness[cm]\",\"NPanels\",\"Theta[deg]\",\"Length[cm]\",\"Ge-77[nevents]\",\"Ge-77_CNP\",\"Ge-77_CNP_err\",\"rGe77[nuc/(kg*yr)]\"]].to_numpy()\n",
    "x_tmp = np.append(x_hf, sum_target_y_hf, axis=1)\n",
    "x_tmp = np.append(x_tmp, mean_mu_cnp_hf, axis=1)\n",
    "x_tmp = np.append(x_tmp, mean_sigma_cnp_hf, axis=1)\n",
    "x_tmp = np.append(x_tmp, rGe77_hf, axis=1)\n",
    "x = np.append(x, x_tmp, axis=0)\n",
    "df = pd.DataFrame(x, columns=df.columns)\n",
    "\n",
    "df=df.round(decimals=4)\n",
    "df.to_csv(f'{path_out}{f_out}_Ge77rates.csv')\n",
    "df.to_csv(f'../multi-fidelity-gaussian-process/in/Ge77_rates_CNP_{version_cnp}.csv')\n"
   ]
  },
  {
   "cell_type": "code",
   "execution_count": 8,
   "metadata": {},
   "outputs": [
    {
     "data": {
      "image/png": "[encoded data removed]",
      "text/plain": [
       "<Figure size 1800x600 with 12 Axes>"
      ]
     },
     "metadata": {},
     "output_type": "display_data"
    }
   ],
   "source": [
    "color_sim_hf=\"black\"\n",
    "color_cnp_hf=\"black\"\n",
    "color_sim_lf=\"red\"\n",
    "color_cnp_lf=\"teal\"\n",
    "\n",
    "xmin=[0,0,0,0,0]\n",
    "xmax=[265,20,360,90,150]\n",
    "indices = [0,2,1,3,4]\n",
    "xlabels=[\"Radius [cm]\",\"Thickness [cm]\",\"N Panels\",r\"Angle $\\varphi$ [deg]\",\"Length [cm]\"]\n",
    "\n",
    "fig = plt.figure(figsize=(18,6), layout = \"constrained\")\n",
    "gs0=fig.add_gridspec(1,2, width_ratios = [2,1])\n",
    "\n",
    "gs00 = gs0[0].subgridspec(2,2)\n",
    "gs01 = gs0[1].subgridspec(3,1)\n",
    "for l in range(2):\n",
    "    for j in range(2):\n",
    "        ax = fig.add_subplot(gs00[l,j])\n",
    "        if l == 0 and j==1:\n",
    "            nbins = len(hist_target_sig2)\n",
    "            range2 = [0.0, 1.0]\n",
    "            bin_length = (range2[1]-range2[0])/nbins\n",
    "            bins = np.arange(range2[0],range2[1]+bin_length, bin_length)\n",
    "            centroids = (bins[1:] + bins[:-1]) / 2\n",
    "\n",
    "            ax.hist(centroids, weights = hist_target_bkg2, range=range2, bins=nbins, color=(3/255,37/255,46/255), alpha=0.8, label='Background (Label)')\n",
    "            ax.hist(centroids, weights = hist_pred_bkg2, range=range2, bins=nbins, color=(113/255,150/255,159/255), alpha=0.8, label='Background (CNP)')\n",
    "            ax.hist(centroids, weights = hist_target_sig2, range=range2, bins=nbins, color='orangered', alpha=1.0, label='Signal (Label)')\n",
    "            ax.hist(centroids, weights = hist_pred_sig2, range=range2, bins=nbins, color='coral', alpha=0.8, label='Signal (CNP)')\n",
    "            ax.set_xlabel(r\"$y_{CNP}$\", fontsize=10)\n",
    "            ax.set_ylabel(r'#', fontsize=10)\n",
    "            ax.set_yscale(\"log\")\n",
    "            ax.set_ylim(0.1,1000000)\n",
    "            ax.legend(loc=9, bbox_to_anchor=(0.7,1.), ncol=2,fontsize=7)\n",
    "\n",
    "        if l == 1:\n",
    "            i=j\n",
    "            plt.plot(x_lf[:,indices[i]+1],totGe77_lf,\"o\",markersize=2, color=color_sim_lf, label=\"LF (raw)\")\n",
    "            #plt.plot(x_hf[:,indices[i]+1],totGe77_hf,\">\",markersize=4, color=color_sim_hf, label=\"HF (raw)\")\n",
    "            ax.set_xlim(xmin[indices[i]],xmax[indices[i]])#\n",
    "            ax.set_xlabel(xlabels[indices[i]], fontsize=10)\n",
    "            ax.set_ylabel(r'$y_{raw}$',color=color_sim_lf, fontsize=10)\n",
    "            plt.tick_params(axis='y', labelcolor=color_sim_lf)\n",
    "            handles = plt.gca().get_legend_handles_labels()[0]\n",
    "            labels = plt.gca().get_legend_handles_labels()[1]\n",
    "\n",
    "            ax = plt.twinx()\n",
    "            plt.errorbar(x_lf[:,indices[i]+1], mean_mu_cnp_lf[:,0], yerr=mean_sigma_cnp_lf[:,0],fmt='o',markersize=2, color=color_cnp_lf, label=\"LF (CNP)\")\n",
    "            #plt.errorbar(x_hf[:,indices[i]+1], mean_mu_cnp_hf[:,0], yerr=mean_sigma_cnp_hf[:,0],fmt='s',markersize=4, color=color_cnp_hf, label=\"HF (CNP)\")\n",
    "            plt.tick_params(axis='y', labelcolor=color_cnp_lf)\n",
    "\n",
    "            for t in range(len(plt.gca().get_legend_handles_labels()[1])):\n",
    "                handles.append(plt.gca().get_legend_handles_labels()[0][t])\n",
    "                labels.append(plt.gca().get_legend_handles_labels()[1][t])\n",
    "\n",
    "            ax.set_ylabel(r'$y_{CNP}$',color=color_cnp_lf, fontsize=10)\n",
    "            if j==0:\n",
    "                plt.legend(handles,labels,loc=9, bbox_to_anchor=(0.15,1.),ncol=1)\n",
    "\n",
    "for j in range(3):\n",
    "    ax = fig.add_subplot(gs01[j])\n",
    "    i=j+2\n",
    "    plt.plot(x_lf[:,indices[i]+1],totGe77_lf,'o',markersize=2, color=color_sim_lf, label=\"LF (raw)\")\n",
    "    #plt.plot(x_hf[:,indices[i]+1],totGe77_hf,'s',markersize=4, color=color_sim_hf, label=\"HF (raw)\")\n",
    "    ax.set_xlim(xmin[indices[i]],xmax[indices[i]])#\n",
    "    ax.set_xlabel(xlabels[indices[i]], fontsize=10)\n",
    "    ax.set_ylabel(r'$y_{raw}$',color=color_sim_lf, fontsize=10)\n",
    "    \n",
    "    plt.tick_params(axis='y', labelcolor=color_sim_lf)\n",
    "    \n",
    "    ax = plt.twinx()\n",
    "    plt.errorbar(x_lf[:,indices[i]+1], mean_mu_cnp_lf[:,0], yerr=mean_sigma_cnp_lf[:,0],fmt='o',markersize=2, color=color_cnp_lf, label=\"LF (CNP)\")\n",
    "    #plt.errorbar(x_hf[:,indices[i]+1], mean_mu_cnp_hf[:,0], yerr=mean_sigma_cnp_hf[:,0],fmt='>',markersize=4, color=color_cnp_hf, label=\"HF (CNP)\")\n",
    "    plt.tick_params(axis='y', labelcolor=color_cnp_lf)\n",
    "    ax.set_ylabel(r'$y_{CNP}$',color=color_cnp_lf, fontsize=10)\n",
    "fig.savefig(f\"testing_before_after_cnp_{version_cnp}.png\")\n"
   ]
  }
 ],
 "metadata": {
  "kernelspec": {
   "display_name": "Python 3",
   "language": "python",
   "name": "python3"
  },
  "language_info": {
   "codemirror_mode": {
    "name": "ipython",
    "version": 3
   },
   "file_extension": ".py",
   "mimetype": "text/x-python",
   "name": "python",
   "nbconvert_exporter": "python",
   "pygments_lexer": "ipython3",
   "version": "3.10.11"
  }
 },
 "nbformat": 4,
 "nbformat_minor": 2
}
