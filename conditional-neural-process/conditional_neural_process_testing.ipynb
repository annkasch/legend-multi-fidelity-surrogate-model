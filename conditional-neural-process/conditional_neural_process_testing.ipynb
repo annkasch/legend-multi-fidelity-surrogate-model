{
 "cells": [
  {
   "cell_type": "markdown",
   "metadata": {},
   "source": [
    "# Conditional Neural Processes (CNP) for 1D regression.\n",
    "[Conditional Neural Processes](https://arxiv.org/pdf/1807.01613.pdf) (CNPs) were\n",
    "introduced as a continuation of\n",
    "[Generative Query Networks](https://deepmind.com/blog/neural-scene-representation-and-rendering/)\n",
    "(GQN) to extend its training regime to tasks beyond scene rendering, e.g. to\n",
    "regression and classification."
   ]
  },
  {
   "cell_type": "code",
   "execution_count": 1,
   "metadata": {},
   "outputs": [
    {
     "name": "stdout",
     "output_type": "stream",
     "text": [
      "importing Jupyter notebook from conditional_neural_process_model.ipynb\n"
     ]
    }
   ],
   "source": [
    "import torch\n",
    "import torch.nn as nn\n",
    "import matplotlib.pyplot as plt\n",
    "import datetime\n",
    "import numpy as np\n",
    "import torchsnooper\n",
    "import plotting_utils_cnp as plotting\n",
    "import data_generator as data\n",
    "from matplotlib.backends.backend_pdf import PdfPages\n",
    "import pandas as pd\n",
    "import dask.dataframe as dd\n",
    "import sys\n",
    "sys.path.append('../utilities')\n",
    "import utilities as utils\n",
    "import import_ipynb\n",
    "import conditional_neural_process_model as cnp"
   ]
  },
  {
   "cell_type": "markdown",
   "metadata": {},
   "source": [
    "## Running Conditional Neural Processes\n",
    "\n",
    "Now that we have defined the dataset as well as our model and its components we\n",
    "can start building everything into the graph. Before we get started we need to\n",
    "set some variables:\n",
    "\n",
    "*   **`TRAINING_ITERATIONS`** - a scalar that describes the number of iterations\n",
    "    for training. At each iteration we will sample a new batch of functions from\n",
    "    the GP, pick some of the points on the curves as our context points **(x,\n",
    "    y)<sub>C</sub>** and some points as our target points **(x,\n",
    "    y)<sub>T</sub>**. We will predict the mean and variance at the target points\n",
    "    given the context and use the log likelihood of the ground truth targets as\n",
    "    our loss to update the model.\n",
    "*   **`MAX_CONTEXT_POINTS`** - a scalar that sets the maximum number of contest\n",
    "    points used during training. The number of context points will then be a\n",
    "    value between 3 and `MAX_CONTEXT_POINTS` that is sampled at random for every\n",
    "    iteration.\n",
    "*   **`PLOT_AFTER`** - a scalar that regulates how often we plot the\n",
    "    intermediate results."
   ]
  },
  {
   "cell_type": "code",
   "execution_count": 2,
   "metadata": {},
   "outputs": [],
   "source": [
    "TRAINING_ITERATIONS = int(3540) # Total number of training points: training_iterations * batch_size * max_content_points\n",
    "#BATCH_SIZE = 100 # number of simulation configurations\n",
    "\n",
    "MAX_CONTEXT_POINTS = 1000 # 2000 # 4000\n",
    "MAX_TARGET_POINTS =  2000 # 4000 # 8000\n",
    "CONTEXT_IS_SUBSET = True\n",
    "BATCH_SIZE = 1\n",
    "CONFIG_WISE = False\n",
    "PLOT_AFTER = int(200)\n",
    "torch.manual_seed(0)\n",
    "\n",
    "# all available x config/ physics parameters are [\"radius\",\"thickness\",\"npanels\",\"theta\",\"length\",\"height\",\"z_offset\",\"volume\",\"nC_Ge77\",\"time_0[ms]\",\"x_0[m]\",\"y_0[m]\",\"z_0[m]\",\"px_0[m]\",\"py_0[m]\",\"pz_0[m]\",\"ekin_0[eV]\",\"edep_0[eV]\",\"time_t[ms]\",\"x_t[m]\",\"y_t[m]\",\"z_t[m]\",\"px_t[m]\",\"py_t[m]\",\"pz_t[m]\",\"ekin_t[eV]\",\"edep_t[eV]\",\"nsec\"]\n",
    "# Comment: if using data version v1.1 for training, \"radius\",\"thickness\",\"npanels\",\"theta\",\"length\" is probably necessary\n",
    "names_x=[\"radius\",\"thickness\",\"npanels\",\"theta\",\"length\",\"r_0[m]\",\"z_0[m]\",\"time_t[ms]\",\"r_t[m]\",\"z_t[m]\",\"L_t[m]\",\"ln(E0vsET)\",\"edep_t[eV]\",\"nsec\"]\n",
    "name_y ='total_nC_Ge77[cts]'\n",
    "x_size = len(names_x)\n",
    "if isinstance(name_y,str):\n",
    "    y_size = 1\n",
    "else:\n",
    "    y_size = len(name_y)\n",
    "\n",
    "RATIO_TESTING_VS_TRAINING = 1/40\n",
    "version_cnp=\"v1.6\"\n",
    "version_lf=\"v1.4\"\n",
    "version_hf=\"v1.3\"\n",
    "path_to_files=f\"../simulation/out/LF/{version_lf}/tier2/\"\n",
    "path_out = f'./out/'\n",
    "f_out = f'{path_out}CNPGauss_{version_cnp}_{TRAINING_ITERATIONS}_c{MAX_CONTEXT_POINTS}_t{MAX_TARGET_POINTS}'"
   ]
  },
  {
   "cell_type": "code",
   "execution_count": 3,
   "metadata": {},
   "outputs": [],
   "source": [
    "# Set data augmentation parameters\n",
    "USE_DATA_AUGMENTATION = \"mixup\" #\"smote\" #False #\"mixup\"\n",
    "USE_BETA = [0.1,0.1] # uniform => None, beta => [a,b] U-shape [0.1,0.1] Uniform [1.,1.] falling [0.2,0.5] rising [0.2,0.5]\n",
    "SIGNAL_TO_BACKGROUND_RATIO = \"\" # \"_1to4\" # used for smote augmentation\n",
    "\n",
    "if USE_DATA_AUGMENTATION:\n",
    "    path_out = f'./out/{USE_DATA_AUGMENTATION}/'\n",
    "    f_out = f'CNPGauss_{version_cnp}_{TRAINING_ITERATIONS}_c{MAX_CONTEXT_POINTS}_t{MAX_TARGET_POINTS}_{USE_DATA_AUGMENTATION}{SIGNAL_TO_BACKGROUND_RATIO}'\n",
    "    if USE_DATA_AUGMENTATION == \"mixup\":\n",
    "        path_to_files = f\"../simulation/out/LF/{version_lf}/tier3/beta_{USE_BETA[0]}_{USE_BETA[1]}/\"\n",
    "        f_out = f'CNPGauss_{version_cnp}_{TRAINING_ITERATIONS}_c{MAX_CONTEXT_POINTS}_t{MAX_TARGET_POINTS}_beta_{USE_BETA[0]}_{USE_BETA[1]}'\n",
    "    elif USE_DATA_AUGMENTATION == \"smote\" and CONFIG_WISE == True:\n",
    "        path_to_files = f\"../simulation/out/LF/{version_lf}/tier3/smote{SIGNAL_TO_BACKGROUND_RATIO}/\"\n",
    "\n"
   ]
  },
  {
   "cell_type": "code",
   "execution_count": 4,
   "metadata": {},
   "outputs": [
    {
     "data": {
      "text/plain": [
       "DeterministicModel(\n",
       "  (_encoder): DeterministicEncoder(\n",
       "    (linears): ModuleList(\n",
       "      (0): Linear(in_features=15, out_features=32, bias=True)\n",
       "      (1): Linear(in_features=32, out_features=64, bias=True)\n",
       "      (2): Linear(in_features=64, out_features=128, bias=True)\n",
       "      (3-4): 2 x Linear(in_features=128, out_features=128, bias=True)\n",
       "      (5): Linear(in_features=128, out_features=64, bias=True)\n",
       "      (6): Linear(in_features=64, out_features=48, bias=True)\n",
       "      (7): Linear(in_features=48, out_features=32, bias=True)\n",
       "    )\n",
       "  )\n",
       "  (_decoder): DeterministicDecoder(\n",
       "    (linears): ModuleList(\n",
       "      (0): Linear(in_features=46, out_features=32, bias=True)\n",
       "      (1): Linear(in_features=32, out_features=64, bias=True)\n",
       "      (2): Linear(in_features=64, out_features=128, bias=True)\n",
       "      (3-4): 2 x Linear(in_features=128, out_features=128, bias=True)\n",
       "      (5): Linear(in_features=128, out_features=64, bias=True)\n",
       "      (6): Linear(in_features=64, out_features=48, bias=True)\n",
       "      (7): Linear(in_features=48, out_features=2, bias=True)\n",
       "    )\n",
       "  )\n",
       ")"
      ]
     },
     "execution_count": 4,
     "metadata": {},
     "output_type": "execute_result"
    }
   ],
   "source": [
    "d_x, d_in, representation_size, d_out = x_size , x_size+y_size, 32, y_size+1\n",
    "encoder_sizes = [d_in, 32, 64, 128, 128, 128, 64, 48, representation_size]\n",
    "decoder_sizes = [representation_size + d_x, 32, 64, 128, 128, 128, 64, 48, d_out]\n",
    "\n",
    "model = cnp.DeterministicModel(encoder_sizes,decoder_sizes)\n",
    "model.load_state_dict(torch.load(f'./out/{f_out}_model.pth'))\n",
    "model.eval()\n"
   ]
  },
  {
   "cell_type": "code",
   "execution_count": 5,
   "metadata": {},
   "outputs": [
    {
     "name": "stdout",
     "output_type": "stream",
     "text": [
      "0/303 2024-09-28 23:17:29, LF, radius: 208.7 cm, test loss: 35.67254638671875 (bce 0.17614439129829407)\n",
      "1/303 2024-09-28 23:17:34, LF, radius: 194.6 cm, test loss: 44.08773422241211 (bce 0.23772013187408447)\n",
      "2/303 2024-09-28 23:17:41, LF, radius: 240.3 cm, test loss: 79.46257019042969 (bce 0.39267000555992126)\n",
      "3/303 2024-09-28 23:17:43, LF, radius: 215.3 cm, test loss: 848.0833740234375 (bce 1.3737208843231201)\n",
      "4/303 2024-09-28 23:17:46, LF, radius: 253.8 cm, test loss: 41.28758239746094 (bce 0.265773743391037)\n",
      "5/303 2024-09-28 23:17:50, LF, radius: 187.0 cm, test loss: 43.559391021728516 (bce 0.20102070271968842)\n",
      "6/303 2024-09-28 23:17:53, LF, radius: 194.6 cm, test loss: 40.58503723144531 (bce 0.2203528732061386)\n",
      "7/303 2024-09-28 23:17:55, LF, radius: 114.8 cm, test loss: 54.597835540771484 (bce 0.232638880610466)\n",
      "8/303 2024-09-28 23:17:58, LF, radius: 161.6 cm, test loss: 195.4305419921875 (bce 0.6394966840744019)\n",
      "9/303 2024-09-28 23:18:01, LF, radius: 174.8 cm, test loss: 100.34611511230469 (bce 0.4317515194416046)\n",
      "10/303 2024-09-28 23:18:06, LF, radius: 234.9 cm, test loss: 44.96064758300781 (bce 0.25487253069877625)\n",
      "11/303 2024-09-28 23:18:09, LF, radius: 164.0 cm, test loss: 205.49374389648438 (bce 0.6760948300361633)\n",
      "12/303 2024-09-28 23:18:11, LF, radius: 237.6 cm, test loss: 108.43783569335938 (bce 0.4543842673301697)\n",
      "13/303 2024-09-28 23:18:14, LF, radius: 163.6 cm, test loss: 41.41954803466797 (bce 0.19461563229560852)\n",
      "14/303 2024-09-28 23:18:16, LF, radius: 204.0 cm, test loss: 289.6444091796875 (bce 0.8083658218383789)\n",
      "15/303 2024-09-28 23:18:18, LF, radius: 203.2 cm, test loss: 37.557830810546875 (bce 0.18480977416038513)\n"
     ]
    },
    {
     "data": {
      "text/plain": [
       "<Figure size 900x300 with 0 Axes>"
      ]
     },
     "metadata": {},
     "output_type": "display_data"
    },
    {
     "data": {
      "text/plain": [
       "<Figure size 900x300 with 0 Axes>"
      ]
     },
     "metadata": {},
     "output_type": "display_data"
    },
    {
     "data": {
      "text/plain": [
       "<Figure size 900x300 with 0 Axes>"
      ]
     },
     "metadata": {},
     "output_type": "display_data"
    },
    {
     "data": {
      "text/plain": [
       "<Figure size 900x300 with 0 Axes>"
      ]
     },
     "metadata": {},
     "output_type": "display_data"
    },
    {
     "data": {
      "text/plain": [
       "<Figure size 900x300 with 0 Axes>"
      ]
     },
     "metadata": {},
     "output_type": "display_data"
    },
    {
     "data": {
      "text/plain": [
       "<Figure size 900x300 with 0 Axes>"
      ]
     },
     "metadata": {},
     "output_type": "display_data"
    },
    {
     "data": {
      "text/plain": [
       "<Figure size 900x300 with 0 Axes>"
      ]
     },
     "metadata": {},
     "output_type": "display_data"
    },
    {
     "data": {
      "text/plain": [
       "<Figure size 900x300 with 0 Axes>"
      ]
     },
     "metadata": {},
     "output_type": "display_data"
    },
    {
     "data": {
      "text/plain": [
       "<Figure size 900x300 with 0 Axes>"
      ]
     },
     "metadata": {},
     "output_type": "display_data"
    },
    {
     "data": {
      "text/plain": [
       "<Figure size 900x300 with 0 Axes>"
      ]
     },
     "metadata": {},
     "output_type": "display_data"
    },
    {
     "data": {
      "text/plain": [
       "<Figure size 900x300 with 0 Axes>"
      ]
     },
     "metadata": {},
     "output_type": "display_data"
    },
    {
     "data": {
      "text/plain": [
       "<Figure size 900x300 with 0 Axes>"
      ]
     },
     "metadata": {},
     "output_type": "display_data"
    },
    {
     "data": {
      "text/plain": [
       "<Figure size 900x300 with 0 Axes>"
      ]
     },
     "metadata": {},
     "output_type": "display_data"
    },
    {
     "data": {
      "text/plain": [
       "<Figure size 900x300 with 0 Axes>"
      ]
     },
     "metadata": {},
     "output_type": "display_data"
    },
    {
     "data": {
      "text/plain": [
       "<Figure size 900x300 with 0 Axes>"
      ]
     },
     "metadata": {},
     "output_type": "display_data"
    },
    {
     "data": {
      "image/png": "[encoded data removed]",
      "text/plain": [
       "<Figure size 900x300 with 2 Axes>"
      ]
     },
     "metadata": {},
     "output_type": "display_data"
    },
    {
     "name": "stdout",
     "output_type": "stream",
     "text": [
      "16/303 2024-09-28 23:18:21, LF, radius: 155.8 cm, test loss: 45.901527404785156 (bce 0.20286154747009277)\n",
      "17/303 2024-09-28 23:18:24, LF, radius: 121.2 cm, test loss: 140.86376953125 (bce 0.5268437266349792)\n",
      "18/303 2024-09-28 23:18:26, LF, radius: 96.4 cm, test loss: 63.637569427490234 (bce 0.2662884593009949)\n",
      "19/303 2024-09-28 23:18:28, LF, radius: 168.4 cm, test loss: 40.39055252075195 (bce 0.18017041683197021)\n",
      "20/303 2024-09-28 23:18:30, LF, radius: 244.4 cm, test loss: 42.27527618408203 (bce 0.24563561379909515)\n",
      "21/303 2024-09-28 23:18:34, LF, radius: 202.2 cm, test loss: 141.43565368652344 (bce 0.5355429649353027)\n",
      "22/303 2024-09-28 23:18:37, LF, radius: 172.1 cm, test loss: 42.33588409423828 (bce 0.19202373921871185)\n",
      "23/303 2024-09-28 23:18:40, LF, radius: 187.3 cm, test loss: 50.84701919555664 (bce 0.2509445548057556)\n",
      "24/303 2024-09-28 23:18:43, LF, radius: 212.8 cm, test loss: 47.351375579833984 (bce 0.24293659627437592)\n",
      "25/303 2024-09-28 23:18:46, LF, radius: 208.1 cm, test loss: 36.08623504638672 (bce 0.1744556874036789)\n",
      "26/303 2024-09-28 23:18:49, LF, radius: 186.4 cm, test loss: 41.015987396240234 (bce 0.18071138858795166)\n",
      "27/303 2024-09-28 23:18:51, LF, radius: 181.6 cm, test loss: 38.724822998046875 (bce 0.17896489799022675)\n",
      "28/303 2024-09-28 23:18:54, LF, radius: 155.6 cm, test loss: 121.77909088134766 (bce 0.4775025248527527)\n",
      "29/303 2024-09-28 23:18:57, LF, radius: 158.1 cm, test loss: 45.0443000793457 (bce 0.19804401695728302)\n",
      "30/303 2024-09-28 23:18:59, LF, radius: 180.7 cm, test loss: 52.864593505859375 (bce 0.262234628200531)\n",
      "31/303 2024-09-28 23:19:01, LF, radius: 257.5 cm, test loss: 72.7485122680664 (bce 0.35380759835243225)\n",
      "32/303 2024-09-28 23:19:04, LF, radius: 249.5 cm, test loss: 67.56336975097656 (bce 0.34579524397850037)\n",
      "33/303 2024-09-28 23:19:06, LF, radius: 189.6 cm, test loss: 43.99607849121094 (bce 0.213334858417511)\n",
      "34/303 2024-09-28 23:19:08, LF, radius: 176.9 cm, test loss: 54.85356521606445 (bce 0.27203527092933655)\n",
      "35/303 2024-09-28 23:19:11, LF, radius: 241.6 cm, test loss: 121.58484649658203 (bce 0.49074697494506836)\n"
     ]
    },
    {
     "name": "stderr",
     "output_type": "stream",
     "text": [
      "/Users/aschuetz/Documents/Analysis/legend/ML/legend-multi-fidelity-surrogate-model/conditional-neural-process/plotting_utils_cnp.py:166: RuntimeWarning: More than 20 figures have been opened. Figures created through the pyplot interface (`matplotlib.pyplot.figure`) are retained until explicitly closed and may consume too much memory. (To control this warning, see the rcParam `figure.max_open_warning`). Consider using `matplotlib.pyplot.close()`.\n",
      "  fig, ax = plt.subplots(1, 2, figsize=(9, 3))\n"
     ]
    },
    {
     "name": "stdout",
     "output_type": "stream",
     "text": [
      "36/303 2024-09-28 23:19:13, LF, radius: 161.4 cm, test loss: 78.0011978149414 (bce 0.3638943135738373)\n",
      "37/303 2024-09-28 23:19:16, LF, radius: 222.3 cm, test loss: 51.4022102355957 (bce 0.30768150091171265)\n",
      "38/303 2024-09-28 23:19:18, LF, radius: 111.9 cm, test loss: 59.8417854309082 (bce 0.2684244215488434)\n",
      "39/303 2024-09-28 23:19:20, LF, radius: 137.4 cm, test loss: 49.929630279541016 (bce 0.2140752226114273)\n",
      "40/303 2024-09-28 23:19:23, LF, radius: 182.0 cm, test loss: 38.4845085144043 (bce 0.17603524029254913)\n",
      "41/303 2024-09-28 23:19:25, LF, radius: 118.9 cm, test loss: 51.355804443359375 (bce 0.23881842195987701)\n",
      "42/303 2024-09-28 23:19:27, LF, radius: 242.6 cm, test loss: 35.39006423950195 (bce 0.19772963225841522)\n",
      "43/303 2024-09-28 23:19:30, LF, radius: 191.0 cm, test loss: 35.63190460205078 (bce 0.15981315076351166)\n",
      "44/303 2024-09-28 23:19:32, LF, radius: 250.7 cm, test loss: 84.8676528930664 (bce 0.40145522356033325)\n",
      "45/303 2024-09-28 23:19:35, LF, radius: 201.3 cm, test loss: 35.26219177246094 (bce 0.1640005111694336)\n",
      "46/303 2024-09-28 23:19:37, LF, radius: 220.0 cm, test loss: 44.7479362487793 (bce 0.23089419305324554)\n",
      "47/303 2024-09-28 23:19:39, LF, radius: 128.3 cm, test loss: 46.39985656738281 (bce 0.20094113051891327)\n",
      "48/303 2024-09-28 23:19:42, LF, radius: 234.4 cm, test loss: 91.71158599853516 (bce 0.39579251408576965)\n",
      "49/303 2024-09-28 23:19:44, LF, radius: 197.6 cm, test loss: 39.773311614990234 (bce 0.18245510756969452)\n",
      "50/303 2024-09-28 23:19:46, LF, radius: 118.6 cm, test loss: 55.656715393066406 (bce 0.2351248413324356)\n",
      "51/303 2024-09-28 23:19:49, LF, radius: 208.2 cm, test loss: 36.97657012939453 (bce 0.18511207401752472)\n",
      "52/303 2024-09-28 23:19:51, LF, radius: 99.3 cm, test loss: 60.04899215698242 (bce 0.2526707351207733)\n",
      "53/303 2024-09-28 23:19:53, LF, radius: 133.6 cm, test loss: 63.98011016845703 (bce 0.3072145879268646)\n",
      "54/303 2024-09-28 23:19:56, LF, radius: 203.1 cm, test loss: 36.37651062011719 (bce 0.1689160317182541)\n",
      "55/303 2024-09-28 23:19:58, LF, radius: 116.1 cm, test loss: 64.21145629882812 (bce 0.28712815046310425)\n",
      "56/303 2024-09-28 23:20:00, LF, radius: 251.4 cm, test loss: 34.927406311035156 (bce 0.19999587535858154)\n",
      "57/303 2024-09-28 23:20:03, LF, radius: 157.0 cm, test loss: 43.69346618652344 (bce 0.20809949934482574)\n",
      "58/303 2024-09-28 23:20:06, LF, radius: 182.1 cm, test loss: 53.214908599853516 (bce 0.2626657485961914)\n",
      "59/303 2024-09-28 23:20:08, LF, radius: 203.7 cm, test loss: 36.5676383972168 (bce 0.17521962523460388)\n",
      "60/303 2024-09-28 23:20:10, LF, radius: 175.4 cm, test loss: 121.05569458007812 (bce 0.5037089586257935)\n",
      "61/303 2024-09-28 23:20:13, LF, radius: 246.3 cm, test loss: 44.480037689208984 (bce 0.25959885120391846)\n",
      "62/303 2024-09-28 23:20:15, LF, radius: 214.8 cm, test loss: 42.77450180053711 (bce 0.22242522239685059)\n",
      "63/303 2024-09-28 23:20:17, LF, radius: 104.2 cm, test loss: 67.23475646972656 (bce 0.2753417491912842)\n",
      "64/303 2024-09-28 23:20:19, LF, radius: 248.9 cm, test loss: 34.35475540161133 (bce 0.20283420383930206)\n",
      "65/303 2024-09-28 23:20:22, LF, radius: 192.0 cm, test loss: 91.53015899658203 (bce 0.4065919816493988)\n",
      "66/303 2024-09-28 23:20:24, LF, radius: 199.8 cm, test loss: 44.278682708740234 (bce 0.25857290625572205)\n",
      "67/303 2024-09-28 23:20:27, LF, radius: 241.6 cm, test loss: 44.41179656982422 (bce 0.26393863558769226)\n",
      "68/303 2024-09-28 23:20:29, LF, radius: 234.4 cm, test loss: 47.579551696777344 (bce 0.26777276396751404)\n",
      "69/303 2024-09-28 23:20:31, LF, radius: 194.1 cm, test loss: 252.73760986328125 (bce 0.7440333366394043)\n",
      "70/303 2024-09-28 23:20:34, LF, radius: 161.8 cm, test loss: 53.15825653076172 (bce 0.2557413578033447)\n",
      "71/303 2024-09-28 23:20:37, LF, radius: 181.2 cm, test loss: 38.24639892578125 (bce 0.17843033373355865)\n",
      "72/303 2024-09-28 23:20:39, LF, radius: 102.5 cm, test loss: 52.45057678222656 (bce 0.2328278124332428)\n",
      "73/303 2024-09-28 23:20:42, LF, radius: 178.4 cm, test loss: 64.22492218017578 (bce 0.31674298644065857)\n",
      "74/303 2024-09-28 23:20:44, LF, radius: 194.5 cm, test loss: 46.654884338378906 (bce 0.2240857034921646)\n",
      "75/303 2024-09-28 23:20:46, LF, radius: 236.8 cm, test loss: 148.4959259033203 (bce 0.5655494332313538)\n",
      "76/303 2024-09-28 23:20:49, LF, radius: 202.0 cm, test loss: 67.35327911376953 (bce 0.3315702974796295)\n",
      "77/303 2024-09-28 23:20:52, LF, radius: 107.2 cm, test loss: 58.813961029052734 (bce 0.24707520008087158)\n",
      "78/303 2024-09-28 23:20:54, LF, radius: 214.0 cm, test loss: 365.43841552734375 (bce 0.9044600129127502)\n",
      "79/303 2024-09-28 23:20:57, LF, radius: 143.7 cm, test loss: 51.339473724365234 (bce 0.21759556233882904)\n",
      "80/303 2024-09-28 23:21:00, LF, radius: 235.1 cm, test loss: 33.384700775146484 (bce 0.1692604422569275)\n",
      "81/303 2024-09-28 23:21:02, LF, radius: 243.6 cm, test loss: 54.404502868652344 (bce 0.33360812067985535)\n",
      "82/303 2024-09-28 23:21:04, LF, radius: 244.6 cm, test loss: 774.329345703125 (bce 1.27205491065979)\n",
      "83/303 2024-09-28 23:21:06, LF, radius: 170.5 cm, test loss: 51.6811637878418 (bce 0.25868213176727295)\n",
      "84/303 2024-09-28 23:21:09, LF, radius: 235.8 cm, test loss: 159.09825134277344 (bce 0.5606613755226135)\n",
      "85/303 2024-09-28 23:21:12, LF, radius: 159.5 cm, test loss: 43.482200622558594 (bce 0.18890807032585144)\n",
      "86/303 2024-09-28 23:21:14, LF, radius: 170.8 cm, test loss: 45.898475646972656 (bce 0.21354100108146667)\n",
      "87/303 2024-09-28 23:21:17, LF, radius: 219.6 cm, test loss: 33.91056823730469 (bce 0.18045733869075775)\n",
      "88/303 2024-09-28 23:21:19, LF, radius: 143.6 cm, test loss: 52.32533264160156 (bce 0.23436781764030457)\n",
      "89/303 2024-09-28 23:21:22, LF, radius: 244.5 cm, test loss: 170.1915283203125 (bce 0.6016018986701965)\n",
      "90/303 2024-09-28 23:21:25, LF, radius: 231.6 cm, test loss: 310.20062255859375 (bce 0.809090793132782)\n",
      "91/303 2024-09-28 23:21:27, LF, radius: 157.9 cm, test loss: 45.264251708984375 (bce 0.20476381480693817)\n",
      "92/303 2024-09-28 23:21:30, LF, radius: 136.4 cm, test loss: 45.03737258911133 (bce 0.19553528726100922)\n",
      "93/303 2024-09-28 23:21:32, LF, radius: 177.1 cm, test loss: 117.6714096069336 (bce 0.4765627980232239)\n",
      "94/303 2024-09-28 23:21:35, LF, radius: 123.0 cm, test loss: 53.73851776123047 (bce 0.2271767109632492)\n",
      "95/303 2024-09-28 23:21:38, LF, radius: 203.5 cm, test loss: 44.78950119018555 (bce 0.22947384417057037)\n",
      "96/303 2024-09-28 23:21:41, LF, radius: 204.2 cm, test loss: 42.57120895385742 (bce 0.2174953818321228)\n",
      "97/303 2024-09-28 23:21:44, LF, radius: 220.2 cm, test loss: 34.50664520263672 (bce 0.17908747494220734)\n",
      "98/303 2024-09-28 23:21:46, LF, radius: 144.5 cm, test loss: 62.250370025634766 (bce 0.29325321316719055)\n",
      "99/303 2024-09-28 23:21:49, LF, radius: 228.3 cm, test loss: 71.2388916015625 (bce 0.3326279819011688)\n",
      "100/303 2024-09-28 23:21:52, LF, radius: 224.8 cm, test loss: 52.895530700683594 (bce 0.2820422351360321)\n",
      "101/303 2024-09-28 23:21:54, LF, radius: 253.3 cm, test loss: 183.75523376464844 (bce 0.5942031145095825)\n",
      "102/303 2024-09-28 23:21:57, LF, radius: 190.6 cm, test loss: 42.93047332763672 (bce 0.2085418403148651)\n",
      "103/303 2024-09-28 23:21:59, LF, radius: 127.3 cm, test loss: 56.80073165893555 (bce 0.23941439390182495)\n",
      "104/303 2024-09-28 23:22:01, LF, radius: 245.4 cm, test loss: 38.73092269897461 (bce 0.22098594903945923)\n",
      "105/303 2024-09-28 23:22:04, LF, radius: 245.0 cm, test loss: 35.21048355102539 (bce 0.2068811058998108)\n",
      "106/303 2024-09-28 23:22:06, LF, radius: 186.9 cm, test loss: 38.16146469116211 (bce 0.17986387014389038)\n",
      "107/303 2024-09-28 23:22:08, LF, radius: 189.4 cm, test loss: 59.97281265258789 (bce 0.2958497107028961)\n",
      "108/303 2024-09-28 23:22:10, LF, radius: 146.2 cm, test loss: 51.843448638916016 (bce 0.2303435504436493)\n",
      "109/303 2024-09-28 23:22:13, LF, radius: 181.3 cm, test loss: 45.431922912597656 (bce 0.2316572368144989)\n",
      "110/303 2024-09-28 23:22:16, LF, radius: 138.3 cm, test loss: 52.803550720214844 (bce 0.23087553679943085)\n",
      "111/303 2024-09-28 23:22:18, LF, radius: 126.7 cm, test loss: 47.64047622680664 (bce 0.20704804360866547)\n",
      "112/303 2024-09-28 23:22:20, LF, radius: 251.8 cm, test loss: 42.169742584228516 (bce 0.25448620319366455)\n",
      "113/303 2024-09-28 23:22:23, LF, radius: 158.0 cm, test loss: 52.46210861206055 (bce 0.24517543613910675)\n",
      "114/303 2024-09-28 23:22:25, LF, radius: 249.7 cm, test loss: 78.44268035888672 (bce 0.38460469245910645)\n",
      "115/303 2024-09-28 23:22:28, LF, radius: 207.0 cm, test loss: 36.26678466796875 (bce 0.17916588485240936)\n",
      "116/303 2024-09-28 23:22:30, LF, radius: 188.5 cm, test loss: 38.11515808105469 (bce 0.1772138476371765)\n",
      "117/303 2024-09-28 23:22:32, LF, radius: 220.4 cm, test loss: 138.498046875 (bce 0.5243877172470093)\n",
      "118/303 2024-09-28 23:22:35, LF, radius: 159.6 cm, test loss: 43.75994110107422 (bce 0.1897950917482376)\n",
      "119/303 2024-09-28 23:22:37, LF, radius: 206.2 cm, test loss: 33.988929748535156 (bce 0.16084393858909607)\n",
      "120/303 2024-09-28 23:22:40, LF, radius: 137.9 cm, test loss: 56.36909866333008 (bce 0.266581267118454)\n",
      "121/303 2024-09-28 23:22:42, LF, radius: 225.9 cm, test loss: 36.50482177734375 (bce 0.18949830532073975)\n",
      "122/303 2024-09-28 23:22:44, LF, radius: 180.8 cm, test loss: 37.765594482421875 (bce 0.17275503277778625)\n",
      "123/303 2024-09-28 23:22:47, LF, radius: 218.0 cm, test loss: 148.89601135253906 (bce 0.542953372001648)\n",
      "124/303 2024-09-28 23:22:50, LF, radius: 235.5 cm, test loss: 75.81898498535156 (bce 0.38625529408454895)\n",
      "125/303 2024-09-28 23:22:52, LF, radius: 145.8 cm, test loss: 50.134117126464844 (bce 0.228799507021904)\n",
      "126/303 2024-09-28 23:22:54, LF, radius: 126.8 cm, test loss: 108.810791015625 (bce 0.43444666266441345)\n",
      "127/303 2024-09-28 23:22:57, LF, radius: 134.3 cm, test loss: 53.82270431518555 (bce 0.23086099326610565)\n",
      "128/303 2024-09-28 23:22:59, LF, radius: 138.8 cm, test loss: 47.24087905883789 (bce 0.20501013100147247)\n",
      "129/303 2024-09-28 23:23:02, LF, radius: 195.4 cm, test loss: 36.383766174316406 (bce 0.1766165941953659)\n",
      "130/303 2024-09-28 23:23:04, LF, radius: 220.4 cm, test loss: 73.29241180419922 (bce 0.34829065203666687)\n",
      "131/303 2024-09-28 23:23:07, LF, radius: 253.0 cm, test loss: 39.588096618652344 (bce 0.23209317028522491)\n",
      "132/303 2024-09-28 23:23:09, LF, radius: 213.4 cm, test loss: 48.023094177246094 (bce 0.24034543335437775)\n",
      "133/303 2024-09-28 23:23:12, LF, radius: 225.2 cm, test loss: 42.85734939575195 (bce 0.23540104925632477)\n",
      "134/303 2024-09-28 23:23:14, LF, radius: 127.8 cm, test loss: 51.4492073059082 (bce 0.22090066969394684)\n",
      "135/303 2024-09-28 23:23:16, LF, radius: 107.8 cm, test loss: 62.14106750488281 (bce 0.2713838219642639)\n",
      "136/303 2024-09-28 23:23:19, LF, radius: 122.6 cm, test loss: 117.1750259399414 (bce 0.461777925491333)\n",
      "137/303 2024-09-28 23:23:22, LF, radius: 170.8 cm, test loss: 41.13166046142578 (bce 0.18346409499645233)\n",
      "138/303 2024-09-28 23:23:24, LF, radius: 147.6 cm, test loss: 43.38545227050781 (bce 0.1990581601858139)\n",
      "139/303 2024-09-28 23:23:27, LF, radius: 176.2 cm, test loss: 188.1350860595703 (bce 0.6339482665061951)\n",
      "140/303 2024-09-28 23:23:29, LF, radius: 234.7 cm, test loss: 755.6669311523438 (bce 1.2994588613510132)\n",
      "141/303 2024-09-28 23:23:31, LF, radius: 183.0 cm, test loss: 42.36046600341797 (bce 0.19694784283638)\n",
      "142/303 2024-09-28 23:23:34, LF, radius: 164.6 cm, test loss: 46.15400695800781 (bce 0.2031574249267578)\n",
      "143/303 2024-09-28 23:23:36, LF, radius: 174.2 cm, test loss: 37.500694274902344 (bce 0.18775372207164764)\n",
      "144/303 2024-09-28 23:23:39, LF, radius: 97.9 cm, test loss: 95.59066009521484 (bce 0.38783422112464905)\n",
      "145/303 2024-09-28 23:23:42, LF, radius: 178.0 cm, test loss: 76.34257507324219 (bce 0.3535362780094147)\n",
      "146/303 2024-09-28 23:23:45, LF, radius: 240.8 cm, test loss: 68.10072326660156 (bce 0.34564048051834106)\n",
      "147/303 2024-09-28 23:23:47, LF, radius: 210.8 cm, test loss: 55.17206573486328 (bce 0.28666922450065613)\n",
      "148/303 2024-09-28 23:23:50, LF, radius: 185.6 cm, test loss: 41.4716682434082 (bce 0.19335195422172546)\n",
      "149/303 2024-09-28 23:23:53, LF, radius: 199.7 cm, test loss: 35.05686569213867 (bce 0.16390323638916016)\n",
      "150/303 2024-09-28 23:23:55, LF, radius: 238.8 cm, test loss: 51.897315979003906 (bce 0.2833782434463501)\n",
      "151/303 2024-09-28 23:23:57, LF, radius: 148.7 cm, test loss: 52.71907043457031 (bce 0.22394761443138123)\n",
      "152/303 2024-09-28 23:24:00, LF, radius: 205.7 cm, test loss: 343.8140869140625 (bce 0.904019832611084)\n",
      "153/303 2024-09-28 23:24:02, LF, radius: 215.6 cm, test loss: 40.29096984863281 (bce 0.21014182269573212)\n",
      "154/303 2024-09-28 23:24:05, LF, radius: 221.8 cm, test loss: 44.20751190185547 (bce 0.23351652920246124)\n",
      "155/303 2024-09-28 23:24:07, LF, radius: 236.0 cm, test loss: 108.55292510986328 (bce 0.43440377712249756)\n",
      "156/303 2024-09-28 23:24:09, LF, radius: 220.4 cm, test loss: 65.79435729980469 (bce 0.33062857389450073)\n",
      "157/303 2024-09-28 23:24:11, LF, radius: 226.2 cm, test loss: 63.65412521362305 (bce 0.32401901483535767)\n",
      "158/303 2024-09-28 23:24:14, LF, radius: 224.8 cm, test loss: 77.41849517822266 (bce 0.3686423897743225)\n",
      "159/303 2024-09-28 23:24:16, LF, radius: 120.0 cm, test loss: 53.99026870727539 (bce 0.25101354718208313)\n",
      "160/303 2024-09-28 23:24:18, LF, radius: 211.2 cm, test loss: 36.84000015258789 (bce 0.17941676080226898)\n",
      "161/303 2024-09-28 23:24:21, LF, radius: 238.2 cm, test loss: 34.70994567871094 (bce 0.1856173425912857)\n",
      "162/303 2024-09-28 23:24:23, LF, radius: 250.2 cm, test loss: 44.95711898803711 (bce 0.26432597637176514)\n",
      "163/303 2024-09-28 23:24:26, LF, radius: 217.0 cm, test loss: 35.77119064331055 (bce 0.1835937350988388)\n",
      "164/303 2024-09-28 23:24:29, LF, radius: 231.0 cm, test loss: 494.4810485839844 (bce 1.04433274269104)\n",
      "165/303 2024-09-28 23:24:32, LF, radius: 158.0 cm, test loss: 84.89861297607422 (bce 0.37012746930122375)\n",
      "166/303 2024-09-28 23:24:35, LF, radius: 185.3 cm, test loss: 84.94973754882812 (bce 0.39065882563591003)\n",
      "167/303 2024-09-28 23:24:38, LF, radius: 214.0 cm, test loss: 44.98130798339844 (bce 0.2429218292236328)\n",
      "168/303 2024-09-28 23:24:41, LF, radius: 212.6 cm, test loss: 83.10392761230469 (bce 0.38494059443473816)\n",
      "169/303 2024-09-28 23:24:46, LF, radius: 205.7 cm, test loss: 139.48338317871094 (bce 0.5272434949874878)\n",
      "170/303 2024-09-28 23:24:51, LF, radius: 258.4 cm, test loss: 180.8529510498047 (bce 0.6173834204673767)\n",
      "171/303 2024-09-28 23:24:55, LF, radius: 207.3 cm, test loss: 276.0245361328125 (bce 0.7793506979942322)\n",
      "172/303 2024-09-28 23:24:58, LF, radius: 128.0 cm, test loss: 50.44325256347656 (bce 0.21613186597824097)\n",
      "173/303 2024-09-28 23:25:01, LF, radius: 167.6 cm, test loss: 43.77328109741211 (bce 0.19504040479660034)\n",
      "174/303 2024-09-28 23:25:03, LF, radius: 184.8 cm, test loss: 51.881805419921875 (bce 0.25876346230506897)\n",
      "175/303 2024-09-28 23:25:06, LF, radius: 174.4 cm, test loss: 543.0663452148438 (bce 1.1020433902740479)\n",
      "176/303 2024-09-28 23:25:08, LF, radius: 224.5 cm, test loss: 38.55287170410156 (bce 0.20103368163108826)\n",
      "177/303 2024-09-28 23:25:11, LF, radius: 227.9 cm, test loss: 36.262916564941406 (bce 0.19443871080875397)\n",
      "178/303 2024-09-28 23:25:13, LF, radius: 207.4 cm, test loss: 63.87203598022461 (bce 0.3163498044013977)\n",
      "179/303 2024-09-28 23:25:15, LF, radius: 242.8 cm, test loss: 36.45364761352539 (bce 0.21205075085163116)\n",
      "180/303 2024-09-28 23:25:18, LF, radius: 149.2 cm, test loss: 40.114234924316406 (bce 0.18073531985282898)\n",
      "181/303 2024-09-28 23:25:20, LF, radius: 220.6 cm, test loss: 43.36994552612305 (bce 0.2322215735912323)\n",
      "182/303 2024-09-28 23:25:22, LF, radius: 227.8 cm, test loss: 51.968727111816406 (bce 0.2818054258823395)\n",
      "183/303 2024-09-28 23:25:24, LF, radius: 241.6 cm, test loss: 36.2263069152832 (bce 0.21134497225284576)\n",
      "184/303 2024-09-28 23:25:26, LF, radius: 102.3 cm, test loss: 63.56432342529297 (bce 0.26548832654953003)\n",
      "185/303 2024-09-28 23:25:29, LF, radius: 228.1 cm, test loss: 94.08524322509766 (bce 0.4168369770050049)\n",
      "186/303 2024-09-28 23:25:31, LF, radius: 254.8 cm, test loss: 396.3016052246094 (bce 0.9114795327186584)\n",
      "187/303 2024-09-28 23:25:34, LF, radius: 136.1 cm, test loss: 52.22695541381836 (bce 0.2214040458202362)\n",
      "188/303 2024-09-28 23:25:36, LF, radius: 145.4 cm, test loss: 77.1578369140625 (bce 0.3674517273902893)\n",
      "189/303 2024-09-28 23:25:39, LF, radius: 149.4 cm, test loss: 42.964942932128906 (bce 0.18740978837013245)\n",
      "190/303 2024-09-28 23:25:41, LF, radius: 127.2 cm, test loss: 55.53340530395508 (bce 0.23930728435516357)\n",
      "191/303 2024-09-28 23:25:44, LF, radius: 254.8 cm, test loss: 60.00572967529297 (bce 0.3574870824813843)\n",
      "192/303 2024-09-28 23:25:46, LF, radius: 163.6 cm, test loss: 50.21638870239258 (bce 0.23286885023117065)\n",
      "193/303 2024-09-28 23:25:49, LF, radius: 254.6 cm, test loss: 69.13414764404297 (bce 0.34106990694999695)\n",
      "194/303 2024-09-28 23:25:51, LF, radius: 226.1 cm, test loss: 57.378074645996094 (bce 0.3008159399032593)\n",
      "195/303 2024-09-28 23:25:54, LF, radius: 189.9 cm, test loss: 163.2575225830078 (bce 0.5815111398696899)\n",
      "196/303 2024-09-28 23:25:56, LF, radius: 257.9 cm, test loss: 129.5602569580078 (bce 0.49457260966300964)\n",
      "197/303 2024-09-28 23:25:59, LF, radius: 107.4 cm, test loss: 54.216617584228516 (bce 0.2302917093038559)\n",
      "198/303 2024-09-28 23:26:02, LF, radius: 208.4 cm, test loss: 40.89596176147461 (bce 0.2074304074048996)\n",
      "199/303 2024-09-28 23:26:04, LF, radius: 241.0 cm, test loss: 178.81634521484375 (bce 0.602575421333313)\n",
      "200/303 2024-09-28 23:26:07, LF, radius: 104.7 cm, test loss: 55.094444274902344 (bce 0.24367401003837585)\n",
      "201/303 2024-09-28 23:26:09, LF, radius: 236.0 cm, test loss: 47.542911529541016 (bce 0.26410800218582153)\n",
      "202/303 2024-09-28 23:26:11, LF, radius: 235.0 cm, test loss: 188.123779296875 (bce 0.614434003829956)\n",
      "203/303 2024-09-28 23:26:14, LF, radius: 126.4 cm, test loss: 55.2022819519043 (bce 0.2401226907968521)\n",
      "204/303 2024-09-28 23:26:16, LF, radius: 244.3 cm, test loss: 91.13629913330078 (bce 0.4150189459323883)\n",
      "205/303 2024-09-28 23:26:19, LF, radius: 167.6 cm, test loss: 53.84910583496094 (bce 0.261595219373703)\n",
      "206/303 2024-09-28 23:26:21, LF, radius: 160.0 cm, test loss: 127.55353546142578 (bce 0.5004433393478394)\n",
      "207/303 2024-09-28 23:26:24, LF, radius: 255.6 cm, test loss: 109.98963928222656 (bce 0.4717368483543396)\n",
      "208/303 2024-09-28 23:26:26, LF, radius: 163.7 cm, test loss: 38.24216079711914 (bce 0.1963389813899994)\n",
      "209/303 2024-09-28 23:26:28, LF, radius: 181.9 cm, test loss: 45.09651565551758 (bce 0.20673057436943054)\n",
      "210/303 2024-09-28 23:26:31, LF, radius: 242.6 cm, test loss: 65.6832504272461 (bce 0.37017714977264404)\n",
      "211/303 2024-09-28 23:26:33, LF, radius: 230.0 cm, test loss: 64.06767272949219 (bce 0.328895628452301)\n",
      "212/303 2024-09-28 23:26:35, LF, radius: 202.1 cm, test loss: 153.90753173828125 (bce 0.5653521418571472)\n",
      "213/303 2024-09-28 23:26:38, LF, radius: 100.7 cm, test loss: 54.91353988647461 (bce 0.24138860404491425)\n",
      "214/303 2024-09-28 23:26:41, LF, radius: 244.0 cm, test loss: 39.621585845947266 (bce 0.22398677468299866)\n",
      "215/303 2024-09-28 23:26:43, LF, radius: 198.9 cm, test loss: 42.18880844116211 (bce 0.21000444889068604)\n",
      "216/303 2024-09-28 23:26:45, LF, radius: 235.8 cm, test loss: 386.6455993652344 (bce 0.9098198413848877)\n",
      "217/303 2024-09-28 23:26:47, LF, radius: 130.8 cm, test loss: 54.12879180908203 (bce 0.23772037029266357)\n",
      "218/303 2024-09-28 23:26:50, LF, radius: 193.4 cm, test loss: 36.4790153503418 (bce 0.16451239585876465)\n",
      "219/303 2024-09-28 23:26:52, LF, radius: 119.2 cm, test loss: 57.090755462646484 (bce 0.24033059179782867)\n",
      "220/303 2024-09-28 23:26:54, LF, radius: 161.6 cm, test loss: 40.34882354736328 (bce 0.19021624326705933)\n",
      "221/303 2024-09-28 23:26:57, LF, radius: 255.0 cm, test loss: 124.73729705810547 (bce 0.5045729875564575)\n",
      "222/303 2024-09-28 23:26:59, LF, radius: 136.2 cm, test loss: 50.331233978271484 (bce 0.21615494787693024)\n",
      "223/303 2024-09-28 23:27:02, LF, radius: 120.3 cm, test loss: 56.63162612915039 (bce 0.240871861577034)\n",
      "224/303 2024-09-28 23:27:04, LF, radius: 210.4 cm, test loss: 38.56364822387695 (bce 0.21580053865909576)\n",
      "225/303 2024-09-28 23:27:06, LF, radius: 236.0 cm, test loss: 67.3074722290039 (bce 0.35129857063293457)\n",
      "226/303 2024-09-28 23:27:08, LF, radius: 139.7 cm, test loss: 112.5282211303711 (bce 0.45628583431243896)\n",
      "227/303 2024-09-28 23:27:11, LF, radius: 131.0 cm, test loss: 56.189308166503906 (bce 0.2387208640575409)\n",
      "228/303 2024-09-28 23:27:14, LF, radius: 196.6 cm, test loss: 46.746768951416016 (bce 0.2323368489742279)\n",
      "229/303 2024-09-28 23:27:16, LF, radius: 170.6 cm, test loss: 49.52072525024414 (bce 0.24157314002513885)\n",
      "230/303 2024-09-28 23:27:19, LF, radius: 173.0 cm, test loss: 42.997440338134766 (bce 0.19077657163143158)\n",
      "231/303 2024-09-28 23:27:21, LF, radius: 243.6 cm, test loss: 44.59269332885742 (bce 0.25565066933631897)\n",
      "232/303 2024-09-28 23:27:23, LF, radius: 148.0 cm, test loss: 46.772605895996094 (bce 0.2050924152135849)\n",
      "233/303 2024-09-28 23:27:25, LF, radius: 166.6 cm, test loss: 43.780799865722656 (bce 0.22777558863162994)\n",
      "234/303 2024-09-28 23:27:27, LF, radius: 212.6 cm, test loss: 155.3639373779297 (bce 0.5670109987258911)\n",
      "235/303 2024-09-28 23:27:30, LF, radius: 223.0 cm, test loss: 47.1072998046875 (bce 0.2453899383544922)\n",
      "236/303 2024-09-28 23:27:32, LF, radius: 219.2 cm, test loss: 35.09998321533203 (bce 0.19324877858161926)\n",
      "237/303 2024-09-28 23:27:34, LF, radius: 183.3 cm, test loss: 36.6019172668457 (bce 0.1672486811876297)\n",
      "238/303 2024-09-28 23:27:37, LF, radius: 229.2 cm, test loss: 45.31474685668945 (bce 0.2497638612985611)\n",
      "239/303 2024-09-28 23:27:39, LF, radius: 143.0 cm, test loss: 49.91903305053711 (bce 0.2350870966911316)\n",
      "240/303 2024-09-28 23:27:41, LF, radius: 215.9 cm, test loss: 36.23524475097656 (bce 0.18275462090969086)\n",
      "241/303 2024-09-28 23:27:44, LF, radius: 177.5 cm, test loss: 48.19877624511719 (bce 0.22983627021312714)\n",
      "242/303 2024-09-28 23:27:46, LF, radius: 109.3 cm, test loss: 62.26346206665039 (bce 0.27702319622039795)\n",
      "243/303 2024-09-28 23:27:49, LF, radius: 158.0 cm, test loss: 116.64956665039062 (bce 0.47419434785842896)\n",
      "244/303 2024-09-28 23:27:51, LF, radius: 174.2 cm, test loss: 39.0244255065918 (bce 0.18265540897846222)\n",
      "245/303 2024-09-28 23:27:53, LF, radius: 138.6 cm, test loss: 44.4936408996582 (bce 0.19728250801563263)\n",
      "246/303 2024-09-28 23:27:55, LF, radius: 238.4 cm, test loss: 35.673439025878906 (bce 0.19914980232715607)\n",
      "247/303 2024-09-28 23:27:58, LF, radius: 190.5 cm, test loss: 41.911190032958984 (bce 0.19004668295383453)\n",
      "248/303 2024-09-28 23:28:00, LF, radius: 253.9 cm, test loss: 324.2578430175781 (bce 0.845716655254364)\n",
      "249/303 2024-09-28 23:28:02, LF, radius: 248.6 cm, test loss: 41.36153793334961 (bce 0.2438444048166275)\n",
      "250/303 2024-09-28 23:28:04, LF, radius: 125.4 cm, test loss: 44.50684356689453 (bce 0.20803780853748322)\n",
      "251/303 2024-09-28 23:28:06, LF, radius: 158.0 cm, test loss: 84.39209747314453 (bce 0.38175198435783386)\n",
      "252/303 2024-09-28 23:28:09, LF, radius: 177.1 cm, test loss: 37.39763259887695 (bce 0.17381584644317627)\n",
      "253/303 2024-09-28 23:28:11, LF, radius: 142.0 cm, test loss: 44.0987434387207 (bce 0.19022053480148315)\n",
      "254/303 2024-09-28 23:28:13, LF, radius: 176.4 cm, test loss: 40.016231536865234 (bce 0.17922939360141754)\n",
      "255/303 2024-09-28 23:28:15, LF, radius: 171.9 cm, test loss: 69.52798461914062 (bce 0.3337118625640869)\n",
      "256/303 2024-09-28 23:28:17, LF, radius: 129.0 cm, test loss: 57.76100540161133 (bce 0.2610444724559784)\n",
      "257/303 2024-09-28 23:28:20, LF, radius: 241.9 cm, test loss: 50.97929000854492 (bce 0.27716925740242004)\n",
      "258/303 2024-09-28 23:28:23, LF, radius: 132.9 cm, test loss: 50.01105499267578 (bce 0.21365179121494293)\n",
      "259/303 2024-09-28 23:28:26, LF, radius: 118.2 cm, test loss: 57.299072265625 (bce 0.24423539638519287)\n",
      "260/303 2024-09-28 23:28:29, LF, radius: 243.5 cm, test loss: 48.390235900878906 (bce 0.30579832196235657)\n",
      "261/303 2024-09-28 23:28:33, LF, radius: 174.9 cm, test loss: 110.06092071533203 (bce 0.4652862548828125)\n",
      "262/303 2024-09-28 23:28:36, LF, radius: 135.7 cm, test loss: 43.79794692993164 (bce 0.20066072046756744)\n",
      "263/303 2024-09-28 23:28:40, LF, radius: 160.2 cm, test loss: 47.8061408996582 (bce 0.20872022211551666)\n",
      "264/303 2024-09-28 23:28:42, LF, radius: 99.8 cm, test loss: 62.08134460449219 (bce 0.2615273594856262)\n",
      "265/303 2024-09-28 23:28:45, LF, radius: 101.8 cm, test loss: 55.17683792114258 (bce 0.24141235649585724)\n",
      "266/303 2024-09-28 23:28:47, LF, radius: 239.6 cm, test loss: 348.4693908691406 (bce 0.8410225510597229)\n",
      "267/303 2024-09-28 23:28:49, LF, radius: 252.8 cm, test loss: 165.26251220703125 (bce 0.5976830720901489)\n",
      "268/303 2024-09-28 23:28:52, LF, radius: 248.0 cm, test loss: 77.87166595458984 (bce 0.3625660538673401)\n",
      "269/303 2024-09-28 23:28:54, LF, radius: 227.5 cm, test loss: 656.9256591796875 (bce 1.19126558303833)\n",
      "270/303 2024-09-28 23:28:56, LF, radius: 213.1 cm, test loss: 63.81730651855469 (bce 0.3166295886039734)\n",
      "271/303 2024-09-28 23:28:59, LF, radius: 235.7 cm, test loss: 195.94491577148438 (bce 0.6463106870651245)\n",
      "272/303 2024-09-28 23:29:02, LF, radius: 246.7 cm, test loss: 51.8062629699707 (bce 0.2840881943702698)\n",
      "273/303 2024-09-28 23:29:06, LF, radius: 227.0 cm, test loss: 47.899906158447266 (bce 0.25605955719947815)\n",
      "274/303 2024-09-28 23:29:09, LF, radius: 111.2 cm, test loss: 61.62193298339844 (bce 0.25581371784210205)\n",
      "275/303 2024-09-28 23:29:11, LF, radius: 132.5 cm, test loss: 273.0412902832031 (bce 0.7942982316017151)\n",
      "276/303 2024-09-28 23:29:15, LF, radius: 255.1 cm, test loss: 59.629486083984375 (bce 0.3324822187423706)\n",
      "277/303 2024-09-28 23:29:18, LF, radius: 218.8 cm, test loss: 55.49523162841797 (bce 0.3016565442085266)\n",
      "278/303 2024-09-28 23:29:20, LF, radius: 247.7 cm, test loss: 41.40147018432617 (bce 0.24425455927848816)\n",
      "279/303 2024-09-28 23:29:23, LF, radius: 209.1 cm, test loss: 43.517921447753906 (bce 0.22622759640216827)\n",
      "280/303 2024-09-28 23:29:25, LF, radius: 169.2 cm, test loss: 62.75579071044922 (bce 0.30604177713394165)\n",
      "281/303 2024-09-28 23:29:28, LF, radius: 206.4 cm, test loss: 52.11807632446289 (bce 0.2908182740211487)\n",
      "282/303 2024-09-28 23:29:31, LF, radius: 206.6 cm, test loss: 39.69622802734375 (bce 0.19922691583633423)\n",
      "283/303 2024-09-28 23:29:33, LF, radius: 206.6 cm, test loss: 38.48920440673828 (bce 0.1942615956068039)\n",
      "284/303 2024-09-28 23:29:36, LF, radius: 177.3 cm, test loss: 212.12088012695312 (bce 0.698451042175293)\n",
      "285/303 2024-09-28 23:29:39, LF, radius: 133.1 cm, test loss: 42.56098175048828 (bce 0.18853656947612762)\n",
      "286/303 2024-09-28 23:29:42, LF, radius: 217.0 cm, test loss: 55.189453125 (bce 0.280114084482193)\n",
      "287/303 2024-09-28 23:29:44, LF, radius: 233.1 cm, test loss: 36.52698516845703 (bce 0.20485669374465942)\n",
      "288/303 2024-09-28 23:29:46, LF, radius: 209.8 cm, test loss: 436.3447265625 (bce 0.9737073183059692)\n",
      "289/303 2024-09-28 23:29:49, LF, radius: 147.7 cm, test loss: 46.564964294433594 (bce 0.20382654666900635)\n",
      "290/303 2024-09-28 23:29:51, LF, radius: 236.9 cm, test loss: 490.0652160644531 (bce 1.0566157102584839)\n",
      "291/303 2024-09-28 23:29:54, LF, radius: 182.2 cm, test loss: 62.86000442504883 (bce 0.3090324401855469)\n",
      "292/303 2024-09-28 23:29:56, LF, radius: 141.4 cm, test loss: 47.31486892700195 (bce 0.20620180666446686)\n",
      "293/303 2024-09-28 23:29:58, LF, radius: 159.1 cm, test loss: 49.31889343261719 (bce 0.21870023012161255)\n",
      "294/303 2024-09-28 23:30:01, LF, radius: 101.8 cm, test loss: 62.987030029296875 (bce 0.2784540355205536)\n",
      "295/303 2024-09-28 23:30:03, LF, radius: 100.7 cm, test loss: 61.183631896972656 (bce 0.2566641867160797)\n",
      "296/303 2024-09-28 23:30:05, LF, radius: 173.5 cm, test loss: 165.4651336669922 (bce 0.5808768272399902)\n",
      "297/303 2024-09-28 23:30:08, LF, radius: 235.8 cm, test loss: 159.92127990722656 (bce 0.5714096426963806)\n",
      "298/303 2024-09-28 23:30:10, LF, radius: 229.3 cm, test loss: 141.0926971435547 (bce 0.5454598069190979)\n",
      "299/303 2024-09-28 23:30:12, LF, radius: 0.0 cm, test loss: 153.0236053466797 (bce 0.4904520809650421)\n"
     ]
    },
    {
     "name": "stderr",
     "output_type": "stream",
     "text": [
      "/Users/aschuetz/Documents/Analysis/legend/ML/legend-multi-fidelity-surrogate-model/conditional-neural-process/../utilities/plotting_utils.py:372: RuntimeWarning: divide by zero encountered in scalar divide\n",
      "  phi = 2.*np.pi/np.round(x[2])\n"
     ]
    },
    {
     "name": "stdout",
     "output_type": "stream",
     "text": [
      "300/303 2024-09-28 23:30:15, LF, radius: 95.0 cm, test loss: 93.99420166015625 (bce 0.40290477871894836)\n",
      "301/303 2024-09-28 23:30:18, LF, radius: 200.0 cm, test loss: 221.8512725830078 (bce 0.7260755896568298)\n",
      "302/303 2024-09-28 23:30:21, LF, radius: 116.02 cm, test loss: 56.427215576171875 (bce 0.24076886475086212)\n"
     ]
    },
    {
     "name": "stderr",
     "output_type": "stream",
     "text": [
      "/Users/aschuetz/Documents/Analysis/legend/ML/legend-multi-fidelity-surrogate-model/conditional-neural-process/plotting_utils_cnp.py:133: UserWarning: Data has no positive values, and therefore cannot be log-scaled.\n",
      "  ax[0].set_yscale(\"log\")\n"
     ]
    },
    {
     "data": {
      "text/plain": [
       "<Figure size 640x480 with 0 Axes>"
      ]
     },
     "metadata": {},
     "output_type": "display_data"
    },
    {
     "data": {
      "text/plain": [
       "<Figure size 900x300 with 0 Axes>"
      ]
     },
     "metadata": {},
     "output_type": "display_data"
    },
    {
     "data": {
      "text/plain": [
       "<Figure size 900x300 with 0 Axes>"
      ]
     },
     "metadata": {},
     "output_type": "display_data"
    },
    {
     "data": {
      "text/plain": [
       "<Figure size 900x300 with 0 Axes>"
      ]
     },
     "metadata": {},
     "output_type": "display_data"
    },
    {
     "data": {
      "text/plain": [
       "<Figure size 900x300 with 0 Axes>"
      ]
     },
     "metadata": {},
     "output_type": "display_data"
    },
    {
     "data": {
      "text/plain": [
       "<Figure size 900x300 with 0 Axes>"
      ]
     },
     "metadata": {},
     "output_type": "display_data"
    },
    {
     "data": {
      "text/plain": [
       "<Figure size 900x300 with 0 Axes>"
      ]
     },
     "metadata": {},
     "output_type": "display_data"
    },
    {
     "data": {
      "text/plain": [
       "<Figure size 900x300 with 0 Axes>"
      ]
     },
     "metadata": {},
     "output_type": "display_data"
    },
    {
     "data": {
      "text/plain": [
       "<Figure size 900x300 with 0 Axes>"
      ]
     },
     "metadata": {},
     "output_type": "display_data"
    },
    {
     "data": {
      "text/plain": [
       "<Figure size 900x300 with 0 Axes>"
      ]
     },
     "metadata": {},
     "output_type": "display_data"
    },
    {
     "data": {
      "text/plain": [
       "<Figure size 900x300 with 0 Axes>"
      ]
     },
     "metadata": {},
     "output_type": "display_data"
    },
    {
     "data": {
      "text/plain": [
       "<Figure size 900x300 with 0 Axes>"
      ]
     },
     "metadata": {},
     "output_type": "display_data"
    },
    {
     "data": {
      "text/plain": [
       "<Figure size 900x300 with 0 Axes>"
      ]
     },
     "metadata": {},
     "output_type": "display_data"
    },
    {
     "data": {
      "text/plain": [
       "<Figure size 900x300 with 0 Axes>"
      ]
     },
     "metadata": {},
     "output_type": "display_data"
    },
    {
     "data": {
      "text/plain": [
       "<Figure size 900x300 with 0 Axes>"
      ]
     },
     "metadata": {},
     "output_type": "display_data"
    },
    {
     "data": {
      "text/plain": [
       "<Figure size 900x300 with 0 Axes>"
      ]
     },
     "metadata": {},
     "output_type": "display_data"
    },
    {
     "data": {
      "text/plain": [
       "<Figure size 900x300 with 0 Axes>"
      ]
     },
     "metadata": {},
     "output_type": "display_data"
    },
    {
     "data": {
      "text/plain": [
       "<Figure size 900x300 with 0 Axes>"
      ]
     },
     "metadata": {},
     "output_type": "display_data"
    },
    {
     "data": {
      "text/plain": [
       "<Figure size 900x300 with 0 Axes>"
      ]
     },
     "metadata": {},
     "output_type": "display_data"
    },
    {
     "data": {
      "text/plain": [
       "<Figure size 900x300 with 0 Axes>"
      ]
     },
     "metadata": {},
     "output_type": "display_data"
    },
    {
     "data": {
      "text/plain": [
       "<Figure size 900x300 with 0 Axes>"
      ]
     },
     "metadata": {},
     "output_type": "display_data"
    },
    {
     "data": {
      "text/plain": [
       "<Figure size 900x300 with 0 Axes>"
      ]
     },
     "metadata": {},
     "output_type": "display_data"
    },
    {
     "data": {
      "text/plain": [
       "<Figure size 900x300 with 0 Axes>"
      ]
     },
     "metadata": {},
     "output_type": "display_data"
    },
    {
     "data": {
      "text/plain": [
       "<Figure size 900x300 with 0 Axes>"
      ]
     },
     "metadata": {},
     "output_type": "display_data"
    },
    {
     "data": {
      "text/plain": [
       "<Figure size 900x300 with 0 Axes>"
      ]
     },
     "metadata": {},
     "output_type": "display_data"
    },
    {
     "data": {
      "text/plain": [
       "<Figure size 900x300 with 0 Axes>"
      ]
     },
     "metadata": {},
     "output_type": "display_data"
    },
    {
     "data": {
      "text/plain": [
       "<Figure size 900x300 with 0 Axes>"
      ]
     },
     "metadata": {},
     "output_type": "display_data"
    },
    {
     "data": {
      "text/plain": [
       "<Figure size 900x300 with 0 Axes>"
      ]
     },
     "metadata": {},
     "output_type": "display_data"
    },
    {
     "data": {
      "text/plain": [
       "<Figure size 900x300 with 0 Axes>"
      ]
     },
     "metadata": {},
     "output_type": "display_data"
    },
    {
     "data": {
      "text/plain": [
       "<Figure size 900x300 with 0 Axes>"
      ]
     },
     "metadata": {},
     "output_type": "display_data"
    },
    {
     "data": {
      "text/plain": [
       "<Figure size 900x300 with 0 Axes>"
      ]
     },
     "metadata": {},
     "output_type": "display_data"
    },
    {
     "data": {
      "text/plain": [
       "<Figure size 900x300 with 0 Axes>"
      ]
     },
     "metadata": {},
     "output_type": "display_data"
    },
    {
     "data": {
      "text/plain": [
       "<Figure size 900x300 with 0 Axes>"
      ]
     },
     "metadata": {},
     "output_type": "display_data"
    },
    {
     "data": {
      "text/plain": [
       "<Figure size 900x300 with 0 Axes>"
      ]
     },
     "metadata": {},
     "output_type": "display_data"
    },
    {
     "data": {
      "text/plain": [
       "<Figure size 900x300 with 0 Axes>"
      ]
     },
     "metadata": {},
     "output_type": "display_data"
    },
    {
     "data": {
      "text/plain": [
       "<Figure size 900x300 with 0 Axes>"
      ]
     },
     "metadata": {},
     "output_type": "display_data"
    },
    {
     "data": {
      "text/plain": [
       "<Figure size 900x300 with 0 Axes>"
      ]
     },
     "metadata": {},
     "output_type": "display_data"
    },
    {
     "data": {
      "text/plain": [
       "<Figure size 900x300 with 0 Axes>"
      ]
     },
     "metadata": {},
     "output_type": "display_data"
    },
    {
     "data": {
      "text/plain": [
       "<Figure size 900x300 with 0 Axes>"
      ]
     },
     "metadata": {},
     "output_type": "display_data"
    },
    {
     "data": {
      "text/plain": [
       "<Figure size 900x300 with 0 Axes>"
      ]
     },
     "metadata": {},
     "output_type": "display_data"
    },
    {
     "data": {
      "text/plain": [
       "<Figure size 900x300 with 0 Axes>"
      ]
     },
     "metadata": {},
     "output_type": "display_data"
    },
    {
     "data": {
      "text/plain": [
       "<Figure size 900x300 with 0 Axes>"
      ]
     },
     "metadata": {},
     "output_type": "display_data"
    },
    {
     "data": {
      "text/plain": [
       "<Figure size 900x300 with 0 Axes>"
      ]
     },
     "metadata": {},
     "output_type": "display_data"
    },
    {
     "data": {
      "text/plain": [
       "<Figure size 900x300 with 0 Axes>"
      ]
     },
     "metadata": {},
     "output_type": "display_data"
    },
    {
     "data": {
      "text/plain": [
       "<Figure size 900x300 with 0 Axes>"
      ]
     },
     "metadata": {},
     "output_type": "display_data"
    },
    {
     "data": {
      "text/plain": [
       "<Figure size 900x300 with 0 Axes>"
      ]
     },
     "metadata": {},
     "output_type": "display_data"
    },
    {
     "data": {
      "text/plain": [
       "<Figure size 900x300 with 0 Axes>"
      ]
     },
     "metadata": {},
     "output_type": "display_data"
    },
    {
     "data": {
      "text/plain": [
       "<Figure size 900x300 with 0 Axes>"
      ]
     },
     "metadata": {},
     "output_type": "display_data"
    },
    {
     "data": {
      "text/plain": [
       "<Figure size 900x300 with 0 Axes>"
      ]
     },
     "metadata": {},
     "output_type": "display_data"
    },
    {
     "data": {
      "text/plain": [
       "<Figure size 900x300 with 0 Axes>"
      ]
     },
     "metadata": {},
     "output_type": "display_data"
    },
    {
     "data": {
      "text/plain": [
       "<Figure size 900x300 with 0 Axes>"
      ]
     },
     "metadata": {},
     "output_type": "display_data"
    },
    {
     "data": {
      "text/plain": [
       "<Figure size 900x300 with 0 Axes>"
      ]
     },
     "metadata": {},
     "output_type": "display_data"
    },
    {
     "data": {
      "text/plain": [
       "<Figure size 900x300 with 0 Axes>"
      ]
     },
     "metadata": {},
     "output_type": "display_data"
    },
    {
     "data": {
      "text/plain": [
       "<Figure size 900x300 with 0 Axes>"
      ]
     },
     "metadata": {},
     "output_type": "display_data"
    },
    {
     "data": {
      "text/plain": [
       "<Figure size 900x300 with 0 Axes>"
      ]
     },
     "metadata": {},
     "output_type": "display_data"
    },
    {
     "data": {
      "text/plain": [
       "<Figure size 900x300 with 0 Axes>"
      ]
     },
     "metadata": {},
     "output_type": "display_data"
    },
    {
     "data": {
      "text/plain": [
       "<Figure size 900x300 with 0 Axes>"
      ]
     },
     "metadata": {},
     "output_type": "display_data"
    },
    {
     "data": {
      "text/plain": [
       "<Figure size 900x300 with 0 Axes>"
      ]
     },
     "metadata": {},
     "output_type": "display_data"
    },
    {
     "data": {
      "text/plain": [
       "<Figure size 900x300 with 0 Axes>"
      ]
     },
     "metadata": {},
     "output_type": "display_data"
    },
    {
     "data": {
      "text/plain": [
       "<Figure size 900x300 with 0 Axes>"
      ]
     },
     "metadata": {},
     "output_type": "display_data"
    },
    {
     "data": {
      "text/plain": [
       "<Figure size 900x300 with 0 Axes>"
      ]
     },
     "metadata": {},
     "output_type": "display_data"
    },
    {
     "data": {
      "text/plain": [
       "<Figure size 900x300 with 0 Axes>"
      ]
     },
     "metadata": {},
     "output_type": "display_data"
    },
    {
     "data": {
      "text/plain": [
       "<Figure size 900x300 with 0 Axes>"
      ]
     },
     "metadata": {},
     "output_type": "display_data"
    },
    {
     "data": {
      "text/plain": [
       "<Figure size 900x300 with 0 Axes>"
      ]
     },
     "metadata": {},
     "output_type": "display_data"
    },
    {
     "data": {
      "text/plain": [
       "<Figure size 900x300 with 0 Axes>"
      ]
     },
     "metadata": {},
     "output_type": "display_data"
    },
    {
     "data": {
      "text/plain": [
       "<Figure size 900x300 with 0 Axes>"
      ]
     },
     "metadata": {},
     "output_type": "display_data"
    },
    {
     "data": {
      "text/plain": [
       "<Figure size 900x300 with 0 Axes>"
      ]
     },
     "metadata": {},
     "output_type": "display_data"
    },
    {
     "data": {
      "text/plain": [
       "<Figure size 900x300 with 0 Axes>"
      ]
     },
     "metadata": {},
     "output_type": "display_data"
    },
    {
     "data": {
      "text/plain": [
       "<Figure size 900x300 with 0 Axes>"
      ]
     },
     "metadata": {},
     "output_type": "display_data"
    },
    {
     "data": {
      "text/plain": [
       "<Figure size 900x300 with 0 Axes>"
      ]
     },
     "metadata": {},
     "output_type": "display_data"
    },
    {
     "data": {
      "text/plain": [
       "<Figure size 900x300 with 0 Axes>"
      ]
     },
     "metadata": {},
     "output_type": "display_data"
    },
    {
     "data": {
      "text/plain": [
       "<Figure size 900x300 with 0 Axes>"
      ]
     },
     "metadata": {},
     "output_type": "display_data"
    },
    {
     "data": {
      "text/plain": [
       "<Figure size 900x300 with 0 Axes>"
      ]
     },
     "metadata": {},
     "output_type": "display_data"
    },
    {
     "data": {
      "text/plain": [
       "<Figure size 900x300 with 0 Axes>"
      ]
     },
     "metadata": {},
     "output_type": "display_data"
    },
    {
     "data": {
      "text/plain": [
       "<Figure size 900x300 with 0 Axes>"
      ]
     },
     "metadata": {},
     "output_type": "display_data"
    },
    {
     "data": {
      "text/plain": [
       "<Figure size 900x300 with 0 Axes>"
      ]
     },
     "metadata": {},
     "output_type": "display_data"
    },
    {
     "data": {
      "text/plain": [
       "<Figure size 900x300 with 0 Axes>"
      ]
     },
     "metadata": {},
     "output_type": "display_data"
    },
    {
     "data": {
      "text/plain": [
       "<Figure size 900x300 with 0 Axes>"
      ]
     },
     "metadata": {},
     "output_type": "display_data"
    },
    {
     "data": {
      "text/plain": [
       "<Figure size 900x300 with 0 Axes>"
      ]
     },
     "metadata": {},
     "output_type": "display_data"
    },
    {
     "data": {
      "text/plain": [
       "<Figure size 900x300 with 0 Axes>"
      ]
     },
     "metadata": {},
     "output_type": "display_data"
    },
    {
     "data": {
      "text/plain": [
       "<Figure size 900x300 with 0 Axes>"
      ]
     },
     "metadata": {},
     "output_type": "display_data"
    },
    {
     "data": {
      "text/plain": [
       "<Figure size 900x300 with 0 Axes>"
      ]
     },
     "metadata": {},
     "output_type": "display_data"
    },
    {
     "data": {
      "text/plain": [
       "<Figure size 900x300 with 0 Axes>"
      ]
     },
     "metadata": {},
     "output_type": "display_data"
    },
    {
     "data": {
      "text/plain": [
       "<Figure size 900x300 with 0 Axes>"
      ]
     },
     "metadata": {},
     "output_type": "display_data"
    },
    {
     "data": {
      "text/plain": [
       "<Figure size 900x300 with 0 Axes>"
      ]
     },
     "metadata": {},
     "output_type": "display_data"
    },
    {
     "data": {
      "text/plain": [
       "<Figure size 900x300 with 0 Axes>"
      ]
     },
     "metadata": {},
     "output_type": "display_data"
    },
    {
     "data": {
      "text/plain": [
       "<Figure size 900x300 with 0 Axes>"
      ]
     },
     "metadata": {},
     "output_type": "display_data"
    },
    {
     "data": {
      "text/plain": [
       "<Figure size 900x300 with 0 Axes>"
      ]
     },
     "metadata": {},
     "output_type": "display_data"
    },
    {
     "data": {
      "text/plain": [
       "<Figure size 900x300 with 0 Axes>"
      ]
     },
     "metadata": {},
     "output_type": "display_data"
    },
    {
     "data": {
      "text/plain": [
       "<Figure size 900x300 with 0 Axes>"
      ]
     },
     "metadata": {},
     "output_type": "display_data"
    },
    {
     "data": {
      "text/plain": [
       "<Figure size 900x300 with 0 Axes>"
      ]
     },
     "metadata": {},
     "output_type": "display_data"
    },
    {
     "data": {
      "text/plain": [
       "<Figure size 900x300 with 0 Axes>"
      ]
     },
     "metadata": {},
     "output_type": "display_data"
    },
    {
     "data": {
      "text/plain": [
       "<Figure size 900x300 with 0 Axes>"
      ]
     },
     "metadata": {},
     "output_type": "display_data"
    },
    {
     "data": {
      "text/plain": [
       "<Figure size 900x300 with 0 Axes>"
      ]
     },
     "metadata": {},
     "output_type": "display_data"
    },
    {
     "data": {
      "text/plain": [
       "<Figure size 900x300 with 0 Axes>"
      ]
     },
     "metadata": {},
     "output_type": "display_data"
    },
    {
     "data": {
      "text/plain": [
       "<Figure size 900x300 with 0 Axes>"
      ]
     },
     "metadata": {},
     "output_type": "display_data"
    },
    {
     "data": {
      "text/plain": [
       "<Figure size 900x300 with 0 Axes>"
      ]
     },
     "metadata": {},
     "output_type": "display_data"
    },
    {
     "data": {
      "text/plain": [
       "<Figure size 900x300 with 0 Axes>"
      ]
     },
     "metadata": {},
     "output_type": "display_data"
    },
    {
     "data": {
      "text/plain": [
       "<Figure size 900x300 with 0 Axes>"
      ]
     },
     "metadata": {},
     "output_type": "display_data"
    },
    {
     "data": {
      "text/plain": [
       "<Figure size 900x300 with 0 Axes>"
      ]
     },
     "metadata": {},
     "output_type": "display_data"
    },
    {
     "data": {
      "text/plain": [
       "<Figure size 900x300 with 0 Axes>"
      ]
     },
     "metadata": {},
     "output_type": "display_data"
    },
    {
     "data": {
      "text/plain": [
       "<Figure size 900x300 with 0 Axes>"
      ]
     },
     "metadata": {},
     "output_type": "display_data"
    },
    {
     "data": {
      "text/plain": [
       "<Figure size 900x300 with 0 Axes>"
      ]
     },
     "metadata": {},
     "output_type": "display_data"
    },
    {
     "data": {
      "text/plain": [
       "<Figure size 900x300 with 0 Axes>"
      ]
     },
     "metadata": {},
     "output_type": "display_data"
    },
    {
     "data": {
      "text/plain": [
       "<Figure size 900x300 with 0 Axes>"
      ]
     },
     "metadata": {},
     "output_type": "display_data"
    },
    {
     "data": {
      "text/plain": [
       "<Figure size 900x300 with 0 Axes>"
      ]
     },
     "metadata": {},
     "output_type": "display_data"
    },
    {
     "data": {
      "text/plain": [
       "<Figure size 900x300 with 0 Axes>"
      ]
     },
     "metadata": {},
     "output_type": "display_data"
    },
    {
     "data": {
      "text/plain": [
       "<Figure size 900x300 with 0 Axes>"
      ]
     },
     "metadata": {},
     "output_type": "display_data"
    },
    {
     "data": {
      "text/plain": [
       "<Figure size 900x300 with 0 Axes>"
      ]
     },
     "metadata": {},
     "output_type": "display_data"
    },
    {
     "data": {
      "text/plain": [
       "<Figure size 900x300 with 0 Axes>"
      ]
     },
     "metadata": {},
     "output_type": "display_data"
    },
    {
     "data": {
      "text/plain": [
       "<Figure size 900x300 with 0 Axes>"
      ]
     },
     "metadata": {},
     "output_type": "display_data"
    },
    {
     "data": {
      "text/plain": [
       "<Figure size 900x300 with 0 Axes>"
      ]
     },
     "metadata": {},
     "output_type": "display_data"
    },
    {
     "data": {
      "text/plain": [
       "<Figure size 900x300 with 0 Axes>"
      ]
     },
     "metadata": {},
     "output_type": "display_data"
    },
    {
     "data": {
      "text/plain": [
       "<Figure size 900x300 with 0 Axes>"
      ]
     },
     "metadata": {},
     "output_type": "display_data"
    },
    {
     "data": {
      "text/plain": [
       "<Figure size 900x300 with 0 Axes>"
      ]
     },
     "metadata": {},
     "output_type": "display_data"
    },
    {
     "data": {
      "text/plain": [
       "<Figure size 900x300 with 0 Axes>"
      ]
     },
     "metadata": {},
     "output_type": "display_data"
    },
    {
     "data": {
      "text/plain": [
       "<Figure size 900x300 with 0 Axes>"
      ]
     },
     "metadata": {},
     "output_type": "display_data"
    },
    {
     "data": {
      "text/plain": [
       "<Figure size 900x300 with 0 Axes>"
      ]
     },
     "metadata": {},
     "output_type": "display_data"
    },
    {
     "data": {
      "text/plain": [
       "<Figure size 900x300 with 0 Axes>"
      ]
     },
     "metadata": {},
     "output_type": "display_data"
    },
    {
     "data": {
      "text/plain": [
       "<Figure size 900x300 with 0 Axes>"
      ]
     },
     "metadata": {},
     "output_type": "display_data"
    },
    {
     "data": {
      "text/plain": [
       "<Figure size 900x300 with 0 Axes>"
      ]
     },
     "metadata": {},
     "output_type": "display_data"
    },
    {
     "data": {
      "text/plain": [
       "<Figure size 900x300 with 0 Axes>"
      ]
     },
     "metadata": {},
     "output_type": "display_data"
    },
    {
     "data": {
      "text/plain": [
       "<Figure size 900x300 with 0 Axes>"
      ]
     },
     "metadata": {},
     "output_type": "display_data"
    },
    {
     "data": {
      "text/plain": [
       "<Figure size 900x300 with 0 Axes>"
      ]
     },
     "metadata": {},
     "output_type": "display_data"
    },
    {
     "data": {
      "text/plain": [
       "<Figure size 900x300 with 0 Axes>"
      ]
     },
     "metadata": {},
     "output_type": "display_data"
    },
    {
     "data": {
      "text/plain": [
       "<Figure size 900x300 with 0 Axes>"
      ]
     },
     "metadata": {},
     "output_type": "display_data"
    },
    {
     "data": {
      "text/plain": [
       "<Figure size 900x300 with 0 Axes>"
      ]
     },
     "metadata": {},
     "output_type": "display_data"
    },
    {
     "data": {
      "text/plain": [
       "<Figure size 900x300 with 0 Axes>"
      ]
     },
     "metadata": {},
     "output_type": "display_data"
    },
    {
     "data": {
      "text/plain": [
       "<Figure size 900x300 with 0 Axes>"
      ]
     },
     "metadata": {},
     "output_type": "display_data"
    },
    {
     "data": {
      "text/plain": [
       "<Figure size 900x300 with 0 Axes>"
      ]
     },
     "metadata": {},
     "output_type": "display_data"
    },
    {
     "data": {
      "text/plain": [
       "<Figure size 900x300 with 0 Axes>"
      ]
     },
     "metadata": {},
     "output_type": "display_data"
    },
    {
     "data": {
      "text/plain": [
       "<Figure size 900x300 with 0 Axes>"
      ]
     },
     "metadata": {},
     "output_type": "display_data"
    },
    {
     "data": {
      "text/plain": [
       "<Figure size 900x300 with 0 Axes>"
      ]
     },
     "metadata": {},
     "output_type": "display_data"
    },
    {
     "data": {
      "text/plain": [
       "<Figure size 900x300 with 0 Axes>"
      ]
     },
     "metadata": {},
     "output_type": "display_data"
    },
    {
     "data": {
      "text/plain": [
       "<Figure size 900x300 with 0 Axes>"
      ]
     },
     "metadata": {},
     "output_type": "display_data"
    },
    {
     "data": {
      "text/plain": [
       "<Figure size 900x300 with 0 Axes>"
      ]
     },
     "metadata": {},
     "output_type": "display_data"
    },
    {
     "data": {
      "text/plain": [
       "<Figure size 900x300 with 0 Axes>"
      ]
     },
     "metadata": {},
     "output_type": "display_data"
    },
    {
     "data": {
      "text/plain": [
       "<Figure size 900x300 with 0 Axes>"
      ]
     },
     "metadata": {},
     "output_type": "display_data"
    },
    {
     "data": {
      "text/plain": [
       "<Figure size 900x300 with 0 Axes>"
      ]
     },
     "metadata": {},
     "output_type": "display_data"
    },
    {
     "data": {
      "text/plain": [
       "<Figure size 900x300 with 0 Axes>"
      ]
     },
     "metadata": {},
     "output_type": "display_data"
    },
    {
     "data": {
      "text/plain": [
       "<Figure size 900x300 with 0 Axes>"
      ]
     },
     "metadata": {},
     "output_type": "display_data"
    },
    {
     "data": {
      "text/plain": [
       "<Figure size 900x300 with 0 Axes>"
      ]
     },
     "metadata": {},
     "output_type": "display_data"
    },
    {
     "data": {
      "text/plain": [
       "<Figure size 900x300 with 0 Axes>"
      ]
     },
     "metadata": {},
     "output_type": "display_data"
    },
    {
     "data": {
      "text/plain": [
       "<Figure size 900x300 with 0 Axes>"
      ]
     },
     "metadata": {},
     "output_type": "display_data"
    },
    {
     "data": {
      "text/plain": [
       "<Figure size 900x300 with 0 Axes>"
      ]
     },
     "metadata": {},
     "output_type": "display_data"
    },
    {
     "data": {
      "text/plain": [
       "<Figure size 900x300 with 0 Axes>"
      ]
     },
     "metadata": {},
     "output_type": "display_data"
    },
    {
     "data": {
      "text/plain": [
       "<Figure size 900x300 with 0 Axes>"
      ]
     },
     "metadata": {},
     "output_type": "display_data"
    },
    {
     "data": {
      "text/plain": [
       "<Figure size 900x300 with 0 Axes>"
      ]
     },
     "metadata": {},
     "output_type": "display_data"
    },
    {
     "data": {
      "text/plain": [
       "<Figure size 900x300 with 0 Axes>"
      ]
     },
     "metadata": {},
     "output_type": "display_data"
    },
    {
     "data": {
      "text/plain": [
       "<Figure size 900x300 with 0 Axes>"
      ]
     },
     "metadata": {},
     "output_type": "display_data"
    },
    {
     "data": {
      "text/plain": [
       "<Figure size 900x300 with 0 Axes>"
      ]
     },
     "metadata": {},
     "output_type": "display_data"
    },
    {
     "data": {
      "text/plain": [
       "<Figure size 900x300 with 0 Axes>"
      ]
     },
     "metadata": {},
     "output_type": "display_data"
    },
    {
     "data": {
      "text/plain": [
       "<Figure size 900x300 with 0 Axes>"
      ]
     },
     "metadata": {},
     "output_type": "display_data"
    },
    {
     "data": {
      "text/plain": [
       "<Figure size 900x300 with 0 Axes>"
      ]
     },
     "metadata": {},
     "output_type": "display_data"
    },
    {
     "data": {
      "text/plain": [
       "<Figure size 900x300 with 0 Axes>"
      ]
     },
     "metadata": {},
     "output_type": "display_data"
    },
    {
     "data": {
      "text/plain": [
       "<Figure size 900x300 with 0 Axes>"
      ]
     },
     "metadata": {},
     "output_type": "display_data"
    },
    {
     "data": {
      "text/plain": [
       "<Figure size 900x300 with 0 Axes>"
      ]
     },
     "metadata": {},
     "output_type": "display_data"
    },
    {
     "data": {
      "text/plain": [
       "<Figure size 900x300 with 0 Axes>"
      ]
     },
     "metadata": {},
     "output_type": "display_data"
    },
    {
     "data": {
      "text/plain": [
       "<Figure size 900x300 with 0 Axes>"
      ]
     },
     "metadata": {},
     "output_type": "display_data"
    },
    {
     "data": {
      "text/plain": [
       "<Figure size 900x300 with 0 Axes>"
      ]
     },
     "metadata": {},
     "output_type": "display_data"
    },
    {
     "data": {
      "text/plain": [
       "<Figure size 900x300 with 0 Axes>"
      ]
     },
     "metadata": {},
     "output_type": "display_data"
    },
    {
     "data": {
      "text/plain": [
       "<Figure size 900x300 with 0 Axes>"
      ]
     },
     "metadata": {},
     "output_type": "display_data"
    },
    {
     "data": {
      "text/plain": [
       "<Figure size 900x300 with 0 Axes>"
      ]
     },
     "metadata": {},
     "output_type": "display_data"
    },
    {
     "data": {
      "text/plain": [
       "<Figure size 900x300 with 0 Axes>"
      ]
     },
     "metadata": {},
     "output_type": "display_data"
    },
    {
     "data": {
      "text/plain": [
       "<Figure size 900x300 with 0 Axes>"
      ]
     },
     "metadata": {},
     "output_type": "display_data"
    },
    {
     "data": {
      "text/plain": [
       "<Figure size 900x300 with 0 Axes>"
      ]
     },
     "metadata": {},
     "output_type": "display_data"
    },
    {
     "data": {
      "text/plain": [
       "<Figure size 900x300 with 0 Axes>"
      ]
     },
     "metadata": {},
     "output_type": "display_data"
    },
    {
     "data": {
      "text/plain": [
       "<Figure size 900x300 with 0 Axes>"
      ]
     },
     "metadata": {},
     "output_type": "display_data"
    },
    {
     "data": {
      "text/plain": [
       "<Figure size 900x300 with 0 Axes>"
      ]
     },
     "metadata": {},
     "output_type": "display_data"
    },
    {
     "data": {
      "text/plain": [
       "<Figure size 900x300 with 0 Axes>"
      ]
     },
     "metadata": {},
     "output_type": "display_data"
    },
    {
     "data": {
      "text/plain": [
       "<Figure size 900x300 with 0 Axes>"
      ]
     },
     "metadata": {},
     "output_type": "display_data"
    },
    {
     "data": {
      "text/plain": [
       "<Figure size 900x300 with 0 Axes>"
      ]
     },
     "metadata": {},
     "output_type": "display_data"
    },
    {
     "data": {
      "text/plain": [
       "<Figure size 900x300 with 0 Axes>"
      ]
     },
     "metadata": {},
     "output_type": "display_data"
    },
    {
     "data": {
      "text/plain": [
       "<Figure size 900x300 with 0 Axes>"
      ]
     },
     "metadata": {},
     "output_type": "display_data"
    },
    {
     "data": {
      "text/plain": [
       "<Figure size 900x300 with 0 Axes>"
      ]
     },
     "metadata": {},
     "output_type": "display_data"
    },
    {
     "data": {
      "text/plain": [
       "<Figure size 900x300 with 0 Axes>"
      ]
     },
     "metadata": {},
     "output_type": "display_data"
    },
    {
     "data": {
      "text/plain": [
       "<Figure size 900x300 with 0 Axes>"
      ]
     },
     "metadata": {},
     "output_type": "display_data"
    },
    {
     "data": {
      "text/plain": [
       "<Figure size 900x300 with 0 Axes>"
      ]
     },
     "metadata": {},
     "output_type": "display_data"
    },
    {
     "data": {
      "text/plain": [
       "<Figure size 900x300 with 0 Axes>"
      ]
     },
     "metadata": {},
     "output_type": "display_data"
    },
    {
     "data": {
      "text/plain": [
       "<Figure size 900x300 with 0 Axes>"
      ]
     },
     "metadata": {},
     "output_type": "display_data"
    },
    {
     "data": {
      "text/plain": [
       "<Figure size 900x300 with 0 Axes>"
      ]
     },
     "metadata": {},
     "output_type": "display_data"
    },
    {
     "data": {
      "text/plain": [
       "<Figure size 900x300 with 0 Axes>"
      ]
     },
     "metadata": {},
     "output_type": "display_data"
    },
    {
     "data": {
      "text/plain": [
       "<Figure size 900x300 with 0 Axes>"
      ]
     },
     "metadata": {},
     "output_type": "display_data"
    },
    {
     "data": {
      "text/plain": [
       "<Figure size 900x300 with 0 Axes>"
      ]
     },
     "metadata": {},
     "output_type": "display_data"
    },
    {
     "data": {
      "text/plain": [
       "<Figure size 900x300 with 0 Axes>"
      ]
     },
     "metadata": {},
     "output_type": "display_data"
    },
    {
     "data": {
      "text/plain": [
       "<Figure size 900x300 with 0 Axes>"
      ]
     },
     "metadata": {},
     "output_type": "display_data"
    },
    {
     "data": {
      "text/plain": [
       "<Figure size 900x300 with 0 Axes>"
      ]
     },
     "metadata": {},
     "output_type": "display_data"
    },
    {
     "data": {
      "text/plain": [
       "<Figure size 900x300 with 0 Axes>"
      ]
     },
     "metadata": {},
     "output_type": "display_data"
    },
    {
     "data": {
      "text/plain": [
       "<Figure size 900x300 with 0 Axes>"
      ]
     },
     "metadata": {},
     "output_type": "display_data"
    },
    {
     "data": {
      "text/plain": [
       "<Figure size 900x300 with 0 Axes>"
      ]
     },
     "metadata": {},
     "output_type": "display_data"
    },
    {
     "data": {
      "text/plain": [
       "<Figure size 900x300 with 0 Axes>"
      ]
     },
     "metadata": {},
     "output_type": "display_data"
    },
    {
     "data": {
      "text/plain": [
       "<Figure size 900x300 with 0 Axes>"
      ]
     },
     "metadata": {},
     "output_type": "display_data"
    },
    {
     "data": {
      "text/plain": [
       "<Figure size 900x300 with 0 Axes>"
      ]
     },
     "metadata": {},
     "output_type": "display_data"
    },
    {
     "data": {
      "text/plain": [
       "<Figure size 900x300 with 0 Axes>"
      ]
     },
     "metadata": {},
     "output_type": "display_data"
    },
    {
     "data": {
      "text/plain": [
       "<Figure size 900x300 with 0 Axes>"
      ]
     },
     "metadata": {},
     "output_type": "display_data"
    },
    {
     "data": {
      "text/plain": [
       "<Figure size 900x300 with 0 Axes>"
      ]
     },
     "metadata": {},
     "output_type": "display_data"
    },
    {
     "data": {
      "text/plain": [
       "<Figure size 900x300 with 0 Axes>"
      ]
     },
     "metadata": {},
     "output_type": "display_data"
    },
    {
     "data": {
      "text/plain": [
       "<Figure size 900x300 with 0 Axes>"
      ]
     },
     "metadata": {},
     "output_type": "display_data"
    },
    {
     "data": {
      "text/plain": [
       "<Figure size 900x300 with 0 Axes>"
      ]
     },
     "metadata": {},
     "output_type": "display_data"
    },
    {
     "data": {
      "text/plain": [
       "<Figure size 900x300 with 0 Axes>"
      ]
     },
     "metadata": {},
     "output_type": "display_data"
    },
    {
     "data": {
      "text/plain": [
       "<Figure size 900x300 with 0 Axes>"
      ]
     },
     "metadata": {},
     "output_type": "display_data"
    },
    {
     "data": {
      "text/plain": [
       "<Figure size 900x300 with 0 Axes>"
      ]
     },
     "metadata": {},
     "output_type": "display_data"
    },
    {
     "data": {
      "text/plain": [
       "<Figure size 900x300 with 0 Axes>"
      ]
     },
     "metadata": {},
     "output_type": "display_data"
    },
    {
     "data": {
      "text/plain": [
       "<Figure size 900x300 with 0 Axes>"
      ]
     },
     "metadata": {},
     "output_type": "display_data"
    },
    {
     "data": {
      "text/plain": [
       "<Figure size 900x300 with 0 Axes>"
      ]
     },
     "metadata": {},
     "output_type": "display_data"
    },
    {
     "data": {
      "text/plain": [
       "<Figure size 900x300 with 0 Axes>"
      ]
     },
     "metadata": {},
     "output_type": "display_data"
    },
    {
     "data": {
      "text/plain": [
       "<Figure size 900x300 with 0 Axes>"
      ]
     },
     "metadata": {},
     "output_type": "display_data"
    },
    {
     "data": {
      "text/plain": [
       "<Figure size 900x300 with 0 Axes>"
      ]
     },
     "metadata": {},
     "output_type": "display_data"
    },
    {
     "data": {
      "text/plain": [
       "<Figure size 900x300 with 0 Axes>"
      ]
     },
     "metadata": {},
     "output_type": "display_data"
    },
    {
     "data": {
      "text/plain": [
       "<Figure size 900x300 with 0 Axes>"
      ]
     },
     "metadata": {},
     "output_type": "display_data"
    },
    {
     "data": {
      "text/plain": [
       "<Figure size 900x300 with 0 Axes>"
      ]
     },
     "metadata": {},
     "output_type": "display_data"
    },
    {
     "data": {
      "text/plain": [
       "<Figure size 900x300 with 0 Axes>"
      ]
     },
     "metadata": {},
     "output_type": "display_data"
    },
    {
     "data": {
      "text/plain": [
       "<Figure size 900x300 with 0 Axes>"
      ]
     },
     "metadata": {},
     "output_type": "display_data"
    },
    {
     "data": {
      "text/plain": [
       "<Figure size 900x300 with 0 Axes>"
      ]
     },
     "metadata": {},
     "output_type": "display_data"
    },
    {
     "data": {
      "text/plain": [
       "<Figure size 900x300 with 0 Axes>"
      ]
     },
     "metadata": {},
     "output_type": "display_data"
    },
    {
     "data": {
      "text/plain": [
       "<Figure size 900x300 with 0 Axes>"
      ]
     },
     "metadata": {},
     "output_type": "display_data"
    },
    {
     "data": {
      "text/plain": [
       "<Figure size 900x300 with 0 Axes>"
      ]
     },
     "metadata": {},
     "output_type": "display_data"
    },
    {
     "data": {
      "text/plain": [
       "<Figure size 900x300 with 0 Axes>"
      ]
     },
     "metadata": {},
     "output_type": "display_data"
    },
    {
     "data": {
      "text/plain": [
       "<Figure size 900x300 with 0 Axes>"
      ]
     },
     "metadata": {},
     "output_type": "display_data"
    },
    {
     "data": {
      "text/plain": [
       "<Figure size 900x300 with 0 Axes>"
      ]
     },
     "metadata": {},
     "output_type": "display_data"
    },
    {
     "data": {
      "text/plain": [
       "<Figure size 900x300 with 0 Axes>"
      ]
     },
     "metadata": {},
     "output_type": "display_data"
    },
    {
     "data": {
      "text/plain": [
       "<Figure size 900x300 with 0 Axes>"
      ]
     },
     "metadata": {},
     "output_type": "display_data"
    },
    {
     "data": {
      "text/plain": [
       "<Figure size 900x300 with 0 Axes>"
      ]
     },
     "metadata": {},
     "output_type": "display_data"
    },
    {
     "data": {
      "text/plain": [
       "<Figure size 900x300 with 0 Axes>"
      ]
     },
     "metadata": {},
     "output_type": "display_data"
    },
    {
     "data": {
      "text/plain": [
       "<Figure size 900x300 with 0 Axes>"
      ]
     },
     "metadata": {},
     "output_type": "display_data"
    },
    {
     "data": {
      "text/plain": [
       "<Figure size 900x300 with 0 Axes>"
      ]
     },
     "metadata": {},
     "output_type": "display_data"
    },
    {
     "data": {
      "text/plain": [
       "<Figure size 900x300 with 0 Axes>"
      ]
     },
     "metadata": {},
     "output_type": "display_data"
    },
    {
     "data": {
      "text/plain": [
       "<Figure size 900x300 with 0 Axes>"
      ]
     },
     "metadata": {},
     "output_type": "display_data"
    },
    {
     "data": {
      "text/plain": [
       "<Figure size 900x300 with 0 Axes>"
      ]
     },
     "metadata": {},
     "output_type": "display_data"
    },
    {
     "data": {
      "text/plain": [
       "<Figure size 900x300 with 0 Axes>"
      ]
     },
     "metadata": {},
     "output_type": "display_data"
    },
    {
     "data": {
      "text/plain": [
       "<Figure size 900x300 with 0 Axes>"
      ]
     },
     "metadata": {},
     "output_type": "display_data"
    },
    {
     "data": {
      "text/plain": [
       "<Figure size 900x300 with 0 Axes>"
      ]
     },
     "metadata": {},
     "output_type": "display_data"
    },
    {
     "data": {
      "text/plain": [
       "<Figure size 900x300 with 0 Axes>"
      ]
     },
     "metadata": {},
     "output_type": "display_data"
    },
    {
     "data": {
      "text/plain": [
       "<Figure size 900x300 with 0 Axes>"
      ]
     },
     "metadata": {},
     "output_type": "display_data"
    },
    {
     "data": {
      "text/plain": [
       "<Figure size 900x300 with 0 Axes>"
      ]
     },
     "metadata": {},
     "output_type": "display_data"
    },
    {
     "data": {
      "text/plain": [
       "<Figure size 900x300 with 0 Axes>"
      ]
     },
     "metadata": {},
     "output_type": "display_data"
    },
    {
     "data": {
      "text/plain": [
       "<Figure size 900x300 with 0 Axes>"
      ]
     },
     "metadata": {},
     "output_type": "display_data"
    },
    {
     "data": {
      "text/plain": [
       "<Figure size 900x300 with 0 Axes>"
      ]
     },
     "metadata": {},
     "output_type": "display_data"
    },
    {
     "data": {
      "text/plain": [
       "<Figure size 900x300 with 0 Axes>"
      ]
     },
     "metadata": {},
     "output_type": "display_data"
    },
    {
     "data": {
      "text/plain": [
       "<Figure size 900x300 with 0 Axes>"
      ]
     },
     "metadata": {},
     "output_type": "display_data"
    },
    {
     "data": {
      "text/plain": [
       "<Figure size 900x300 with 0 Axes>"
      ]
     },
     "metadata": {},
     "output_type": "display_data"
    },
    {
     "data": {
      "text/plain": [
       "<Figure size 900x300 with 0 Axes>"
      ]
     },
     "metadata": {},
     "output_type": "display_data"
    },
    {
     "data": {
      "text/plain": [
       "<Figure size 900x300 with 0 Axes>"
      ]
     },
     "metadata": {},
     "output_type": "display_data"
    },
    {
     "data": {
      "text/plain": [
       "<Figure size 900x300 with 0 Axes>"
      ]
     },
     "metadata": {},
     "output_type": "display_data"
    },
    {
     "data": {
      "text/plain": [
       "<Figure size 900x300 with 0 Axes>"
      ]
     },
     "metadata": {},
     "output_type": "display_data"
    },
    {
     "data": {
      "text/plain": [
       "<Figure size 900x300 with 0 Axes>"
      ]
     },
     "metadata": {},
     "output_type": "display_data"
    },
    {
     "data": {
      "text/plain": [
       "<Figure size 900x300 with 0 Axes>"
      ]
     },
     "metadata": {},
     "output_type": "display_data"
    },
    {
     "data": {
      "text/plain": [
       "<Figure size 900x300 with 0 Axes>"
      ]
     },
     "metadata": {},
     "output_type": "display_data"
    },
    {
     "data": {
      "text/plain": [
       "<Figure size 900x300 with 0 Axes>"
      ]
     },
     "metadata": {},
     "output_type": "display_data"
    },
    {
     "data": {
      "text/plain": [
       "<Figure size 900x300 with 0 Axes>"
      ]
     },
     "metadata": {},
     "output_type": "display_data"
    },
    {
     "data": {
      "text/plain": [
       "<Figure size 900x300 with 0 Axes>"
      ]
     },
     "metadata": {},
     "output_type": "display_data"
    },
    {
     "data": {
      "text/plain": [
       "<Figure size 900x300 with 0 Axes>"
      ]
     },
     "metadata": {},
     "output_type": "display_data"
    },
    {
     "data": {
      "text/plain": [
       "<Figure size 900x300 with 0 Axes>"
      ]
     },
     "metadata": {},
     "output_type": "display_data"
    },
    {
     "data": {
      "text/plain": [
       "<Figure size 900x300 with 0 Axes>"
      ]
     },
     "metadata": {},
     "output_type": "display_data"
    },
    {
     "data": {
      "text/plain": [
       "<Figure size 900x300 with 0 Axes>"
      ]
     },
     "metadata": {},
     "output_type": "display_data"
    },
    {
     "data": {
      "text/plain": [
       "<Figure size 900x300 with 0 Axes>"
      ]
     },
     "metadata": {},
     "output_type": "display_data"
    },
    {
     "data": {
      "text/plain": [
       "<Figure size 900x300 with 0 Axes>"
      ]
     },
     "metadata": {},
     "output_type": "display_data"
    },
    {
     "data": {
      "text/plain": [
       "<Figure size 900x300 with 0 Axes>"
      ]
     },
     "metadata": {},
     "output_type": "display_data"
    },
    {
     "data": {
      "text/plain": [
       "<Figure size 900x300 with 0 Axes>"
      ]
     },
     "metadata": {},
     "output_type": "display_data"
    },
    {
     "data": {
      "text/plain": [
       "<Figure size 900x300 with 0 Axes>"
      ]
     },
     "metadata": {},
     "output_type": "display_data"
    },
    {
     "data": {
      "text/plain": [
       "<Figure size 900x300 with 0 Axes>"
      ]
     },
     "metadata": {},
     "output_type": "display_data"
    },
    {
     "data": {
      "text/plain": [
       "<Figure size 900x300 with 0 Axes>"
      ]
     },
     "metadata": {},
     "output_type": "display_data"
    },
    {
     "data": {
      "text/plain": [
       "<Figure size 900x300 with 0 Axes>"
      ]
     },
     "metadata": {},
     "output_type": "display_data"
    },
    {
     "data": {
      "text/plain": [
       "<Figure size 900x300 with 0 Axes>"
      ]
     },
     "metadata": {},
     "output_type": "display_data"
    },
    {
     "data": {
      "text/plain": [
       "<Figure size 900x300 with 0 Axes>"
      ]
     },
     "metadata": {},
     "output_type": "display_data"
    },
    {
     "data": {
      "text/plain": [
       "<Figure size 900x300 with 0 Axes>"
      ]
     },
     "metadata": {},
     "output_type": "display_data"
    },
    {
     "data": {
      "text/plain": [
       "<Figure size 900x300 with 0 Axes>"
      ]
     },
     "metadata": {},
     "output_type": "display_data"
    },
    {
     "data": {
      "text/plain": [
       "<Figure size 900x300 with 0 Axes>"
      ]
     },
     "metadata": {},
     "output_type": "display_data"
    },
    {
     "data": {
      "text/plain": [
       "<Figure size 900x300 with 0 Axes>"
      ]
     },
     "metadata": {},
     "output_type": "display_data"
    },
    {
     "data": {
      "text/plain": [
       "<Figure size 900x300 with 0 Axes>"
      ]
     },
     "metadata": {},
     "output_type": "display_data"
    },
    {
     "data": {
      "text/plain": [
       "<Figure size 900x300 with 0 Axes>"
      ]
     },
     "metadata": {},
     "output_type": "display_data"
    },
    {
     "data": {
      "text/plain": [
       "<Figure size 900x300 with 0 Axes>"
      ]
     },
     "metadata": {},
     "output_type": "display_data"
    },
    {
     "data": {
      "text/plain": [
       "<Figure size 900x300 with 0 Axes>"
      ]
     },
     "metadata": {},
     "output_type": "display_data"
    },
    {
     "data": {
      "text/plain": [
       "<Figure size 900x300 with 0 Axes>"
      ]
     },
     "metadata": {},
     "output_type": "display_data"
    },
    {
     "data": {
      "text/plain": [
       "<Figure size 900x300 with 0 Axes>"
      ]
     },
     "metadata": {},
     "output_type": "display_data"
    },
    {
     "data": {
      "text/plain": [
       "<Figure size 900x300 with 0 Axes>"
      ]
     },
     "metadata": {},
     "output_type": "display_data"
    },
    {
     "data": {
      "text/plain": [
       "<Figure size 900x300 with 0 Axes>"
      ]
     },
     "metadata": {},
     "output_type": "display_data"
    },
    {
     "data": {
      "text/plain": [
       "<Figure size 900x300 with 0 Axes>"
      ]
     },
     "metadata": {},
     "output_type": "display_data"
    },
    {
     "data": {
      "text/plain": [
       "<Figure size 900x300 with 0 Axes>"
      ]
     },
     "metadata": {},
     "output_type": "display_data"
    },
    {
     "data": {
      "text/plain": [
       "<Figure size 900x300 with 0 Axes>"
      ]
     },
     "metadata": {},
     "output_type": "display_data"
    },
    {
     "data": {
      "text/plain": [
       "<Figure size 900x300 with 0 Axes>"
      ]
     },
     "metadata": {},
     "output_type": "display_data"
    },
    {
     "data": {
      "text/plain": [
       "<Figure size 900x300 with 0 Axes>"
      ]
     },
     "metadata": {},
     "output_type": "display_data"
    },
    {
     "data": {
      "text/plain": [
       "<Figure size 900x300 with 0 Axes>"
      ]
     },
     "metadata": {},
     "output_type": "display_data"
    },
    {
     "data": {
      "text/plain": [
       "<Figure size 900x300 with 0 Axes>"
      ]
     },
     "metadata": {},
     "output_type": "display_data"
    },
    {
     "data": {
      "text/plain": [
       "<Figure size 900x300 with 0 Axes>"
      ]
     },
     "metadata": {},
     "output_type": "display_data"
    },
    {
     "data": {
      "text/plain": [
       "<Figure size 900x300 with 0 Axes>"
      ]
     },
     "metadata": {},
     "output_type": "display_data"
    },
    {
     "data": {
      "text/plain": [
       "<Figure size 900x300 with 0 Axes>"
      ]
     },
     "metadata": {},
     "output_type": "display_data"
    },
    {
     "data": {
      "text/plain": [
       "<Figure size 900x300 with 0 Axes>"
      ]
     },
     "metadata": {},
     "output_type": "display_data"
    },
    {
     "data": {
      "text/plain": [
       "<Figure size 640x480 with 0 Axes>"
      ]
     },
     "metadata": {},
     "output_type": "display_data"
    }
   ],
   "source": [
    "\n",
    "mode=\"LF\"\n",
    "filelist = utils.get_all_files(f\"../simulation/out/{mode}/{version_lf}/tier2/neutron\")\n",
    "num_total_points = 50000\n",
    "\n",
    "MAX_CONTEXT_POINTS_NEW = int(1/3 * num_total_points)\n",
    "MAX_TARGET_POINTS_NEW = 2 * (MAX_CONTEXT_POINTS_NEW)\n",
    "bce = nn.BCELoss()\n",
    "\n",
    "x_lf = np.empty([0,6])\n",
    "sum_target_y_lf = np.empty([0,1])\n",
    "mean_mu_cnp_lf = np.empty([0,1])\n",
    "mean_sigma_cnp_lf = np.empty([0,1])\n",
    "rGe77_lf = np.empty([0,1])\n",
    "totGe77_lf = np.empty([0,1])\n",
    "totGe77_hf = np.empty([0,1])\n",
    "hist_target_sig_lf = hist_target_bkg_lf = hist_pred_sig_lf = hist_pred_bkg_lf = np.zeros(100)\n",
    "fout = open(f'{path_out}{f_out}_training.txt', \"a\")\n",
    "\n",
    "# create a PdfPages object\n",
    "pdf = PdfPages(f'{path_out}{f_out}_result_{mode}.pdf')\n",
    "\n",
    "for i,file in enumerate(filelist):\n",
    "    \n",
    "    path_to_files = file[:-4]\n",
    "    dataset_config = data.DataGeneration(num_iterations=1, num_context_points=MAX_CONTEXT_POINTS_NEW, num_target_points=MAX_TARGET_POINTS_NEW, batch_size = 1, use_data_augmentation=\"None\", path_to_files=path_to_files,x_size=x_size,y_size=y_size, mode = \"config\", ratio_testing=0.,names_x=names_x, name_y=name_y)\n",
    "    data_config = dataset_config.get_data(0, CONTEXT_IS_SUBSET)\n",
    "    # Get the predicted mean and variance at the target points for the testing set\n",
    "    log_prob_config, mu_config, sigma_config = model(data_config.query, data_config.target_y)\n",
    "    # Define the loss\n",
    "    config_loss = -log_prob_config.mean()\n",
    "    if max(mu_config[0].detach().numpy()) <= 1 and min(mu_config[0].detach().numpy()) >= 0:\n",
    "            loss_bce_config = bce(mu_config,  data_config.target_y)\n",
    "    else:\n",
    "            loss_bce_config = -1.\n",
    "\n",
    "    mu_config = mu_config[0].detach().numpy()\n",
    "    target_y = data_config.target_y[0].detach().numpy()\n",
    "    df = pd.read_csv(file, index_col=0)\n",
    "    tmp = df[[\"fidelity\",\"radius\",\"thickness\",\"npanels\",\"theta\",\"length\"]].to_numpy()\n",
    "    x_lf         = np.append(x_lf,[df[[\"fidelity\",\"radius\",\"thickness\",\"npanels\",\"theta\",\"length\"]].to_numpy()[0]],axis=0)\n",
    "\n",
    "    sum_target_y_tmp = np.array([np.sum(target_y)])\n",
    "    sum_target_y_lf    = np.append(sum_target_y_lf, [sum_target_y_tmp], axis=0)\n",
    "    mean_mu_tmp = np.array([np.mean(mu_config)])\n",
    "    mean_mu_cnp_lf = np.append(mean_mu_cnp_lf, [mean_mu_tmp], axis=0)\n",
    "    mean_sigma_tmp = np.array([np.mean(sigma_config[0].detach().numpy())])\n",
    "    mean_sigma_cnp_lf = np.append(mean_sigma_cnp_lf, [mean_sigma_tmp], axis=0)\n",
    "    rGe77_lf = np.append(rGe77_lf,[np.array([np.sum(pd.read_csv(file)[\"prod_rate_Ge77[nuc/(kg*yr)]\"].to_numpy())])], axis=0)\n",
    "    totGe77_lf = np.append(totGe77_lf,[np.array([np.sum(pd.read_csv(file)[\"total_nC_Ge77[cts]\"].to_numpy())])], axis=0)\n",
    "\n",
    "    hist_target_sig2, hist_target_bkg2, hist_pred_sig2, hist_pred_bkg2 = plotting.sum_hist(mu_config, target_y, hist_target_sig_lf, hist_target_bkg_lf, hist_pred_sig_lf, hist_pred_bkg_lf)\n",
    "\n",
    "    print(\"{}/{} {}, {}, radius: {} cm, test loss: {} (bce {})\".format(i,len(filelist),datetime.datetime.now().strftime(\"%Y-%m-%d %H:%M:%S\"), mode,x_lf[-1,1], config_loss, loss_bce_config))\n",
    "    fout.write(\"{}, Iteration: {}, test loss: {} (bce {})\\n\".format(datetime.datetime.now().strftime(\"%Y-%m-%d %H:%M:%S\"), i, config_loss, loss_bce_config))\n",
    "    fig = plotting.plot_result_configwise(mu_config, target_y, f'{config_loss:.2f}', x_lf[-1][1:])\n",
    "    pdf.savefig(fig)\n",
    "\n",
    "    if i==15:\n",
    "        hist_target_sig2= hist_target_sig_lf\n",
    "        hist_target_bkg2 = hist_target_bkg_lf\n",
    "        hist_pred_sig2 = hist_pred_sig_lf\n",
    "        hist_pred_bkg2 = hist_pred_bkg_lf\n",
    "        plt.show()\n",
    "    plt.clf()\n",
    "    \n",
    "fig1 = plotting.plot_result_summed(hist_target_sig_lf, hist_target_bkg_lf, hist_pred_sig_lf, hist_pred_bkg_lf)\n",
    "pdf.savefig(fig1)\n",
    "#plt.show()\n",
    "plt.clf()\n",
    "pdf.close()\n",
    "\n",
    "fout.close()\n",
    "\n",
    "df = pd.DataFrame(x_lf, columns=[\"Mode\",\"Radius[cm]\",\"Thickness[cm]\",\"NPanels\",\"Theta[deg]\",\"Length[cm]\"])\n",
    "df['Ge-77[nevents]'] = sum_target_y_lf\n",
    "df['Ge-77_CNP'] = mean_mu_cnp_lf\n",
    "df['Ge-77_CNP_err'] = mean_sigma_cnp_lf\n",
    "df['rGe77[nuc/(kg*yr)]'] = rGe77_lf\n",
    "df=df.round(decimals=4)\n",
    "df.to_csv(f'{path_out}{f_out}_Ge77rates.csv')\n",
    "\n",
    "\n"
   ]
  },
  {
   "cell_type": "code",
   "execution_count": 6,
   "metadata": {},
   "outputs": [
    {
     "name": "stdout",
     "output_type": "stream",
     "text": [
      "0/4 2024-09-28 23:30:31, HF, radius: 0.0 cm, test loss: 221.84820556640625 (bce 0.49061068892478943)\n"
     ]
    },
    {
     "name": "stderr",
     "output_type": "stream",
     "text": [
      "/Users/aschuetz/Documents/Analysis/legend/ML/legend-multi-fidelity-surrogate-model/conditional-neural-process/../utilities/plotting_utils.py:372: RuntimeWarning: divide by zero encountered in scalar divide\n",
      "  phi = 2.*np.pi/np.round(x[2])\n"
     ]
    },
    {
     "name": "stdout",
     "output_type": "stream",
     "text": [
      "1/4 2024-09-28 23:30:40, HF, radius: 95.0 cm, test loss: 95.72587585449219 (bce 0.24187330901622772)\n",
      "2/4 2024-09-28 23:30:47, HF, radius: 200.0 cm, test loss: 140.96568298339844 (bce 0.33730876445770264)\n",
      "3/4 2024-09-28 23:30:54, HF, radius: 116.2 cm, test loss: 125.82879638671875 (bce 0.25792670249938965)\n"
     ]
    },
    {
     "data": {
      "text/plain": [
       "<Figure size 900x300 with 0 Axes>"
      ]
     },
     "metadata": {},
     "output_type": "display_data"
    },
    {
     "data": {
      "text/plain": [
       "<Figure size 900x300 with 0 Axes>"
      ]
     },
     "metadata": {},
     "output_type": "display_data"
    },
    {
     "data": {
      "text/plain": [
       "<Figure size 900x300 with 0 Axes>"
      ]
     },
     "metadata": {},
     "output_type": "display_data"
    },
    {
     "data": {
      "text/plain": [
       "<Figure size 900x300 with 0 Axes>"
      ]
     },
     "metadata": {},
     "output_type": "display_data"
    },
    {
     "data": {
      "image/png": "[encoded data removed]",
      "text/plain": [
       "<Figure size 640x480 with 2 Axes>"
      ]
     },
     "metadata": {},
     "output_type": "display_data"
    },
    {
     "data": {
      "text/plain": [
       "<Figure size 640x480 with 0 Axes>"
      ]
     },
     "metadata": {},
     "output_type": "display_data"
    }
   ],
   "source": [
    "\n",
    "\n",
    "mode=\"HF\"\n",
    "\n",
    "filelist = utils.get_all_files(f\"../simulation/out/{mode}/{version_hf}/tier2/neutron\")\n",
    "\n",
    "x_hf = np.empty([0,6])\n",
    "sum_target_y_hf = np.empty([0,1])\n",
    "mean_mu_cnp_hf = np.empty([0,1])\n",
    "mean_sigma_cnp_hf = np.empty([0,1])\n",
    "upper_lim_hf = np.empty([0,1])\n",
    "rGe77_hf = np.empty([0,1])\n",
    "totGe77_hf = np.empty([0,1])\n",
    "hist_target_sig_hf = hist_target_bkg_hf = hist_pred_sig_hf = hist_pred_bkg_hf = np.zeros(100)\n",
    "fout = open(f'{path_out}{f_out}_training.txt', \"a\")\n",
    "\n",
    "# create a PdfPages object\n",
    "pdf=PdfPages(f'{path_out}{f_out}_result_{mode}.pdf')\n",
    "\n",
    "for i,file in enumerate(filelist):\n",
    "\n",
    "    path_to_files = file[:-4]\n",
    "    num_total_points = 0\n",
    "    with open(file, \"rbU\") as f:\n",
    "        num_total_points += int(np.floor(sum(1 for _ in f)))\n",
    "\n",
    "    MAX_CONTEXT_POINTS_NEW = int(1/3 * (num_total_points-1))\n",
    "    MAX_TARGET_POINTS_NEW = 2 * MAX_CONTEXT_POINTS_NEW\n",
    "\n",
    "    dataset_config = data.DataGeneration(num_iterations=1, num_context_points=MAX_CONTEXT_POINTS_NEW, num_target_points=MAX_TARGET_POINTS_NEW, batch_size = 1, use_data_augmentation=\"None\", path_to_files=path_to_files,x_size=x_size,y_size=y_size, mode = \"config\", ratio_testing=0.,names_x=names_x, name_y=name_y)\n",
    "    data_config = dataset_config.get_data(0, CONTEXT_IS_SUBSET)\n",
    "    \n",
    "    # Get the predicted mean and variance at the target points for the testing set\n",
    "    log_prob_config, mu_config, sigma_config = model(data_config.query, data_config.target_y)\n",
    "    # Define the loss\n",
    "    config_loss = -log_prob_config.mean()\n",
    "    if max(mu_config[0].detach().numpy()) <= 1 and min(mu_config[0].detach().numpy()) >= 0:\n",
    "            loss_bce_config = bce(mu_config,  data_config.target_y)\n",
    "    else:\n",
    "            loss_bce_config = -1.\n",
    "\n",
    "    mu_config = mu_config[0].detach().numpy()\n",
    "    \n",
    "    target_y = data_config.target_y[0].detach().numpy()\n",
    "    df = pd.read_csv(file, index_col=0)\n",
    "    x_hf         = np.append(x_hf,[df[[\"fidelity\",\"radius\",\"thickness\",\"npanels\",\"theta\",\"length\"]].to_numpy()[0]],axis=0)\n",
    "    #x         = np.append(x,[data_config.query[1][0][0][-5:].numpy()],axis=0)\n",
    "    sum_target_y_tmp = np.array([np.sum(target_y)])\n",
    "    sum_target_y_hf    = np.append(sum_target_y_hf, [sum_target_y_tmp], axis=0)\n",
    "    mean_mu_tmp = np.array([np.mean(mu_config)])\n",
    "    upper_lim_hf = np.append(upper_lim_hf,[np.array([np.percentile(mu_config,95.)])], axis=0)\n",
    "    mean_mu_cnp_hf = np.append(mean_mu_cnp_hf, [mean_mu_tmp], axis=0)\n",
    "    mean_sigma_tmp = np.array([np.mean(sigma_config[0].detach().numpy())])\n",
    "    mean_sigma_cnp_hf = np.append(mean_sigma_cnp_hf, [mean_sigma_tmp], axis=0)\n",
    "    rGe77_hf = np.append(rGe77_hf,[np.array([np.sum(pd.read_csv(file)[\"prod_rate_Ge77[nuc/(kg*yr)]\"].to_numpy())])], axis=0)\n",
    "    totGe77_hf = np.append(totGe77_hf,[np.array([np.sum(pd.read_csv(file)[\"total_nC_Ge77[cts]\"].to_numpy())])], axis=0)\n",
    "\n",
    "    hist_target_sig_hf, hist_target_bkg_hf, hist_pred_sig_hf, hist_pred_bkg_hf = plotting.sum_hist(mu_config, target_y, hist_target_sig_hf, hist_target_bkg_hf, hist_pred_sig_hf, hist_pred_bkg_hf)\n",
    "    print(\"{}/{} {}, {}, radius: {} cm, test loss: {} (bce {})\".format(i,len(filelist),datetime.datetime.now().strftime(\"%Y-%m-%d %H:%M:%S\"), mode,x_hf[-1,1], config_loss, loss_bce_config))\n",
    "    fout.write(\"{}, Iteration: {}, test loss: {} (bce {})\\n\".format(datetime.datetime.now().strftime(\"%Y-%m-%d %H:%M:%S\"), i, config_loss, loss_bce_config))\n",
    "   \n",
    "    fig = plotting.plot_result_configwise(mu_config, target_y, f'{config_loss:.2f}', x_hf[-1][1:])\n",
    "    pdf.savefig(fig)\n",
    "    #plt.show()\n",
    "    plt.clf()\n",
    "\n",
    "    \n",
    "fig1 = plotting.plot_result_summed(hist_target_sig_hf, hist_target_bkg_hf, hist_pred_sig_hf, hist_pred_bkg_hf)\n",
    "pdf.savefig(fig1)\n",
    "plt.show()\n",
    "plt.clf()\n",
    "pdf.close()\n",
    "\n",
    "fout.close()\n",
    "\n",
    "df= pd.read_csv(f'{path_out}{f_out}_Ge77rates.csv', index_col=0)\n",
    "x = df[[\"Mode\",\"Radius[cm]\",\"Thickness[cm]\",\"NPanels\",\"Theta[deg]\",\"Length[cm]\",\"Ge-77[nevents]\",\"Ge-77_CNP\",\"Ge-77_CNP_err\",\"rGe77[nuc/(kg*yr)]\"]].to_numpy()\n",
    "x_tmp = np.append(x_hf, sum_target_y_hf, axis=1)\n",
    "x_tmp = np.append(x_tmp, mean_mu_cnp_hf, axis=1)\n",
    "x_tmp = np.append(x_tmp, mean_sigma_cnp_hf, axis=1)\n",
    "x_tmp = np.append(x_tmp, rGe77_hf, axis=1)\n",
    "x = np.append(x, x_tmp, axis=0)\n",
    "df = pd.DataFrame(x, columns=df.columns)\n",
    "\n",
    "df=df.round(decimals=4)\n",
    "df.to_csv(f'{path_out}{f_out}_Ge77rates.csv')\n",
    "df.to_csv(f'../multi-fidelity-gaussian-process/in/Ge77_rates_CNP_{version_cnp}.csv')\n"
   ]
  },
  {
   "cell_type": "code",
   "execution_count": 17,
   "metadata": {},
   "outputs": [],
   "source": [
    "import pickle as pkl"
   ]
  },
  {
   "cell_type": "code",
   "execution_count": 28,
   "metadata": {},
   "outputs": [
    {
     "data": {
      "image/png": "[encoded data removed]",
      "text/plain": [
       "<Figure size 1800x600 with 12 Axes>"
      ]
     },
     "metadata": {},
     "output_type": "display_data"
    }
   ],
   "source": [
    "color_sim_hf=\"black\"\n",
    "color_cnp_hf=\"black\"\n",
    "color_sim_lf=\"red\"\n",
    "color_cnp_lf=\"teal\"\n",
    "\n",
    "figx = pkl.load(  open(f'./out/{f_out}_distr.p',  'rb')  )\n",
    "\n",
    "y1=[]\n",
    "x2=[]\n",
    "x1=[]\n",
    "y2=[]\n",
    "w1=[]\n",
    "w2=[]\n",
    "p = figx.axes[0].patches  # There are 10 patches\n",
    "for i in range(int(len(p)/2)):\n",
    "    x1.append(p[i].get_xy()[0])\n",
    "    y1.append(p[i].get_height())\n",
    "    w1.append(p[i].get_width())\n",
    "    x2.append(p[i+int(len(p)/2)].get_xy()[0])\n",
    "    y2.append(p[i+int(len(p)/2)].get_height())\n",
    "    w2.append(p[i+int(len(p)/2)].get_width())\n",
    "figx=[]\n",
    "p=[]\n",
    "\n",
    "xmin=[0,0,0,0,0]\n",
    "xmax=[265,20,360,90,150]\n",
    "indices = [0,2,1,3,4]\n",
    "indices_l = [\"(c)\",\"(d)\",\"(e)\",\"(f)\",\"(g)\"]\n",
    "xlabels=[\"Radius [cm]\",\"Thickness [cm]\",\"N Panels\",r\"Angle $\\varphi$ [deg]\",\"Length [cm]\"]\n",
    "\n",
    "fig = plt.figure(figsize=(18,6), layout = \"constrained\")\n",
    "gs0=fig.add_gridspec(1,2, width_ratios = [2,1])\n",
    "\n",
    "gs00 = gs0[0].subgridspec(2,2)\n",
    "gs01 = gs0[1].subgridspec(3,1)\n",
    "for l in range(2):\n",
    "    for j in range(2):\n",
    "        ax = fig.add_subplot(gs00[l,j])\n",
    "        if l== 0 and j==0:\n",
    "            ax.bar(x=x1,height=y1,width=w1, color=(113/255,150/255,159/255), alpha=0.8)\n",
    "            ax.bar(x=x2,height=y2,width=w2,color='coral', alpha=0.8)\n",
    "            ax.set_xlabel(r\"$y_{CNP}$\", fontsize=10)\n",
    "            ax.set_ylabel(r'Count', fontsize=10)\n",
    "            ax.set_yscale(\"log\")\n",
    "            #ax.set_ylim(0.1,1000000)\n",
    "            ax.text(.01, .99, '(a)', ha='left', va='top', transform=ax.transAxes)\n",
    "        if l == 0 and j==1:\n",
    "            nbins = len(hist_target_sig2)\n",
    "            range2 = [0.0, 1.0]\n",
    "            bin_length = (range2[1]-range2[0])/nbins\n",
    "            bins = np.arange(range2[0],range2[1]+bin_length, bin_length)\n",
    "            centroids = (bins[1:] + bins[:-1]) / 2\n",
    "\n",
    "            #ax.hist(centroids, weights = hist_target_bkg2, range=range2, bins=nbins, color=(3/255,37/255,46/255), alpha=0.8, label='Background (Label)')\n",
    "            ax.hist(centroids, weights = hist_pred_bkg2, range=range2, bins=nbins, color=(113/255,150/255,159/255), alpha=0.8, label='Background (CNP)')\n",
    "            #ax.hist(centroids, weights = hist_target_sig2, range=range2, bins=nbins, color='orangered', alpha=1.0, label='Signal (Label)')\n",
    "            ax.hist(centroids, weights = hist_pred_sig2, range=range2, bins=nbins, color='coral', alpha=0.8, label='Signal (CNP)')\n",
    "            ax.set_xlabel(r\"$y_{CNP}$\", fontsize=10)\n",
    "            ax.set_ylabel(r'Count', fontsize=10)\n",
    "            ax.set_yscale(\"log\")\n",
    "            #ax.set_ylim(0.1,1000000)\n",
    "            ax.text(.01, .99, '(b)', ha='left', va='top', transform=ax.transAxes)\n",
    "            ax.legend(loc=9, bbox_to_anchor=(0.795,1.), ncol=1,fontsize=10)\n",
    "\n",
    "        if l == 1:\n",
    "            i=j\n",
    "            plt.plot(x_lf[:,indices[i]+1],rGe77_lf,\"o\",markersize=2, color=color_sim_lf, alpha=0.3, label=\"LF (raw)\")\n",
    "            #plt.plot(x_hf[:,indices[i]+1],totGe77_hf,\">\",markersize=4, color=color_sim_hf, label=\"HF (raw)\")\n",
    "            ax.set_xlim(xmin[indices[i]],xmax[indices[i]])#\n",
    "            ax.set_xlabel(xlabels[indices[i]], fontsize=10)\n",
    "            ax.set_ylabel(r'$y_{raw}$',color=color_sim_lf, fontsize=10)\n",
    "            plt.tick_params(axis='y', labelcolor=color_sim_lf)\n",
    "            handles = plt.gca().get_legend_handles_labels()[0]\n",
    "            labels = plt.gca().get_legend_handles_labels()[1]\n",
    "\n",
    "            ax = plt.twinx()\n",
    "            plt.errorbar(x_lf[:,indices[i]+1], mean_mu_cnp_lf[:,0], yerr=mean_sigma_cnp_lf[:,0],fmt='o',markersize=2, elinewidth=0.5, color=color_cnp_lf, label=\"LF (CNP)\")\n",
    "            #plt.errorbar(x_hf[:,indices[i]+1], mean_mu_cnp_hf[:,0], yerr=mean_sigma_cnp_hf[:,0],fmt='s',markersize=4, color=color_cnp_hf, label=\"HF (CNP)\")\n",
    "            plt.tick_params(axis='y', labelcolor=color_cnp_lf)\n",
    "\n",
    "            for t in range(len(plt.gca().get_legend_handles_labels()[1])):\n",
    "                handles.append(plt.gca().get_legend_handles_labels()[0][t])\n",
    "                labels.append(plt.gca().get_legend_handles_labels()[1][t])\n",
    "\n",
    "            ax.set_ylabel(r'$y_{CNP}$',color=color_cnp_lf, fontsize=10)\n",
    "            ax.text(.01, .99,indices_l[i], ha='left', va='top', transform=ax.transAxes)\n",
    "            if j==0:\n",
    "                plt.legend(handles,labels,loc=9, bbox_to_anchor=(0.14,0.25),ncol=1)\n",
    "\n",
    "for j in range(3):\n",
    "    ax = fig.add_subplot(gs01[j])\n",
    "    i=j+2\n",
    "    plt.plot(x_lf[:,indices[i]+1],rGe77_lf,'o',markersize=2, color=color_sim_lf,alpha=0.3, label=\"LF (raw)\")\n",
    "    #plt.plot(x_hf[:,indices[i]+1],totGe77_hf,'s',markersize=4, color=color_sim_hf, label=\"HF (raw)\")\n",
    "    ax.set_xlim(xmin[indices[i]],xmax[indices[i]])#\n",
    "    ax.set_xlabel(xlabels[indices[i]], fontsize=10)\n",
    "    ax.set_ylabel(r'$y_{raw}$',color=color_sim_lf, fontsize=10)\n",
    "    \n",
    "    plt.tick_params(axis='y', labelcolor=color_sim_lf)\n",
    "    \n",
    "    ax = plt.twinx()\n",
    "    #plt.plot(x_lf[:,indices[i]+1], mean_mu_cnp_lf[:,0],'o',markersize=2, color=color_cnp_lf, label=\"LF (CNP)\")\n",
    "    plt.errorbar(x_lf[:,indices[i]+1], mean_mu_cnp_lf[:,0], yerr=mean_sigma_cnp_lf[:,0],fmt='o',markersize=2, elinewidth=0.5, color=color_cnp_lf, label=\"LF (CNP)\")\n",
    "    #plt.errorbar(x_hf[:,indices[i]+1], mean_mu_cnp_hf[:,0], yerr=mean_sigma_cnp_hf[:,0],fmt='>',markersize=4, color=color_cnp_hf, label=\"HF (CNP)\")\n",
    "    plt.tick_params(axis='y', labelcolor=color_cnp_lf)\n",
    "    ax.set_ylabel(r'$y_{CNP}$',color=color_cnp_lf, fontsize=10)\n",
    "    ax.text(.01, .99,indices_l[i], ha='left', va='top', transform=ax.transAxes)\n",
    "fig.savefig(f'{path_out}{f_out}_result.png')\n",
    "\n"
   ]
  }
 ],
 "metadata": {
  "kernelspec": {
   "display_name": "Python 3",
   "language": "python",
   "name": "python3"
  },
  "language_info": {
   "codemirror_mode": {
    "name": "ipython",
    "version": 3
   },
   "file_extension": ".py",
   "mimetype": "text/x-python",
   "name": "python",
   "nbconvert_exporter": "python",
   "pygments_lexer": "ipython3",
   "version": "3.10.11"
  }
 },
 "nbformat": 4,
 "nbformat_minor": 2
}
